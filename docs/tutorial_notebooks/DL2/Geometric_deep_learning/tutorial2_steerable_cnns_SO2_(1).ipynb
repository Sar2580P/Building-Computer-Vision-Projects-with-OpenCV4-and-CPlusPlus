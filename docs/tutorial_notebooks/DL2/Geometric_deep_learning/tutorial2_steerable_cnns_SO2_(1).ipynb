{
  "cells": [
    {
      "cell_type": "markdown",
      "metadata": {
        "id": "view-in-github",
        "colab_type": "text"
      },
      "source": [
        "<a href=\"https://colab.research.google.com/github/Sar2580P/Building-Computer-Vision-Projects-with-OpenCV4-and-CPlusPlus/blob/master/docs/tutorial_notebooks/DL2/Geometric_deep_learning/tutorial2_steerable_cnns_SO2_(1).ipynb\" target=\"_parent\"><img src=\"https://colab.research.google.com/assets/colab-badge.svg\" alt=\"Open In Colab\"/></a>"
      ]
    },
    {
      "cell_type": "markdown",
      "metadata": {
        "collapsed": true,
        "id": "1GrTyqmLcQLM"
      },
      "source": [
        "# GDL - Steerable CNNs\n",
        "\n",
        "**Filled notebook:**\n",
        "[![View on Github](https://img.shields.io/static/v1.svg?logo=github&label=Repo&message=View%20On%20Github&color=lightgrey)](https://github.com/phlippe/uvadlc_notebooks/blob/master/docs/tutorial_notebooks/DL2/Geometric_deep_learning/tutorial2_steerable_cnns.ipynb)\n",
        "[![Open In Collab](https://colab.research.google.com/assets/colab-badge.svg)](https://colab.research.google.com/github/phlippe/uvadlc_notebooks/blob/master/docs/tutorial_notebooks/DL2/Geometric_deep_learning/tutorial2_steerable_cnns.ipynb)  \n",
        "**Empty notebook:**\n",
        "[![View on Github Unanswered](https://img.shields.io/static/v1.svg?logo=github&label=Repo&message=View%20On%20Github&color=lightgrey)](https://github.com/phlippe/uvadlc_notebooks/blob/master/docs/tutorial_notebooks/DL2/Geometric_deep_learning/tutorial2_steerable_cnns_unanswered.ipynb)\n",
        "[![Open In Collab Unanswered](https://colab.research.google.com/assets/colab-badge.svg)](https://colab.research.google.com/github/phlippe/uvadlc_notebooks/blob/master/docs/tutorial_notebooks/DL2/Geometric_deep_learning/tutorial2_steerable_cnns_unanswered.ipynb)  \n",
        "**Authors:** Gabriele Cesa\n"
      ]
    },
    {
      "cell_type": "markdown",
      "metadata": {
        "id": "WfCFymZvcQLS"
      },
      "source": [
        "During the lectures, you have learnt that the symmetries of a machine learning task can be modelled with **groups**.\n",
        "In the previous tutorial, you have also studied the framework of *Group-Convolutional Neural Networks* (**GCNNs**), which describes a neural architecture design equivariant to general groups.\n",
        "\n",
        "The feature maps of a GCNN are functions over the elements of the group.\n",
        "A naive implementation of group-convolution requires computing and storing a response for each group element.\n",
        "For this reason, the GCNN framework is not particularly convenient to implement networks equivariant to groups with infinite elements.\n",
        "\n",
        "Steerable CNNs are a more general framework which solves this issue.\n",
        "The key idea is that, instead of storing the value of a feature map on each group element, the model stores the *Fourier transform* of this feature map, up to a finite number of frequencies.\n",
        "\n",
        "In this tutorial, we will first introduce some Representation theory and Fourier theory (*non-commutative harmonic analysis*) and, then, we will explore how this idea is used in practice to implement Steerable CNNs."
      ]
    },
    {
      "cell_type": "markdown",
      "metadata": {
        "id": "RbSmJU4LcQLT"
      },
      "source": [
        "## Prerequisite Knowledge\n",
        "Throughout this tutorial, we will assume you are already familiar with some concepts of **group theory**, such as *groups*, *group actions* (in particular *on functions*), *semi-direct product* and *order of a group*, as well as basic **linear algebra**."
      ]
    },
    {
      "cell_type": "markdown",
      "metadata": {
        "id": "4qriE3g7cQLP"
      },
      "source": [
        "We start by importing the necessary packages.\n",
        "You can run the following command to install all the requirements:\n",
        "\n",
        "`> pip install torch torchvision numpy matplotlib git+https://github.com/AMLab-Amsterdam/lie_learn escnn scipy`"
      ]
    },
    {
      "cell_type": "code",
      "source": [
        "!pip install torch torchvision numpy matplotlib git+https://github.com/AMLab-Amsterdam/lie_learn escnn scipy"
      ],
      "metadata": {
        "colab": {
          "base_uri": "https://localhost:8080/"
        },
        "id": "L3JMV4OvXSam",
        "outputId": "ed873411-6a4f-49c3-e68e-700d1a2716f3"
      },
      "execution_count": 1,
      "outputs": [
        {
          "output_type": "stream",
          "name": "stdout",
          "text": [
            "Collecting git+https://github.com/AMLab-Amsterdam/lie_learn\n",
            "  Cloning https://github.com/AMLab-Amsterdam/lie_learn to /tmp/pip-req-build-eab_cu1n\n",
            "  Running command git clone --filter=blob:none --quiet https://github.com/AMLab-Amsterdam/lie_learn /tmp/pip-req-build-eab_cu1n\n",
            "  Resolved https://github.com/AMLab-Amsterdam/lie_learn to commit e7060c097514228e0df8b5bd99a3f4d493756e92\n",
            "  Installing build dependencies ... \u001b[?25l\u001b[?25hdone\n",
            "  Getting requirements to build wheel ... \u001b[?25l\u001b[?25hdone\n",
            "  Preparing metadata (pyproject.toml) ... \u001b[?25l\u001b[?25hdone\n",
            "Requirement already satisfied: torch in /usr/local/lib/python3.10/dist-packages (2.5.1+cu121)\n",
            "Requirement already satisfied: torchvision in /usr/local/lib/python3.10/dist-packages (0.20.1+cu121)\n",
            "Requirement already satisfied: numpy in /usr/local/lib/python3.10/dist-packages (1.26.4)\n",
            "Requirement already satisfied: matplotlib in /usr/local/lib/python3.10/dist-packages (3.10.0)\n",
            "Collecting escnn\n",
            "  Downloading escnn-1.0.11-py3-none-any.whl.metadata (19 kB)\n",
            "Requirement already satisfied: scipy in /usr/local/lib/python3.10/dist-packages (1.13.1)\n",
            "Requirement already satisfied: filelock in /usr/local/lib/python3.10/dist-packages (from torch) (3.16.1)\n",
            "Requirement already satisfied: typing-extensions>=4.8.0 in /usr/local/lib/python3.10/dist-packages (from torch) (4.12.2)\n",
            "Requirement already satisfied: networkx in /usr/local/lib/python3.10/dist-packages (from torch) (3.4.2)\n",
            "Requirement already satisfied: jinja2 in /usr/local/lib/python3.10/dist-packages (from torch) (3.1.5)\n",
            "Requirement already satisfied: fsspec in /usr/local/lib/python3.10/dist-packages (from torch) (2024.10.0)\n",
            "Requirement already satisfied: sympy==1.13.1 in /usr/local/lib/python3.10/dist-packages (from torch) (1.13.1)\n",
            "Requirement already satisfied: mpmath<1.4,>=1.1.0 in /usr/local/lib/python3.10/dist-packages (from sympy==1.13.1->torch) (1.3.0)\n",
            "Requirement already satisfied: pillow!=8.3.*,>=5.3.0 in /usr/local/lib/python3.10/dist-packages (from torchvision) (11.1.0)\n",
            "Requirement already satisfied: contourpy>=1.0.1 in /usr/local/lib/python3.10/dist-packages (from matplotlib) (1.3.1)\n",
            "Requirement already satisfied: cycler>=0.10 in /usr/local/lib/python3.10/dist-packages (from matplotlib) (0.12.1)\n",
            "Requirement already satisfied: fonttools>=4.22.0 in /usr/local/lib/python3.10/dist-packages (from matplotlib) (4.55.3)\n",
            "Requirement already satisfied: kiwisolver>=1.3.1 in /usr/local/lib/python3.10/dist-packages (from matplotlib) (1.4.8)\n",
            "Requirement already satisfied: packaging>=20.0 in /usr/local/lib/python3.10/dist-packages (from matplotlib) (24.2)\n",
            "Requirement already satisfied: pyparsing>=2.3.1 in /usr/local/lib/python3.10/dist-packages (from matplotlib) (3.2.1)\n",
            "Requirement already satisfied: python-dateutil>=2.7 in /usr/local/lib/python3.10/dist-packages (from matplotlib) (2.8.2)\n",
            "Requirement already satisfied: requests in /usr/local/lib/python3.10/dist-packages (from lie_learn==0.0.2) (2.32.3)\n",
            "Requirement already satisfied: joblib in /usr/local/lib/python3.10/dist-packages (from escnn) (1.4.2)\n",
            "Collecting pymanopt (from escnn)\n",
            "  Downloading pymanopt-2.2.1-py3-none-any.whl.metadata (7.0 kB)\n",
            "Requirement already satisfied: autograd in /usr/local/lib/python3.10/dist-packages (from escnn) (1.7.0)\n",
            "Collecting py3nj (from escnn)\n",
            "  Downloading py3nj-0.2.1.tar.gz (49 kB)\n",
            "\u001b[2K     \u001b[90m━━━━━━━━━━━━━━━━━━━━━━━━━━━━━━━━━━━━━━━━\u001b[0m \u001b[32m50.0/50.0 kB\u001b[0m \u001b[31m2.9 MB/s\u001b[0m eta \u001b[36m0:00:00\u001b[0m\n",
            "\u001b[?25h  Installing build dependencies ... \u001b[?25l\u001b[?25hdone\n",
            "  Getting requirements to build wheel ... \u001b[?25l\u001b[?25hdone\n",
            "  Installing backend dependencies ... \u001b[?25l\u001b[?25hdone\n",
            "  Preparing metadata (pyproject.toml) ... \u001b[?25l\u001b[?25hdone\n",
            "Requirement already satisfied: six>=1.5 in /usr/local/lib/python3.10/dist-packages (from python-dateutil>=2.7->matplotlib) (1.17.0)\n",
            "Requirement already satisfied: MarkupSafe>=2.0 in /usr/local/lib/python3.10/dist-packages (from jinja2->torch) (3.0.2)\n",
            "Requirement already satisfied: charset-normalizer<4,>=2 in /usr/local/lib/python3.10/dist-packages (from requests->lie_learn==0.0.2) (3.4.1)\n",
            "Requirement already satisfied: idna<4,>=2.5 in /usr/local/lib/python3.10/dist-packages (from requests->lie_learn==0.0.2) (3.10)\n",
            "Requirement already satisfied: urllib3<3,>=1.21.1 in /usr/local/lib/python3.10/dist-packages (from requests->lie_learn==0.0.2) (2.3.0)\n",
            "Requirement already satisfied: certifi>=2017.4.17 in /usr/local/lib/python3.10/dist-packages (from requests->lie_learn==0.0.2) (2024.12.14)\n",
            "Downloading escnn-1.0.11-py3-none-any.whl (373 kB)\n",
            "\u001b[2K   \u001b[90m━━━━━━━━━━━━━━━━━━━━━━━━━━━━━━━━━━━━━━━━\u001b[0m \u001b[32m373.9/373.9 kB\u001b[0m \u001b[31m12.9 MB/s\u001b[0m eta \u001b[36m0:00:00\u001b[0m\n",
            "\u001b[?25hDownloading pymanopt-2.2.1-py3-none-any.whl (71 kB)\n",
            "\u001b[2K   \u001b[90m━━━━━━━━━━━━━━━━━━━━━━━━━━━━━━━━━━━━━━━━\u001b[0m \u001b[32m72.0/72.0 kB\u001b[0m \u001b[31m4.4 MB/s\u001b[0m eta \u001b[36m0:00:00\u001b[0m\n",
            "\u001b[?25hBuilding wheels for collected packages: lie_learn, py3nj\n",
            "  Building wheel for lie_learn (pyproject.toml) ... \u001b[?25l\u001b[?25hdone\n",
            "  Created wheel for lie_learn: filename=lie_learn-0.0.2-cp310-cp310-linux_x86_64.whl size=16179061 sha256=a963b0f0f9f851d8ce92713781c7a78d482e4a7290d3a5092db1c8d7927a2f2d\n",
            "  Stored in directory: /tmp/pip-ephem-wheel-cache-wu4fanv2/wheels/3f/33/85/b8725ee77011bc42d77e4e35aeca2088482c3094f5c0a650a6\n",
            "  Building wheel for py3nj (pyproject.toml) ... \u001b[?25l\u001b[?25hdone\n",
            "  Created wheel for py3nj: filename=py3nj-0.2.1-cp310-cp310-linux_x86_64.whl size=44764 sha256=6c95727c644090fa491a82cf9d367f7f0919b59ef75053f77db5b1b035252ec5\n",
            "  Stored in directory: /root/.cache/pip/wheels/71/e9/70/30a34ed6dbc8b54ce93f25c091be4cf7a24319e27d953a882b\n",
            "Successfully built lie_learn py3nj\n",
            "Installing collected packages: py3nj, pymanopt, lie_learn, escnn\n",
            "Successfully installed escnn-1.0.11 lie_learn-0.0.2 py3nj-0.2.1 pymanopt-2.2.1\n"
          ]
        }
      ]
    },
    {
      "cell_type": "code",
      "execution_count": 2,
      "metadata": {
        "colab": {
          "base_uri": "https://localhost:8080/"
        },
        "id": "0DeUGG1ycQLQ",
        "outputId": "6fc12a85-8bf1-42c6-f80e-e14db371ef7d"
      },
      "outputs": [
        {
          "output_type": "stream",
          "name": "stderr",
          "text": [
            "<ipython-input-2-433ef526a958>:13: DeprecationWarning: `set_matplotlib_formats` is deprecated since IPython 7.23, directly use `matplotlib_inline.backend_inline.set_matplotlib_formats()`\n",
            "  set_matplotlib_formats('svg', 'pdf') # For export\n"
          ]
        }
      ],
      "source": [
        "import torch\n",
        "import numpy as np\n",
        "import scipy\n",
        "import os\n",
        "\n",
        "np.set_printoptions(precision=3, suppress=True, linewidth=10000, threshold=100000)\n",
        "\n",
        "import matplotlib\n",
        "%matplotlib inline\n",
        "import matplotlib.pyplot as plt\n",
        "# If the fonts in the plots are incorrectly rendered, comment out the next two lines\n",
        "from IPython.display import set_matplotlib_formats\n",
        "set_matplotlib_formats('svg', 'pdf') # For export\n",
        "matplotlib.rcParams['lines.linewidth'] = 2.0\n",
        "\n",
        "import urllib.request\n",
        "from urllib.error import HTTPError\n",
        "\n",
        "CHECKPOINT_PATH = \"../../saved_models/DL2/GDL\""
      ]
    },
    {
      "cell_type": "code",
      "execution_count": 3,
      "metadata": {
        "id": "_VZKFFfy5ROh",
        "colab": {
          "base_uri": "https://localhost:8080/"
        },
        "outputId": "bca6eafb-2486-442e-eaa7-a4509838e8d9"
      },
      "outputs": [
        {
          "output_type": "stream",
          "name": "stdout",
          "text": [
            "Downloading https://raw.githubusercontent.com/phlippe/saved_models/main/DL2/GDL/steerable_c4-pretrained.ckpt...\n",
            "Downloading https://raw.githubusercontent.com/phlippe/saved_models/main/DL2/GDL/steerable_so2-pretrained.ckpt...\n",
            "Downloading https://raw.githubusercontent.com/phlippe/saved_models/main/DL2/GDL/steerable_c4-accuracies.npy...\n",
            "Downloading https://raw.githubusercontent.com/phlippe/saved_models/main/DL2/GDL/steerable_so2-accuracies.npy...\n"
          ]
        }
      ],
      "source": [
        "# Create checkpoint path if it doesn't exist yet\n",
        "os.makedirs(CHECKPOINT_PATH, exist_ok=True)\n",
        "\n",
        "\n",
        "# Files to download\n",
        "pretrained_files = [\n",
        "    \"steerable_c4-pretrained.ckpt\",\n",
        "    \"steerable_so2-pretrained.ckpt\",\n",
        "    \"steerable_c4-accuracies.npy\",\n",
        "    \"steerable_so2-accuracies.npy\",\n",
        "]\n",
        "\n",
        "# Github URL where saved models are stored for this tutorial\n",
        "base_url = \"https://raw.githubusercontent.com/phlippe/saved_models/main/DL2/GDL/\"\n",
        "\n",
        "# For each file, check whether it already exists. If not, try downloading it.\n",
        "for file_name in pretrained_files:\n",
        "    file_path = os.path.join(CHECKPOINT_PATH, file_name)\n",
        "    if not os.path.isfile(file_path):\n",
        "        file_url = base_url + file_name\n",
        "        print(f\"Downloading {file_url}...\")\n",
        "        try:\n",
        "            urllib.request.urlretrieve(file_url, file_path)\n",
        "        except HTTPError as e:\n",
        "            print(\"Something went wrong. Please contact the author with the full output including the following error:\\n\", e)"
      ]
    },
    {
      "cell_type": "markdown",
      "metadata": {
        "id": "YajlOyducQLT"
      },
      "source": [
        "## 1. Representation Theory and Harmonic Analysis of Compact Groups"
      ]
    },
    {
      "cell_type": "markdown",
      "metadata": {
        "id": "aXn7VD9hcQLU"
      },
      "source": [
        "We will make use of the `escnn` [library](https://github.com/QUVA-Lab/escnn) throughout this tutorial.\n",
        "You can also find its documentation [here](https://quva-lab.github.io/escnn/)."
      ]
    },
    {
      "cell_type": "code",
      "execution_count": 4,
      "metadata": {
        "id": "RLFz1jngcQLV"
      },
      "outputs": [],
      "source": [
        "try:\n",
        "    from escnn.group import *\n",
        "except ModuleNotFoundError: # Google Colab does not have escnn installed by default. Hence, we do it here if necessary\n",
        "    !pip install --quiet git+https://github.com/AMLab-Amsterdam/lie_learn escnn\n",
        "    from escnn.group import *"
      ]
    },
    {
      "cell_type": "markdown",
      "metadata": {
        "id": "XC9uzWK9cQLV"
      },
      "source": [
        "First, let's create a group.\n",
        "We will use the *Cyclic Group* $G=C_8$ as an example.\n",
        "This group contains the $8$ planar rotations by multiples of $\\frac{2\\pi}{8}$.\n",
        "In `escnn`, a groups are instances of the abstract class `escnn.group.Group`, which provides some useful functionalities.\n",
        "We instantiate groups via a *factory method*.\n",
        "To build the cyclic group of order $8$, we use this factory method:"
      ]
    },
    {
      "cell_type": "code",
      "execution_count": 5,
      "metadata": {
        "id": "VADpbshZcQLW",
        "colab": {
          "base_uri": "https://localhost:8080/"
        },
        "outputId": "fb6e1751-a549-4a44-e068-ef3c67bfffd3"
      },
      "outputs": [
        {
          "output_type": "stream",
          "name": "stdout",
          "text": [
            "order: 8\n",
            "['N', 'PARAM', 'PARAMETRIZATIONS', '__abstractmethods__', '__class__', '__delattr__', '__dict__', '__dir__', '__doc__', '__eq__', '__format__', '__ge__', '__getattribute__', '__gt__', '__hash__', '__init__', '__init_subclass__', '__le__', '__lt__', '__module__', '__ne__', '__new__', '__reduce__', '__reduce_ex__', '__repr__', '__setattr__', '__sizeof__', '__slots__', '__str__', '__subclasshook__', '__weakref__', '_abc_impl', '_build_quotient_representations', '_build_representations', '_cached_group_instances', '_change_param', '_clebsh_gordan_coeff', '_combine', '_combine_subgroups', '_decode_subgroup_id_pickleable', '_elements', '_encode_subgroup_id_pickleable', '_equal', '_generator', '_hash_element', '_homspaces', '_identity', '_induced_from_irrep', '_inverse', '_irreps', '_is_element', '_keys', '_process_subgroup_id', '_repr_element', '_representations', '_restrict_irrep', '_subgroup', '_subgroups', '_tensor_product', '_tensor_product_irreps', 'abelian', 'bl_irreps', 'continuous', 'element', 'elements', 'generators', 'get_irrep_id', 'grid', 'homspace', 'identity', 'induced_representation', 'irrep', 'irreps', 'name', 'order', 'quotient_representation', 'regular_representation', 'representations', 'restrict_representation', 'rotation_order', 'sample', 'spectral_quotient_representation', 'spectral_regular_representation', 'subgroup', 'subgroup_self_id', 'subgroup_trivial_id', 'testing_elements', 'trivial_representation']\n"
          ]
        }
      ],
      "source": [
        "G = cyclic_group(N=8)\n",
        "\n",
        "# We can verify that the order of this group is 8:\n",
        "print(f\"order: {G.order()}\")\n",
        "print(dir(G))"
      ]
    },
    {
      "cell_type": "markdown",
      "metadata": {
        "id": "Rcc8utD-cQLY"
      },
      "source": [
        "A group is a collection of group elements together with a binary operation to combine them.\n",
        "This is implemented in the class `escnn.group.GroupElement`.\n",
        "We can access the *identity* element $e \\in G$ as"
      ]
    },
    {
      "cell_type": "code",
      "execution_count": 6,
      "metadata": {
        "id": "IOb24vqTcQLY",
        "colab": {
          "base_uri": "https://localhost:8080/"
        },
        "outputId": "9f705f41-20f9-4064-92b9-505eeee7b687"
      },
      "outputs": [
        {
          "output_type": "execute_result",
          "data": {
            "text/plain": [
              "0[2pi/8]"
            ]
          },
          "metadata": {},
          "execution_count": 6
        }
      ],
      "source": [
        "G.identity"
      ]
    },
    {
      "cell_type": "markdown",
      "metadata": {
        "id": "6carpwC_cQLY"
      },
      "source": [
        "or sample a random element as"
      ]
    },
    {
      "cell_type": "code",
      "execution_count": 7,
      "metadata": {
        "id": "GuCA2K3mcQLZ",
        "colab": {
          "base_uri": "https://localhost:8080/"
        },
        "outputId": "219f9803-6ab7-44fa-e08a-3e7584d0575d"
      },
      "outputs": [
        {
          "output_type": "execute_result",
          "data": {
            "text/plain": [
              "5[2pi/8]"
            ]
          },
          "metadata": {},
          "execution_count": 7
        }
      ],
      "source": [
        "G.sample()"
      ]
    },
    {
      "cell_type": "markdown",
      "metadata": {
        "id": "fgsIZ5iOcQLZ"
      },
      "source": [
        "Group elements can be combined via the binary operator `@`; we can also take the inverse of an element using `~`:"
      ]
    },
    {
      "cell_type": "code",
      "execution_count": 8,
      "metadata": {
        "id": "ePYpcV2hcQLZ",
        "colab": {
          "base_uri": "https://localhost:8080/"
        },
        "outputId": "59c47138-b136-4dd3-f076-8369b7710643"
      },
      "outputs": [
        {
          "output_type": "stream",
          "name": "stdout",
          "text": [
            "6[2pi/8]\n",
            "6[2pi/8]\n",
            "4[2pi/8]\n",
            "2[2pi/8]\n"
          ]
        }
      ],
      "source": [
        "a = G.sample()\n",
        "b = G.sample()\n",
        "print(a)\n",
        "print(b)\n",
        "print(a @ b)\n",
        "print(~a)"
      ]
    },
    {
      "cell_type": "markdown",
      "metadata": {
        "id": "r_7H2r85cQLa"
      },
      "source": [
        "Representation theory is a fundamental element in Steerable CNNs and to construct a Fourier theory over groups.\n",
        "In this first section, we will introduce the essential concepts."
      ]
    },
    {
      "cell_type": "markdown",
      "metadata": {
        "id": "GAbvGihgcQLa"
      },
      "source": [
        "### 1.1 Group Representation\n",
        "\n",
        "A **linear group representation** $\\rho$ of a compact group $G$ on a vector space (called *representation space*) $\\mathbb{R}^d$ is a *group homomorphism* from $G$ to the general linear group $GL(\\mathbb{R}^d)$, i.e. it is a map $\\rho : G \\to \\mathbb{R}^{d \\times d}$ such that:\n",
        "$$\\rho(g_1 g_2) = \\rho(g1) \\rho(g2) \\quad \\forall g_1,g_2 \\in G \\ .$$\n",
        "\n",
        "In other words, $\\rho(g)$ is a $d \\times d$ *invertible* matrix.\n",
        "We refer to $d$ as the *size* of the representation."
      ]
    },
    {
      "cell_type": "markdown",
      "metadata": {
        "id": "8dja71IKcQLb"
      },
      "source": [
        "#### Example: the Trivial Representation\n",
        "The simplest example of *group representation* is the **trivial representation** which maps every element to $1 \\in \\mathbb{R}$, i.e. $\\rho: g \\mapsto 1$.\n",
        "One can verify that it satisfies the condition above.\n",
        "We can construct this representation as follows:"
      ]
    },
    {
      "cell_type": "code",
      "execution_count": 9,
      "metadata": {
        "id": "r0EUX2NPcQLb"
      },
      "outputs": [],
      "source": [
        "rho = G.trivial_representation"
      ]
    },
    {
      "cell_type": "markdown",
      "metadata": {
        "id": "Ls4_jiufcQLb"
      },
      "source": [
        "`rho` is an instance of `escnn.group.Representation`. This class provides some functionalities to work with group representations. We can also use it as a callable function to compute the representation of a group element; this will return a squared matrix as a `numpy.array`.\n",
        "Let verify that the trivial representation does indeed verify the condition above:"
      ]
    },
    {
      "cell_type": "code",
      "execution_count": 10,
      "metadata": {
        "id": "t8Ub_tjUcQLb",
        "colab": {
          "base_uri": "https://localhost:8080/"
        },
        "outputId": "2c2b7ecd-ed0e-4c44-88ff-7912debd9703"
      },
      "outputs": [
        {
          "output_type": "stream",
          "name": "stdout",
          "text": [
            "[[1.]]\n",
            "[[1.]]\n"
          ]
        }
      ],
      "source": [
        "g1 = G.sample()\n",
        "g2 = G.sample()\n",
        "print(rho(g1) @ rho(g2))\n",
        "print(rho(g1 @ g2))"
      ]
    },
    {
      "cell_type": "markdown",
      "metadata": {
        "id": "Cg53mBIkcQLc"
      },
      "source": [
        "Note that the trivial representation has size $1$:"
      ]
    },
    {
      "cell_type": "code",
      "execution_count": 11,
      "metadata": {
        "id": "f2AqadBpcQLc",
        "colab": {
          "base_uri": "https://localhost:8080/"
        },
        "outputId": "d0de4c4a-a915-4736-d5f5-e25f0a53279a"
      },
      "outputs": [
        {
          "output_type": "execute_result",
          "data": {
            "text/plain": [
              "1"
            ]
          },
          "metadata": {},
          "execution_count": 11
        }
      ],
      "source": [
        "rho.size"
      ]
    },
    {
      "cell_type": "markdown",
      "metadata": {
        "id": "YaV4gjdpcQLc"
      },
      "source": [
        "#### Example: rotations\n",
        "\n",
        "Another common example of group representations is given by 2D rotations.\n",
        "Let $SO(2)$ be the group of all planar rotations; note that we can identify each rotation by an angle $\\theta \\in [0, 2\\pi)$.\n",
        "Then, the standard representation of planar rotations as $2\\times 2$ rotation matrices is a representation of $SO(2)$:\n",
        "\n",
        "$$\n",
        "    \\rho: r_{\\theta} \\mapsto \\begin{bmatrix} \\cos(\\theta) & -\\sin(\\theta) \\\\ \\sin(\\theta) & \\cos(\\theta) \\end{bmatrix}\n",
        "$$\n",
        "\n",
        "where $r_\\theta \\in SO(2)$ is a counter-clockwise rotation by $\\theta$.\n",
        "Let's try to build this group and, then, verify that this is a representation:"
      ]
    },
    {
      "cell_type": "code",
      "execution_count": 12,
      "metadata": {
        "id": "ZJpxDUGacQLd",
        "colab": {
          "base_uri": "https://localhost:8080/"
        },
        "outputId": "e4c0f961-674a-4409-ccc3-196895946ba3"
      },
      "outputs": [
        {
          "output_type": "stream",
          "name": "stdout",
          "text": [
            "g1=1.3412309850792945, g2=1.6949467744188262, g1 * g2 = 3.0361777594981207\n",
            "\n",
            "rho(g1) @ rho(g2)\n",
            "[[-0.994 -0.105]\n",
            " [ 0.105 -0.994]]\n",
            "\n",
            "rho(g1 * g2)\n",
            "[[-0.994 -0.105]\n",
            " [ 0.105 -0.994]]\n"
          ]
        }
      ],
      "source": [
        "G = so2_group()\n",
        "rho = G.standard_representation()\n",
        "\n",
        "g1 = G.sample()\n",
        "g2 = G.sample()\n",
        "print(f'g1={g1}, g2={g2}, g1 * g2 = {g1 @ g2}')\n",
        "print()\n",
        "print('rho(g1) @ rho(g2)')\n",
        "print(rho(g1) @ rho(g2))\n",
        "print()\n",
        "print('rho(g1 * g2)')\n",
        "print(rho(g1 @ g2))"
      ]
    },
    {
      "cell_type": "markdown",
      "metadata": {
        "id": "nwjnsXvngH56"
      },
      "source": [
        "---\n",
        "\n",
        "#### QUESTION 1\n",
        "Show that any representation $\\rho: G \\to \\mathbb{R}^{d \\times d}$ also satisfies the following two properties:\n",
        "\n",
        "- let $e \\in G$ be the identity element. Then, $\\rho(e)$ is the identity matrix of size $d$.\n",
        "\n",
        "- let $g \\in G$ and $g^{-1}$ be its inverse (i.e. $g \\cdot g^{-1} = e$). Then, $\\rho(g^{-1}) = \\rho(g)^{-1}$.\n",
        "\n",
        "\n",
        "#### ANSWER 1\n",
        "\n",
        "\n",
        "---"
      ]
    },
    {
      "cell_type": "markdown",
      "metadata": {
        "id": "xT8HQUFGcQLd"
      },
      "source": [
        "#### Direct Sum\n",
        "We can combine representations to build a larger representation via the **direct sum**.\n",
        "\n",
        "Given representations $\\rho_1 : G \\to \\mathbb{R}^{d_1 \\times d_1}$ and $\\rho_2 : G \\to \\mathbb{R}^{d_2 \\times d_2}$, their *direct sum* $\\rho_1 \\oplus \\rho_2: G \\to \\mathbb{R}^{(d_1 + d_2) \\times (d_1 + d_2)}$ is defined as\n",
        "\n",
        "$$\n",
        "    (\\rho_1 \\oplus \\rho_2)(g) = \\begin{bmatrix}\\rho_1(g) & 0 \\\\ 0 & \\rho_2(g) \\end{bmatrix}\n",
        "$$\n",
        "\n",
        "Its action is therefore given by the independent actions of $\\rho_1$ and $\\rho_2$ on the orthogonal subspaces $\\mathbb{R}^{d_1}$ and $\\mathbb{R}^{d_2}$  of $\\mathbb{R}^{d_1 + d_2}$.\n",
        "\n",
        "Let's see an example:"
      ]
    },
    {
      "cell_type": "code",
      "execution_count": 13,
      "metadata": {
        "id": "3bKiV8VMcQLd",
        "colab": {
          "base_uri": "https://localhost:8080/"
        },
        "outputId": "cf3ecad1-b5b0-454c-f967-cc05b3ffe850"
      },
      "outputs": [
        {
          "output_type": "stream",
          "name": "stdout",
          "text": [
            "group : 1.395856560783891\n",
            "[[ 0.174 -0.985]\n",
            " [ 0.985  0.174]]\n",
            "\n",
            "[[ 0.174 -0.985  0.     0.   ]\n",
            " [ 0.985  0.174  0.     0.   ]\n",
            " [ 0.     0.     0.174 -0.985]\n",
            " [ 0.     0.     0.985  0.174]]\n"
          ]
        }
      ],
      "source": [
        "rho_sum = rho + rho\n",
        "\n",
        "g = G.sample()\n",
        "print(f\"group : {g}\")\n",
        "print(rho(g))\n",
        "print()\n",
        "print(rho_sum(g))"
      ]
    },
    {
      "cell_type": "markdown",
      "metadata": {
        "id": "klWR11lpcQLe"
      },
      "source": [
        "Note that the direct sum of two representations has size equal to the sum of their sizes:"
      ]
    },
    {
      "cell_type": "code",
      "execution_count": 14,
      "metadata": {
        "id": "SoDMk5gdcQLe",
        "colab": {
          "base_uri": "https://localhost:8080/"
        },
        "outputId": "5249f127-3fa9-4102-b818-442309d2b2e0"
      },
      "outputs": [
        {
          "output_type": "execute_result",
          "data": {
            "text/plain": [
              "(2, 4)"
            ]
          },
          "metadata": {},
          "execution_count": 14
        }
      ],
      "source": [
        "rho.size, rho_sum.size"
      ]
    },
    {
      "cell_type": "markdown",
      "metadata": {
        "id": "jhe9hZ_zcQLe"
      },
      "source": [
        "We can combine arbitrary many representations in this way, e.g. $\\rho \\oplus \\rho \\oplus \\rho \\oplus \\rho$:"
      ]
    },
    {
      "cell_type": "code",
      "execution_count": 15,
      "metadata": {
        "id": "f5w0GppScQLe",
        "colab": {
          "base_uri": "https://localhost:8080/"
        },
        "outputId": "13d02a66-0815-46aa-ec2f-18d0c8cb14b4"
      },
      "outputs": [
        {
          "output_type": "execute_result",
          "data": {
            "text/plain": [
              "8"
            ]
          },
          "metadata": {},
          "execution_count": 15
        }
      ],
      "source": [
        "rho_sum = rho + rho + rho + rho\n",
        "\n",
        "# or, more simply:\n",
        "rho_sum = directsum([rho, rho, rho, rho])\n",
        "rho_sum.size"
      ]
    },
    {
      "cell_type": "markdown",
      "metadata": {
        "id": "JNMR5pQGcQLf"
      },
      "source": [
        "#### The Regular Representation\n",
        "\n",
        "Another important representation is the **regular representation**.\n",
        "The regular representation describes the action of a group $G$ on the vector space of functions over the group $G$.\n",
        "Assume for the moment that the group $G$ is *finite*, i.e. $|G| < \\infty$.\n",
        "\n",
        "The set of functions over $G$ is equivalent to the vector space $\\mathbb{R}^{|G|}$.\n",
        "We can indeed interpret a vector $\\mathbf{f} \\in \\mathbb{R}^{|G|}$ as a function over $G$, where the $i$-th entry of $\\mathbf{f}$ is interpreted as the value of the function on the $i$-th element $g_i \\in G$.\n",
        "\n",
        "The **regular representation** of $G$ is a $|G|$ dimensional representation.\n",
        "Recall the left action of $G$ on a function $f: G \\to \\mathbb{R}$:\n",
        "\n",
        "$$\n",
        "[g.f](h) := f(g^{-1} h)\n",
        "$$\n",
        "\n",
        "The new function $g.f$ is still a function over $G$ and belongs to the same vector space.\n",
        "If we represent the function $f$ as a vector $\\mathbf{f}$, the vector representing the function $g.f$ will have permuted entries with respect to $\\mathbf{f}$.\n",
        "This permutation is the regular representation of $g \\in G$."
      ]
    },
    {
      "cell_type": "markdown",
      "metadata": {
        "id": "C9JtxVcgcQLf"
      },
      "source": [
        "---\n",
        "\n",
        "#### QUESTION 2\n",
        "Show that the space of functions over $G$ is a vector space.\n",
        "To do so, show that functions satisfy the properties of a vector space; see [here](https://en.wikipedia.org/wiki/Vector_space#Notation_and_definition).\n",
        "\n",
        "#### ANSWER 2\n",
        "\n",
        "\n",
        "\n",
        "---"
      ]
    },
    {
      "cell_type": "markdown",
      "metadata": {
        "id": "oStwiCwNcQLf"
      },
      "source": [
        "For finite groups, we can generate this representation.\n",
        "We assume that the $i$-th entry is associated with the element of $G=C_8$ corresponing to a rotation by $i \\frac{2\\pi}{8}$."
      ]
    },
    {
      "cell_type": "code",
      "execution_count": 16,
      "metadata": {
        "id": "URb5ggAXcQLf",
        "colab": {
          "base_uri": "https://localhost:8080/"
        },
        "outputId": "54f82e53-565b-42c4-d825-90a0b286045e"
      },
      "outputs": [
        {
          "output_type": "execute_result",
          "data": {
            "text/plain": [
              "C8|[regular]:8"
            ]
          },
          "metadata": {},
          "execution_count": 16
        }
      ],
      "source": [
        "G = cyclic_group(8)\n",
        "rho = G.regular_representation\n",
        "rho"
      ]
    },
    {
      "cell_type": "code",
      "execution_count": 17,
      "metadata": {
        "id": "QrBDn90GcQLg",
        "colab": {
          "base_uri": "https://localhost:8080/"
        },
        "outputId": "2466a655-e65a-4c6d-c660-729d8cf72bac"
      },
      "outputs": [
        {
          "output_type": "execute_result",
          "data": {
            "text/plain": [
              "8"
            ]
          },
          "metadata": {},
          "execution_count": 17
        }
      ],
      "source": [
        "# note that the size of the representation is equal to the group's order |G|\n",
        "rho.size"
      ]
    },
    {
      "cell_type": "markdown",
      "metadata": {
        "id": "9cArJXaecQLg"
      },
      "source": [
        "the identity element maps a function to itself, so the entries are not permuted"
      ]
    },
    {
      "cell_type": "code",
      "execution_count": 18,
      "metadata": {
        "id": "dkyjqK2GcQLg",
        "colab": {
          "base_uri": "https://localhost:8080/"
        },
        "outputId": "e53b4da2-488c-414b-98db-1a7e7293f30b"
      },
      "outputs": [
        {
          "output_type": "execute_result",
          "data": {
            "text/plain": [
              "array([[ 1.,  0., -0., -0., -0., -0.,  0., -0.],\n",
              "       [ 0.,  1.,  0., -0., -0., -0., -0., -0.],\n",
              "       [-0.,  0.,  1., -0., -0.,  0., -0.,  0.],\n",
              "       [-0., -0., -0.,  1.,  0., -0., -0., -0.],\n",
              "       [-0., -0., -0.,  0.,  1.,  0., -0., -0.],\n",
              "       [-0., -0.,  0., -0.,  0.,  1., -0.,  0.],\n",
              "       [ 0., -0., -0., -0., -0., -0.,  1., -0.],\n",
              "       [-0., -0.,  0., -0., -0.,  0., -0.,  1.]])"
            ]
          },
          "metadata": {},
          "execution_count": 18
        }
      ],
      "source": [
        "rho(G.identity)"
      ]
    },
    {
      "cell_type": "markdown",
      "metadata": {
        "id": "NfNZQhHycQLg"
      },
      "source": [
        "The regular representation of the rotation by $1\\frac{2\\pi}{8}$ just cyclically shifts each entry to the next position since $r_{1\\frac{2\\pi}{8}}^{-1} r_{i\\frac{2\\pi}{8}} = r_{(i-1)\\frac{2\\pi}{8}}$:"
      ]
    },
    {
      "cell_type": "code",
      "execution_count": 19,
      "metadata": {
        "id": "zbTrUzKZcQLg",
        "colab": {
          "base_uri": "https://localhost:8080/"
        },
        "outputId": "426b873a-883d-4b8e-f4af-88b727861bd8"
      },
      "outputs": [
        {
          "output_type": "execute_result",
          "data": {
            "text/plain": [
              "array([[ 0., -0.,  0., -0., -0.,  0., -0.,  1.],\n",
              "       [ 1.,  0., -0., -0., -0., -0.,  0., -0.],\n",
              "       [ 0.,  1.,  0., -0.,  0., -0., -0., -0.],\n",
              "       [-0.,  0.,  1., -0., -0.,  0., -0.,  0.],\n",
              "       [-0., -0., -0.,  1.,  0., -0.,  0., -0.],\n",
              "       [-0.,  0., -0.,  0.,  1.,  0.,  0., -0.],\n",
              "       [-0., -0.,  0., -0.,  0.,  1.,  0.,  0.],\n",
              "       [-0.,  0., -0., -0.,  0., -0.,  1.,  0.]])"
            ]
          },
          "metadata": {},
          "execution_count": 19
        }
      ],
      "source": [
        "rho(G.element(1))"
      ]
    },
    {
      "cell_type": "markdown",
      "metadata": {
        "id": "lMPG_z9jcQLh"
      },
      "source": [
        "Let's see an example of the action on a function.\n",
        "We consider a function which is zero on all group elements apart from the identity ($i=0$)."
      ]
    },
    {
      "cell_type": "code",
      "execution_count": 20,
      "metadata": {
        "id": "x3KrJjrXcQLh",
        "colab": {
          "base_uri": "https://localhost:8080/"
        },
        "outputId": "c7d391fa-3673-4be6-b7b6-579d820e063f"
      },
      "outputs": [
        {
          "output_type": "execute_result",
          "data": {
            "text/plain": [
              "array([1., 0., 0., 0., 0., 0., 0., 0.])"
            ]
          },
          "metadata": {},
          "execution_count": 20
        }
      ],
      "source": [
        "f = np.zeros(8)\n",
        "f[0] = 1\n",
        "f"
      ]
    },
    {
      "cell_type": "markdown",
      "metadata": {
        "id": "kuFWujk_cQLh"
      },
      "source": [
        "Observe that $\\rho(e) \\mathbf{f} = \\mathbf{f}$, where $e = 0\\frac{2\\pi}{8}$ is the identity element."
      ]
    },
    {
      "cell_type": "code",
      "execution_count": 21,
      "metadata": {
        "id": "La0rfdEycQLh",
        "colab": {
          "base_uri": "https://localhost:8080/"
        },
        "outputId": "9cb30b6d-d00c-46c1-f7e4-f8c37557e2ee"
      },
      "outputs": [
        {
          "output_type": "execute_result",
          "data": {
            "text/plain": [
              "array([ 1.,  0., -0., -0., -0., -0.,  0., -0.])"
            ]
          },
          "metadata": {},
          "execution_count": 21
        }
      ],
      "source": [
        "rho(G.identity) @ f"
      ]
    },
    {
      "cell_type": "markdown",
      "metadata": {
        "id": "wlWW5joqcQLh"
      },
      "source": [
        "$\\mathbf{f}$ is non-zero only on the element $e$.\n",
        "If an element $g$ acts on this function, it moves the non-zero value to the entry associated with $g$:"
      ]
    },
    {
      "cell_type": "code",
      "execution_count": 22,
      "metadata": {
        "id": "UZJV-YfkcQLh",
        "colab": {
          "base_uri": "https://localhost:8080/"
        },
        "outputId": "55d0f453-aef0-4fd8-93df-bd0cd337dfe9"
      },
      "outputs": [
        {
          "output_type": "execute_result",
          "data": {
            "text/plain": [
              "array([ 0.,  1.,  0., -0., -0., -0., -0., -0.])"
            ]
          },
          "metadata": {},
          "execution_count": 22
        }
      ],
      "source": [
        "rho(G.element(1)) @ f"
      ]
    },
    {
      "cell_type": "code",
      "execution_count": 23,
      "metadata": {
        "id": "qEHsuyIMcQLi",
        "colab": {
          "base_uri": "https://localhost:8080/"
        },
        "outputId": "750c2519-f05b-48cb-a3ce-2d3ea43cf11c"
      },
      "outputs": [
        {
          "output_type": "execute_result",
          "data": {
            "text/plain": [
              "array([ 0., -0., -0., -0., -0., -0.,  1., -0.])"
            ]
          },
          "metadata": {},
          "execution_count": 23
        }
      ],
      "source": [
        "rho(G.element(6)) @ f"
      ]
    },
    {
      "cell_type": "markdown",
      "metadata": {
        "id": "rC2C598ScQLi"
      },
      "source": [
        "---\n",
        "\n",
        "#### QUESTION 3\n",
        "Prove the result above.\n",
        "\n",
        "#### ANSWER 3\n",
        "\n",
        "---"
      ]
    },
    {
      "cell_type": "markdown",
      "metadata": {
        "id": "6I1Df5BEcQLi"
      },
      "source": [
        "#### Equivalent Representations\n",
        "\n",
        "Two representations $\\rho$ and $\\rho'$ of a group $G$ on the same vector space $\\mathbb{R}^d$ are called *equivalent* (or **isomorphic**) if and only if they are related by a change of basis $Q \\in \\mathbb{R}^{d \\times d}$, i.e.\n",
        "$$ \\forall g \\in G \\quad \\rho(g) = Q \\rho'(g) Q^{-1} \\ . $$\n",
        "\n",
        "Equivalent representations behave similarly since their composition is *basis-independent* as seen by\n",
        "$$ \\rho'(g_1) \\rho'(g_2) = Q \\rho(g_1)Q^{−1}Q \\rho(g_2)Q^{−1} = Q \\rho(g_1)\\rho(g_2)Q^{−1} \\ .$$\n",
        "\n",
        "*Direct sum* and *change of basis matrices* provide a way to combine representations to construct larger and more complex representations.\n",
        "In the next example, we concatenate two trivial representations and two regular representations and apply a random change of basis $Q$.\n",
        "The final representation is formally defined as:\n",
        "$$\n",
        "\\rho(g) = Q\n",
        "\\left(\n",
        "\\rho_\\text{trivial} \\oplus\n",
        "\\rho_\\text{regular} \\oplus\n",
        "\\rho_\\text{regular} \\oplus\n",
        "\\rho_\\text{trivial}\n",
        "\\right)\n",
        "Q^{-1}\n",
        "$$"
      ]
    },
    {
      "cell_type": "code",
      "execution_count": 24,
      "metadata": {
        "id": "0OP51IsBcQLi"
      },
      "outputs": [],
      "source": [
        "d = G.trivial_representation.size * 2 + G.regular_representation.size * 2\n",
        "Q = np.random.randn(d, d)\n",
        "rho = directsum(\n",
        "    [G.trivial_representation, G.regular_representation, G.regular_representation, G.trivial_representation],\n",
        "    change_of_basis=Q\n",
        ")"
      ]
    },
    {
      "cell_type": "code",
      "execution_count": 25,
      "metadata": {
        "id": "ewPHjFszcQLj",
        "colab": {
          "base_uri": "https://localhost:8080/"
        },
        "outputId": "28aaac3e-a02b-46f9-9e90-af725f17229b"
      },
      "outputs": [
        {
          "output_type": "execute_result",
          "data": {
            "text/plain": [
              "18"
            ]
          },
          "metadata": {},
          "execution_count": 25
        }
      ],
      "source": [
        "rho.size"
      ]
    },
    {
      "cell_type": "markdown",
      "metadata": {
        "id": "LnegNCevcQLj"
      },
      "source": [
        "#### Irreducible Representations (or *Irreps*)\n",
        "\n",
        "Under minor conditions, any representation can be decomposed in this way, that is, any representation $\\rho$ of a compact group $G$ can be written as a *direct sum* of a number of smaller representations, up to a *change of basis*.\n",
        "These \"smaller representations\" can not be decomposed further and play a very important role in the theory of group representations and steerable CNNs and are called **irreducible representations**, or simply **irreps**.\n",
        "\n",
        "The set of *irreducible representations* of a group $G$ is generally denoted as $\\hat{G}$.\n",
        "We will often use the notation $\\hat{G} = \\{\\rho_j\\}_j$ to index this set."
      ]
    },
    {
      "cell_type": "markdown",
      "metadata": {
        "id": "MhzTXFsWcQLj"
      },
      "source": [
        "We can access the irreps of a group via the `irrep()` method.\n",
        "The *trivial representation* is *always* an irreducible representation.\n",
        "For $G=C_8$, we access it with the index $j=0$:"
      ]
    },
    {
      "cell_type": "code",
      "execution_count": 26,
      "metadata": {
        "id": "JY-vdM2GcQLj",
        "colab": {
          "base_uri": "https://localhost:8080/"
        },
        "outputId": "7a906f7a-087b-4ed9-9ad4-51e450b489c1"
      },
      "outputs": [
        {
          "output_type": "stream",
          "name": "stdout",
          "text": [
            "True\n"
          ]
        },
        {
          "output_type": "execute_result",
          "data": {
            "text/plain": [
              "array([[1.]])"
            ]
          },
          "metadata": {},
          "execution_count": 26
        }
      ],
      "source": [
        "rho_0 = G.irrep(0)\n",
        "\n",
        "print(rho_0 == G.trivial_representation)\n",
        "\n",
        "rho_0(G.sample())\n"
      ]
    },
    {
      "cell_type": "markdown",
      "metadata": {
        "id": "Re7L8u5McQLk"
      },
      "source": [
        "The next irrep $j=1$ gives the representation of $i\\frac{2\\pi}{8}$ as the $2 \\times 2$ rotation matrix by $\\theta = i\\frac{2\\pi}{8}$:"
      ]
    },
    {
      "cell_type": "code",
      "execution_count": 34,
      "metadata": {
        "id": "CePW0KyNcQLk",
        "colab": {
          "base_uri": "https://localhost:8080/"
        },
        "outputId": "46a0e9a9-8a66-4ea8-8966-c663176aa0b6"
      },
      "outputs": [
        {
          "output_type": "stream",
          "name": "stdout",
          "text": [
            "1[2pi/8]\n",
            "\n",
            "[[ 0.707 -0.707]\n",
            " [ 0.707  0.707]]\n"
          ]
        }
      ],
      "source": [
        "rho = G.irrep(1)\n",
        "g = G.sample()\n",
        "\n",
        "print(g)\n",
        "print()\n",
        "print(rho(g))"
      ]
    },
    {
      "cell_type": "markdown",
      "metadata": {
        "id": "_Brfn36_cQLk"
      },
      "source": [
        "Irreducible representations provide the building blocks to construct any representation $\\rho$ via direct sums and change of basis, i.e:\n",
        "$$ \\rho = Q \\left( \\bigoplus_{j \\in \\mathcal{I}} \\rho_j \\right) Q^{-1} $$\n",
        "\n",
        "where $\\mathcal{I}$ is an index set (possibly with repetitions) over $\\hat{G}$."
      ]
    },
    {
      "cell_type": "markdown",
      "metadata": {
        "id": "-6VbbktxcQLk"
      },
      "source": [
        "Internally, any `escnn.group.Representation` is indeed implemented as a list of irreps (representing the index set $\\mathcal{I}$) and a change of basis $Q$.\n",
        "An irrep is identified by a *tuple* `id`.\n",
        "\n",
        "Let's see an example.\n",
        "Let's take the regular representaiton of $C_8$ and check its decomposition into irreps:"
      ]
    },
    {
      "cell_type": "code",
      "execution_count": 35,
      "metadata": {
        "id": "7gnOnfIncQLk",
        "colab": {
          "base_uri": "https://localhost:8080/"
        },
        "outputId": "d91674f7-6255-4d63-a0d1-be7f0d4d891e"
      },
      "outputs": [
        {
          "output_type": "execute_result",
          "data": {
            "text/plain": [
              "[(0,), (1,), (2,), (3,), (4,)]"
            ]
          },
          "metadata": {},
          "execution_count": 35
        }
      ],
      "source": [
        "rho = G.regular_representation\n",
        "rho.irreps"
      ]
    },
    {
      "cell_type": "code",
      "execution_count": 36,
      "metadata": {
        "id": "HZ0vO35FcQLk",
        "colab": {
          "base_uri": "https://localhost:8080/"
        },
        "outputId": "d8f659e9-fa6e-44e1-a87d-a00425e73af7"
      },
      "outputs": [
        {
          "output_type": "execute_result",
          "data": {
            "text/plain": [
              "array([[ 0.354,  0.5  ,  0.   ,  0.5  ,  0.   ,  0.5  ,  0.   ,  0.354],\n",
              "       [ 0.354,  0.354,  0.354,  0.   ,  0.5  , -0.354,  0.354, -0.354],\n",
              "       [ 0.354,  0.   ,  0.5  , -0.5  ,  0.   , -0.   , -0.5  ,  0.354],\n",
              "       [ 0.354, -0.354,  0.354, -0.   , -0.5  ,  0.354,  0.354, -0.354],\n",
              "       [ 0.354, -0.5  ,  0.   ,  0.5  , -0.   , -0.5  ,  0.   ,  0.354],\n",
              "       [ 0.354, -0.354, -0.354,  0.   ,  0.5  ,  0.354, -0.354, -0.354],\n",
              "       [ 0.354, -0.   , -0.5  , -0.5  ,  0.   ,  0.   ,  0.5  ,  0.354],\n",
              "       [ 0.354,  0.354, -0.354, -0.   , -0.5  , -0.354, -0.354, -0.354]])"
            ]
          },
          "metadata": {},
          "execution_count": 36
        }
      ],
      "source": [
        "rho.change_of_basis"
      ]
    },
    {
      "cell_type": "code",
      "execution_count": 37,
      "metadata": {
        "id": "aC8_wK4TcQLl",
        "colab": {
          "base_uri": "https://localhost:8080/"
        },
        "outputId": "7bb387dd-f08e-4896-c3eb-a4cae88341e0"
      },
      "outputs": [
        {
          "output_type": "stream",
          "name": "stdout",
          "text": [
            "rho_id : (1,)\n"
          ]
        },
        {
          "output_type": "execute_result",
          "data": {
            "text/plain": [
              "array([[ 0.707, -0.707],\n",
              "       [ 0.707,  0.707]])"
            ]
          },
          "metadata": {},
          "execution_count": 37
        }
      ],
      "source": [
        "# let's access second irrep\n",
        "rho_id = rho.irreps[1]\n",
        "print(f\"rho_id : {rho_id}\")\n",
        "rho_1 = G.irrep(*rho_id)\n",
        "\n",
        "# we verify it is the irrep j=1 we described before\n",
        "rho_1(g)"
      ]
    },
    {
      "cell_type": "markdown",
      "metadata": {
        "id": "iajjFdqhid9U"
      },
      "source": [
        "Finally, let's verify that this direct sum and this change of basis indeed yield the regular representation"
      ]
    },
    {
      "cell_type": "code",
      "execution_count": 38,
      "metadata": {
        "id": "VOfg1c1DitSg",
        "colab": {
          "base_uri": "https://localhost:8080/"
        },
        "outputId": "a7b34fc5-7cc7-40e8-d945-0cfa217c30d9"
      },
      "outputs": [
        {
          "output_type": "stream",
          "name": "stdout",
          "text": [
            "Regular representation of 1[2pi/8]\n",
            "[[ 0. -0.  0. -0. -0.  0. -0.  1.]\n",
            " [ 1.  0. -0. -0. -0. -0.  0. -0.]\n",
            " [ 0.  1.  0. -0.  0. -0. -0. -0.]\n",
            " [-0.  0.  1. -0. -0.  0. -0.  0.]\n",
            " [-0. -0. -0.  1.  0. -0.  0. -0.]\n",
            " [-0.  0. -0.  0.  1.  0.  0. -0.]\n",
            " [-0. -0.  0. -0.  0.  1.  0.  0.]\n",
            " [-0.  0. -0. -0.  0. -0.  1.  0.]]\n",
            "________________________________________\n",
            "Direct sum of the irreps:\n",
            "[[ 1.     0.     0.     0.     0.     0.     0.     0.   ]\n",
            " [ 0.     0.707 -0.707  0.     0.     0.     0.     0.   ]\n",
            " [ 0.     0.707  0.707  0.     0.     0.     0.     0.   ]\n",
            " [ 0.     0.     0.     0.    -1.     0.     0.     0.   ]\n",
            " [ 0.     0.     0.     1.     0.     0.     0.     0.   ]\n",
            " [ 0.     0.     0.     0.     0.    -0.707 -0.707  0.   ]\n",
            " [ 0.     0.     0.     0.     0.     0.707 -0.707  0.   ]\n",
            " [ 0.     0.     0.     0.     0.     0.     0.    -1.   ]]\n",
            "________________________________________\n",
            "Apply the change of basis on the direct sum of the irreps:\n",
            "[[ 0. -0.  0. -0. -0.  0. -0.  1.]\n",
            " [ 1.  0. -0. -0. -0. -0.  0. -0.]\n",
            " [ 0.  1.  0. -0.  0. -0. -0. -0.]\n",
            " [-0.  0.  1.  0. -0.  0. -0.  0.]\n",
            " [-0. -0. -0.  1.  0. -0.  0. -0.]\n",
            " [-0.  0. -0.  0.  1.  0.  0. -0.]\n",
            " [-0. -0.  0. -0.  0.  1.  0.  0.]\n",
            " [-0.  0. -0. -0.  0. -0.  1.  0.]]\n",
            "________________________________________\n",
            "Are the two representations equal? True\n"
          ]
        }
      ],
      "source": [
        "\n",
        "# evaluate all the irreps in rho.irreps:\n",
        "irreps = [\n",
        "          G.irrep(*irrep)(g) for irrep in rho.irreps\n",
        "]\n",
        "\n",
        "# build the direct sum\n",
        "direct_sum = np.asarray(scipy.sparse.block_diag(irreps, format='csc').todense())\n",
        "\n",
        "print('Regular representation of', g)\n",
        "print(rho(g))\n",
        "print('_'*40)\n",
        "print('Direct sum of the irreps:')\n",
        "print(direct_sum)\n",
        "print(\"_\"*40)\n",
        "print('Apply the change of basis on the direct sum of the irreps:')\n",
        "print(rho.change_of_basis @ direct_sum @ rho.change_of_basis_inv)\n",
        "print(\"_\"*40)\n",
        "print('Are the two representations equal?', np.allclose(rho(g), rho.change_of_basis @ direct_sum @ rho.change_of_basis_inv))\n"
      ]
    },
    {
      "cell_type": "markdown",
      "metadata": {
        "id": "Xn2amCSQcQLl"
      },
      "source": [
        "### 1.2 Fourier Transform\n",
        "\n",
        "We can finally approach the harmonic analysis of functions over a group $G$.\n",
        "\n",
        "Note that a representation $\\rho: G \\to \\mathbb{R}^{d \\times d}$ can be interpreted as a collection of $d^2$ functions over $G$, one for each matrix entry of $\\rho$.\n",
        "The **Peter-Weyl theorem** states that the collection of functions in the matrix entries of all irreps $\\hat{G}$ of a group $G$ spans the space of all (square-integrable) functions over $G$.\n",
        "\n",
        "This result gives us a way to parameterize functions over the group. This is the focus of this section.\n",
        "In particular, this is useful to parameterize functions over groups with infinite elements."
      ]
    },
    {
      "cell_type": "markdown",
      "metadata": {
        "id": "7l0487w2cQLl"
      },
      "source": [
        "In this section, we will first consider the *dihedral group* $D_8$ as example.\n",
        "This is the group containing the $8$ planar rotations by angles multiple of $\\frac{2\\pi}{8}$ and *reflection* along the $X$ axis.\n",
        "The group contains in total $16$ elements ($8$ normal rotations and $8$ rotations preceeded by the reflection)."
      ]
    },
    {
      "cell_type": "code",
      "execution_count": 39,
      "metadata": {
        "id": "M7FGPHzFcQLl",
        "colab": {
          "base_uri": "https://localhost:8080/"
        },
        "outputId": "d5b1d3b0-c220-4f59-b155-6fc325360c5e"
      },
      "outputs": [
        {
          "output_type": "execute_result",
          "data": {
            "text/plain": [
              "16"
            ]
          },
          "metadata": {},
          "execution_count": 39
        }
      ],
      "source": [
        "G = dihedral_group(8)\n",
        "G.order()"
      ]
    },
    {
      "cell_type": "code",
      "execution_count": 40,
      "metadata": {
        "id": "_P1zJdo7cQLm",
        "colab": {
          "base_uri": "https://localhost:8080/"
        },
        "outputId": "fbae2c0f-1ed9-4932-f5f4-86ebd2499359"
      },
      "outputs": [
        {
          "output_type": "execute_result",
          "data": {
            "text/plain": [
              "(-, 0[2pi/8])"
            ]
          },
          "metadata": {},
          "execution_count": 40
        }
      ],
      "source": [
        "# element representing the reflection (-) and no rotations\n",
        "G.reflection"
      ]
    },
    {
      "cell_type": "code",
      "execution_count": 41,
      "metadata": {
        "id": "VM64mjrYcQLm",
        "colab": {
          "base_uri": "https://localhost:8080/"
        },
        "outputId": "2c2e7553-896c-406f-9c1c-b93e5a077227"
      },
      "outputs": [
        {
          "output_type": "execute_result",
          "data": {
            "text/plain": [
              "(+, 2[2pi/8])"
            ]
          },
          "metadata": {},
          "execution_count": 41
        }
      ],
      "source": [
        "# element representing a rotation by pi/2 (i.e. 2 * 2pi/8) and no reflections (+)\n",
        "G.element((0, 2))"
      ]
    },
    {
      "cell_type": "code",
      "execution_count": 42,
      "metadata": {
        "id": "wSPPV8xqcQLm",
        "colab": {
          "base_uri": "https://localhost:8080/"
        },
        "outputId": "6e15fd6b-b24f-45f5-96ab-366adba39363"
      },
      "outputs": [
        {
          "output_type": "stream",
          "name": "stdout",
          "text": [
            "(-, 2[2pi/8])\n",
            "(-, 2[2pi/8])\n"
          ]
        }
      ],
      "source": [
        "# reflection followed by a rotation by pi/2\n",
        "print(G.element((0, 2)) @ G.reflection)\n",
        "\n",
        "# we can also directly generate this element as\n",
        "print(G.element((1, 2)))"
      ]
    },
    {
      "cell_type": "code",
      "execution_count": 43,
      "metadata": {
        "id": "yhXuYmCVcQLm",
        "colab": {
          "base_uri": "https://localhost:8080/"
        },
        "outputId": "1b367faf-7b51-480e-f170-17c520f91447"
      },
      "outputs": [
        {
          "output_type": "stream",
          "name": "stdout",
          "text": [
            "True (-, 6[2pi/8])\n",
            "False (-, 2[2pi/8])\n"
          ]
        }
      ],
      "source": [
        "# a rotation by pi/2 followed by a reflection is equivalent to a reclection followed by a rotation by 6*2pi/8\n",
        "print(G.reflection @ G.element((0, 2)) == G.element((1, 6)), G.reflection @ G.element((0, 2)))\n",
        "\n",
        "print(G.element((0, 2))@G.reflection == G.element((1, 6)), G.element((0, 2))@G.reflection)"
      ]
    },
    {
      "cell_type": "markdown",
      "metadata": {
        "id": "TS-i3cMCcQLm"
      },
      "source": [
        "The list of all elements in the group is obtaied as:"
      ]
    },
    {
      "cell_type": "code",
      "execution_count": 44,
      "metadata": {
        "id": "pN2RwwF8cQLm",
        "colab": {
          "base_uri": "https://localhost:8080/"
        },
        "outputId": "df1b2543-fe8b-4257-dec9-735f9fac51bb"
      },
      "outputs": [
        {
          "output_type": "execute_result",
          "data": {
            "text/plain": [
              "[(+, 0[2pi/8]),\n",
              " (+, 1[2pi/8]),\n",
              " (+, 2[2pi/8]),\n",
              " (+, 3[2pi/8]),\n",
              " (+, 4[2pi/8]),\n",
              " (+, 5[2pi/8]),\n",
              " (+, 6[2pi/8]),\n",
              " (+, 7[2pi/8]),\n",
              " (-, 0[2pi/8]),\n",
              " (-, 1[2pi/8]),\n",
              " (-, 2[2pi/8]),\n",
              " (-, 3[2pi/8]),\n",
              " (-, 4[2pi/8]),\n",
              " (-, 5[2pi/8]),\n",
              " (-, 6[2pi/8]),\n",
              " (-, 7[2pi/8])]"
            ]
          },
          "metadata": {},
          "execution_count": 44
        }
      ],
      "source": [
        "G.elements"
      ]
    },
    {
      "cell_type": "markdown",
      "metadata": {
        "id": "wteIYcqQcQLn"
      },
      "source": [
        "#### Fourier and Inverse Fourier Transform\n",
        "\n",
        "For most groups, the entries of the irreps don't only span the space of functions but form also a basis (i.e. these functions are mutually orthogonal to each other).\n",
        "Therefore, we can write a function $f: G \\to \\mathbb{R}$ as\n",
        "$$ f(g) = \\sum_{\\rho_j \\in \\hat{G}} \\sum_{m,n < d_j} w_{j,m,n} \\cdot \\sqrt{d_j} [\\rho_j(g)]_{mn}$$\n",
        "\n",
        "where $d_j$ is the dimension of the irrep $\\rho_j$, while $m, n$ index the $d_j^2$ entries of $\\rho_j$.\n",
        "The coefficients $\\{ w_{j, m, n} \\in \\mathbb{R} \\}_{j, m, n}$ parameterize the function $f$ on this basis.\n",
        "The $\\sqrt{d_j}$ is a scalar factor to ensure the basis is normalized.\n",
        "\n",
        "We rewrite this expression in a cleaner form by using the following fact.\n",
        "If $A, B \\in \\mathbb{R}^{d \\times d}$, then\n",
        "$$\\text{Tr}(A^T B) = \\sum_{m, n < d} A_{mn} B_{mn} \\in \\mathbb{R} \\ .$$\n",
        "\n",
        "By definining $\\hat{f}(\\rho_j) \\in \\mathbb{R}^{d_j \\times d_j}$ as the matrix containing the $d_j^2$ coefficients $\\{ w_{j, m, n} \\in \\mathbb{R} \\}_{m, n < d_j}$, we can express the **Inverse Fourier Transform** as:\n",
        "$$ f(g) = \\sum_{\\rho_j \\in \\hat{G}} \\sqrt{d_j} \\text{Tr}\\left(\\rho_j(g)^T \\hat{f}(\\rho_j)\\right) $$\n",
        "\n",
        "Similarly, we can project a general function $f: G \\to \\mathbb{R}$ on an element $\\rho_{j,m,n}: G \\to \\mathbb{R}$ of the basis via:\n",
        "$$ w_{j,m,n} = \\frac{1}{|G|} \\sum_{g \\in G} f(g) \\sqrt{d_j} [\\rho_j(g)]_{m, n} \\ . $$\n",
        "\n",
        "The projection over all entries of $\\rho_j$ can be more cleanly written as follows:\n",
        "$$ \\hat{f}(\\rho_j) = \\frac{1}{|G|} \\sum_{g \\in G} f(g) \\sqrt{d_j} \\rho_j(g) \\ . $$\n",
        "\n",
        "which we refer to as **Fourier Transform**.\n",
        "\n",
        "If the group $G$ is *infinite*, we replace the average over the group elements with an *integral* over them:\n",
        "$$ \\hat{f}(\\rho_j) = \\int_G f(g) \\sqrt{d_j} \\rho_j(g) dg \\ , $$"
      ]
    },
    {
      "cell_type": "markdown",
      "metadata": {
        "id": "9SGtT8HqcQLn"
      },
      "source": [
        "For a finite group $G$, we can access all its irreps by using the ``Group.irreps()`` method.\n",
        "Let's see an example:"
      ]
    },
    {
      "cell_type": "code",
      "execution_count": 45,
      "metadata": {
        "id": "UX1j_wiMcQLn",
        "colab": {
          "base_uri": "https://localhost:8080/"
        },
        "outputId": "ecf9a141-48bb-473f-b9e4-cbf814cbd2e0"
      },
      "outputs": [
        {
          "output_type": "stream",
          "name": "stdout",
          "text": [
            "The dihedral group D8 has 7 irreps\n"
          ]
        },
        {
          "output_type": "execute_result",
          "data": {
            "text/plain": [
              "[D8|[irrep_0,0]:1,\n",
              " D8|[irrep_1,0]:1,\n",
              " D8|[irrep_1,1]:2,\n",
              " D8|[irrep_1,2]:2,\n",
              " D8|[irrep_1,3]:2,\n",
              " D8|[irrep_1,4]:1,\n",
              " D8|[irrep_0,4]:1]"
            ]
          },
          "metadata": {},
          "execution_count": 45
        }
      ],
      "source": [
        "irreps = G.irreps()\n",
        "print(f'The dihedral group D8 has {len(irreps)} irreps')\n",
        "irreps"
      ]
    },
    {
      "cell_type": "code",
      "source": [
        "g@g"
      ],
      "metadata": {
        "colab": {
          "base_uri": "https://localhost:8080/"
        },
        "id": "fAqA7FaRwIXx",
        "outputId": "87e786d8-ec91-4a62-9ee0-483c9a8b98e6"
      },
      "execution_count": 60,
      "outputs": [
        {
          "output_type": "execute_result",
          "data": {
            "text/plain": [
              "2[2pi/8]"
            ]
          },
          "metadata": {},
          "execution_count": 60
        }
      ]
    },
    {
      "cell_type": "code",
      "source": [
        "r = G.irrep(*irreps[1].id)\n",
        "h = G.sample()\n",
        "print(f\"group_element : {h}\")\n",
        "r.representation(h)"
      ],
      "metadata": {
        "colab": {
          "base_uri": "https://localhost:8080/"
        },
        "id": "nEXMm-5RvsZ_",
        "outputId": "70c0ca8d-7b06-4e69-8e29-357c4a437fe7"
      },
      "execution_count": 71,
      "outputs": [
        {
          "output_type": "stream",
          "name": "stdout",
          "text": [
            "group_element : (+, 5[2pi/8])\n"
          ]
        },
        {
          "output_type": "execute_result",
          "data": {
            "text/plain": [
              "array([[1]])"
            ]
          },
          "metadata": {},
          "execution_count": 71
        }
      ]
    },
    {
      "cell_type": "code",
      "execution_count": 51,
      "metadata": {
        "id": "U-DtyU37cQLn",
        "colab": {
          "base_uri": "https://localhost:8080/"
        },
        "outputId": "af396a20-3b8c-4ca1-83aa-7aa1383debb8"
      },
      "outputs": [
        {
          "output_type": "stream",
          "name": "stdout",
          "text": [
            "True\n"
          ]
        },
        {
          "output_type": "execute_result",
          "data": {
            "text/plain": [
              "(2, 1, 1)"
            ]
          },
          "metadata": {},
          "execution_count": 51
        }
      ],
      "source": [
        "# the first one, is the 1-dimensional trivial representation\n",
        "print(irreps[0] == G.trivial_representation == G.irrep(0, 0))\n",
        "irreps[3].size , irreps[-1].size , irreps[1].size"
      ]
    },
    {
      "cell_type": "markdown",
      "metadata": {
        "id": "QvTWLjOPcQLn"
      },
      "source": [
        "---\n",
        "\n",
        "#### QUESTION 4\n",
        "We can now implement the Fourier Transform and the Inverse Fourier Transform for the Dihedral Group $D_8$.\n",
        "Using the equations above, implement the following methods:\n",
        "\n",
        "---"
      ]
    },
    {
      "cell_type": "code",
      "execution_count": null,
      "metadata": {
        "id": "qk-8qCYqcQLn"
      },
      "outputs": [],
      "source": [
        "def fourier_transform_D8(f: np.array):\n",
        "    # the method gets in input a function on the elements of D_8\n",
        "    # and should return a dictionary mapping each irrep's `id` to the corresponding Fourier Transform\n",
        "    # The i-th element of `f` stores the value of the function on the group element `G.elements[i]`\n",
        "\n",
        "    G = dihedral_group(8)\n",
        "    assert f.shape == (16,), f.shape\n",
        "    ft = {}\n",
        "\n",
        "    ########################\n",
        "    # INSERT YOUR CODE HERE:\n",
        "\n",
        "    # Iterate over all irreps\n",
        "    for irrep in  G.irreps():\n",
        "        irrep_id = irrep.id  # Unique identifier for the irrep\n",
        "        ft_irrep = np.zeros((irrep.size, irrep.size), dtype=complex)\n",
        "\n",
        "        # Compute the sum over all group elements\n",
        "        for i, g in enumerate(G.elements):\n",
        "            ft_irrep += f[i] * irrep(g)\n",
        "\n",
        "        # Store the result in the dictionary\n",
        "        ft[irrep_id] = ft_irrep\n",
        "\n",
        "    ########################\n",
        "\n",
        "    return ft\n",
        "#_______________________________________________________________________________________________\n",
        "show_eg = False\n",
        "if show_eg:\n",
        "  # Eg\n",
        "  from escnn.group import dihedral_group\n",
        "  import numpy as np\n",
        "\n",
        "  G = dihedral_group(8)\n",
        "  f = np.random.rand(16)  # Random function values on D8\n",
        "\n",
        "  ft = fourier_transform_D8(f)\n",
        "\n",
        "  # Print the Fourier Transform for each irrep\n",
        "  for irrep_id, transform in ft.items():\n",
        "      print(f\"Irrep {irrep_id}:\")\n",
        "      print(transform)\n"
      ]
    },
    {
      "cell_type": "code",
      "execution_count": null,
      "metadata": {
        "id": "MZgP2GEHcQLo"
      },
      "outputs": [],
      "source": [
        "def inverse_fourier_transform_D8(ft: dict):\n",
        "    # the method gets in input a dictionary mapping each irrep's `id` to the corresponding Fourier Transform\n",
        "    # and should return the function `f` on the elements of D_8\n",
        "    # The i-th element of `f` stores the value of the function on the group element `G.elements[i]`\n",
        "\n",
        "    G = dihedral_group(8)\n",
        "    f = np.zeros(16, dtype=complex)\n",
        "\n",
        "    ########################\n",
        "    # INSERT YOUR CODE HERE:\n",
        "    # Compute the inverse Fourier transform\n",
        "    for i, g in enumerate(G.elements):\n",
        "        # Initialize f(g) for this group element\n",
        "        value = 0\n",
        "        for irrep in G.irreps():\n",
        "            irrep_id = irrep.id\n",
        "            d_rho = irrep.size  # Dimension of the irrep\n",
        "            rho_g = irrep(g)  # Representation matrix of g\n",
        "            ft_rho = ft[irrep_id]  # Fourier coefficient for this irrep\n",
        "\n",
        "            # Add the contribution of this irrep to f(g)\n",
        "            value += d_rho * np.trace(ft_rho @ rho_g.conj().T)\n",
        "\n",
        "        # Normalize by the group size\n",
        "        f[i] = value / len(G.elements)\n",
        "\n",
        "    ########################\n",
        "\n",
        "    return f.real"
      ]
    },
    {
      "cell_type": "code",
      "source": [
        "# Define a random function on D8\n",
        "G = dihedral_group(8)\n",
        "f_original = np.random.rand(16)\n",
        "\n",
        "# Compute the Fourier Transform\n",
        "ft = fourier_transform_D8(f_original)\n",
        "\n",
        "# Compute the Inverse Fourier Transform\n",
        "f_reconstructed = inverse_fourier_transform_D8(ft)\n",
        "\n",
        "# Verify the reconstruction\n",
        "print(\"Original f:\", f_original)\n",
        "print(\"Reconstructed f:\", f_reconstructed)\n",
        "print(\"Difference:\", np.abs(f_original - f_reconstructed))\n"
      ],
      "metadata": {
        "colab": {
          "base_uri": "https://localhost:8080/"
        },
        "id": "Y9yWX19Yp7kP",
        "outputId": "5897c876-582f-4f0c-ff73-026b39599ce3"
      },
      "execution_count": null,
      "outputs": [
        {
          "output_type": "stream",
          "name": "stdout",
          "text": [
            "Original f: [0.498 0.915 0.213 0.705 0.99  0.204 0.154 0.164 0.964 0.927 0.207 0.755 0.052 0.863 0.701 0.341]\n",
            "Reconstructed f: [0.498 0.915 0.213 0.705 0.99  0.204 0.154 0.164 0.964 0.927 0.207 0.755 0.052 0.863 0.701 0.341]\n",
            "Difference: [0. 0. 0. 0. 0. 0. 0. 0. 0. 0. 0. 0. 0. 0. 0. 0.]\n"
          ]
        }
      ]
    },
    {
      "cell_type": "markdown",
      "metadata": {
        "id": "R3E0QDIOcQLo"
      },
      "source": [
        "We now want to verify that the **Fourier Transform** and the **Inverse Fourier Transform** are inverse of each other:"
      ]
    },
    {
      "cell_type": "code",
      "execution_count": null,
      "metadata": {
        "id": "OF6A_JzwcQLo"
      },
      "outputs": [],
      "source": [
        "f = np.random.randn(16)\n",
        "\n",
        "ft = fourier_transform_D8(f)\n",
        "\n",
        "new_f = inverse_fourier_transform_D8(ft)\n",
        "\n",
        "assert np.allclose(f, new_f)"
      ]
    },
    {
      "cell_type": "markdown",
      "metadata": {
        "id": "K5Dyf0j9cQLo"
      },
      "source": [
        "#### Parameterizing functions over infinite groups\n",
        "This allows us to also parameterize functions over infinite groups, such as $O(2)$, i.e. the group of all planar rotations and reflections."
      ]
    },
    {
      "cell_type": "code",
      "execution_count": null,
      "metadata": {
        "id": "I9ezRrM0cQLo"
      },
      "outputs": [],
      "source": [
        "G = o2_group()"
      ]
    },
    {
      "cell_type": "code",
      "execution_count": null,
      "metadata": {
        "id": "a_VzVXqUcQLo",
        "colab": {
          "base_uri": "https://localhost:8080/"
        },
        "outputId": "29ea8ef4-ccfe-4500-8616-61f51fadacdc"
      },
      "outputs": [
        {
          "output_type": "execute_result",
          "data": {
            "text/plain": [
              "-1"
            ]
          },
          "metadata": {},
          "execution_count": 45
        }
      ],
      "source": [
        "# the group has infinite many elements, so the `order` method just returns -1\n",
        "G.order()"
      ]
    },
    {
      "cell_type": "markdown",
      "metadata": {
        "id": "0to6C36EcQLp"
      },
      "source": [
        "The equations remain the same, but this group has an *infinite* number of *irreps*.\n",
        "We can, however, parameterize a function over the group by only considering a finite number of irreps in the sum inside the definition of *Inverse Fourier Transform*.\n",
        "Let $\\tilde{G} \\subset \\hat{G}$ be a finite subset of the irreps of $G$.\n",
        "We can then write the following transforms within the subspace of functions spanned only by the entries of the irreps in $\\tilde{G}$.\n",
        "\n",
        "**Inverse Fourier Transform**:\n",
        "$$ f(g) = \\sum_{\\rho_j \\in \\tilde{G}} \\sqrt{d_j} \\text{Tr}\\left(\\rho_j(g)^T \\hat{f}(\\rho_j)\\right) $$\n",
        "\n",
        "and **Fourier Transform**:\n",
        "$$ \\hat{f}(\\rho_j) = \\int_G f(g) \\sqrt{d_j} \\rho_j(g) dg \\ , $$\n"
      ]
    },
    {
      "cell_type": "markdown",
      "metadata": {
        "id": "ysGoKX7rcQLp"
      },
      "source": [
        "---\n",
        "\n",
        "#### QUESTION 5\n",
        "We can now implement the Inverse Fourier Transform for the Orthogonal Group $O(2)$.\n",
        "Since the group has infinite many elements, we can not store the values the function take on each element.\n",
        "Instead, we just sample the function on a particular element of the group:\n",
        "\n",
        "---"
      ]
    },
    {
      "cell_type": "code",
      "execution_count": null,
      "metadata": {
        "id": "xlca8Xv8cQLp"
      },
      "outputs": [],
      "source": [
        "def inverse_fourier_transform_O2(g: GroupElement, ft: dict):\n",
        "    # the method gets in input a dictionary mapping each irrep's `id` to the corresponding Fourier Transform\n",
        "    # and a group element `g`\n",
        "    # The method should return the value of the function evaluated on `g`.\n",
        "\n",
        "    G = o2_group()\n",
        "    f = 0\n",
        "\n",
        "    ########################\n",
        "    # INSERT YOUR CODE HERE:\n",
        "    for irrep_id, ft_matrix in ft.items():\n",
        "        # Retrieve the representation matrix rho_j(g) for the current irrep\n",
        "        rho_g = G.irrep(*irrep_id)(g)    # Assuming this method exists\n",
        "\n",
        "        # # Ensure rho_j(g) and ft_matrix have compatible dimensions\n",
        "        # assert rho_g.shape == ft_matrix.shape, \"Mismatched dimensions for rho_j(g) and Fourier coefficients.\"\n",
        "\n",
        "        # Calculate trace term: Tr(rho_j(g)^T @ ft_matrix)\n",
        "        trace_term = np.trace(rho_g.T @ ft_matrix)\n",
        "\n",
        "        # Calculate dimension scaling factor sqrt(d_j)\n",
        "        d_j = rho_g.shape[0]  # Dimension of the representation\n",
        "        scaling_factor = np.sqrt(d_j)\n",
        "\n",
        "        # Accumulate the result\n",
        "        f += scaling_factor * trace_term\n",
        "\n",
        "    ########################\n",
        "\n",
        "    return f"
      ]
    },
    {
      "cell_type": "markdown",
      "metadata": {
        "id": "U0JPQeYXcQLp"
      },
      "source": [
        "Let's plot a function.\n",
        "First we generate a random function by using a few irreps."
      ]
    },
    {
      "cell_type": "code",
      "execution_count": null,
      "metadata": {
        "id": "l8HxIbnDcQLp"
      },
      "outputs": [],
      "source": [
        "irreps = [G.irrep(0, 0)] + [G.irrep(1, j) for j in range(3)]\n",
        "\n",
        "ft = {\n",
        "    rho.id: np.random.randn(rho.size, rho.size)\n",
        "    for rho in irreps\n",
        "}"
      ]
    },
    {
      "cell_type": "markdown",
      "metadata": {
        "id": "uX-v7YNJcQLp"
      },
      "source": [
        "Then, we generate a grid on the group where to evaluate the function, i.e. we choose a finite set of element of $G$.\n",
        "Like the Dihedral group, $O(2)$ contains rotations (parameterized by an angle $\\theta \\in [0, 2\\pi)$) and a reflection followed by any rotation.\n",
        "For example:"
      ]
    },
    {
      "cell_type": "code",
      "execution_count": null,
      "metadata": {
        "id": "KFhO6jYecQLq",
        "colab": {
          "base_uri": "https://localhost:8080/"
        },
        "outputId": "d22c9ccd-2a6f-402e-9c86-0ee2d9e7725d"
      },
      "outputs": [
        {
          "output_type": "execute_result",
          "data": {
            "text/plain": [
              "(-, 6.227813140738003)"
            ]
          },
          "metadata": {},
          "execution_count": 48
        }
      ],
      "source": [
        "G.sample()"
      ]
    },
    {
      "cell_type": "markdown",
      "metadata": {
        "id": "wGREVzLKcQLq"
      },
      "source": [
        "To build our grid, we sample $100$ rotations and $100$ rotations preceeded by a reflection:"
      ]
    },
    {
      "cell_type": "code",
      "execution_count": null,
      "metadata": {
        "id": "xIcA1mfAcQLq"
      },
      "outputs": [],
      "source": [
        "N = 100\n",
        "thetas = [i*2*np.pi/N for i in range(N)]\n",
        "grid_rot = [G.element((0, theta)) for theta in thetas]\n",
        "grid_refl = [G.element((1, theta)) for theta in thetas]"
      ]
    },
    {
      "cell_type": "markdown",
      "metadata": {
        "id": "DCCVddnocQLq"
      },
      "source": [
        "We now evaluate the function over all these elements and, finally, plot it:"
      ]
    },
    {
      "cell_type": "code",
      "execution_count": null,
      "metadata": {
        "id": "ZsDDkSKOcQLq",
        "colab": {
          "base_uri": "https://localhost:8080/",
          "height": 436
        },
        "outputId": "0c597d8f-fa21-4207-9ccf-5fefb39cda8e"
      },
      "outputs": [
        {
          "output_type": "display_data",
          "data": {
            "text/plain": [
              "<Figure size 640x480 with 1 Axes>"
            ],
            "image/svg+xml": "<?xml version=\"1.0\" encoding=\"utf-8\" standalone=\"no\"?>\n<!DOCTYPE svg PUBLIC \"-//W3C//DTD SVG 1.1//EN\"\n  \"http://www.w3.org/Graphics/SVG/1.1/DTD/svg11.dtd\">\n<svg xmlns:xlink=\"http://www.w3.org/1999/xlink\" width=\"406.940312pt\" height=\"310.86825pt\" viewBox=\"0 0 406.940312 310.86825\" xmlns=\"http://www.w3.org/2000/svg\" version=\"1.1\">\n <metadata>\n  <rdf:RDF xmlns:dc=\"http://purl.org/dc/elements/1.1/\" xmlns:cc=\"http://creativecommons.org/ns#\" xmlns:rdf=\"http://www.w3.org/1999/02/22-rdf-syntax-ns#\">\n   <cc:Work>\n    <dc:type rdf:resource=\"http://purl.org/dc/dcmitype/StillImage\"/>\n    <dc:date>2025-01-09T12:19:56.229954</dc:date>\n    <dc:format>image/svg+xml</dc:format>\n    <dc:creator>\n     <cc:Agent>\n      <dc:title>Matplotlib v3.10.0, https://matplotlib.org/</dc:title>\n     </cc:Agent>\n    </dc:creator>\n   </cc:Work>\n  </rdf:RDF>\n </metadata>\n <defs>\n  <style type=\"text/css\">*{stroke-linejoin: round; stroke-linecap: butt}</style>\n </defs>\n <g id=\"figure_1\">\n  <g id=\"patch_1\">\n   <path d=\"M 0 310.86825 \nL 406.940312 310.86825 \nL 406.940312 0 \nL 0 0 \nz\n\" style=\"fill: #ffffff\"/>\n  </g>\n  <g id=\"axes_1\">\n   <g id=\"patch_2\">\n    <path d=\"M 42.620313 273.312 \nL 399.740313 273.312 \nL 399.740313 7.2 \nL 42.620313 7.2 \nz\n\" style=\"fill: #ffffff\"/>\n   </g>\n   <g id=\"matplotlib.axis_1\">\n    <g id=\"xtick_1\">\n     <g id=\"line2d_1\">\n      <defs>\n       <path id=\"m84ede7d90f\" d=\"M 0 0 \nL 0 3.5 \n\" style=\"stroke: #000000; stroke-width: 0.8\"/>\n      </defs>\n      <g>\n       <use xlink:href=\"#m84ede7d90f\" x=\"58.85304\" y=\"273.312\" style=\"stroke: #000000; stroke-width: 0.8\"/>\n      </g>\n     </g>\n     <g id=\"text_1\">\n      <!-- 0 -->\n      <g transform=\"translate(55.67179 287.910437) scale(0.1 -0.1)\">\n       <defs>\n        <path id=\"DejaVuSans-30\" d=\"M 2034 4250 \nQ 1547 4250 1301 3770 \nQ 1056 3291 1056 2328 \nQ 1056 1369 1301 889 \nQ 1547 409 2034 409 \nQ 2525 409 2770 889 \nQ 3016 1369 3016 2328 \nQ 3016 3291 2770 3770 \nQ 2525 4250 2034 4250 \nz\nM 2034 4750 \nQ 2819 4750 3233 4129 \nQ 3647 3509 3647 2328 \nQ 3647 1150 3233 529 \nQ 2819 -91 2034 -91 \nQ 1250 -91 836 529 \nQ 422 1150 422 2328 \nQ 422 3509 836 4129 \nQ 1250 4750 2034 4750 \nz\n\" transform=\"scale(0.015625)\"/>\n       </defs>\n       <use xlink:href=\"#DejaVuSans-30\"/>\n      </g>\n     </g>\n    </g>\n    <g id=\"xtick_2\">\n     <g id=\"line2d_2\">\n      <g>\n       <use xlink:href=\"#m84ede7d90f\" x=\"111.045338\" y=\"273.312\" style=\"stroke: #000000; stroke-width: 0.8\"/>\n      </g>\n     </g>\n     <g id=\"text_2\">\n      <!-- 1 -->\n      <g transform=\"translate(107.864088 287.910437) scale(0.1 -0.1)\">\n       <defs>\n        <path id=\"DejaVuSans-31\" d=\"M 794 531 \nL 1825 531 \nL 1825 4091 \nL 703 3866 \nL 703 4441 \nL 1819 4666 \nL 2450 4666 \nL 2450 531 \nL 3481 531 \nL 3481 0 \nL 794 0 \nL 794 531 \nz\n\" transform=\"scale(0.015625)\"/>\n       </defs>\n       <use xlink:href=\"#DejaVuSans-31\"/>\n      </g>\n     </g>\n    </g>\n    <g id=\"xtick_3\">\n     <g id=\"line2d_3\">\n      <g>\n       <use xlink:href=\"#m84ede7d90f\" x=\"163.237637\" y=\"273.312\" style=\"stroke: #000000; stroke-width: 0.8\"/>\n      </g>\n     </g>\n     <g id=\"text_3\">\n      <!-- 2 -->\n      <g transform=\"translate(160.056387 287.910437) scale(0.1 -0.1)\">\n       <defs>\n        <path id=\"DejaVuSans-32\" d=\"M 1228 531 \nL 3431 531 \nL 3431 0 \nL 469 0 \nL 469 531 \nQ 828 903 1448 1529 \nQ 2069 2156 2228 2338 \nQ 2531 2678 2651 2914 \nQ 2772 3150 2772 3378 \nQ 2772 3750 2511 3984 \nQ 2250 4219 1831 4219 \nQ 1534 4219 1204 4116 \nQ 875 4013 500 3803 \nL 500 4441 \nQ 881 4594 1212 4672 \nQ 1544 4750 1819 4750 \nQ 2544 4750 2975 4387 \nQ 3406 4025 3406 3419 \nQ 3406 3131 3298 2873 \nQ 3191 2616 2906 2266 \nQ 2828 2175 2409 1742 \nQ 1991 1309 1228 531 \nz\n\" transform=\"scale(0.015625)\"/>\n       </defs>\n       <use xlink:href=\"#DejaVuSans-32\"/>\n      </g>\n     </g>\n    </g>\n    <g id=\"xtick_4\">\n     <g id=\"line2d_4\">\n      <g>\n       <use xlink:href=\"#m84ede7d90f\" x=\"215.429936\" y=\"273.312\" style=\"stroke: #000000; stroke-width: 0.8\"/>\n      </g>\n     </g>\n     <g id=\"text_4\">\n      <!-- 3 -->\n      <g transform=\"translate(212.248686 287.910437) scale(0.1 -0.1)\">\n       <defs>\n        <path id=\"DejaVuSans-33\" d=\"M 2597 2516 \nQ 3050 2419 3304 2112 \nQ 3559 1806 3559 1356 \nQ 3559 666 3084 287 \nQ 2609 -91 1734 -91 \nQ 1441 -91 1130 -33 \nQ 819 25 488 141 \nL 488 750 \nQ 750 597 1062 519 \nQ 1375 441 1716 441 \nQ 2309 441 2620 675 \nQ 2931 909 2931 1356 \nQ 2931 1769 2642 2001 \nQ 2353 2234 1838 2234 \nL 1294 2234 \nL 1294 2753 \nL 1863 2753 \nQ 2328 2753 2575 2939 \nQ 2822 3125 2822 3475 \nQ 2822 3834 2567 4026 \nQ 2313 4219 1838 4219 \nQ 1578 4219 1281 4162 \nQ 984 4106 628 3988 \nL 628 4550 \nQ 988 4650 1302 4700 \nQ 1616 4750 1894 4750 \nQ 2613 4750 3031 4423 \nQ 3450 4097 3450 3541 \nQ 3450 3153 3228 2886 \nQ 3006 2619 2597 2516 \nz\n\" transform=\"scale(0.015625)\"/>\n       </defs>\n       <use xlink:href=\"#DejaVuSans-33\"/>\n      </g>\n     </g>\n    </g>\n    <g id=\"xtick_5\">\n     <g id=\"line2d_5\">\n      <g>\n       <use xlink:href=\"#m84ede7d90f\" x=\"267.622235\" y=\"273.312\" style=\"stroke: #000000; stroke-width: 0.8\"/>\n      </g>\n     </g>\n     <g id=\"text_5\">\n      <!-- 4 -->\n      <g transform=\"translate(264.440985 287.910437) scale(0.1 -0.1)\">\n       <defs>\n        <path id=\"DejaVuSans-34\" d=\"M 2419 4116 \nL 825 1625 \nL 2419 1625 \nL 2419 4116 \nz\nM 2253 4666 \nL 3047 4666 \nL 3047 1625 \nL 3713 1625 \nL 3713 1100 \nL 3047 1100 \nL 3047 0 \nL 2419 0 \nL 2419 1100 \nL 313 1100 \nL 313 1709 \nL 2253 4666 \nz\n\" transform=\"scale(0.015625)\"/>\n       </defs>\n       <use xlink:href=\"#DejaVuSans-34\"/>\n      </g>\n     </g>\n    </g>\n    <g id=\"xtick_6\">\n     <g id=\"line2d_6\">\n      <g>\n       <use xlink:href=\"#m84ede7d90f\" x=\"319.814533\" y=\"273.312\" style=\"stroke: #000000; stroke-width: 0.8\"/>\n      </g>\n     </g>\n     <g id=\"text_6\">\n      <!-- 5 -->\n      <g transform=\"translate(316.633283 287.910437) scale(0.1 -0.1)\">\n       <defs>\n        <path id=\"DejaVuSans-35\" d=\"M 691 4666 \nL 3169 4666 \nL 3169 4134 \nL 1269 4134 \nL 1269 2991 \nQ 1406 3038 1543 3061 \nQ 1681 3084 1819 3084 \nQ 2600 3084 3056 2656 \nQ 3513 2228 3513 1497 \nQ 3513 744 3044 326 \nQ 2575 -91 1722 -91 \nQ 1428 -91 1123 -41 \nQ 819 9 494 109 \nL 494 744 \nQ 775 591 1075 516 \nQ 1375 441 1709 441 \nQ 2250 441 2565 725 \nQ 2881 1009 2881 1497 \nQ 2881 1984 2565 2268 \nQ 2250 2553 1709 2553 \nQ 1456 2553 1204 2497 \nQ 953 2441 691 2322 \nL 691 4666 \nz\n\" transform=\"scale(0.015625)\"/>\n       </defs>\n       <use xlink:href=\"#DejaVuSans-35\"/>\n      </g>\n     </g>\n    </g>\n    <g id=\"xtick_7\">\n     <g id=\"line2d_7\">\n      <g>\n       <use xlink:href=\"#m84ede7d90f\" x=\"372.006832\" y=\"273.312\" style=\"stroke: #000000; stroke-width: 0.8\"/>\n      </g>\n     </g>\n     <g id=\"text_7\">\n      <!-- 6 -->\n      <g transform=\"translate(368.825582 287.910437) scale(0.1 -0.1)\">\n       <defs>\n        <path id=\"DejaVuSans-36\" d=\"M 2113 2584 \nQ 1688 2584 1439 2293 \nQ 1191 2003 1191 1497 \nQ 1191 994 1439 701 \nQ 1688 409 2113 409 \nQ 2538 409 2786 701 \nQ 3034 994 3034 1497 \nQ 3034 2003 2786 2293 \nQ 2538 2584 2113 2584 \nz\nM 3366 4563 \nL 3366 3988 \nQ 3128 4100 2886 4159 \nQ 2644 4219 2406 4219 \nQ 1781 4219 1451 3797 \nQ 1122 3375 1075 2522 \nQ 1259 2794 1537 2939 \nQ 1816 3084 2150 3084 \nQ 2853 3084 3261 2657 \nQ 3669 2231 3669 1497 \nQ 3669 778 3244 343 \nQ 2819 -91 2113 -91 \nQ 1303 -91 875 529 \nQ 447 1150 447 2328 \nQ 447 3434 972 4092 \nQ 1497 4750 2381 4750 \nQ 2619 4750 2861 4703 \nQ 3103 4656 3366 4563 \nz\n\" transform=\"scale(0.015625)\"/>\n       </defs>\n       <use xlink:href=\"#DejaVuSans-36\"/>\n      </g>\n     </g>\n    </g>\n    <g id=\"text_8\">\n     <!-- theta [0, 2pi) -->\n     <g transform=\"translate(188.356094 301.588562) scale(0.1 -0.1)\">\n      <defs>\n       <path id=\"DejaVuSans-74\" d=\"M 1172 4494 \nL 1172 3500 \nL 2356 3500 \nL 2356 3053 \nL 1172 3053 \nL 1172 1153 \nQ 1172 725 1289 603 \nQ 1406 481 1766 481 \nL 2356 481 \nL 2356 0 \nL 1766 0 \nQ 1100 0 847 248 \nQ 594 497 594 1153 \nL 594 3053 \nL 172 3053 \nL 172 3500 \nL 594 3500 \nL 594 4494 \nL 1172 4494 \nz\n\" transform=\"scale(0.015625)\"/>\n       <path id=\"DejaVuSans-68\" d=\"M 3513 2113 \nL 3513 0 \nL 2938 0 \nL 2938 2094 \nQ 2938 2591 2744 2837 \nQ 2550 3084 2163 3084 \nQ 1697 3084 1428 2787 \nQ 1159 2491 1159 1978 \nL 1159 0 \nL 581 0 \nL 581 4863 \nL 1159 4863 \nL 1159 2956 \nQ 1366 3272 1645 3428 \nQ 1925 3584 2291 3584 \nQ 2894 3584 3203 3211 \nQ 3513 2838 3513 2113 \nz\n\" transform=\"scale(0.015625)\"/>\n       <path id=\"DejaVuSans-65\" d=\"M 3597 1894 \nL 3597 1613 \nL 953 1613 \nQ 991 1019 1311 708 \nQ 1631 397 2203 397 \nQ 2534 397 2845 478 \nQ 3156 559 3463 722 \nL 3463 178 \nQ 3153 47 2828 -22 \nQ 2503 -91 2169 -91 \nQ 1331 -91 842 396 \nQ 353 884 353 1716 \nQ 353 2575 817 3079 \nQ 1281 3584 2069 3584 \nQ 2775 3584 3186 3129 \nQ 3597 2675 3597 1894 \nz\nM 3022 2063 \nQ 3016 2534 2758 2815 \nQ 2500 3097 2075 3097 \nQ 1594 3097 1305 2825 \nQ 1016 2553 972 2059 \nL 3022 2063 \nz\n\" transform=\"scale(0.015625)\"/>\n       <path id=\"DejaVuSans-61\" d=\"M 2194 1759 \nQ 1497 1759 1228 1600 \nQ 959 1441 959 1056 \nQ 959 750 1161 570 \nQ 1363 391 1709 391 \nQ 2188 391 2477 730 \nQ 2766 1069 2766 1631 \nL 2766 1759 \nL 2194 1759 \nz\nM 3341 1997 \nL 3341 0 \nL 2766 0 \nL 2766 531 \nQ 2569 213 2275 61 \nQ 1981 -91 1556 -91 \nQ 1019 -91 701 211 \nQ 384 513 384 1019 \nQ 384 1609 779 1909 \nQ 1175 2209 1959 2209 \nL 2766 2209 \nL 2766 2266 \nQ 2766 2663 2505 2880 \nQ 2244 3097 1772 3097 \nQ 1472 3097 1187 3025 \nQ 903 2953 641 2809 \nL 641 3341 \nQ 956 3463 1253 3523 \nQ 1550 3584 1831 3584 \nQ 2591 3584 2966 3190 \nQ 3341 2797 3341 1997 \nz\n\" transform=\"scale(0.015625)\"/>\n       <path id=\"DejaVuSans-20\" transform=\"scale(0.015625)\"/>\n       <path id=\"DejaVuSans-5b\" d=\"M 550 4863 \nL 1875 4863 \nL 1875 4416 \nL 1125 4416 \nL 1125 -397 \nL 1875 -397 \nL 1875 -844 \nL 550 -844 \nL 550 4863 \nz\n\" transform=\"scale(0.015625)\"/>\n       <path id=\"DejaVuSans-2c\" d=\"M 750 794 \nL 1409 794 \nL 1409 256 \nL 897 -744 \nL 494 -744 \nL 750 256 \nL 750 794 \nz\n\" transform=\"scale(0.015625)\"/>\n       <path id=\"DejaVuSans-70\" d=\"M 1159 525 \nL 1159 -1331 \nL 581 -1331 \nL 581 3500 \nL 1159 3500 \nL 1159 2969 \nQ 1341 3281 1617 3432 \nQ 1894 3584 2278 3584 \nQ 2916 3584 3314 3078 \nQ 3713 2572 3713 1747 \nQ 3713 922 3314 415 \nQ 2916 -91 2278 -91 \nQ 1894 -91 1617 61 \nQ 1341 213 1159 525 \nz\nM 3116 1747 \nQ 3116 2381 2855 2742 \nQ 2594 3103 2138 3103 \nQ 1681 3103 1420 2742 \nQ 1159 2381 1159 1747 \nQ 1159 1113 1420 752 \nQ 1681 391 2138 391 \nQ 2594 391 2855 752 \nQ 3116 1113 3116 1747 \nz\n\" transform=\"scale(0.015625)\"/>\n       <path id=\"DejaVuSans-69\" d=\"M 603 3500 \nL 1178 3500 \nL 1178 0 \nL 603 0 \nL 603 3500 \nz\nM 603 4863 \nL 1178 4863 \nL 1178 4134 \nL 603 4134 \nL 603 4863 \nz\n\" transform=\"scale(0.015625)\"/>\n       <path id=\"DejaVuSans-29\" d=\"M 513 4856 \nL 1013 4856 \nQ 1481 4119 1714 3412 \nQ 1947 2706 1947 2009 \nQ 1947 1309 1714 600 \nQ 1481 -109 1013 -844 \nL 513 -844 \nQ 928 -128 1133 580 \nQ 1338 1288 1338 2009 \nQ 1338 2731 1133 3434 \nQ 928 4138 513 4856 \nz\n\" transform=\"scale(0.015625)\"/>\n      </defs>\n      <use xlink:href=\"#DejaVuSans-74\"/>\n      <use xlink:href=\"#DejaVuSans-68\" transform=\"translate(39.208984 0)\"/>\n      <use xlink:href=\"#DejaVuSans-65\" transform=\"translate(102.587891 0)\"/>\n      <use xlink:href=\"#DejaVuSans-74\" transform=\"translate(164.111328 0)\"/>\n      <use xlink:href=\"#DejaVuSans-61\" transform=\"translate(203.320312 0)\"/>\n      <use xlink:href=\"#DejaVuSans-20\" transform=\"translate(264.599609 0)\"/>\n      <use xlink:href=\"#DejaVuSans-5b\" transform=\"translate(296.386719 0)\"/>\n      <use xlink:href=\"#DejaVuSans-30\" transform=\"translate(335.400391 0)\"/>\n      <use xlink:href=\"#DejaVuSans-2c\" transform=\"translate(399.023438 0)\"/>\n      <use xlink:href=\"#DejaVuSans-20\" transform=\"translate(430.810547 0)\"/>\n      <use xlink:href=\"#DejaVuSans-32\" transform=\"translate(462.597656 0)\"/>\n      <use xlink:href=\"#DejaVuSans-70\" transform=\"translate(526.220703 0)\"/>\n      <use xlink:href=\"#DejaVuSans-69\" transform=\"translate(589.697266 0)\"/>\n      <use xlink:href=\"#DejaVuSans-29\" transform=\"translate(617.480469 0)\"/>\n     </g>\n    </g>\n   </g>\n   <g id=\"matplotlib.axis_2\">\n    <g id=\"ytick_1\">\n     <g id=\"line2d_8\">\n      <defs>\n       <path id=\"m3a601b917e\" d=\"M 0 0 \nL -3.5 0 \n\" style=\"stroke: #000000; stroke-width: 0.8\"/>\n      </defs>\n      <g>\n       <use xlink:href=\"#m3a601b917e\" x=\"42.620313\" y=\"252.748629\" style=\"stroke: #000000; stroke-width: 0.8\"/>\n      </g>\n     </g>\n     <g id=\"text_9\">\n      <!-- −5 -->\n      <g transform=\"translate(20.878125 256.547848) scale(0.1 -0.1)\">\n       <defs>\n        <path id=\"DejaVuSans-2212\" d=\"M 678 2272 \nL 4684 2272 \nL 4684 1741 \nL 678 1741 \nL 678 2272 \nz\n\" transform=\"scale(0.015625)\"/>\n       </defs>\n       <use xlink:href=\"#DejaVuSans-2212\"/>\n       <use xlink:href=\"#DejaVuSans-35\" transform=\"translate(83.789062 0)\"/>\n      </g>\n     </g>\n    </g>\n    <g id=\"ytick_2\">\n     <g id=\"line2d_9\">\n      <g>\n       <use xlink:href=\"#m3a601b917e\" x=\"42.620313\" y=\"216.556966\" style=\"stroke: #000000; stroke-width: 0.8\"/>\n      </g>\n     </g>\n     <g id=\"text_10\">\n      <!-- −4 -->\n      <g transform=\"translate(20.878125 220.356185) scale(0.1 -0.1)\">\n       <use xlink:href=\"#DejaVuSans-2212\"/>\n       <use xlink:href=\"#DejaVuSans-34\" transform=\"translate(83.789062 0)\"/>\n      </g>\n     </g>\n    </g>\n    <g id=\"ytick_3\">\n     <g id=\"line2d_10\">\n      <g>\n       <use xlink:href=\"#m3a601b917e\" x=\"42.620313\" y=\"180.365302\" style=\"stroke: #000000; stroke-width: 0.8\"/>\n      </g>\n     </g>\n     <g id=\"text_11\">\n      <!-- −3 -->\n      <g transform=\"translate(20.878125 184.164521) scale(0.1 -0.1)\">\n       <use xlink:href=\"#DejaVuSans-2212\"/>\n       <use xlink:href=\"#DejaVuSans-33\" transform=\"translate(83.789062 0)\"/>\n      </g>\n     </g>\n    </g>\n    <g id=\"ytick_4\">\n     <g id=\"line2d_11\">\n      <g>\n       <use xlink:href=\"#m3a601b917e\" x=\"42.620313\" y=\"144.173639\" style=\"stroke: #000000; stroke-width: 0.8\"/>\n      </g>\n     </g>\n     <g id=\"text_12\">\n      <!-- −2 -->\n      <g transform=\"translate(20.878125 147.972858) scale(0.1 -0.1)\">\n       <use xlink:href=\"#DejaVuSans-2212\"/>\n       <use xlink:href=\"#DejaVuSans-32\" transform=\"translate(83.789062 0)\"/>\n      </g>\n     </g>\n    </g>\n    <g id=\"ytick_5\">\n     <g id=\"line2d_12\">\n      <g>\n       <use xlink:href=\"#m3a601b917e\" x=\"42.620313\" y=\"107.981976\" style=\"stroke: #000000; stroke-width: 0.8\"/>\n      </g>\n     </g>\n     <g id=\"text_13\">\n      <!-- −1 -->\n      <g transform=\"translate(20.878125 111.781195) scale(0.1 -0.1)\">\n       <use xlink:href=\"#DejaVuSans-2212\"/>\n       <use xlink:href=\"#DejaVuSans-31\" transform=\"translate(83.789062 0)\"/>\n      </g>\n     </g>\n    </g>\n    <g id=\"ytick_6\">\n     <g id=\"line2d_13\">\n      <g>\n       <use xlink:href=\"#m3a601b917e\" x=\"42.620313\" y=\"71.790312\" style=\"stroke: #000000; stroke-width: 0.8\"/>\n      </g>\n     </g>\n     <g id=\"text_14\">\n      <!-- 0 -->\n      <g transform=\"translate(29.257813 75.589531) scale(0.1 -0.1)\">\n       <use xlink:href=\"#DejaVuSans-30\"/>\n      </g>\n     </g>\n    </g>\n    <g id=\"ytick_7\">\n     <g id=\"line2d_14\">\n      <g>\n       <use xlink:href=\"#m3a601b917e\" x=\"42.620313\" y=\"35.598649\" style=\"stroke: #000000; stroke-width: 0.8\"/>\n      </g>\n     </g>\n     <g id=\"text_15\">\n      <!-- 1 -->\n      <g transform=\"translate(29.257813 39.397868) scale(0.1 -0.1)\">\n       <use xlink:href=\"#DejaVuSans-31\"/>\n      </g>\n     </g>\n    </g>\n    <g id=\"text_16\">\n     <!-- f(g) -->\n     <g transform=\"translate(14.798438 149.091937) rotate(-90) scale(0.1 -0.1)\">\n      <defs>\n       <path id=\"DejaVuSans-66\" d=\"M 2375 4863 \nL 2375 4384 \nL 1825 4384 \nQ 1516 4384 1395 4259 \nQ 1275 4134 1275 3809 \nL 1275 3500 \nL 2222 3500 \nL 2222 3053 \nL 1275 3053 \nL 1275 0 \nL 697 0 \nL 697 3053 \nL 147 3053 \nL 147 3500 \nL 697 3500 \nL 697 3744 \nQ 697 4328 969 4595 \nQ 1241 4863 1831 4863 \nL 2375 4863 \nz\n\" transform=\"scale(0.015625)\"/>\n       <path id=\"DejaVuSans-28\" d=\"M 1984 4856 \nQ 1566 4138 1362 3434 \nQ 1159 2731 1159 2009 \nQ 1159 1288 1364 580 \nQ 1569 -128 1984 -844 \nL 1484 -844 \nQ 1016 -109 783 600 \nQ 550 1309 550 2009 \nQ 550 2706 781 3412 \nQ 1013 4119 1484 4856 \nL 1984 4856 \nz\n\" transform=\"scale(0.015625)\"/>\n       <path id=\"DejaVuSans-67\" d=\"M 2906 1791 \nQ 2906 2416 2648 2759 \nQ 2391 3103 1925 3103 \nQ 1463 3103 1205 2759 \nQ 947 2416 947 1791 \nQ 947 1169 1205 825 \nQ 1463 481 1925 481 \nQ 2391 481 2648 825 \nQ 2906 1169 2906 1791 \nz\nM 3481 434 \nQ 3481 -459 3084 -895 \nQ 2688 -1331 1869 -1331 \nQ 1566 -1331 1297 -1286 \nQ 1028 -1241 775 -1147 \nL 775 -588 \nQ 1028 -725 1275 -790 \nQ 1522 -856 1778 -856 \nQ 2344 -856 2625 -561 \nQ 2906 -266 2906 331 \nL 2906 616 \nQ 2728 306 2450 153 \nQ 2172 0 1784 0 \nQ 1141 0 747 490 \nQ 353 981 353 1791 \nQ 353 2603 747 3093 \nQ 1141 3584 1784 3584 \nQ 2172 3584 2450 3431 \nQ 2728 3278 2906 2969 \nL 2906 3500 \nL 3481 3500 \nL 3481 434 \nz\n\" transform=\"scale(0.015625)\"/>\n      </defs>\n      <use xlink:href=\"#DejaVuSans-66\"/>\n      <use xlink:href=\"#DejaVuSans-28\" transform=\"translate(35.205078 0)\"/>\n      <use xlink:href=\"#DejaVuSans-67\" transform=\"translate(74.21875 0)\"/>\n      <use xlink:href=\"#DejaVuSans-29\" transform=\"translate(137.695312 0)\"/>\n     </g>\n    </g>\n   </g>\n   <g id=\"line2d_15\">\n    <path d=\"M 58.85304 83.509509 \nL 62.132379 81.988671 \nL 65.411717 80.627826 \nL 68.691056 79.384513 \nL 71.970395 78.217026 \nL 75.249734 77.085319 \nL 78.529073 75.951864 \nL 81.808412 74.782464 \nL 85.087751 73.546996 \nL 88.367089 72.220081 \nL 91.646428 70.781655 \nL 94.925767 69.217455 \nL 98.205106 67.519383 \nL 101.484445 65.685767 \nL 104.763784 63.7215 \nL 108.043122 61.638054 \nL 111.322461 59.453379 \nL 114.6018 57.191678 \nL 117.881139 54.883066 \nL 121.160478 52.563117 \nL 124.439817 50.272305 \nL 127.719155 48.055352 \nL 130.998494 45.960489 \nL 134.277833 44.038641 \nL 137.557172 42.342554 \nL 140.836511 40.925877 \nL 144.11585 39.842207 \nL 147.395189 39.14412 \nL 150.674527 38.882204 \nL 153.953866 39.104104 \nL 157.233205 39.8536 \nL 160.512544 41.169727 \nL 163.791883 43.085961 \nL 167.071222 45.629478 \nL 170.35056 48.820495 \nL 173.629899 52.671719 \nL 176.909238 57.187891 \nL 180.188577 62.365458 \nL 183.467916 68.19236 \nL 186.747255 74.647947 \nL 190.026593 81.703019 \nL 193.305932 89.320006 \nL 196.585271 97.453266 \nL 199.86461 106.049511 \nL 203.143949 115.048355 \nL 206.423288 124.382963 \nL 209.702627 133.980815 \nL 212.981965 143.764552 \nL 216.261304 153.652903 \nL 219.540643 163.561683 \nL 222.819982 173.40483 \nL 226.099321 183.095494 \nL 229.37866 192.547129 \nL 232.657998 201.674601 \nL 235.937337 210.395277 \nL 239.216676 218.630085 \nL 242.496015 226.304532 \nL 245.775354 233.349662 \nL 249.054693 239.702931 \nL 252.334032 245.309011 \nL 255.61337 250.120478 \nL 258.892709 254.098402 \nL 262.172048 257.212813 \nL 265.451387 259.443048 \nL 268.730726 260.777959 \nL 272.010065 261.216 \nL 275.289403 260.765169 \nL 278.568742 259.442826 \nL 281.848081 257.27538 \nL 285.12742 254.297846 \nL 288.406759 250.553294 \nL 291.686098 246.092185 \nL 294.965436 240.971604 \nL 298.244775 235.254418 \nL 301.524114 229.008352 \nL 304.803453 222.305012 \nL 308.082792 215.218857 \nL 311.362131 207.826154 \nL 314.64147 200.203911 \nL 317.920808 192.428822 \nL 321.200147 184.576226 \nL 324.479486 176.719106 \nL 327.758825 168.927142 \nL 331.038164 161.265824 \nL 334.317503 153.795642 \nL 337.596841 146.571377 \nL 340.87618 139.641482 \nL 344.155519 133.047575 \nL 347.434858 126.824053 \nL 350.714197 120.997823 \nL 353.993536 115.588156 \nL 357.272874 110.606676 \nL 360.552213 106.05746 \nL 363.831552 101.937272 \nL 367.110891 98.235912 \nL 370.39023 94.936667 \nL 373.669569 92.016877 \nL 376.948908 89.448585 \nL 380.228246 87.199267 \nL 383.507585 85.23264 \n\" clip-path=\"url(#p7b4b820092)\" style=\"fill: none; stroke: #1f77b4; stroke-width: 2; stroke-linecap: square\"/>\n   </g>\n   <g id=\"line2d_16\">\n    <path d=\"M 58.85304 29.421732 \nL 62.132379 30.777515 \nL 65.411717 32.154927 \nL 68.691056 33.551276 \nL 71.970395 34.96663 \nL 75.249734 36.403739 \nL 78.529073 37.867883 \nL 81.808412 39.366686 \nL 85.087751 40.909869 \nL 88.367089 42.50897 \nL 91.646428 44.177016 \nL 94.925767 45.92817 \nL 98.205106 47.777345 \nL 101.484445 49.739804 \nL 104.763784 51.830742 \nL 108.043122 54.064864 \nL 111.322461 56.455967 \nL 114.6018 59.016525 \nL 117.881139 61.757301 \nL 121.160478 64.686967 \nL 124.439817 67.811768 \nL 127.719155 71.135217 \nL 130.998494 74.657826 \nL 134.277833 78.376896 \nL 137.557172 82.286345 \nL 140.836511 86.3766 \nL 144.11585 90.63454 \nL 147.395189 95.043503 \nL 150.674527 99.583347 \nL 153.953866 104.230574 \nL 157.233205 108.958511 \nL 160.512544 113.737544 \nL 163.791883 118.535413 \nL 167.071222 123.317544 \nL 170.35056 128.047439 \nL 173.629899 132.687091 \nL 176.909238 137.197445 \nL 180.188577 141.538875 \nL 183.467916 145.671687 \nL 186.747255 149.556632 \nL 190.026593 153.15542 \nL 193.305932 156.431235 \nL 196.585271 159.349235 \nL 199.86461 161.877041 \nL 203.143949 163.985184 \nL 206.423288 165.647538 \nL 209.702627 166.841699 \nL 212.981965 167.549324 \nL 216.261304 167.756418 \nL 219.540643 167.453569 \nL 222.819982 166.636115 \nL 226.099321 165.304262 \nL 229.37866 163.463123 \nL 232.657998 161.122707 \nL 235.937337 158.297831 \nL 239.216676 155.007976 \nL 242.496015 151.277081 \nL 245.775354 147.13327 \nL 249.054693 142.608534 \nL 252.334032 137.738357 \nL 255.61337 132.561299 \nL 258.892709 127.118536 \nL 262.172048 121.453373 \nL 265.451387 115.610729 \nL 268.730726 109.6366 \nL 272.010065 103.577523 \nL 275.289403 97.480022 \nL 278.568742 91.390075 \nL 281.848081 85.35258 \nL 285.12742 79.410856 \nL 288.406759 73.606159 \nL 291.686098 67.977241 \nL 294.965436 62.559948 \nL 298.244775 57.38686 \nL 301.524114 52.486988 \nL 304.803453 47.885527 \nL 308.082792 43.603658 \nL 311.362131 39.658421 \nL 314.64147 36.062645 \nL 317.920808 32.82494 \nL 321.200147 29.949749 \nL 324.479486 27.437466 \nL 327.758825 25.284606 \nL 331.038164 23.484027 \nL 334.317503 22.025208 \nL 337.596841 20.894568 \nL 340.87618 20.075824 \nL 344.155519 19.550382 \nL 347.434858 19.297755 \nL 350.714197 19.296 \nL 353.993536 19.522167 \nL 357.272874 19.952751 \nL 360.552213 20.564139 \nL 363.831552 21.333053 \nL 367.110891 22.236968 \nL 370.39023 23.254509 \nL 373.669569 24.365818 \nL 376.948908 25.552877 \nL 380.228246 26.799801 \nL 383.507585 28.093072 \n\" clip-path=\"url(#p7b4b820092)\" style=\"fill: none; stroke: #ff7f0e; stroke-width: 2; stroke-linecap: square\"/>\n   </g>\n   <g id=\"patch_3\">\n    <path d=\"M 42.620313 273.312 \nL 42.620313 7.2 \n\" style=\"fill: none; stroke: #000000; stroke-width: 0.8; stroke-linejoin: miter; stroke-linecap: square\"/>\n   </g>\n   <g id=\"patch_4\">\n    <path d=\"M 399.740313 273.312 \nL 399.740313 7.2 \n\" style=\"fill: none; stroke: #000000; stroke-width: 0.8; stroke-linejoin: miter; stroke-linecap: square\"/>\n   </g>\n   <g id=\"patch_5\">\n    <path d=\"M 42.620313 273.312 \nL 399.740313 273.312 \n\" style=\"fill: none; stroke: #000000; stroke-width: 0.8; stroke-linejoin: miter; stroke-linecap: square\"/>\n   </g>\n   <g id=\"patch_6\">\n    <path d=\"M 42.620313 7.2 \nL 399.740313 7.2 \n\" style=\"fill: none; stroke: #000000; stroke-width: 0.8; stroke-linejoin: miter; stroke-linecap: square\"/>\n   </g>\n   <g id=\"legend_1\">\n    <g id=\"patch_7\">\n     <path d=\"M 49.620313 268.312 \nL 187.917188 268.312 \nQ 189.917188 268.312 189.917188 266.312 \nL 189.917188 237.95575 \nQ 189.917188 235.95575 187.917188 235.95575 \nL 49.620313 235.95575 \nQ 47.620313 235.95575 47.620313 237.95575 \nL 47.620313 266.312 \nQ 47.620313 268.312 49.620313 268.312 \nz\n\" style=\"fill: #ffffff; opacity: 0.8; stroke: #cccccc; stroke-linejoin: miter\"/>\n    </g>\n    <g id=\"line2d_17\">\n     <path d=\"M 51.620313 244.054187 \nL 61.620313 244.054187 \nL 71.620313 244.054187 \n\" style=\"fill: none; stroke: #1f77b4; stroke-width: 2; stroke-linecap: square\"/>\n    </g>\n    <g id=\"text_17\">\n     <!-- rotations -->\n     <g transform=\"translate(79.620313 247.554187) scale(0.1 -0.1)\">\n      <defs>\n       <path id=\"DejaVuSans-72\" d=\"M 2631 2963 \nQ 2534 3019 2420 3045 \nQ 2306 3072 2169 3072 \nQ 1681 3072 1420 2755 \nQ 1159 2438 1159 1844 \nL 1159 0 \nL 581 0 \nL 581 3500 \nL 1159 3500 \nL 1159 2956 \nQ 1341 3275 1631 3429 \nQ 1922 3584 2338 3584 \nQ 2397 3584 2469 3576 \nQ 2541 3569 2628 3553 \nL 2631 2963 \nz\n\" transform=\"scale(0.015625)\"/>\n       <path id=\"DejaVuSans-6f\" d=\"M 1959 3097 \nQ 1497 3097 1228 2736 \nQ 959 2375 959 1747 \nQ 959 1119 1226 758 \nQ 1494 397 1959 397 \nQ 2419 397 2687 759 \nQ 2956 1122 2956 1747 \nQ 2956 2369 2687 2733 \nQ 2419 3097 1959 3097 \nz\nM 1959 3584 \nQ 2709 3584 3137 3096 \nQ 3566 2609 3566 1747 \nQ 3566 888 3137 398 \nQ 2709 -91 1959 -91 \nQ 1206 -91 779 398 \nQ 353 888 353 1747 \nQ 353 2609 779 3096 \nQ 1206 3584 1959 3584 \nz\n\" transform=\"scale(0.015625)\"/>\n       <path id=\"DejaVuSans-6e\" d=\"M 3513 2113 \nL 3513 0 \nL 2938 0 \nL 2938 2094 \nQ 2938 2591 2744 2837 \nQ 2550 3084 2163 3084 \nQ 1697 3084 1428 2787 \nQ 1159 2491 1159 1978 \nL 1159 0 \nL 581 0 \nL 581 3500 \nL 1159 3500 \nL 1159 2956 \nQ 1366 3272 1645 3428 \nQ 1925 3584 2291 3584 \nQ 2894 3584 3203 3211 \nQ 3513 2838 3513 2113 \nz\n\" transform=\"scale(0.015625)\"/>\n       <path id=\"DejaVuSans-73\" d=\"M 2834 3397 \nL 2834 2853 \nQ 2591 2978 2328 3040 \nQ 2066 3103 1784 3103 \nQ 1356 3103 1142 2972 \nQ 928 2841 928 2578 \nQ 928 2378 1081 2264 \nQ 1234 2150 1697 2047 \nL 1894 2003 \nQ 2506 1872 2764 1633 \nQ 3022 1394 3022 966 \nQ 3022 478 2636 193 \nQ 2250 -91 1575 -91 \nQ 1294 -91 989 -36 \nQ 684 19 347 128 \nL 347 722 \nQ 666 556 975 473 \nQ 1284 391 1588 391 \nQ 1994 391 2212 530 \nQ 2431 669 2431 922 \nQ 2431 1156 2273 1281 \nQ 2116 1406 1581 1522 \nL 1381 1569 \nQ 847 1681 609 1914 \nQ 372 2147 372 2553 \nQ 372 3047 722 3315 \nQ 1072 3584 1716 3584 \nQ 2034 3584 2315 3537 \nQ 2597 3491 2834 3397 \nz\n\" transform=\"scale(0.015625)\"/>\n      </defs>\n      <use xlink:href=\"#DejaVuSans-72\"/>\n      <use xlink:href=\"#DejaVuSans-6f\" transform=\"translate(38.863281 0)\"/>\n      <use xlink:href=\"#DejaVuSans-74\" transform=\"translate(100.044922 0)\"/>\n      <use xlink:href=\"#DejaVuSans-61\" transform=\"translate(139.253906 0)\"/>\n      <use xlink:href=\"#DejaVuSans-74\" transform=\"translate(200.533203 0)\"/>\n      <use xlink:href=\"#DejaVuSans-69\" transform=\"translate(239.742188 0)\"/>\n      <use xlink:href=\"#DejaVuSans-6f\" transform=\"translate(267.525391 0)\"/>\n      <use xlink:href=\"#DejaVuSans-6e\" transform=\"translate(328.707031 0)\"/>\n      <use xlink:href=\"#DejaVuSans-73\" transform=\"translate(392.085938 0)\"/>\n     </g>\n    </g>\n    <g id=\"line2d_18\">\n     <path d=\"M 51.620313 258.732312 \nL 61.620313 258.732312 \nL 71.620313 258.732312 \n\" style=\"fill: none; stroke: #ff7f0e; stroke-width: 2; stroke-linecap: square\"/>\n    </g>\n    <g id=\"text_18\">\n     <!-- reflection + rotations -->\n     <g transform=\"translate(79.620313 262.232312) scale(0.1 -0.1)\">\n      <defs>\n       <path id=\"DejaVuSans-6c\" d=\"M 603 4863 \nL 1178 4863 \nL 1178 0 \nL 603 0 \nL 603 4863 \nz\n\" transform=\"scale(0.015625)\"/>\n       <path id=\"DejaVuSans-63\" d=\"M 3122 3366 \nL 3122 2828 \nQ 2878 2963 2633 3030 \nQ 2388 3097 2138 3097 \nQ 1578 3097 1268 2742 \nQ 959 2388 959 1747 \nQ 959 1106 1268 751 \nQ 1578 397 2138 397 \nQ 2388 397 2633 464 \nQ 2878 531 3122 666 \nL 3122 134 \nQ 2881 22 2623 -34 \nQ 2366 -91 2075 -91 \nQ 1284 -91 818 406 \nQ 353 903 353 1747 \nQ 353 2603 823 3093 \nQ 1294 3584 2113 3584 \nQ 2378 3584 2631 3529 \nQ 2884 3475 3122 3366 \nz\n\" transform=\"scale(0.015625)\"/>\n       <path id=\"DejaVuSans-2b\" d=\"M 2944 4013 \nL 2944 2272 \nL 4684 2272 \nL 4684 1741 \nL 2944 1741 \nL 2944 0 \nL 2419 0 \nL 2419 1741 \nL 678 1741 \nL 678 2272 \nL 2419 2272 \nL 2419 4013 \nL 2944 4013 \nz\n\" transform=\"scale(0.015625)\"/>\n      </defs>\n      <use xlink:href=\"#DejaVuSans-72\"/>\n      <use xlink:href=\"#DejaVuSans-65\" transform=\"translate(38.863281 0)\"/>\n      <use xlink:href=\"#DejaVuSans-66\" transform=\"translate(100.386719 0)\"/>\n      <use xlink:href=\"#DejaVuSans-6c\" transform=\"translate(135.591797 0)\"/>\n      <use xlink:href=\"#DejaVuSans-65\" transform=\"translate(163.375 0)\"/>\n      <use xlink:href=\"#DejaVuSans-63\" transform=\"translate(224.898438 0)\"/>\n      <use xlink:href=\"#DejaVuSans-74\" transform=\"translate(279.878906 0)\"/>\n      <use xlink:href=\"#DejaVuSans-69\" transform=\"translate(319.087891 0)\"/>\n      <use xlink:href=\"#DejaVuSans-6f\" transform=\"translate(346.871094 0)\"/>\n      <use xlink:href=\"#DejaVuSans-6e\" transform=\"translate(408.052734 0)\"/>\n      <use xlink:href=\"#DejaVuSans-20\" transform=\"translate(471.431641 0)\"/>\n      <use xlink:href=\"#DejaVuSans-2b\" transform=\"translate(503.21875 0)\"/>\n      <use xlink:href=\"#DejaVuSans-20\" transform=\"translate(587.007812 0)\"/>\n      <use xlink:href=\"#DejaVuSans-72\" transform=\"translate(618.794922 0)\"/>\n      <use xlink:href=\"#DejaVuSans-6f\" transform=\"translate(657.658203 0)\"/>\n      <use xlink:href=\"#DejaVuSans-74\" transform=\"translate(718.839844 0)\"/>\n      <use xlink:href=\"#DejaVuSans-61\" transform=\"translate(758.048828 0)\"/>\n      <use xlink:href=\"#DejaVuSans-74\" transform=\"translate(819.328125 0)\"/>\n      <use xlink:href=\"#DejaVuSans-69\" transform=\"translate(858.537109 0)\"/>\n      <use xlink:href=\"#DejaVuSans-6f\" transform=\"translate(886.320312 0)\"/>\n      <use xlink:href=\"#DejaVuSans-6e\" transform=\"translate(947.501953 0)\"/>\n      <use xlink:href=\"#DejaVuSans-73\" transform=\"translate(1010.880859 0)\"/>\n     </g>\n    </g>\n   </g>\n  </g>\n </g>\n <defs>\n  <clipPath id=\"p7b4b820092\">\n   <rect x=\"42.620313\" y=\"7.2\" width=\"357.12\" height=\"266.112\"/>\n  </clipPath>\n </defs>\n</svg>\n",
            "application/pdf": "[encoded data removed]"
          },
          "metadata": {}
        }
      ],
      "source": [
        "f_rot = [\n",
        "    inverse_fourier_transform_O2(g, ft) for g in grid_rot\n",
        "]\n",
        "f_refl = [\n",
        "    inverse_fourier_transform_O2(g, ft) for g in grid_refl\n",
        "]\n",
        "\n",
        "\n",
        "plt.plot(thetas, f_rot, label='rotations')\n",
        "plt.plot(thetas, f_refl, label='reflection + rotations')\n",
        "plt.xlabel('theta [0, 2pi)')\n",
        "plt.ylabel('f(g)')\n",
        "plt.legend()\n",
        "plt.show()"
      ]
    },
    {
      "cell_type": "markdown",
      "metadata": {
        "id": "HH5RBOBZcQLq"
      },
      "source": [
        "Observe that using more irreps allows one to parameterize more flexible functions.\n",
        "Let's try to add some more:"
      ]
    },
    {
      "cell_type": "code",
      "execution_count": null,
      "metadata": {
        "id": "Ic9uAMJEcQLr",
        "colab": {
          "base_uri": "https://localhost:8080/",
          "height": 436
        },
        "outputId": "a941b952-56eb-4306-d0fb-b467921964fd"
      },
      "outputs": [
        {
          "output_type": "display_data",
          "data": {
            "text/plain": [
              "<Figure size 640x480 with 1 Axes>"
            ],
            "image/svg+xml": "<?xml version=\"1.0\" encoding=\"utf-8\" standalone=\"no\"?>\n<!DOCTYPE svg PUBLIC \"-//W3C//DTD SVG 1.1//EN\"\n  \"http://www.w3.org/Graphics/SVG/1.1/DTD/svg11.dtd\">\n<svg xmlns:xlink=\"http://www.w3.org/1999/xlink\" width=\"413.302812pt\" height=\"310.86825pt\" viewBox=\"0 0 413.302812 310.86825\" xmlns=\"http://www.w3.org/2000/svg\" version=\"1.1\">\n <metadata>\n  <rdf:RDF xmlns:dc=\"http://purl.org/dc/elements/1.1/\" xmlns:cc=\"http://creativecommons.org/ns#\" xmlns:rdf=\"http://www.w3.org/1999/02/22-rdf-syntax-ns#\">\n   <cc:Work>\n    <dc:type rdf:resource=\"http://purl.org/dc/dcmitype/StillImage\"/>\n    <dc:date>2025-01-09T12:19:58.403737</dc:date>\n    <dc:format>image/svg+xml</dc:format>\n    <dc:creator>\n     <cc:Agent>\n      <dc:title>Matplotlib v3.10.0, https://matplotlib.org/</dc:title>\n     </cc:Agent>\n    </dc:creator>\n   </cc:Work>\n  </rdf:RDF>\n </metadata>\n <defs>\n  <style type=\"text/css\">*{stroke-linejoin: round; stroke-linecap: butt}</style>\n </defs>\n <g id=\"figure_1\">\n  <g id=\"patch_1\">\n   <path d=\"M 0 310.86825 \nL 413.302812 310.86825 \nL 413.302812 0 \nL 0 0 \nz\n\" style=\"fill: #ffffff\"/>\n  </g>\n  <g id=\"axes_1\">\n   <g id=\"patch_2\">\n    <path d=\"M 48.982813 273.312 \nL 406.102813 273.312 \nL 406.102813 7.2 \nL 48.982813 7.2 \nz\n\" style=\"fill: #ffffff\"/>\n   </g>\n   <g id=\"matplotlib.axis_1\">\n    <g id=\"xtick_1\">\n     <g id=\"line2d_1\">\n      <defs>\n       <path id=\"mb64ed07fb1\" d=\"M 0 0 \nL 0 3.5 \n\" style=\"stroke: #000000; stroke-width: 0.8\"/>\n      </defs>\n      <g>\n       <use xlink:href=\"#mb64ed07fb1\" x=\"65.21554\" y=\"273.312\" style=\"stroke: #000000; stroke-width: 0.8\"/>\n      </g>\n     </g>\n     <g id=\"text_1\">\n      <!-- 0 -->\n      <g transform=\"translate(62.03429 287.910437) scale(0.1 -0.1)\">\n       <defs>\n        <path id=\"DejaVuSans-30\" d=\"M 2034 4250 \nQ 1547 4250 1301 3770 \nQ 1056 3291 1056 2328 \nQ 1056 1369 1301 889 \nQ 1547 409 2034 409 \nQ 2525 409 2770 889 \nQ 3016 1369 3016 2328 \nQ 3016 3291 2770 3770 \nQ 2525 4250 2034 4250 \nz\nM 2034 4750 \nQ 2819 4750 3233 4129 \nQ 3647 3509 3647 2328 \nQ 3647 1150 3233 529 \nQ 2819 -91 2034 -91 \nQ 1250 -91 836 529 \nQ 422 1150 422 2328 \nQ 422 3509 836 4129 \nQ 1250 4750 2034 4750 \nz\n\" transform=\"scale(0.015625)\"/>\n       </defs>\n       <use xlink:href=\"#DejaVuSans-30\"/>\n      </g>\n     </g>\n    </g>\n    <g id=\"xtick_2\">\n     <g id=\"line2d_2\">\n      <g>\n       <use xlink:href=\"#mb64ed07fb1\" x=\"117.407838\" y=\"273.312\" style=\"stroke: #000000; stroke-width: 0.8\"/>\n      </g>\n     </g>\n     <g id=\"text_2\">\n      <!-- 1 -->\n      <g transform=\"translate(114.226588 287.910437) scale(0.1 -0.1)\">\n       <defs>\n        <path id=\"DejaVuSans-31\" d=\"M 794 531 \nL 1825 531 \nL 1825 4091 \nL 703 3866 \nL 703 4441 \nL 1819 4666 \nL 2450 4666 \nL 2450 531 \nL 3481 531 \nL 3481 0 \nL 794 0 \nL 794 531 \nz\n\" transform=\"scale(0.015625)\"/>\n       </defs>\n       <use xlink:href=\"#DejaVuSans-31\"/>\n      </g>\n     </g>\n    </g>\n    <g id=\"xtick_3\">\n     <g id=\"line2d_3\">\n      <g>\n       <use xlink:href=\"#mb64ed07fb1\" x=\"169.600137\" y=\"273.312\" style=\"stroke: #000000; stroke-width: 0.8\"/>\n      </g>\n     </g>\n     <g id=\"text_3\">\n      <!-- 2 -->\n      <g transform=\"translate(166.418887 287.910437) scale(0.1 -0.1)\">\n       <defs>\n        <path id=\"DejaVuSans-32\" d=\"M 1228 531 \nL 3431 531 \nL 3431 0 \nL 469 0 \nL 469 531 \nQ 828 903 1448 1529 \nQ 2069 2156 2228 2338 \nQ 2531 2678 2651 2914 \nQ 2772 3150 2772 3378 \nQ 2772 3750 2511 3984 \nQ 2250 4219 1831 4219 \nQ 1534 4219 1204 4116 \nQ 875 4013 500 3803 \nL 500 4441 \nQ 881 4594 1212 4672 \nQ 1544 4750 1819 4750 \nQ 2544 4750 2975 4387 \nQ 3406 4025 3406 3419 \nQ 3406 3131 3298 2873 \nQ 3191 2616 2906 2266 \nQ 2828 2175 2409 1742 \nQ 1991 1309 1228 531 \nz\n\" transform=\"scale(0.015625)\"/>\n       </defs>\n       <use xlink:href=\"#DejaVuSans-32\"/>\n      </g>\n     </g>\n    </g>\n    <g id=\"xtick_4\">\n     <g id=\"line2d_4\">\n      <g>\n       <use xlink:href=\"#mb64ed07fb1\" x=\"221.792436\" y=\"273.312\" style=\"stroke: #000000; stroke-width: 0.8\"/>\n      </g>\n     </g>\n     <g id=\"text_4\">\n      <!-- 3 -->\n      <g transform=\"translate(218.611186 287.910437) scale(0.1 -0.1)\">\n       <defs>\n        <path id=\"DejaVuSans-33\" d=\"M 2597 2516 \nQ 3050 2419 3304 2112 \nQ 3559 1806 3559 1356 \nQ 3559 666 3084 287 \nQ 2609 -91 1734 -91 \nQ 1441 -91 1130 -33 \nQ 819 25 488 141 \nL 488 750 \nQ 750 597 1062 519 \nQ 1375 441 1716 441 \nQ 2309 441 2620 675 \nQ 2931 909 2931 1356 \nQ 2931 1769 2642 2001 \nQ 2353 2234 1838 2234 \nL 1294 2234 \nL 1294 2753 \nL 1863 2753 \nQ 2328 2753 2575 2939 \nQ 2822 3125 2822 3475 \nQ 2822 3834 2567 4026 \nQ 2313 4219 1838 4219 \nQ 1578 4219 1281 4162 \nQ 984 4106 628 3988 \nL 628 4550 \nQ 988 4650 1302 4700 \nQ 1616 4750 1894 4750 \nQ 2613 4750 3031 4423 \nQ 3450 4097 3450 3541 \nQ 3450 3153 3228 2886 \nQ 3006 2619 2597 2516 \nz\n\" transform=\"scale(0.015625)\"/>\n       </defs>\n       <use xlink:href=\"#DejaVuSans-33\"/>\n      </g>\n     </g>\n    </g>\n    <g id=\"xtick_5\">\n     <g id=\"line2d_5\">\n      <g>\n       <use xlink:href=\"#mb64ed07fb1\" x=\"273.984735\" y=\"273.312\" style=\"stroke: #000000; stroke-width: 0.8\"/>\n      </g>\n     </g>\n     <g id=\"text_5\">\n      <!-- 4 -->\n      <g transform=\"translate(270.803485 287.910437) scale(0.1 -0.1)\">\n       <defs>\n        <path id=\"DejaVuSans-34\" d=\"M 2419 4116 \nL 825 1625 \nL 2419 1625 \nL 2419 4116 \nz\nM 2253 4666 \nL 3047 4666 \nL 3047 1625 \nL 3713 1625 \nL 3713 1100 \nL 3047 1100 \nL 3047 0 \nL 2419 0 \nL 2419 1100 \nL 313 1100 \nL 313 1709 \nL 2253 4666 \nz\n\" transform=\"scale(0.015625)\"/>\n       </defs>\n       <use xlink:href=\"#DejaVuSans-34\"/>\n      </g>\n     </g>\n    </g>\n    <g id=\"xtick_6\">\n     <g id=\"line2d_6\">\n      <g>\n       <use xlink:href=\"#mb64ed07fb1\" x=\"326.177033\" y=\"273.312\" style=\"stroke: #000000; stroke-width: 0.8\"/>\n      </g>\n     </g>\n     <g id=\"text_6\">\n      <!-- 5 -->\n      <g transform=\"translate(322.995783 287.910437) scale(0.1 -0.1)\">\n       <defs>\n        <path id=\"DejaVuSans-35\" d=\"M 691 4666 \nL 3169 4666 \nL 3169 4134 \nL 1269 4134 \nL 1269 2991 \nQ 1406 3038 1543 3061 \nQ 1681 3084 1819 3084 \nQ 2600 3084 3056 2656 \nQ 3513 2228 3513 1497 \nQ 3513 744 3044 326 \nQ 2575 -91 1722 -91 \nQ 1428 -91 1123 -41 \nQ 819 9 494 109 \nL 494 744 \nQ 775 591 1075 516 \nQ 1375 441 1709 441 \nQ 2250 441 2565 725 \nQ 2881 1009 2881 1497 \nQ 2881 1984 2565 2268 \nQ 2250 2553 1709 2553 \nQ 1456 2553 1204 2497 \nQ 953 2441 691 2322 \nL 691 4666 \nz\n\" transform=\"scale(0.015625)\"/>\n       </defs>\n       <use xlink:href=\"#DejaVuSans-35\"/>\n      </g>\n     </g>\n    </g>\n    <g id=\"xtick_7\">\n     <g id=\"line2d_7\">\n      <g>\n       <use xlink:href=\"#mb64ed07fb1\" x=\"378.369332\" y=\"273.312\" style=\"stroke: #000000; stroke-width: 0.8\"/>\n      </g>\n     </g>\n     <g id=\"text_7\">\n      <!-- 6 -->\n      <g transform=\"translate(375.188082 287.910437) scale(0.1 -0.1)\">\n       <defs>\n        <path id=\"DejaVuSans-36\" d=\"M 2113 2584 \nQ 1688 2584 1439 2293 \nQ 1191 2003 1191 1497 \nQ 1191 994 1439 701 \nQ 1688 409 2113 409 \nQ 2538 409 2786 701 \nQ 3034 994 3034 1497 \nQ 3034 2003 2786 2293 \nQ 2538 2584 2113 2584 \nz\nM 3366 4563 \nL 3366 3988 \nQ 3128 4100 2886 4159 \nQ 2644 4219 2406 4219 \nQ 1781 4219 1451 3797 \nQ 1122 3375 1075 2522 \nQ 1259 2794 1537 2939 \nQ 1816 3084 2150 3084 \nQ 2853 3084 3261 2657 \nQ 3669 2231 3669 1497 \nQ 3669 778 3244 343 \nQ 2819 -91 2113 -91 \nQ 1303 -91 875 529 \nQ 447 1150 447 2328 \nQ 447 3434 972 4092 \nQ 1497 4750 2381 4750 \nQ 2619 4750 2861 4703 \nQ 3103 4656 3366 4563 \nz\n\" transform=\"scale(0.015625)\"/>\n       </defs>\n       <use xlink:href=\"#DejaVuSans-36\"/>\n      </g>\n     </g>\n    </g>\n    <g id=\"text_8\">\n     <!-- theta [0, 2pi) -->\n     <g transform=\"translate(194.718594 301.588562) scale(0.1 -0.1)\">\n      <defs>\n       <path id=\"DejaVuSans-74\" d=\"M 1172 4494 \nL 1172 3500 \nL 2356 3500 \nL 2356 3053 \nL 1172 3053 \nL 1172 1153 \nQ 1172 725 1289 603 \nQ 1406 481 1766 481 \nL 2356 481 \nL 2356 0 \nL 1766 0 \nQ 1100 0 847 248 \nQ 594 497 594 1153 \nL 594 3053 \nL 172 3053 \nL 172 3500 \nL 594 3500 \nL 594 4494 \nL 1172 4494 \nz\n\" transform=\"scale(0.015625)\"/>\n       <path id=\"DejaVuSans-68\" d=\"M 3513 2113 \nL 3513 0 \nL 2938 0 \nL 2938 2094 \nQ 2938 2591 2744 2837 \nQ 2550 3084 2163 3084 \nQ 1697 3084 1428 2787 \nQ 1159 2491 1159 1978 \nL 1159 0 \nL 581 0 \nL 581 4863 \nL 1159 4863 \nL 1159 2956 \nQ 1366 3272 1645 3428 \nQ 1925 3584 2291 3584 \nQ 2894 3584 3203 3211 \nQ 3513 2838 3513 2113 \nz\n\" transform=\"scale(0.015625)\"/>\n       <path id=\"DejaVuSans-65\" d=\"M 3597 1894 \nL 3597 1613 \nL 953 1613 \nQ 991 1019 1311 708 \nQ 1631 397 2203 397 \nQ 2534 397 2845 478 \nQ 3156 559 3463 722 \nL 3463 178 \nQ 3153 47 2828 -22 \nQ 2503 -91 2169 -91 \nQ 1331 -91 842 396 \nQ 353 884 353 1716 \nQ 353 2575 817 3079 \nQ 1281 3584 2069 3584 \nQ 2775 3584 3186 3129 \nQ 3597 2675 3597 1894 \nz\nM 3022 2063 \nQ 3016 2534 2758 2815 \nQ 2500 3097 2075 3097 \nQ 1594 3097 1305 2825 \nQ 1016 2553 972 2059 \nL 3022 2063 \nz\n\" transform=\"scale(0.015625)\"/>\n       <path id=\"DejaVuSans-61\" d=\"M 2194 1759 \nQ 1497 1759 1228 1600 \nQ 959 1441 959 1056 \nQ 959 750 1161 570 \nQ 1363 391 1709 391 \nQ 2188 391 2477 730 \nQ 2766 1069 2766 1631 \nL 2766 1759 \nL 2194 1759 \nz\nM 3341 1997 \nL 3341 0 \nL 2766 0 \nL 2766 531 \nQ 2569 213 2275 61 \nQ 1981 -91 1556 -91 \nQ 1019 -91 701 211 \nQ 384 513 384 1019 \nQ 384 1609 779 1909 \nQ 1175 2209 1959 2209 \nL 2766 2209 \nL 2766 2266 \nQ 2766 2663 2505 2880 \nQ 2244 3097 1772 3097 \nQ 1472 3097 1187 3025 \nQ 903 2953 641 2809 \nL 641 3341 \nQ 956 3463 1253 3523 \nQ 1550 3584 1831 3584 \nQ 2591 3584 2966 3190 \nQ 3341 2797 3341 1997 \nz\n\" transform=\"scale(0.015625)\"/>\n       <path id=\"DejaVuSans-20\" transform=\"scale(0.015625)\"/>\n       <path id=\"DejaVuSans-5b\" d=\"M 550 4863 \nL 1875 4863 \nL 1875 4416 \nL 1125 4416 \nL 1125 -397 \nL 1875 -397 \nL 1875 -844 \nL 550 -844 \nL 550 4863 \nz\n\" transform=\"scale(0.015625)\"/>\n       <path id=\"DejaVuSans-2c\" d=\"M 750 794 \nL 1409 794 \nL 1409 256 \nL 897 -744 \nL 494 -744 \nL 750 256 \nL 750 794 \nz\n\" transform=\"scale(0.015625)\"/>\n       <path id=\"DejaVuSans-70\" d=\"M 1159 525 \nL 1159 -1331 \nL 581 -1331 \nL 581 3500 \nL 1159 3500 \nL 1159 2969 \nQ 1341 3281 1617 3432 \nQ 1894 3584 2278 3584 \nQ 2916 3584 3314 3078 \nQ 3713 2572 3713 1747 \nQ 3713 922 3314 415 \nQ 2916 -91 2278 -91 \nQ 1894 -91 1617 61 \nQ 1341 213 1159 525 \nz\nM 3116 1747 \nQ 3116 2381 2855 2742 \nQ 2594 3103 2138 3103 \nQ 1681 3103 1420 2742 \nQ 1159 2381 1159 1747 \nQ 1159 1113 1420 752 \nQ 1681 391 2138 391 \nQ 2594 391 2855 752 \nQ 3116 1113 3116 1747 \nz\n\" transform=\"scale(0.015625)\"/>\n       <path id=\"DejaVuSans-69\" d=\"M 603 3500 \nL 1178 3500 \nL 1178 0 \nL 603 0 \nL 603 3500 \nz\nM 603 4863 \nL 1178 4863 \nL 1178 4134 \nL 603 4134 \nL 603 4863 \nz\n\" transform=\"scale(0.015625)\"/>\n       <path id=\"DejaVuSans-29\" d=\"M 513 4856 \nL 1013 4856 \nQ 1481 4119 1714 3412 \nQ 1947 2706 1947 2009 \nQ 1947 1309 1714 600 \nQ 1481 -109 1013 -844 \nL 513 -844 \nQ 928 -128 1133 580 \nQ 1338 1288 1338 2009 \nQ 1338 2731 1133 3434 \nQ 928 4138 513 4856 \nz\n\" transform=\"scale(0.015625)\"/>\n      </defs>\n      <use xlink:href=\"#DejaVuSans-74\"/>\n      <use xlink:href=\"#DejaVuSans-68\" transform=\"translate(39.208984 0)\"/>\n      <use xlink:href=\"#DejaVuSans-65\" transform=\"translate(102.587891 0)\"/>\n      <use xlink:href=\"#DejaVuSans-74\" transform=\"translate(164.111328 0)\"/>\n      <use xlink:href=\"#DejaVuSans-61\" transform=\"translate(203.320312 0)\"/>\n      <use xlink:href=\"#DejaVuSans-20\" transform=\"translate(264.599609 0)\"/>\n      <use xlink:href=\"#DejaVuSans-5b\" transform=\"translate(296.386719 0)\"/>\n      <use xlink:href=\"#DejaVuSans-30\" transform=\"translate(335.400391 0)\"/>\n      <use xlink:href=\"#DejaVuSans-2c\" transform=\"translate(399.023438 0)\"/>\n      <use xlink:href=\"#DejaVuSans-20\" transform=\"translate(430.810547 0)\"/>\n      <use xlink:href=\"#DejaVuSans-32\" transform=\"translate(462.597656 0)\"/>\n      <use xlink:href=\"#DejaVuSans-70\" transform=\"translate(526.220703 0)\"/>\n      <use xlink:href=\"#DejaVuSans-69\" transform=\"translate(589.697266 0)\"/>\n      <use xlink:href=\"#DejaVuSans-29\" transform=\"translate(617.480469 0)\"/>\n     </g>\n    </g>\n   </g>\n   <g id=\"matplotlib.axis_2\">\n    <g id=\"ytick_1\">\n     <g id=\"line2d_8\">\n      <defs>\n       <path id=\"m3c35debaaa\" d=\"M 0 0 \nL -3.5 0 \n\" style=\"stroke: #000000; stroke-width: 0.8\"/>\n      </defs>\n      <g>\n       <use xlink:href=\"#m3c35debaaa\" x=\"48.982813\" y=\"230.770708\" style=\"stroke: #000000; stroke-width: 0.8\"/>\n      </g>\n     </g>\n     <g id=\"text_9\">\n      <!-- −10 -->\n      <g transform=\"translate(20.878125 234.569926) scale(0.1 -0.1)\">\n       <defs>\n        <path id=\"DejaVuSans-2212\" d=\"M 678 2272 \nL 4684 2272 \nL 4684 1741 \nL 678 1741 \nL 678 2272 \nz\n\" transform=\"scale(0.015625)\"/>\n       </defs>\n       <use xlink:href=\"#DejaVuSans-2212\"/>\n       <use xlink:href=\"#DejaVuSans-31\" transform=\"translate(83.789062 0)\"/>\n       <use xlink:href=\"#DejaVuSans-30\" transform=\"translate(147.412109 0)\"/>\n      </g>\n     </g>\n    </g>\n    <g id=\"ytick_2\">\n     <g id=\"line2d_9\">\n      <g>\n       <use xlink:href=\"#m3c35debaaa\" x=\"48.982813\" y=\"181.122799\" style=\"stroke: #000000; stroke-width: 0.8\"/>\n      </g>\n     </g>\n     <g id=\"text_10\">\n      <!-- −5 -->\n      <g transform=\"translate(27.240625 184.922018) scale(0.1 -0.1)\">\n       <use xlink:href=\"#DejaVuSans-2212\"/>\n       <use xlink:href=\"#DejaVuSans-35\" transform=\"translate(83.789062 0)\"/>\n      </g>\n     </g>\n    </g>\n    <g id=\"ytick_3\">\n     <g id=\"line2d_10\">\n      <g>\n       <use xlink:href=\"#m3c35debaaa\" x=\"48.982813\" y=\"131.474891\" style=\"stroke: #000000; stroke-width: 0.8\"/>\n      </g>\n     </g>\n     <g id=\"text_11\">\n      <!-- 0 -->\n      <g transform=\"translate(35.620313 135.27411) scale(0.1 -0.1)\">\n       <use xlink:href=\"#DejaVuSans-30\"/>\n      </g>\n     </g>\n    </g>\n    <g id=\"ytick_4\">\n     <g id=\"line2d_11\">\n      <g>\n       <use xlink:href=\"#m3c35debaaa\" x=\"48.982813\" y=\"81.826983\" style=\"stroke: #000000; stroke-width: 0.8\"/>\n      </g>\n     </g>\n     <g id=\"text_12\">\n      <!-- 5 -->\n      <g transform=\"translate(35.620313 85.626202) scale(0.1 -0.1)\">\n       <use xlink:href=\"#DejaVuSans-35\"/>\n      </g>\n     </g>\n    </g>\n    <g id=\"ytick_5\">\n     <g id=\"line2d_12\">\n      <g>\n       <use xlink:href=\"#m3c35debaaa\" x=\"48.982813\" y=\"32.179075\" style=\"stroke: #000000; stroke-width: 0.8\"/>\n      </g>\n     </g>\n     <g id=\"text_13\">\n      <!-- 10 -->\n      <g transform=\"translate(29.257813 35.978294) scale(0.1 -0.1)\">\n       <use xlink:href=\"#DejaVuSans-31\"/>\n       <use xlink:href=\"#DejaVuSans-30\" transform=\"translate(63.623047 0)\"/>\n      </g>\n     </g>\n    </g>\n    <g id=\"text_14\">\n     <!-- f(g) -->\n     <g transform=\"translate(14.798438 149.091937) rotate(-90) scale(0.1 -0.1)\">\n      <defs>\n       <path id=\"DejaVuSans-66\" d=\"M 2375 4863 \nL 2375 4384 \nL 1825 4384 \nQ 1516 4384 1395 4259 \nQ 1275 4134 1275 3809 \nL 1275 3500 \nL 2222 3500 \nL 2222 3053 \nL 1275 3053 \nL 1275 0 \nL 697 0 \nL 697 3053 \nL 147 3053 \nL 147 3500 \nL 697 3500 \nL 697 3744 \nQ 697 4328 969 4595 \nQ 1241 4863 1831 4863 \nL 2375 4863 \nz\n\" transform=\"scale(0.015625)\"/>\n       <path id=\"DejaVuSans-28\" d=\"M 1984 4856 \nQ 1566 4138 1362 3434 \nQ 1159 2731 1159 2009 \nQ 1159 1288 1364 580 \nQ 1569 -128 1984 -844 \nL 1484 -844 \nQ 1016 -109 783 600 \nQ 550 1309 550 2009 \nQ 550 2706 781 3412 \nQ 1013 4119 1484 4856 \nL 1984 4856 \nz\n\" transform=\"scale(0.015625)\"/>\n       <path id=\"DejaVuSans-67\" d=\"M 2906 1791 \nQ 2906 2416 2648 2759 \nQ 2391 3103 1925 3103 \nQ 1463 3103 1205 2759 \nQ 947 2416 947 1791 \nQ 947 1169 1205 825 \nQ 1463 481 1925 481 \nQ 2391 481 2648 825 \nQ 2906 1169 2906 1791 \nz\nM 3481 434 \nQ 3481 -459 3084 -895 \nQ 2688 -1331 1869 -1331 \nQ 1566 -1331 1297 -1286 \nQ 1028 -1241 775 -1147 \nL 775 -588 \nQ 1028 -725 1275 -790 \nQ 1522 -856 1778 -856 \nQ 2344 -856 2625 -561 \nQ 2906 -266 2906 331 \nL 2906 616 \nQ 2728 306 2450 153 \nQ 2172 0 1784 0 \nQ 1141 0 747 490 \nQ 353 981 353 1791 \nQ 353 2603 747 3093 \nQ 1141 3584 1784 3584 \nQ 2172 3584 2450 3431 \nQ 2728 3278 2906 2969 \nL 2906 3500 \nL 3481 3500 \nL 3481 434 \nz\n\" transform=\"scale(0.015625)\"/>\n      </defs>\n      <use xlink:href=\"#DejaVuSans-66\"/>\n      <use xlink:href=\"#DejaVuSans-28\" transform=\"translate(35.205078 0)\"/>\n      <use xlink:href=\"#DejaVuSans-67\" transform=\"translate(74.21875 0)\"/>\n      <use xlink:href=\"#DejaVuSans-29\" transform=\"translate(137.695312 0)\"/>\n     </g>\n    </g>\n   </g>\n   <g id=\"line2d_13\">\n    <path d=\"M 65.21554 131.076027 \nL 68.494879 111.244617 \nL 71.774217 97.570691 \nL 75.053556 92.743088 \nL 78.332895 98.00428 \nL 81.612234 112.96283 \nL 84.891573 135.673762 \nL 88.170912 162.967429 \nL 91.450251 190.966336 \nL 94.729589 215.69968 \nL 98.008928 233.712066 \nL 101.288267 242.567733 \nL 104.567606 241.173239 \nL 107.846945 229.875463 \nL 111.126284 210.331651 \nL 114.405622 185.186692 \nL 117.684961 157.623168 \nL 120.9643 130.866931 \nL 124.243639 107.732639 \nL 127.522978 90.280262 \nL 130.802317 79.628431 \nL 134.081655 75.938812 \nL 137.360994 78.553766 \nL 140.640333 86.243436 \nL 143.919672 97.502551 \nL 147.199011 110.834234 \nL 150.47835 124.967617 \nL 153.757689 138.975503 \nL 157.037027 152.283191 \nL 160.316366 164.584468 \nL 163.595705 175.700534 \nL 166.875044 185.428315 \nL 170.154383 193.424282 \nL 173.433722 199.15905 \nL 176.71306 201.959169 \nL 179.992399 201.130081 \nL 183.271738 196.133068 \nL 186.551077 186.773898 \nL 189.830416 173.355167 \nL 193.109755 156.749458 \nL 196.389093 138.365433 \nL 199.668432 120.0009 \nL 202.947771 103.601223 \nL 206.22711 90.963033 \nL 209.506449 83.437401 \nL 212.785788 81.690263 \nL 216.065127 85.569763 \nL 219.344465 94.111579 \nL 222.623804 105.687631 \nL 225.903143 118.275836 \nL 229.182482 129.804219 \nL 232.461821 138.506708 \nL 235.74116 143.223826 \nL 239.020498 143.590306 \nL 242.299837 140.072136 \nL 245.579176 133.843891 \nL 248.858515 126.52811 \nL 252.137854 119.845923 \nL 255.417193 115.246651 \nL 258.696532 113.589821 \nL 261.97587 114.944508 \nL 265.255209 118.549472 \nL 268.534548 122.946947 \nL 271.813887 126.268998 \nL 275.093226 126.624478 \nL 278.372565 122.512992 \nL 281.651903 113.184263 \nL 284.931242 98.868877 \nL 288.210581 80.828559 \nL 291.48992 61.207049 \nL 294.769259 42.700295 \nL 298.048598 28.100061 \nL 301.327936 19.791354 \nL 304.607275 19.296 \nL 307.886614 26.949687 \nL 311.165953 41.778198 \nL 314.445292 61.604055 \nL 317.724631 83.373381 \nL 321.00397 103.652079 \nL 324.283308 119.207857 \nL 327.562647 127.576491 \nL 330.841986 127.510644 \nL 334.121325 119.227931 \nL 337.400664 104.408831 \nL 340.680003 85.938591 \nL 343.959341 67.432717 \nL 347.23868 52.624909 \nL 350.518019 44.722069 \nL 353.797358 45.838607 \nL 357.076697 56.609976 \nL 360.356036 76.055284 \nL 363.635374 101.716027 \nL 366.914713 130.05003 \nL 370.194052 157.015082 \nL 373.473391 178.743345 \nL 376.75273 192.19139 \nL 380.032069 195.654573 \nL 383.311408 189.057698 \nL 386.590746 173.972429 \nL 389.870085 153.358882 \n\" clip-path=\"url(#p1580416bfd)\" style=\"fill: none; stroke: #1f77b4; stroke-width: 2; stroke-linecap: square\"/>\n   </g>\n   <g id=\"line2d_14\">\n    <path d=\"M 65.21554 74.770688 \nL 68.494879 67.494001 \nL 71.774217 66.850417 \nL 75.053556 74.036555 \nL 78.332895 89.280405 \nL 81.612234 111.734125 \nL 84.891573 139.530136 \nL 88.170912 169.998638 \nL 91.450251 200.017352 \nL 94.729589 226.441424 \nL 98.008928 246.546923 \nL 101.288267 258.417981 \nL 104.567606 261.216 \nL 107.846945 255.288137 \nL 111.126284 242.098349 \nL 114.405622 223.993031 \nL 117.684961 203.839907 \nL 120.9643 184.598773 \nL 124.243639 168.89253 \nL 127.522978 158.645292 \nL 130.802317 154.841556 \nL 134.081655 157.439013 \nL 137.360994 165.441393 \nL 140.640333 177.111383 \nL 143.919672 190.281765 \nL 147.199011 202.709006 \nL 150.47835 212.409798 \nL 153.757689 217.927714 \nL 157.037027 218.492496 \nL 160.316366 214.055556 \nL 163.595705 205.207826 \nL 166.875044 193.006151 \nL 170.154383 178.748325 \nL 173.433722 163.742508 \nL 176.71306 149.113445 \nL 179.992399 135.67682 \nL 183.271738 123.896747 \nL 186.551077 113.923266 \nL 189.830416 105.690489 \nL 193.109755 99.044799 \nL 196.389093 93.868356 \nL 199.668432 90.16665 \nL 202.947771 88.098941 \nL 206.22711 87.944847 \nL 209.506449 90.015967 \nL 212.785788 94.534822 \nL 216.065127 101.511847 \nL 219.344465 110.652766 \nL 222.623804 121.323133 \nL 225.903143 132.58518 \nL 229.182482 143.306807 \nL 232.461821 152.326674 \nL 235.74116 158.646241 \nL 239.020498 161.61204 \nL 242.299837 161.051131 \nL 245.579176 157.329874 \nL 248.858515 151.319656 \nL 252.137854 144.270435 \nL 255.417193 137.610712 \nL 258.696532 132.707253 \nL 261.97587 130.626718 \nL 265.255209 131.942338 \nL 268.534548 136.621735 \nL 271.813887 144.017871 \nL 275.093226 152.96676 \nL 278.372565 161.97614 \nL 281.651903 169.472656 \nL 284.931242 174.064225 \nL 288.210581 174.771387 \nL 291.48992 171.18706 \nL 294.769259 163.537248 \nL 298.048598 152.633414 \nL 301.327936 139.727031 \nL 304.607275 126.294494 \nL 307.886614 113.792838 \nL 311.165953 103.431174 \nL 314.445292 95.998773 \nL 317.724631 91.778909 \nL 321.00397 90.560484 \nL 324.283308 91.740225 \nL 327.562647 94.490759 \nL 330.841986 97.957513 \nL 334.121325 101.442501 \nL 337.400664 104.536718 \nL 340.680003 107.174226 \nL 343.959341 109.597867 \nL 347.23868 112.245573 \nL 350.518019 115.583535 \nL 353.797358 119.924622 \nL 357.076697 125.274752 \nL 360.356036 131.245508 \nL 363.635374 137.058652 \nL 366.914713 141.649805 \nL 370.194052 143.857834 \nL 373.473391 142.6675 \nL 376.75273 137.459528 \nL 380.032069 128.217295 \nL 383.311408 115.644126 \nL 386.590746 101.159183 \nL 389.870085 86.760848 \n\" clip-path=\"url(#p1580416bfd)\" style=\"fill: none; stroke: #ff7f0e; stroke-width: 2; stroke-linecap: square\"/>\n   </g>\n   <g id=\"patch_3\">\n    <path d=\"M 48.982813 273.312 \nL 48.982813 7.2 \n\" style=\"fill: none; stroke: #000000; stroke-width: 0.8; stroke-linejoin: miter; stroke-linecap: square\"/>\n   </g>\n   <g id=\"patch_4\">\n    <path d=\"M 406.102813 273.312 \nL 406.102813 7.2 \n\" style=\"fill: none; stroke: #000000; stroke-width: 0.8; stroke-linejoin: miter; stroke-linecap: square\"/>\n   </g>\n   <g id=\"patch_5\">\n    <path d=\"M 48.982813 273.312 \nL 406.102813 273.312 \n\" style=\"fill: none; stroke: #000000; stroke-width: 0.8; stroke-linejoin: miter; stroke-linecap: square\"/>\n   </g>\n   <g id=\"patch_6\">\n    <path d=\"M 48.982813 7.2 \nL 406.102813 7.2 \n\" style=\"fill: none; stroke: #000000; stroke-width: 0.8; stroke-linejoin: miter; stroke-linecap: square\"/>\n   </g>\n   <g id=\"legend_1\">\n    <g id=\"patch_7\">\n     <path d=\"M 55.982813 44.55625 \nL 194.279688 44.55625 \nQ 196.279688 44.55625 196.279688 42.55625 \nL 196.279688 14.2 \nQ 196.279688 12.2 194.279688 12.2 \nL 55.982813 12.2 \nQ 53.982813 12.2 53.982813 14.2 \nL 53.982813 42.55625 \nQ 53.982813 44.55625 55.982813 44.55625 \nz\n\" style=\"fill: #ffffff; opacity: 0.8; stroke: #cccccc; stroke-linejoin: miter\"/>\n    </g>\n    <g id=\"line2d_15\">\n     <path d=\"M 57.982813 20.298437 \nL 67.982813 20.298437 \nL 77.982813 20.298437 \n\" style=\"fill: none; stroke: #1f77b4; stroke-width: 2; stroke-linecap: square\"/>\n    </g>\n    <g id=\"text_15\">\n     <!-- rotations -->\n     <g transform=\"translate(85.982813 23.798437) scale(0.1 -0.1)\">\n      <defs>\n       <path id=\"DejaVuSans-72\" d=\"M 2631 2963 \nQ 2534 3019 2420 3045 \nQ 2306 3072 2169 3072 \nQ 1681 3072 1420 2755 \nQ 1159 2438 1159 1844 \nL 1159 0 \nL 581 0 \nL 581 3500 \nL 1159 3500 \nL 1159 2956 \nQ 1341 3275 1631 3429 \nQ 1922 3584 2338 3584 \nQ 2397 3584 2469 3576 \nQ 2541 3569 2628 3553 \nL 2631 2963 \nz\n\" transform=\"scale(0.015625)\"/>\n       <path id=\"DejaVuSans-6f\" d=\"M 1959 3097 \nQ 1497 3097 1228 2736 \nQ 959 2375 959 1747 \nQ 959 1119 1226 758 \nQ 1494 397 1959 397 \nQ 2419 397 2687 759 \nQ 2956 1122 2956 1747 \nQ 2956 2369 2687 2733 \nQ 2419 3097 1959 3097 \nz\nM 1959 3584 \nQ 2709 3584 3137 3096 \nQ 3566 2609 3566 1747 \nQ 3566 888 3137 398 \nQ 2709 -91 1959 -91 \nQ 1206 -91 779 398 \nQ 353 888 353 1747 \nQ 353 2609 779 3096 \nQ 1206 3584 1959 3584 \nz\n\" transform=\"scale(0.015625)\"/>\n       <path id=\"DejaVuSans-6e\" d=\"M 3513 2113 \nL 3513 0 \nL 2938 0 \nL 2938 2094 \nQ 2938 2591 2744 2837 \nQ 2550 3084 2163 3084 \nQ 1697 3084 1428 2787 \nQ 1159 2491 1159 1978 \nL 1159 0 \nL 581 0 \nL 581 3500 \nL 1159 3500 \nL 1159 2956 \nQ 1366 3272 1645 3428 \nQ 1925 3584 2291 3584 \nQ 2894 3584 3203 3211 \nQ 3513 2838 3513 2113 \nz\n\" transform=\"scale(0.015625)\"/>\n       <path id=\"DejaVuSans-73\" d=\"M 2834 3397 \nL 2834 2853 \nQ 2591 2978 2328 3040 \nQ 2066 3103 1784 3103 \nQ 1356 3103 1142 2972 \nQ 928 2841 928 2578 \nQ 928 2378 1081 2264 \nQ 1234 2150 1697 2047 \nL 1894 2003 \nQ 2506 1872 2764 1633 \nQ 3022 1394 3022 966 \nQ 3022 478 2636 193 \nQ 2250 -91 1575 -91 \nQ 1294 -91 989 -36 \nQ 684 19 347 128 \nL 347 722 \nQ 666 556 975 473 \nQ 1284 391 1588 391 \nQ 1994 391 2212 530 \nQ 2431 669 2431 922 \nQ 2431 1156 2273 1281 \nQ 2116 1406 1581 1522 \nL 1381 1569 \nQ 847 1681 609 1914 \nQ 372 2147 372 2553 \nQ 372 3047 722 3315 \nQ 1072 3584 1716 3584 \nQ 2034 3584 2315 3537 \nQ 2597 3491 2834 3397 \nz\n\" transform=\"scale(0.015625)\"/>\n      </defs>\n      <use xlink:href=\"#DejaVuSans-72\"/>\n      <use xlink:href=\"#DejaVuSans-6f\" transform=\"translate(38.863281 0)\"/>\n      <use xlink:href=\"#DejaVuSans-74\" transform=\"translate(100.044922 0)\"/>\n      <use xlink:href=\"#DejaVuSans-61\" transform=\"translate(139.253906 0)\"/>\n      <use xlink:href=\"#DejaVuSans-74\" transform=\"translate(200.533203 0)\"/>\n      <use xlink:href=\"#DejaVuSans-69\" transform=\"translate(239.742188 0)\"/>\n      <use xlink:href=\"#DejaVuSans-6f\" transform=\"translate(267.525391 0)\"/>\n      <use xlink:href=\"#DejaVuSans-6e\" transform=\"translate(328.707031 0)\"/>\n      <use xlink:href=\"#DejaVuSans-73\" transform=\"translate(392.085938 0)\"/>\n     </g>\n    </g>\n    <g id=\"line2d_16\">\n     <path d=\"M 57.982813 34.976562 \nL 67.982813 34.976562 \nL 77.982813 34.976562 \n\" style=\"fill: none; stroke: #ff7f0e; stroke-width: 2; stroke-linecap: square\"/>\n    </g>\n    <g id=\"text_16\">\n     <!-- reflection + rotations -->\n     <g transform=\"translate(85.982813 38.476562) scale(0.1 -0.1)\">\n      <defs>\n       <path id=\"DejaVuSans-6c\" d=\"M 603 4863 \nL 1178 4863 \nL 1178 0 \nL 603 0 \nL 603 4863 \nz\n\" transform=\"scale(0.015625)\"/>\n       <path id=\"DejaVuSans-63\" d=\"M 3122 3366 \nL 3122 2828 \nQ 2878 2963 2633 3030 \nQ 2388 3097 2138 3097 \nQ 1578 3097 1268 2742 \nQ 959 2388 959 1747 \nQ 959 1106 1268 751 \nQ 1578 397 2138 397 \nQ 2388 397 2633 464 \nQ 2878 531 3122 666 \nL 3122 134 \nQ 2881 22 2623 -34 \nQ 2366 -91 2075 -91 \nQ 1284 -91 818 406 \nQ 353 903 353 1747 \nQ 353 2603 823 3093 \nQ 1294 3584 2113 3584 \nQ 2378 3584 2631 3529 \nQ 2884 3475 3122 3366 \nz\n\" transform=\"scale(0.015625)\"/>\n       <path id=\"DejaVuSans-2b\" d=\"M 2944 4013 \nL 2944 2272 \nL 4684 2272 \nL 4684 1741 \nL 2944 1741 \nL 2944 0 \nL 2419 0 \nL 2419 1741 \nL 678 1741 \nL 678 2272 \nL 2419 2272 \nL 2419 4013 \nL 2944 4013 \nz\n\" transform=\"scale(0.015625)\"/>\n      </defs>\n      <use xlink:href=\"#DejaVuSans-72\"/>\n      <use xlink:href=\"#DejaVuSans-65\" transform=\"translate(38.863281 0)\"/>\n      <use xlink:href=\"#DejaVuSans-66\" transform=\"translate(100.386719 0)\"/>\n      <use xlink:href=\"#DejaVuSans-6c\" transform=\"translate(135.591797 0)\"/>\n      <use xlink:href=\"#DejaVuSans-65\" transform=\"translate(163.375 0)\"/>\n      <use xlink:href=\"#DejaVuSans-63\" transform=\"translate(224.898438 0)\"/>\n      <use xlink:href=\"#DejaVuSans-74\" transform=\"translate(279.878906 0)\"/>\n      <use xlink:href=\"#DejaVuSans-69\" transform=\"translate(319.087891 0)\"/>\n      <use xlink:href=\"#DejaVuSans-6f\" transform=\"translate(346.871094 0)\"/>\n      <use xlink:href=\"#DejaVuSans-6e\" transform=\"translate(408.052734 0)\"/>\n      <use xlink:href=\"#DejaVuSans-20\" transform=\"translate(471.431641 0)\"/>\n      <use xlink:href=\"#DejaVuSans-2b\" transform=\"translate(503.21875 0)\"/>\n      <use xlink:href=\"#DejaVuSans-20\" transform=\"translate(587.007812 0)\"/>\n      <use xlink:href=\"#DejaVuSans-72\" transform=\"translate(618.794922 0)\"/>\n      <use xlink:href=\"#DejaVuSans-6f\" transform=\"translate(657.658203 0)\"/>\n      <use xlink:href=\"#DejaVuSans-74\" transform=\"translate(718.839844 0)\"/>\n      <use xlink:href=\"#DejaVuSans-61\" transform=\"translate(758.048828 0)\"/>\n      <use xlink:href=\"#DejaVuSans-74\" transform=\"translate(819.328125 0)\"/>\n      <use xlink:href=\"#DejaVuSans-69\" transform=\"translate(858.537109 0)\"/>\n      <use xlink:href=\"#DejaVuSans-6f\" transform=\"translate(886.320312 0)\"/>\n      <use xlink:href=\"#DejaVuSans-6e\" transform=\"translate(947.501953 0)\"/>\n      <use xlink:href=\"#DejaVuSans-73\" transform=\"translate(1010.880859 0)\"/>\n     </g>\n    </g>\n   </g>\n  </g>\n </g>\n <defs>\n  <clipPath id=\"p1580416bfd\">\n   <rect x=\"48.982813\" y=\"7.2\" width=\"357.12\" height=\"266.112\"/>\n  </clipPath>\n </defs>\n</svg>\n",
            "application/pdf": "[encoded data removed]"
          },
          "metadata": {}
        }
      ],
      "source": [
        "irreps = [G.irrep(0, 0)] + [G.irrep(1, j) for j in range(8)]\n",
        "\n",
        "ft = {\n",
        "    rho.id: np.random.randn(rho.size, rho.size)\n",
        "    for rho in irreps\n",
        "}\n",
        "\n",
        "f_rot = [\n",
        "    inverse_fourier_transform_O2(g, ft) for g in grid_rot\n",
        "]\n",
        "f_refl = [\n",
        "    inverse_fourier_transform_O2(g, ft) for g in grid_refl\n",
        "]\n",
        "\n",
        "\n",
        "plt.plot(thetas, f_rot, label='rotations')\n",
        "plt.plot(thetas, f_refl, label='reflection + rotations')\n",
        "plt.xlabel('theta [0, 2pi)')\n",
        "plt.ylabel('f(g)')\n",
        "plt.legend()\n",
        "plt.show()"
      ]
    },
    {
      "cell_type": "markdown",
      "metadata": {
        "id": "GJ-VvAUmcQLr"
      },
      "source": [
        "#### Fourier Transform of shifted functions\n",
        "\n",
        "Recall that a group element $g \\in G$ can act on a function $f: G \\to \\mathbb{R}$ as:\n",
        "$$ [g.f](h) = f(g^{-1}h) \\ .$$\n",
        "\n",
        "The Fourier transform defined before has the convenient property that the Fourier transform of $f$ and of $[g.f]$ are related as follows:\n",
        "$$\\widehat{g.f}(\\rho_j) = \\rho_j(g) \\widehat{f} $$\n",
        "\n",
        "for any irrep $\\rho_j$."
      ]
    },
    {
      "cell_type": "markdown",
      "metadata": {
        "id": "r_qj4VCacQLr"
      },
      "source": [
        "---\n",
        "\n",
        "#### QUESTION 6\n",
        "Prove the property above.\n",
        "\n",
        "#### ANSWER 6\n",
        "\n",
        "\n",
        "---"
      ]
    },
    {
      "cell_type": "markdown",
      "metadata": {
        "id": "7QtTiJ6fcQLr"
      },
      "source": [
        "We can verify this property visually:"
      ]
    },
    {
      "cell_type": "code",
      "execution_count": null,
      "metadata": {
        "id": "RaPtUhgxcQLr",
        "colab": {
          "base_uri": "https://localhost:8080/",
          "height": 913
        },
        "outputId": "24e16e51-9bc4-4360-e5bf-00aa50473416"
      },
      "outputs": [
        {
          "output_type": "stream",
          "name": "stdout",
          "text": [
            "Transforming the function with g=(-, 0.567768611250418)\n"
          ]
        },
        {
          "output_type": "display_data",
          "data": {
            "text/plain": [
              "<Figure size 640x480 with 1 Axes>"
            ],
            "image/svg+xml": "<?xml version=\"1.0\" encoding=\"utf-8\" standalone=\"no\"?>\n<!DOCTYPE svg PUBLIC \"-//W3C//DTD SVG 1.1//EN\"\n  \"http://www.w3.org/Graphics/SVG/1.1/DTD/svg11.dtd\">\n<svg xmlns:xlink=\"http://www.w3.org/1999/xlink\" width=\"422.843437pt\" height=\"325.986375pt\" viewBox=\"0 0 422.843437 325.986375\" xmlns=\"http://www.w3.org/2000/svg\" version=\"1.1\">\n <metadata>\n  <rdf:RDF xmlns:dc=\"http://purl.org/dc/elements/1.1/\" xmlns:cc=\"http://creativecommons.org/ns#\" xmlns:rdf=\"http://www.w3.org/1999/02/22-rdf-syntax-ns#\">\n   <cc:Work>\n    <dc:type rdf:resource=\"http://purl.org/dc/dcmitype/StillImage\"/>\n    <dc:date>2025-01-09T12:19:59.365320</dc:date>\n    <dc:format>image/svg+xml</dc:format>\n    <dc:creator>\n     <cc:Agent>\n      <dc:title>Matplotlib v3.10.0, https://matplotlib.org/</dc:title>\n     </cc:Agent>\n    </dc:creator>\n   </cc:Work>\n  </rdf:RDF>\n </metadata>\n <defs>\n  <style type=\"text/css\">*{stroke-linejoin: round; stroke-linecap: butt}</style>\n </defs>\n <g id=\"figure_1\">\n  <g id=\"patch_1\">\n   <path d=\"M 0 325.986375 \nL 422.843437 325.986375 \nL 422.843437 0 \nL 0 0 \nz\n\" style=\"fill: #ffffff\"/>\n  </g>\n  <g id=\"axes_1\">\n   <g id=\"patch_2\">\n    <path d=\"M 58.523438 288.430125 \nL 415.643438 288.430125 \nL 415.643438 22.318125 \nL 58.523438 22.318125 \nz\n\" style=\"fill: #ffffff\"/>\n   </g>\n   <g id=\"matplotlib.axis_1\">\n    <g id=\"xtick_1\">\n     <g id=\"line2d_1\">\n      <defs>\n       <path id=\"m6e8fa806a4\" d=\"M 0 0 \nL 0 3.5 \n\" style=\"stroke: #000000; stroke-width: 0.8\"/>\n      </defs>\n      <g>\n       <use xlink:href=\"#m6e8fa806a4\" x=\"74.756165\" y=\"288.430125\" style=\"stroke: #000000; stroke-width: 0.8\"/>\n      </g>\n     </g>\n     <g id=\"text_1\">\n      <!-- 0 -->\n      <g transform=\"translate(71.574915 303.028562) scale(0.1 -0.1)\">\n       <defs>\n        <path id=\"DejaVuSans-30\" d=\"M 2034 4250 \nQ 1547 4250 1301 3770 \nQ 1056 3291 1056 2328 \nQ 1056 1369 1301 889 \nQ 1547 409 2034 409 \nQ 2525 409 2770 889 \nQ 3016 1369 3016 2328 \nQ 3016 3291 2770 3770 \nQ 2525 4250 2034 4250 \nz\nM 2034 4750 \nQ 2819 4750 3233 4129 \nQ 3647 3509 3647 2328 \nQ 3647 1150 3233 529 \nQ 2819 -91 2034 -91 \nQ 1250 -91 836 529 \nQ 422 1150 422 2328 \nQ 422 3509 836 4129 \nQ 1250 4750 2034 4750 \nz\n\" transform=\"scale(0.015625)\"/>\n       </defs>\n       <use xlink:href=\"#DejaVuSans-30\"/>\n      </g>\n     </g>\n    </g>\n    <g id=\"xtick_2\">\n     <g id=\"line2d_2\">\n      <g>\n       <use xlink:href=\"#m6e8fa806a4\" x=\"126.948463\" y=\"288.430125\" style=\"stroke: #000000; stroke-width: 0.8\"/>\n      </g>\n     </g>\n     <g id=\"text_2\">\n      <!-- 1 -->\n      <g transform=\"translate(123.767213 303.028562) scale(0.1 -0.1)\">\n       <defs>\n        <path id=\"DejaVuSans-31\" d=\"M 794 531 \nL 1825 531 \nL 1825 4091 \nL 703 3866 \nL 703 4441 \nL 1819 4666 \nL 2450 4666 \nL 2450 531 \nL 3481 531 \nL 3481 0 \nL 794 0 \nL 794 531 \nz\n\" transform=\"scale(0.015625)\"/>\n       </defs>\n       <use xlink:href=\"#DejaVuSans-31\"/>\n      </g>\n     </g>\n    </g>\n    <g id=\"xtick_3\">\n     <g id=\"line2d_3\">\n      <g>\n       <use xlink:href=\"#m6e8fa806a4\" x=\"179.140762\" y=\"288.430125\" style=\"stroke: #000000; stroke-width: 0.8\"/>\n      </g>\n     </g>\n     <g id=\"text_3\">\n      <!-- 2 -->\n      <g transform=\"translate(175.959512 303.028562) scale(0.1 -0.1)\">\n       <defs>\n        <path id=\"DejaVuSans-32\" d=\"M 1228 531 \nL 3431 531 \nL 3431 0 \nL 469 0 \nL 469 531 \nQ 828 903 1448 1529 \nQ 2069 2156 2228 2338 \nQ 2531 2678 2651 2914 \nQ 2772 3150 2772 3378 \nQ 2772 3750 2511 3984 \nQ 2250 4219 1831 4219 \nQ 1534 4219 1204 4116 \nQ 875 4013 500 3803 \nL 500 4441 \nQ 881 4594 1212 4672 \nQ 1544 4750 1819 4750 \nQ 2544 4750 2975 4387 \nQ 3406 4025 3406 3419 \nQ 3406 3131 3298 2873 \nQ 3191 2616 2906 2266 \nQ 2828 2175 2409 1742 \nQ 1991 1309 1228 531 \nz\n\" transform=\"scale(0.015625)\"/>\n       </defs>\n       <use xlink:href=\"#DejaVuSans-32\"/>\n      </g>\n     </g>\n    </g>\n    <g id=\"xtick_4\">\n     <g id=\"line2d_4\">\n      <g>\n       <use xlink:href=\"#m6e8fa806a4\" x=\"231.333061\" y=\"288.430125\" style=\"stroke: #000000; stroke-width: 0.8\"/>\n      </g>\n     </g>\n     <g id=\"text_4\">\n      <!-- 3 -->\n      <g transform=\"translate(228.151811 303.028562) scale(0.1 -0.1)\">\n       <defs>\n        <path id=\"DejaVuSans-33\" d=\"M 2597 2516 \nQ 3050 2419 3304 2112 \nQ 3559 1806 3559 1356 \nQ 3559 666 3084 287 \nQ 2609 -91 1734 -91 \nQ 1441 -91 1130 -33 \nQ 819 25 488 141 \nL 488 750 \nQ 750 597 1062 519 \nQ 1375 441 1716 441 \nQ 2309 441 2620 675 \nQ 2931 909 2931 1356 \nQ 2931 1769 2642 2001 \nQ 2353 2234 1838 2234 \nL 1294 2234 \nL 1294 2753 \nL 1863 2753 \nQ 2328 2753 2575 2939 \nQ 2822 3125 2822 3475 \nQ 2822 3834 2567 4026 \nQ 2313 4219 1838 4219 \nQ 1578 4219 1281 4162 \nQ 984 4106 628 3988 \nL 628 4550 \nQ 988 4650 1302 4700 \nQ 1616 4750 1894 4750 \nQ 2613 4750 3031 4423 \nQ 3450 4097 3450 3541 \nQ 3450 3153 3228 2886 \nQ 3006 2619 2597 2516 \nz\n\" transform=\"scale(0.015625)\"/>\n       </defs>\n       <use xlink:href=\"#DejaVuSans-33\"/>\n      </g>\n     </g>\n    </g>\n    <g id=\"xtick_5\">\n     <g id=\"line2d_5\">\n      <g>\n       <use xlink:href=\"#m6e8fa806a4\" x=\"283.52536\" y=\"288.430125\" style=\"stroke: #000000; stroke-width: 0.8\"/>\n      </g>\n     </g>\n     <g id=\"text_5\">\n      <!-- 4 -->\n      <g transform=\"translate(280.34411 303.028562) scale(0.1 -0.1)\">\n       <defs>\n        <path id=\"DejaVuSans-34\" d=\"M 2419 4116 \nL 825 1625 \nL 2419 1625 \nL 2419 4116 \nz\nM 2253 4666 \nL 3047 4666 \nL 3047 1625 \nL 3713 1625 \nL 3713 1100 \nL 3047 1100 \nL 3047 0 \nL 2419 0 \nL 2419 1100 \nL 313 1100 \nL 313 1709 \nL 2253 4666 \nz\n\" transform=\"scale(0.015625)\"/>\n       </defs>\n       <use xlink:href=\"#DejaVuSans-34\"/>\n      </g>\n     </g>\n    </g>\n    <g id=\"xtick_6\">\n     <g id=\"line2d_6\">\n      <g>\n       <use xlink:href=\"#m6e8fa806a4\" x=\"335.717658\" y=\"288.430125\" style=\"stroke: #000000; stroke-width: 0.8\"/>\n      </g>\n     </g>\n     <g id=\"text_6\">\n      <!-- 5 -->\n      <g transform=\"translate(332.536408 303.028562) scale(0.1 -0.1)\">\n       <defs>\n        <path id=\"DejaVuSans-35\" d=\"M 691 4666 \nL 3169 4666 \nL 3169 4134 \nL 1269 4134 \nL 1269 2991 \nQ 1406 3038 1543 3061 \nQ 1681 3084 1819 3084 \nQ 2600 3084 3056 2656 \nQ 3513 2228 3513 1497 \nQ 3513 744 3044 326 \nQ 2575 -91 1722 -91 \nQ 1428 -91 1123 -41 \nQ 819 9 494 109 \nL 494 744 \nQ 775 591 1075 516 \nQ 1375 441 1709 441 \nQ 2250 441 2565 725 \nQ 2881 1009 2881 1497 \nQ 2881 1984 2565 2268 \nQ 2250 2553 1709 2553 \nQ 1456 2553 1204 2497 \nQ 953 2441 691 2322 \nL 691 4666 \nz\n\" transform=\"scale(0.015625)\"/>\n       </defs>\n       <use xlink:href=\"#DejaVuSans-35\"/>\n      </g>\n     </g>\n    </g>\n    <g id=\"xtick_7\">\n     <g id=\"line2d_7\">\n      <g>\n       <use xlink:href=\"#m6e8fa806a4\" x=\"387.909957\" y=\"288.430125\" style=\"stroke: #000000; stroke-width: 0.8\"/>\n      </g>\n     </g>\n     <g id=\"text_7\">\n      <!-- 6 -->\n      <g transform=\"translate(384.728707 303.028562) scale(0.1 -0.1)\">\n       <defs>\n        <path id=\"DejaVuSans-36\" d=\"M 2113 2584 \nQ 1688 2584 1439 2293 \nQ 1191 2003 1191 1497 \nQ 1191 994 1439 701 \nQ 1688 409 2113 409 \nQ 2538 409 2786 701 \nQ 3034 994 3034 1497 \nQ 3034 2003 2786 2293 \nQ 2538 2584 2113 2584 \nz\nM 3366 4563 \nL 3366 3988 \nQ 3128 4100 2886 4159 \nQ 2644 4219 2406 4219 \nQ 1781 4219 1451 3797 \nQ 1122 3375 1075 2522 \nQ 1259 2794 1537 2939 \nQ 1816 3084 2150 3084 \nQ 2853 3084 3261 2657 \nQ 3669 2231 3669 1497 \nQ 3669 778 3244 343 \nQ 2819 -91 2113 -91 \nQ 1303 -91 875 529 \nQ 447 1150 447 2328 \nQ 447 3434 972 4092 \nQ 1497 4750 2381 4750 \nQ 2619 4750 2861 4703 \nQ 3103 4656 3366 4563 \nz\n\" transform=\"scale(0.015625)\"/>\n       </defs>\n       <use xlink:href=\"#DejaVuSans-36\"/>\n      </g>\n     </g>\n    </g>\n    <g id=\"text_8\">\n     <!-- theta [0, 2pi) -->\n     <g transform=\"translate(204.259219 316.706687) scale(0.1 -0.1)\">\n      <defs>\n       <path id=\"DejaVuSans-74\" d=\"M 1172 4494 \nL 1172 3500 \nL 2356 3500 \nL 2356 3053 \nL 1172 3053 \nL 1172 1153 \nQ 1172 725 1289 603 \nQ 1406 481 1766 481 \nL 2356 481 \nL 2356 0 \nL 1766 0 \nQ 1100 0 847 248 \nQ 594 497 594 1153 \nL 594 3053 \nL 172 3053 \nL 172 3500 \nL 594 3500 \nL 594 4494 \nL 1172 4494 \nz\n\" transform=\"scale(0.015625)\"/>\n       <path id=\"DejaVuSans-68\" d=\"M 3513 2113 \nL 3513 0 \nL 2938 0 \nL 2938 2094 \nQ 2938 2591 2744 2837 \nQ 2550 3084 2163 3084 \nQ 1697 3084 1428 2787 \nQ 1159 2491 1159 1978 \nL 1159 0 \nL 581 0 \nL 581 4863 \nL 1159 4863 \nL 1159 2956 \nQ 1366 3272 1645 3428 \nQ 1925 3584 2291 3584 \nQ 2894 3584 3203 3211 \nQ 3513 2838 3513 2113 \nz\n\" transform=\"scale(0.015625)\"/>\n       <path id=\"DejaVuSans-65\" d=\"M 3597 1894 \nL 3597 1613 \nL 953 1613 \nQ 991 1019 1311 708 \nQ 1631 397 2203 397 \nQ 2534 397 2845 478 \nQ 3156 559 3463 722 \nL 3463 178 \nQ 3153 47 2828 -22 \nQ 2503 -91 2169 -91 \nQ 1331 -91 842 396 \nQ 353 884 353 1716 \nQ 353 2575 817 3079 \nQ 1281 3584 2069 3584 \nQ 2775 3584 3186 3129 \nQ 3597 2675 3597 1894 \nz\nM 3022 2063 \nQ 3016 2534 2758 2815 \nQ 2500 3097 2075 3097 \nQ 1594 3097 1305 2825 \nQ 1016 2553 972 2059 \nL 3022 2063 \nz\n\" transform=\"scale(0.015625)\"/>\n       <path id=\"DejaVuSans-61\" d=\"M 2194 1759 \nQ 1497 1759 1228 1600 \nQ 959 1441 959 1056 \nQ 959 750 1161 570 \nQ 1363 391 1709 391 \nQ 2188 391 2477 730 \nQ 2766 1069 2766 1631 \nL 2766 1759 \nL 2194 1759 \nz\nM 3341 1997 \nL 3341 0 \nL 2766 0 \nL 2766 531 \nQ 2569 213 2275 61 \nQ 1981 -91 1556 -91 \nQ 1019 -91 701 211 \nQ 384 513 384 1019 \nQ 384 1609 779 1909 \nQ 1175 2209 1959 2209 \nL 2766 2209 \nL 2766 2266 \nQ 2766 2663 2505 2880 \nQ 2244 3097 1772 3097 \nQ 1472 3097 1187 3025 \nQ 903 2953 641 2809 \nL 641 3341 \nQ 956 3463 1253 3523 \nQ 1550 3584 1831 3584 \nQ 2591 3584 2966 3190 \nQ 3341 2797 3341 1997 \nz\n\" transform=\"scale(0.015625)\"/>\n       <path id=\"DejaVuSans-20\" transform=\"scale(0.015625)\"/>\n       <path id=\"DejaVuSans-5b\" d=\"M 550 4863 \nL 1875 4863 \nL 1875 4416 \nL 1125 4416 \nL 1125 -397 \nL 1875 -397 \nL 1875 -844 \nL 550 -844 \nL 550 4863 \nz\n\" transform=\"scale(0.015625)\"/>\n       <path id=\"DejaVuSans-2c\" d=\"M 750 794 \nL 1409 794 \nL 1409 256 \nL 897 -744 \nL 494 -744 \nL 750 256 \nL 750 794 \nz\n\" transform=\"scale(0.015625)\"/>\n       <path id=\"DejaVuSans-70\" d=\"M 1159 525 \nL 1159 -1331 \nL 581 -1331 \nL 581 3500 \nL 1159 3500 \nL 1159 2969 \nQ 1341 3281 1617 3432 \nQ 1894 3584 2278 3584 \nQ 2916 3584 3314 3078 \nQ 3713 2572 3713 1747 \nQ 3713 922 3314 415 \nQ 2916 -91 2278 -91 \nQ 1894 -91 1617 61 \nQ 1341 213 1159 525 \nz\nM 3116 1747 \nQ 3116 2381 2855 2742 \nQ 2594 3103 2138 3103 \nQ 1681 3103 1420 2742 \nQ 1159 2381 1159 1747 \nQ 1159 1113 1420 752 \nQ 1681 391 2138 391 \nQ 2594 391 2855 752 \nQ 3116 1113 3116 1747 \nz\n\" transform=\"scale(0.015625)\"/>\n       <path id=\"DejaVuSans-69\" d=\"M 603 3500 \nL 1178 3500 \nL 1178 0 \nL 603 0 \nL 603 3500 \nz\nM 603 4863 \nL 1178 4863 \nL 1178 4134 \nL 603 4134 \nL 603 4863 \nz\n\" transform=\"scale(0.015625)\"/>\n       <path id=\"DejaVuSans-29\" d=\"M 513 4856 \nL 1013 4856 \nQ 1481 4119 1714 3412 \nQ 1947 2706 1947 2009 \nQ 1947 1309 1714 600 \nQ 1481 -109 1013 -844 \nL 513 -844 \nQ 928 -128 1133 580 \nQ 1338 1288 1338 2009 \nQ 1338 2731 1133 3434 \nQ 928 4138 513 4856 \nz\n\" transform=\"scale(0.015625)\"/>\n      </defs>\n      <use xlink:href=\"#DejaVuSans-74\"/>\n      <use xlink:href=\"#DejaVuSans-68\" transform=\"translate(39.208984 0)\"/>\n      <use xlink:href=\"#DejaVuSans-65\" transform=\"translate(102.587891 0)\"/>\n      <use xlink:href=\"#DejaVuSans-74\" transform=\"translate(164.111328 0)\"/>\n      <use xlink:href=\"#DejaVuSans-61\" transform=\"translate(203.320312 0)\"/>\n      <use xlink:href=\"#DejaVuSans-20\" transform=\"translate(264.599609 0)\"/>\n      <use xlink:href=\"#DejaVuSans-5b\" transform=\"translate(296.386719 0)\"/>\n      <use xlink:href=\"#DejaVuSans-30\" transform=\"translate(335.400391 0)\"/>\n      <use xlink:href=\"#DejaVuSans-2c\" transform=\"translate(399.023438 0)\"/>\n      <use xlink:href=\"#DejaVuSans-20\" transform=\"translate(430.810547 0)\"/>\n      <use xlink:href=\"#DejaVuSans-32\" transform=\"translate(462.597656 0)\"/>\n      <use xlink:href=\"#DejaVuSans-70\" transform=\"translate(526.220703 0)\"/>\n      <use xlink:href=\"#DejaVuSans-69\" transform=\"translate(589.697266 0)\"/>\n      <use xlink:href=\"#DejaVuSans-29\" transform=\"translate(617.480469 0)\"/>\n     </g>\n    </g>\n   </g>\n   <g id=\"matplotlib.axis_2\">\n    <g id=\"ytick_1\">\n     <g id=\"line2d_8\">\n      <defs>\n       <path id=\"m5fa5081397\" d=\"M 0 0 \nL -3.5 0 \n\" style=\"stroke: #000000; stroke-width: 0.8\"/>\n      </defs>\n      <g>\n       <use xlink:href=\"#m5fa5081397\" x=\"58.523438\" y=\"266.474716\" style=\"stroke: #000000; stroke-width: 0.8\"/>\n      </g>\n     </g>\n     <g id=\"text_9\">\n      <!-- −10.0 -->\n      <g transform=\"translate(20.878125 270.273935) scale(0.1 -0.1)\">\n       <defs>\n        <path id=\"DejaVuSans-2212\" d=\"M 678 2272 \nL 4684 2272 \nL 4684 1741 \nL 678 1741 \nL 678 2272 \nz\n\" transform=\"scale(0.015625)\"/>\n        <path id=\"DejaVuSans-2e\" d=\"M 684 794 \nL 1344 794 \nL 1344 0 \nL 684 0 \nL 684 794 \nz\n\" transform=\"scale(0.015625)\"/>\n       </defs>\n       <use xlink:href=\"#DejaVuSans-2212\"/>\n       <use xlink:href=\"#DejaVuSans-31\" transform=\"translate(83.789062 0)\"/>\n       <use xlink:href=\"#DejaVuSans-30\" transform=\"translate(147.412109 0)\"/>\n       <use xlink:href=\"#DejaVuSans-2e\" transform=\"translate(211.035156 0)\"/>\n       <use xlink:href=\"#DejaVuSans-30\" transform=\"translate(242.822266 0)\"/>\n      </g>\n     </g>\n    </g>\n    <g id=\"ytick_2\">\n     <g id=\"line2d_9\">\n      <g>\n       <use xlink:href=\"#m5fa5081397\" x=\"58.523438\" y=\"236.824343\" style=\"stroke: #000000; stroke-width: 0.8\"/>\n      </g>\n     </g>\n     <g id=\"text_10\">\n      <!-- −7.5 -->\n      <g transform=\"translate(27.240625 240.623561) scale(0.1 -0.1)\">\n       <defs>\n        <path id=\"DejaVuSans-37\" d=\"M 525 4666 \nL 3525 4666 \nL 3525 4397 \nL 1831 0 \nL 1172 0 \nL 2766 4134 \nL 525 4134 \nL 525 4666 \nz\n\" transform=\"scale(0.015625)\"/>\n       </defs>\n       <use xlink:href=\"#DejaVuSans-2212\"/>\n       <use xlink:href=\"#DejaVuSans-37\" transform=\"translate(83.789062 0)\"/>\n       <use xlink:href=\"#DejaVuSans-2e\" transform=\"translate(147.412109 0)\"/>\n       <use xlink:href=\"#DejaVuSans-35\" transform=\"translate(179.199219 0)\"/>\n      </g>\n     </g>\n    </g>\n    <g id=\"ytick_3\">\n     <g id=\"line2d_10\">\n      <g>\n       <use xlink:href=\"#m5fa5081397\" x=\"58.523438\" y=\"207.173969\" style=\"stroke: #000000; stroke-width: 0.8\"/>\n      </g>\n     </g>\n     <g id=\"text_11\">\n      <!-- −5.0 -->\n      <g transform=\"translate(27.240625 210.973188) scale(0.1 -0.1)\">\n       <use xlink:href=\"#DejaVuSans-2212\"/>\n       <use xlink:href=\"#DejaVuSans-35\" transform=\"translate(83.789062 0)\"/>\n       <use xlink:href=\"#DejaVuSans-2e\" transform=\"translate(147.412109 0)\"/>\n       <use xlink:href=\"#DejaVuSans-30\" transform=\"translate(179.199219 0)\"/>\n      </g>\n     </g>\n    </g>\n    <g id=\"ytick_4\">\n     <g id=\"line2d_11\">\n      <g>\n       <use xlink:href=\"#m5fa5081397\" x=\"58.523438\" y=\"177.523596\" style=\"stroke: #000000; stroke-width: 0.8\"/>\n      </g>\n     </g>\n     <g id=\"text_12\">\n      <!-- −2.5 -->\n      <g transform=\"translate(27.240625 181.322814) scale(0.1 -0.1)\">\n       <use xlink:href=\"#DejaVuSans-2212\"/>\n       <use xlink:href=\"#DejaVuSans-32\" transform=\"translate(83.789062 0)\"/>\n       <use xlink:href=\"#DejaVuSans-2e\" transform=\"translate(147.412109 0)\"/>\n       <use xlink:href=\"#DejaVuSans-35\" transform=\"translate(179.199219 0)\"/>\n      </g>\n     </g>\n    </g>\n    <g id=\"ytick_5\">\n     <g id=\"line2d_12\">\n      <g>\n       <use xlink:href=\"#m5fa5081397\" x=\"58.523438\" y=\"147.873222\" style=\"stroke: #000000; stroke-width: 0.8\"/>\n      </g>\n     </g>\n     <g id=\"text_13\">\n      <!-- 0.0 -->\n      <g transform=\"translate(35.620313 151.672441) scale(0.1 -0.1)\">\n       <use xlink:href=\"#DejaVuSans-30\"/>\n       <use xlink:href=\"#DejaVuSans-2e\" transform=\"translate(63.623047 0)\"/>\n       <use xlink:href=\"#DejaVuSans-30\" transform=\"translate(95.410156 0)\"/>\n      </g>\n     </g>\n    </g>\n    <g id=\"ytick_6\">\n     <g id=\"line2d_13\">\n      <g>\n       <use xlink:href=\"#m5fa5081397\" x=\"58.523438\" y=\"118.222848\" style=\"stroke: #000000; stroke-width: 0.8\"/>\n      </g>\n     </g>\n     <g id=\"text_14\">\n      <!-- 2.5 -->\n      <g transform=\"translate(35.620313 122.022067) scale(0.1 -0.1)\">\n       <use xlink:href=\"#DejaVuSans-32\"/>\n       <use xlink:href=\"#DejaVuSans-2e\" transform=\"translate(63.623047 0)\"/>\n       <use xlink:href=\"#DejaVuSans-35\" transform=\"translate(95.410156 0)\"/>\n      </g>\n     </g>\n    </g>\n    <g id=\"ytick_7\">\n     <g id=\"line2d_14\">\n      <g>\n       <use xlink:href=\"#m5fa5081397\" x=\"58.523438\" y=\"88.572475\" style=\"stroke: #000000; stroke-width: 0.8\"/>\n      </g>\n     </g>\n     <g id=\"text_15\">\n      <!-- 5.0 -->\n      <g transform=\"translate(35.620313 92.371694) scale(0.1 -0.1)\">\n       <use xlink:href=\"#DejaVuSans-35\"/>\n       <use xlink:href=\"#DejaVuSans-2e\" transform=\"translate(63.623047 0)\"/>\n       <use xlink:href=\"#DejaVuSans-30\" transform=\"translate(95.410156 0)\"/>\n      </g>\n     </g>\n    </g>\n    <g id=\"ytick_8\">\n     <g id=\"line2d_15\">\n      <g>\n       <use xlink:href=\"#m5fa5081397\" x=\"58.523438\" y=\"58.922101\" style=\"stroke: #000000; stroke-width: 0.8\"/>\n      </g>\n     </g>\n     <g id=\"text_16\">\n      <!-- 7.5 -->\n      <g transform=\"translate(35.620313 62.72132) scale(0.1 -0.1)\">\n       <use xlink:href=\"#DejaVuSans-37\"/>\n       <use xlink:href=\"#DejaVuSans-2e\" transform=\"translate(63.623047 0)\"/>\n       <use xlink:href=\"#DejaVuSans-35\" transform=\"translate(95.410156 0)\"/>\n      </g>\n     </g>\n    </g>\n    <g id=\"ytick_9\">\n     <g id=\"line2d_16\">\n      <g>\n       <use xlink:href=\"#m5fa5081397\" x=\"58.523438\" y=\"29.271728\" style=\"stroke: #000000; stroke-width: 0.8\"/>\n      </g>\n     </g>\n     <g id=\"text_17\">\n      <!-- 10.0 -->\n      <g transform=\"translate(29.257813 33.070947) scale(0.1 -0.1)\">\n       <use xlink:href=\"#DejaVuSans-31\"/>\n       <use xlink:href=\"#DejaVuSans-30\" transform=\"translate(63.623047 0)\"/>\n       <use xlink:href=\"#DejaVuSans-2e\" transform=\"translate(127.246094 0)\"/>\n       <use xlink:href=\"#DejaVuSans-30\" transform=\"translate(159.033203 0)\"/>\n      </g>\n     </g>\n    </g>\n    <g id=\"text_18\">\n     <!-- f(g) -->\n     <g transform=\"translate(14.798438 164.210062) rotate(-90) scale(0.1 -0.1)\">\n      <defs>\n       <path id=\"DejaVuSans-66\" d=\"M 2375 4863 \nL 2375 4384 \nL 1825 4384 \nQ 1516 4384 1395 4259 \nQ 1275 4134 1275 3809 \nL 1275 3500 \nL 2222 3500 \nL 2222 3053 \nL 1275 3053 \nL 1275 0 \nL 697 0 \nL 697 3053 \nL 147 3053 \nL 147 3500 \nL 697 3500 \nL 697 3744 \nQ 697 4328 969 4595 \nQ 1241 4863 1831 4863 \nL 2375 4863 \nz\n\" transform=\"scale(0.015625)\"/>\n       <path id=\"DejaVuSans-28\" d=\"M 1984 4856 \nQ 1566 4138 1362 3434 \nQ 1159 2731 1159 2009 \nQ 1159 1288 1364 580 \nQ 1569 -128 1984 -844 \nL 1484 -844 \nQ 1016 -109 783 600 \nQ 550 1309 550 2009 \nQ 550 2706 781 3412 \nQ 1013 4119 1484 4856 \nL 1984 4856 \nz\n\" transform=\"scale(0.015625)\"/>\n       <path id=\"DejaVuSans-67\" d=\"M 2906 1791 \nQ 2906 2416 2648 2759 \nQ 2391 3103 1925 3103 \nQ 1463 3103 1205 2759 \nQ 947 2416 947 1791 \nQ 947 1169 1205 825 \nQ 1463 481 1925 481 \nQ 2391 481 2648 825 \nQ 2906 1169 2906 1791 \nz\nM 3481 434 \nQ 3481 -459 3084 -895 \nQ 2688 -1331 1869 -1331 \nQ 1566 -1331 1297 -1286 \nQ 1028 -1241 775 -1147 \nL 775 -588 \nQ 1028 -725 1275 -790 \nQ 1522 -856 1778 -856 \nQ 2344 -856 2625 -561 \nQ 2906 -266 2906 331 \nL 2906 616 \nQ 2728 306 2450 153 \nQ 2172 0 1784 0 \nQ 1141 0 747 490 \nQ 353 981 353 1791 \nQ 353 2603 747 3093 \nQ 1141 3584 1784 3584 \nQ 2172 3584 2450 3431 \nQ 2728 3278 2906 2969 \nL 2906 3500 \nL 3481 3500 \nL 3481 434 \nz\n\" transform=\"scale(0.015625)\"/>\n      </defs>\n      <use xlink:href=\"#DejaVuSans-66\"/>\n      <use xlink:href=\"#DejaVuSans-28\" transform=\"translate(35.205078 0)\"/>\n      <use xlink:href=\"#DejaVuSans-67\" transform=\"translate(74.21875 0)\"/>\n      <use xlink:href=\"#DejaVuSans-29\" transform=\"translate(137.695312 0)\"/>\n     </g>\n    </g>\n   </g>\n   <g id=\"line2d_17\">\n    <path d=\"M 74.756165 168.925842 \nL 78.035504 156.818035 \nL 81.314842 140.653781 \nL 84.594181 122.183301 \nL 87.87352 103.428486 \nL 91.152859 86.407891 \nL 94.432198 72.891966 \nL 97.711537 64.219154 \nL 100.990876 61.189707 \nL 104.270214 64.039345 \nL 107.549553 72.482126 \nL 110.828892 85.803009 \nL 114.108231 102.976865 \nL 117.38757 122.792011 \nL 120.666909 143.961592 \nL 123.946247 165.213729 \nL 127.225586 185.358938 \nL 130.504925 203.339377 \nL 133.784264 218.267397 \nL 137.063603 229.460514 \nL 140.342942 236.476514 \nL 143.62228 239.147393 \nL 146.901619 237.605691 \nL 150.180958 232.293307 \nL 153.460297 223.942277 \nL 156.739636 213.519891 \nL 160.018975 202.136509 \nL 163.298314 190.92246 \nL 166.577652 180.888564 \nL 169.856991 172.791274 \nL 173.13633 167.026245 \nL 176.415669 163.57233 \nL 179.695008 162.001255 \nL 182.974347 161.557577 \nL 186.253685 161.300585 \nL 189.533024 160.287283 \nL 192.812363 157.765784 \nL 196.091702 153.343868 \nL 199.371041 147.099235 \nL 202.65038 139.60641 \nL 205.929718 131.869173 \nL 209.209057 125.164404 \nL 212.488396 120.820416 \nL 215.767735 119.966766 \nL 219.047074 123.30039 \nL 222.326413 130.912841 \nL 225.605752 142.21489 \nL 228.88509 155.978943 \nL 232.164429 170.499235 \nL 235.443768 183.848013 \nL 238.723107 194.187134 \nL 242.002446 200.082051 \nL 245.281785 200.761895 \nL 248.561123 196.276175 \nL 251.840462 187.514778 \nL 255.119801 176.080956 \nL 258.39914 164.03287 \nL 261.678479 153.533573 \nL 264.957818 146.467422 \nL 268.237157 144.089508 \nL 271.516495 146.771688 \nL 274.795834 153.894424 \nL 278.075173 163.910013 \nL 281.354512 174.573705 \nL 284.633851 183.309813 \nL 287.91319 187.655098 \nL 291.192528 185.70628 \nL 294.471867 176.495102 \nL 297.751206 160.224151 \nL 301.030545 138.318093 \nL 304.309884 113.274712 \nL 307.589223 88.33328 \nL 310.868561 67.008643 \nL 314.1479 52.562812 \nL 317.427239 47.497588 \nL 320.706578 53.149839 \nL 323.985917 69.455578 \nL 327.265256 94.92249 \nL 330.544595 126.817409 \nL 333.823933 161.540916 \nL 337.103272 195.131472 \nL 340.382611 223.821128 \nL 343.66195 244.557287 \nL 346.941289 255.411228 \nL 350.220628 255.813075 \nL 353.499966 246.581171 \nL 356.779305 229.746701 \nL 360.058644 208.206377 \nL 363.337983 185.261823 \nL 366.617322 164.120021 \nL 369.896661 147.432445 \nL 373.175999 136.941297 \nL 376.455338 133.281502 \nL 379.734677 135.960467 \nL 383.014016 143.508765 \nL 386.293355 153.768652 \nL 389.572694 164.267834 \nL 392.852033 172.616005 \nL 396.131371 176.862408 \nL 399.41071 175.763257 \n\" clip-path=\"url(#p77a6336b26)\" style=\"fill: none; stroke: #1f77b4; stroke-width: 2; stroke-linecap: square\"/>\n   </g>\n   <g id=\"line2d_18\">\n    <path d=\"M 74.756165 131.634776 \nL 78.035504 115.672816 \nL 81.314842 101.292633 \nL 84.594181 90.611156 \nL 87.87352 85.04674 \nL 91.152859 85.115534 \nL 94.432198 90.393655 \nL 97.711537 99.648147 \nL 100.990876 111.10831 \nL 104.270214 122.823273 \nL 107.549553 133.036607 \nL 110.828892 140.506941 \nL 114.108231 144.71537 \nL 117.38757 145.923339 \nL 120.666909 145.074309 \nL 123.946247 143.562954 \nL 127.225586 142.921051 \nL 130.504925 144.484714 \nL 133.784264 149.110169 \nL 137.063603 156.994584 \nL 140.342942 167.636585 \nL 143.62228 179.942491 \nL 146.901619 192.454652 \nL 150.180958 203.653388 \nL 153.460297 212.269033 \nL 156.739636 217.538364 \nL 160.018975 219.35087 \nL 163.298314 218.252732 \nL 166.577652 215.305629 \nL 169.856991 211.827845 \nL 173.13633 209.070489 \nL 176.415669 207.896782 \nL 179.695008 208.534139 \nL 182.974347 210.45636 \nL 186.253685 212.428918 \nL 189.533024 212.718449 \nL 192.812363 209.434229 \nL 196.091702 200.941153 \nL 199.371041 186.266162 \nL 202.65038 165.416936 \nL 205.929718 139.544035 \nL 209.209057 110.903726 \nL 212.488396 82.613856 \nL 215.767735 58.233141 \nL 219.047074 41.227976 \nL 222.326413 34.414125 \nL 225.605752 39.468705 \nL 228.88509 56.59908 \nL 232.164429 84.430701 \nL 235.443768 120.139842 \nL 238.723107 159.8158 \nL 242.002446 198.997816 \nL 245.281785 233.301761 \nL 248.561123 259.035888 \nL 251.840462 273.706629 \nL 255.119801 276.334125 \nL 258.39914 267.529685 \nL 261.678479 249.327833 \nL 264.957818 224.806844 \nL 268.237157 197.566403 \nL 271.516495 171.153229 \nL 274.795834 148.531404 \nL 278.075173 131.683081 \nL 281.354512 121.399399 \nL 284.633851 117.28596 \nL 287.91319 117.968545 \nL 291.192528 121.450047 \nL 294.471867 125.54506 \nL 297.751206 128.308309 \nL 301.030545 128.378661 \nL 304.309884 125.180285 \nL 307.589223 118.952473 \nL 310.868561 110.613828 \nL 314.1479 101.498238 \nL 317.427239 93.023522 \nL 320.706578 86.364318 \nL 323.985917 82.197171 \nL 327.265256 80.568803 \nL 330.544595 80.911788 \nL 333.823933 82.200864 \nL 337.103272 83.213977 \nL 340.382611 82.840659 \nL 343.66195 80.370701 \nL 346.941289 75.700075 \nL 350.220628 69.407844 \nL 353.499966 62.68403 \nL 356.779305 57.118826 \nL 360.058644 54.392158 \nL 363.337983 55.923689 \nL 366.617322 62.552788 \nL 369.896661 74.313754 \nL 373.175999 90.354429 \nL 376.455338 109.019516 \nL 379.734677 128.088554 \nL 383.014016 145.128604 \nL 386.293355 157.899092 \nL 389.572694 164.735298 \nL 392.852033 164.839857 \nL 396.131371 158.427936 \nL 399.41071 146.698338 \n\" clip-path=\"url(#p77a6336b26)\" style=\"fill: none; stroke: #ff7f0e; stroke-width: 2; stroke-linecap: square\"/>\n   </g>\n   <g id=\"patch_3\">\n    <path d=\"M 58.523438 288.430125 \nL 58.523438 22.318125 \n\" style=\"fill: none; stroke: #000000; stroke-width: 0.8; stroke-linejoin: miter; stroke-linecap: square\"/>\n   </g>\n   <g id=\"patch_4\">\n    <path d=\"M 415.643438 288.430125 \nL 415.643438 22.318125 \n\" style=\"fill: none; stroke: #000000; stroke-width: 0.8; stroke-linejoin: miter; stroke-linecap: square\"/>\n   </g>\n   <g id=\"patch_5\">\n    <path d=\"M 58.523438 288.430125 \nL 415.643438 288.430125 \n\" style=\"fill: none; stroke: #000000; stroke-width: 0.8; stroke-linejoin: miter; stroke-linecap: square\"/>\n   </g>\n   <g id=\"patch_6\">\n    <path d=\"M 58.523438 22.318125 \nL 415.643438 22.318125 \n\" style=\"fill: none; stroke: #000000; stroke-width: 0.8; stroke-linejoin: miter; stroke-linecap: square\"/>\n   </g>\n   <g id=\"text_19\">\n    <!-- f -->\n    <g transform=\"translate(234.97125 16.318125) scale(0.12 -0.12)\">\n     <use xlink:href=\"#DejaVuSans-66\"/>\n    </g>\n   </g>\n   <g id=\"legend_1\">\n    <g id=\"patch_7\">\n     <path d=\"M 65.523438 59.674375 \nL 203.820312 59.674375 \nQ 205.820312 59.674375 205.820312 57.674375 \nL 205.820312 29.318125 \nQ 205.820312 27.318125 203.820312 27.318125 \nL 65.523438 27.318125 \nQ 63.523438 27.318125 63.523438 29.318125 \nL 63.523438 57.674375 \nQ 63.523438 59.674375 65.523438 59.674375 \nz\n\" style=\"fill: #ffffff; opacity: 0.8; stroke: #cccccc; stroke-linejoin: miter\"/>\n    </g>\n    <g id=\"line2d_19\">\n     <path d=\"M 67.523438 35.416562 \nL 77.523438 35.416562 \nL 87.523438 35.416562 \n\" style=\"fill: none; stroke: #1f77b4; stroke-width: 2; stroke-linecap: square\"/>\n    </g>\n    <g id=\"text_20\">\n     <!-- rotations -->\n     <g transform=\"translate(95.523438 38.916562) scale(0.1 -0.1)\">\n      <defs>\n       <path id=\"DejaVuSans-72\" d=\"M 2631 2963 \nQ 2534 3019 2420 3045 \nQ 2306 3072 2169 3072 \nQ 1681 3072 1420 2755 \nQ 1159 2438 1159 1844 \nL 1159 0 \nL 581 0 \nL 581 3500 \nL 1159 3500 \nL 1159 2956 \nQ 1341 3275 1631 3429 \nQ 1922 3584 2338 3584 \nQ 2397 3584 2469 3576 \nQ 2541 3569 2628 3553 \nL 2631 2963 \nz\n\" transform=\"scale(0.015625)\"/>\n       <path id=\"DejaVuSans-6f\" d=\"M 1959 3097 \nQ 1497 3097 1228 2736 \nQ 959 2375 959 1747 \nQ 959 1119 1226 758 \nQ 1494 397 1959 397 \nQ 2419 397 2687 759 \nQ 2956 1122 2956 1747 \nQ 2956 2369 2687 2733 \nQ 2419 3097 1959 3097 \nz\nM 1959 3584 \nQ 2709 3584 3137 3096 \nQ 3566 2609 3566 1747 \nQ 3566 888 3137 398 \nQ 2709 -91 1959 -91 \nQ 1206 -91 779 398 \nQ 353 888 353 1747 \nQ 353 2609 779 3096 \nQ 1206 3584 1959 3584 \nz\n\" transform=\"scale(0.015625)\"/>\n       <path id=\"DejaVuSans-6e\" d=\"M 3513 2113 \nL 3513 0 \nL 2938 0 \nL 2938 2094 \nQ 2938 2591 2744 2837 \nQ 2550 3084 2163 3084 \nQ 1697 3084 1428 2787 \nQ 1159 2491 1159 1978 \nL 1159 0 \nL 581 0 \nL 581 3500 \nL 1159 3500 \nL 1159 2956 \nQ 1366 3272 1645 3428 \nQ 1925 3584 2291 3584 \nQ 2894 3584 3203 3211 \nQ 3513 2838 3513 2113 \nz\n\" transform=\"scale(0.015625)\"/>\n       <path id=\"DejaVuSans-73\" d=\"M 2834 3397 \nL 2834 2853 \nQ 2591 2978 2328 3040 \nQ 2066 3103 1784 3103 \nQ 1356 3103 1142 2972 \nQ 928 2841 928 2578 \nQ 928 2378 1081 2264 \nQ 1234 2150 1697 2047 \nL 1894 2003 \nQ 2506 1872 2764 1633 \nQ 3022 1394 3022 966 \nQ 3022 478 2636 193 \nQ 2250 -91 1575 -91 \nQ 1294 -91 989 -36 \nQ 684 19 347 128 \nL 347 722 \nQ 666 556 975 473 \nQ 1284 391 1588 391 \nQ 1994 391 2212 530 \nQ 2431 669 2431 922 \nQ 2431 1156 2273 1281 \nQ 2116 1406 1581 1522 \nL 1381 1569 \nQ 847 1681 609 1914 \nQ 372 2147 372 2553 \nQ 372 3047 722 3315 \nQ 1072 3584 1716 3584 \nQ 2034 3584 2315 3537 \nQ 2597 3491 2834 3397 \nz\n\" transform=\"scale(0.015625)\"/>\n      </defs>\n      <use xlink:href=\"#DejaVuSans-72\"/>\n      <use xlink:href=\"#DejaVuSans-6f\" transform=\"translate(38.863281 0)\"/>\n      <use xlink:href=\"#DejaVuSans-74\" transform=\"translate(100.044922 0)\"/>\n      <use xlink:href=\"#DejaVuSans-61\" transform=\"translate(139.253906 0)\"/>\n      <use xlink:href=\"#DejaVuSans-74\" transform=\"translate(200.533203 0)\"/>\n      <use xlink:href=\"#DejaVuSans-69\" transform=\"translate(239.742188 0)\"/>\n      <use xlink:href=\"#DejaVuSans-6f\" transform=\"translate(267.525391 0)\"/>\n      <use xlink:href=\"#DejaVuSans-6e\" transform=\"translate(328.707031 0)\"/>\n      <use xlink:href=\"#DejaVuSans-73\" transform=\"translate(392.085938 0)\"/>\n     </g>\n    </g>\n    <g id=\"line2d_20\">\n     <path d=\"M 67.523438 50.094687 \nL 77.523438 50.094687 \nL 87.523438 50.094687 \n\" style=\"fill: none; stroke: #ff7f0e; stroke-width: 2; stroke-linecap: square\"/>\n    </g>\n    <g id=\"text_21\">\n     <!-- reflection + rotations -->\n     <g transform=\"translate(95.523438 53.594687) scale(0.1 -0.1)\">\n      <defs>\n       <path id=\"DejaVuSans-6c\" d=\"M 603 4863 \nL 1178 4863 \nL 1178 0 \nL 603 0 \nL 603 4863 \nz\n\" transform=\"scale(0.015625)\"/>\n       <path id=\"DejaVuSans-63\" d=\"M 3122 3366 \nL 3122 2828 \nQ 2878 2963 2633 3030 \nQ 2388 3097 2138 3097 \nQ 1578 3097 1268 2742 \nQ 959 2388 959 1747 \nQ 959 1106 1268 751 \nQ 1578 397 2138 397 \nQ 2388 397 2633 464 \nQ 2878 531 3122 666 \nL 3122 134 \nQ 2881 22 2623 -34 \nQ 2366 -91 2075 -91 \nQ 1284 -91 818 406 \nQ 353 903 353 1747 \nQ 353 2603 823 3093 \nQ 1294 3584 2113 3584 \nQ 2378 3584 2631 3529 \nQ 2884 3475 3122 3366 \nz\n\" transform=\"scale(0.015625)\"/>\n       <path id=\"DejaVuSans-2b\" d=\"M 2944 4013 \nL 2944 2272 \nL 4684 2272 \nL 4684 1741 \nL 2944 1741 \nL 2944 0 \nL 2419 0 \nL 2419 1741 \nL 678 1741 \nL 678 2272 \nL 2419 2272 \nL 2419 4013 \nL 2944 4013 \nz\n\" transform=\"scale(0.015625)\"/>\n      </defs>\n      <use xlink:href=\"#DejaVuSans-72\"/>\n      <use xlink:href=\"#DejaVuSans-65\" transform=\"translate(38.863281 0)\"/>\n      <use xlink:href=\"#DejaVuSans-66\" transform=\"translate(100.386719 0)\"/>\n      <use xlink:href=\"#DejaVuSans-6c\" transform=\"translate(135.591797 0)\"/>\n      <use xlink:href=\"#DejaVuSans-65\" transform=\"translate(163.375 0)\"/>\n      <use xlink:href=\"#DejaVuSans-63\" transform=\"translate(224.898438 0)\"/>\n      <use xlink:href=\"#DejaVuSans-74\" transform=\"translate(279.878906 0)\"/>\n      <use xlink:href=\"#DejaVuSans-69\" transform=\"translate(319.087891 0)\"/>\n      <use xlink:href=\"#DejaVuSans-6f\" transform=\"translate(346.871094 0)\"/>\n      <use xlink:href=\"#DejaVuSans-6e\" transform=\"translate(408.052734 0)\"/>\n      <use xlink:href=\"#DejaVuSans-20\" transform=\"translate(471.431641 0)\"/>\n      <use xlink:href=\"#DejaVuSans-2b\" transform=\"translate(503.21875 0)\"/>\n      <use xlink:href=\"#DejaVuSans-20\" transform=\"translate(587.007812 0)\"/>\n      <use xlink:href=\"#DejaVuSans-72\" transform=\"translate(618.794922 0)\"/>\n      <use xlink:href=\"#DejaVuSans-6f\" transform=\"translate(657.658203 0)\"/>\n      <use xlink:href=\"#DejaVuSans-74\" transform=\"translate(718.839844 0)\"/>\n      <use xlink:href=\"#DejaVuSans-61\" transform=\"translate(758.048828 0)\"/>\n      <use xlink:href=\"#DejaVuSans-74\" transform=\"translate(819.328125 0)\"/>\n      <use xlink:href=\"#DejaVuSans-69\" transform=\"translate(858.537109 0)\"/>\n      <use xlink:href=\"#DejaVuSans-6f\" transform=\"translate(886.320312 0)\"/>\n      <use xlink:href=\"#DejaVuSans-6e\" transform=\"translate(947.501953 0)\"/>\n      <use xlink:href=\"#DejaVuSans-73\" transform=\"translate(1010.880859 0)\"/>\n     </g>\n    </g>\n   </g>\n  </g>\n </g>\n <defs>\n  <clipPath id=\"p77a6336b26\">\n   <rect x=\"58.523438\" y=\"22.318125\" width=\"357.12\" height=\"266.112\"/>\n  </clipPath>\n </defs>\n</svg>\n",
            "application/pdf": "[encoded data removed]"
          },
          "metadata": {}
        },
        {
          "output_type": "display_data",
          "data": {
            "text/plain": [
              "<Figure size 640x480 with 1 Axes>"
            ],
            "image/svg+xml": "<?xml version=\"1.0\" encoding=\"utf-8\" standalone=\"no\"?>\n<!DOCTYPE svg PUBLIC \"-//W3C//DTD SVG 1.1//EN\"\n  \"http://www.w3.org/Graphics/SVG/1.1/DTD/svg11.dtd\">\n<svg xmlns:xlink=\"http://www.w3.org/1999/xlink\" width=\"422.843437pt\" height=\"325.986375pt\" viewBox=\"0 0 422.843437 325.986375\" xmlns=\"http://www.w3.org/2000/svg\" version=\"1.1\">\n <metadata>\n  <rdf:RDF xmlns:dc=\"http://purl.org/dc/elements/1.1/\" xmlns:cc=\"http://creativecommons.org/ns#\" xmlns:rdf=\"http://www.w3.org/1999/02/22-rdf-syntax-ns#\">\n   <cc:Work>\n    <dc:type rdf:resource=\"http://purl.org/dc/dcmitype/StillImage\"/>\n    <dc:date>2025-01-09T12:19:59.802193</dc:date>\n    <dc:format>image/svg+xml</dc:format>\n    <dc:creator>\n     <cc:Agent>\n      <dc:title>Matplotlib v3.10.0, https://matplotlib.org/</dc:title>\n     </cc:Agent>\n    </dc:creator>\n   </cc:Work>\n  </rdf:RDF>\n </metadata>\n <defs>\n  <style type=\"text/css\">*{stroke-linejoin: round; stroke-linecap: butt}</style>\n </defs>\n <g id=\"figure_1\">\n  <g id=\"patch_1\">\n   <path d=\"M 0 325.986375 \nL 422.843437 325.986375 \nL 422.843437 0 \nL 0 0 \nz\n\" style=\"fill: #ffffff\"/>\n  </g>\n  <g id=\"axes_1\">\n   <g id=\"patch_2\">\n    <path d=\"M 58.523438 288.430125 \nL 415.643438 288.430125 \nL 415.643438 22.318125 \nL 58.523438 22.318125 \nz\n\" style=\"fill: #ffffff\"/>\n   </g>\n   <g id=\"matplotlib.axis_1\">\n    <g id=\"xtick_1\">\n     <g id=\"line2d_1\">\n      <defs>\n       <path id=\"mc91b0ec08a\" d=\"M 0 0 \nL 0 3.5 \n\" style=\"stroke: #000000; stroke-width: 0.8\"/>\n      </defs>\n      <g>\n       <use xlink:href=\"#mc91b0ec08a\" x=\"74.756165\" y=\"288.430125\" style=\"stroke: #000000; stroke-width: 0.8\"/>\n      </g>\n     </g>\n     <g id=\"text_1\">\n      <!-- 0 -->\n      <g transform=\"translate(71.574915 303.028562) scale(0.1 -0.1)\">\n       <defs>\n        <path id=\"DejaVuSans-30\" d=\"M 2034 4250 \nQ 1547 4250 1301 3770 \nQ 1056 3291 1056 2328 \nQ 1056 1369 1301 889 \nQ 1547 409 2034 409 \nQ 2525 409 2770 889 \nQ 3016 1369 3016 2328 \nQ 3016 3291 2770 3770 \nQ 2525 4250 2034 4250 \nz\nM 2034 4750 \nQ 2819 4750 3233 4129 \nQ 3647 3509 3647 2328 \nQ 3647 1150 3233 529 \nQ 2819 -91 2034 -91 \nQ 1250 -91 836 529 \nQ 422 1150 422 2328 \nQ 422 3509 836 4129 \nQ 1250 4750 2034 4750 \nz\n\" transform=\"scale(0.015625)\"/>\n       </defs>\n       <use xlink:href=\"#DejaVuSans-30\"/>\n      </g>\n     </g>\n    </g>\n    <g id=\"xtick_2\">\n     <g id=\"line2d_2\">\n      <g>\n       <use xlink:href=\"#mc91b0ec08a\" x=\"126.948463\" y=\"288.430125\" style=\"stroke: #000000; stroke-width: 0.8\"/>\n      </g>\n     </g>\n     <g id=\"text_2\">\n      <!-- 1 -->\n      <g transform=\"translate(123.767213 303.028562) scale(0.1 -0.1)\">\n       <defs>\n        <path id=\"DejaVuSans-31\" d=\"M 794 531 \nL 1825 531 \nL 1825 4091 \nL 703 3866 \nL 703 4441 \nL 1819 4666 \nL 2450 4666 \nL 2450 531 \nL 3481 531 \nL 3481 0 \nL 794 0 \nL 794 531 \nz\n\" transform=\"scale(0.015625)\"/>\n       </defs>\n       <use xlink:href=\"#DejaVuSans-31\"/>\n      </g>\n     </g>\n    </g>\n    <g id=\"xtick_3\">\n     <g id=\"line2d_3\">\n      <g>\n       <use xlink:href=\"#mc91b0ec08a\" x=\"179.140762\" y=\"288.430125\" style=\"stroke: #000000; stroke-width: 0.8\"/>\n      </g>\n     </g>\n     <g id=\"text_3\">\n      <!-- 2 -->\n      <g transform=\"translate(175.959512 303.028562) scale(0.1 -0.1)\">\n       <defs>\n        <path id=\"DejaVuSans-32\" d=\"M 1228 531 \nL 3431 531 \nL 3431 0 \nL 469 0 \nL 469 531 \nQ 828 903 1448 1529 \nQ 2069 2156 2228 2338 \nQ 2531 2678 2651 2914 \nQ 2772 3150 2772 3378 \nQ 2772 3750 2511 3984 \nQ 2250 4219 1831 4219 \nQ 1534 4219 1204 4116 \nQ 875 4013 500 3803 \nL 500 4441 \nQ 881 4594 1212 4672 \nQ 1544 4750 1819 4750 \nQ 2544 4750 2975 4387 \nQ 3406 4025 3406 3419 \nQ 3406 3131 3298 2873 \nQ 3191 2616 2906 2266 \nQ 2828 2175 2409 1742 \nQ 1991 1309 1228 531 \nz\n\" transform=\"scale(0.015625)\"/>\n       </defs>\n       <use xlink:href=\"#DejaVuSans-32\"/>\n      </g>\n     </g>\n    </g>\n    <g id=\"xtick_4\">\n     <g id=\"line2d_4\">\n      <g>\n       <use xlink:href=\"#mc91b0ec08a\" x=\"231.333061\" y=\"288.430125\" style=\"stroke: #000000; stroke-width: 0.8\"/>\n      </g>\n     </g>\n     <g id=\"text_4\">\n      <!-- 3 -->\n      <g transform=\"translate(228.151811 303.028562) scale(0.1 -0.1)\">\n       <defs>\n        <path id=\"DejaVuSans-33\" d=\"M 2597 2516 \nQ 3050 2419 3304 2112 \nQ 3559 1806 3559 1356 \nQ 3559 666 3084 287 \nQ 2609 -91 1734 -91 \nQ 1441 -91 1130 -33 \nQ 819 25 488 141 \nL 488 750 \nQ 750 597 1062 519 \nQ 1375 441 1716 441 \nQ 2309 441 2620 675 \nQ 2931 909 2931 1356 \nQ 2931 1769 2642 2001 \nQ 2353 2234 1838 2234 \nL 1294 2234 \nL 1294 2753 \nL 1863 2753 \nQ 2328 2753 2575 2939 \nQ 2822 3125 2822 3475 \nQ 2822 3834 2567 4026 \nQ 2313 4219 1838 4219 \nQ 1578 4219 1281 4162 \nQ 984 4106 628 3988 \nL 628 4550 \nQ 988 4650 1302 4700 \nQ 1616 4750 1894 4750 \nQ 2613 4750 3031 4423 \nQ 3450 4097 3450 3541 \nQ 3450 3153 3228 2886 \nQ 3006 2619 2597 2516 \nz\n\" transform=\"scale(0.015625)\"/>\n       </defs>\n       <use xlink:href=\"#DejaVuSans-33\"/>\n      </g>\n     </g>\n    </g>\n    <g id=\"xtick_5\">\n     <g id=\"line2d_5\">\n      <g>\n       <use xlink:href=\"#mc91b0ec08a\" x=\"283.52536\" y=\"288.430125\" style=\"stroke: #000000; stroke-width: 0.8\"/>\n      </g>\n     </g>\n     <g id=\"text_5\">\n      <!-- 4 -->\n      <g transform=\"translate(280.34411 303.028562) scale(0.1 -0.1)\">\n       <defs>\n        <path id=\"DejaVuSans-34\" d=\"M 2419 4116 \nL 825 1625 \nL 2419 1625 \nL 2419 4116 \nz\nM 2253 4666 \nL 3047 4666 \nL 3047 1625 \nL 3713 1625 \nL 3713 1100 \nL 3047 1100 \nL 3047 0 \nL 2419 0 \nL 2419 1100 \nL 313 1100 \nL 313 1709 \nL 2253 4666 \nz\n\" transform=\"scale(0.015625)\"/>\n       </defs>\n       <use xlink:href=\"#DejaVuSans-34\"/>\n      </g>\n     </g>\n    </g>\n    <g id=\"xtick_6\">\n     <g id=\"line2d_6\">\n      <g>\n       <use xlink:href=\"#mc91b0ec08a\" x=\"335.717658\" y=\"288.430125\" style=\"stroke: #000000; stroke-width: 0.8\"/>\n      </g>\n     </g>\n     <g id=\"text_6\">\n      <!-- 5 -->\n      <g transform=\"translate(332.536408 303.028562) scale(0.1 -0.1)\">\n       <defs>\n        <path id=\"DejaVuSans-35\" d=\"M 691 4666 \nL 3169 4666 \nL 3169 4134 \nL 1269 4134 \nL 1269 2991 \nQ 1406 3038 1543 3061 \nQ 1681 3084 1819 3084 \nQ 2600 3084 3056 2656 \nQ 3513 2228 3513 1497 \nQ 3513 744 3044 326 \nQ 2575 -91 1722 -91 \nQ 1428 -91 1123 -41 \nQ 819 9 494 109 \nL 494 744 \nQ 775 591 1075 516 \nQ 1375 441 1709 441 \nQ 2250 441 2565 725 \nQ 2881 1009 2881 1497 \nQ 2881 1984 2565 2268 \nQ 2250 2553 1709 2553 \nQ 1456 2553 1204 2497 \nQ 953 2441 691 2322 \nL 691 4666 \nz\n\" transform=\"scale(0.015625)\"/>\n       </defs>\n       <use xlink:href=\"#DejaVuSans-35\"/>\n      </g>\n     </g>\n    </g>\n    <g id=\"xtick_7\">\n     <g id=\"line2d_7\">\n      <g>\n       <use xlink:href=\"#mc91b0ec08a\" x=\"387.909957\" y=\"288.430125\" style=\"stroke: #000000; stroke-width: 0.8\"/>\n      </g>\n     </g>\n     <g id=\"text_7\">\n      <!-- 6 -->\n      <g transform=\"translate(384.728707 303.028562) scale(0.1 -0.1)\">\n       <defs>\n        <path id=\"DejaVuSans-36\" d=\"M 2113 2584 \nQ 1688 2584 1439 2293 \nQ 1191 2003 1191 1497 \nQ 1191 994 1439 701 \nQ 1688 409 2113 409 \nQ 2538 409 2786 701 \nQ 3034 994 3034 1497 \nQ 3034 2003 2786 2293 \nQ 2538 2584 2113 2584 \nz\nM 3366 4563 \nL 3366 3988 \nQ 3128 4100 2886 4159 \nQ 2644 4219 2406 4219 \nQ 1781 4219 1451 3797 \nQ 1122 3375 1075 2522 \nQ 1259 2794 1537 2939 \nQ 1816 3084 2150 3084 \nQ 2853 3084 3261 2657 \nQ 3669 2231 3669 1497 \nQ 3669 778 3244 343 \nQ 2819 -91 2113 -91 \nQ 1303 -91 875 529 \nQ 447 1150 447 2328 \nQ 447 3434 972 4092 \nQ 1497 4750 2381 4750 \nQ 2619 4750 2861 4703 \nQ 3103 4656 3366 4563 \nz\n\" transform=\"scale(0.015625)\"/>\n       </defs>\n       <use xlink:href=\"#DejaVuSans-36\"/>\n      </g>\n     </g>\n    </g>\n    <g id=\"text_8\">\n     <!-- theta [0, 2pi) -->\n     <g transform=\"translate(204.259219 316.706687) scale(0.1 -0.1)\">\n      <defs>\n       <path id=\"DejaVuSans-74\" d=\"M 1172 4494 \nL 1172 3500 \nL 2356 3500 \nL 2356 3053 \nL 1172 3053 \nL 1172 1153 \nQ 1172 725 1289 603 \nQ 1406 481 1766 481 \nL 2356 481 \nL 2356 0 \nL 1766 0 \nQ 1100 0 847 248 \nQ 594 497 594 1153 \nL 594 3053 \nL 172 3053 \nL 172 3500 \nL 594 3500 \nL 594 4494 \nL 1172 4494 \nz\n\" transform=\"scale(0.015625)\"/>\n       <path id=\"DejaVuSans-68\" d=\"M 3513 2113 \nL 3513 0 \nL 2938 0 \nL 2938 2094 \nQ 2938 2591 2744 2837 \nQ 2550 3084 2163 3084 \nQ 1697 3084 1428 2787 \nQ 1159 2491 1159 1978 \nL 1159 0 \nL 581 0 \nL 581 4863 \nL 1159 4863 \nL 1159 2956 \nQ 1366 3272 1645 3428 \nQ 1925 3584 2291 3584 \nQ 2894 3584 3203 3211 \nQ 3513 2838 3513 2113 \nz\n\" transform=\"scale(0.015625)\"/>\n       <path id=\"DejaVuSans-65\" d=\"M 3597 1894 \nL 3597 1613 \nL 953 1613 \nQ 991 1019 1311 708 \nQ 1631 397 2203 397 \nQ 2534 397 2845 478 \nQ 3156 559 3463 722 \nL 3463 178 \nQ 3153 47 2828 -22 \nQ 2503 -91 2169 -91 \nQ 1331 -91 842 396 \nQ 353 884 353 1716 \nQ 353 2575 817 3079 \nQ 1281 3584 2069 3584 \nQ 2775 3584 3186 3129 \nQ 3597 2675 3597 1894 \nz\nM 3022 2063 \nQ 3016 2534 2758 2815 \nQ 2500 3097 2075 3097 \nQ 1594 3097 1305 2825 \nQ 1016 2553 972 2059 \nL 3022 2063 \nz\n\" transform=\"scale(0.015625)\"/>\n       <path id=\"DejaVuSans-61\" d=\"M 2194 1759 \nQ 1497 1759 1228 1600 \nQ 959 1441 959 1056 \nQ 959 750 1161 570 \nQ 1363 391 1709 391 \nQ 2188 391 2477 730 \nQ 2766 1069 2766 1631 \nL 2766 1759 \nL 2194 1759 \nz\nM 3341 1997 \nL 3341 0 \nL 2766 0 \nL 2766 531 \nQ 2569 213 2275 61 \nQ 1981 -91 1556 -91 \nQ 1019 -91 701 211 \nQ 384 513 384 1019 \nQ 384 1609 779 1909 \nQ 1175 2209 1959 2209 \nL 2766 2209 \nL 2766 2266 \nQ 2766 2663 2505 2880 \nQ 2244 3097 1772 3097 \nQ 1472 3097 1187 3025 \nQ 903 2953 641 2809 \nL 641 3341 \nQ 956 3463 1253 3523 \nQ 1550 3584 1831 3584 \nQ 2591 3584 2966 3190 \nQ 3341 2797 3341 1997 \nz\n\" transform=\"scale(0.015625)\"/>\n       <path id=\"DejaVuSans-20\" transform=\"scale(0.015625)\"/>\n       <path id=\"DejaVuSans-5b\" d=\"M 550 4863 \nL 1875 4863 \nL 1875 4416 \nL 1125 4416 \nL 1125 -397 \nL 1875 -397 \nL 1875 -844 \nL 550 -844 \nL 550 4863 \nz\n\" transform=\"scale(0.015625)\"/>\n       <path id=\"DejaVuSans-2c\" d=\"M 750 794 \nL 1409 794 \nL 1409 256 \nL 897 -744 \nL 494 -744 \nL 750 256 \nL 750 794 \nz\n\" transform=\"scale(0.015625)\"/>\n       <path id=\"DejaVuSans-70\" d=\"M 1159 525 \nL 1159 -1331 \nL 581 -1331 \nL 581 3500 \nL 1159 3500 \nL 1159 2969 \nQ 1341 3281 1617 3432 \nQ 1894 3584 2278 3584 \nQ 2916 3584 3314 3078 \nQ 3713 2572 3713 1747 \nQ 3713 922 3314 415 \nQ 2916 -91 2278 -91 \nQ 1894 -91 1617 61 \nQ 1341 213 1159 525 \nz\nM 3116 1747 \nQ 3116 2381 2855 2742 \nQ 2594 3103 2138 3103 \nQ 1681 3103 1420 2742 \nQ 1159 2381 1159 1747 \nQ 1159 1113 1420 752 \nQ 1681 391 2138 391 \nQ 2594 391 2855 752 \nQ 3116 1113 3116 1747 \nz\n\" transform=\"scale(0.015625)\"/>\n       <path id=\"DejaVuSans-69\" d=\"M 603 3500 \nL 1178 3500 \nL 1178 0 \nL 603 0 \nL 603 3500 \nz\nM 603 4863 \nL 1178 4863 \nL 1178 4134 \nL 603 4134 \nL 603 4863 \nz\n\" transform=\"scale(0.015625)\"/>\n       <path id=\"DejaVuSans-29\" d=\"M 513 4856 \nL 1013 4856 \nQ 1481 4119 1714 3412 \nQ 1947 2706 1947 2009 \nQ 1947 1309 1714 600 \nQ 1481 -109 1013 -844 \nL 513 -844 \nQ 928 -128 1133 580 \nQ 1338 1288 1338 2009 \nQ 1338 2731 1133 3434 \nQ 928 4138 513 4856 \nz\n\" transform=\"scale(0.015625)\"/>\n      </defs>\n      <use xlink:href=\"#DejaVuSans-74\"/>\n      <use xlink:href=\"#DejaVuSans-68\" transform=\"translate(39.208984 0)\"/>\n      <use xlink:href=\"#DejaVuSans-65\" transform=\"translate(102.587891 0)\"/>\n      <use xlink:href=\"#DejaVuSans-74\" transform=\"translate(164.111328 0)\"/>\n      <use xlink:href=\"#DejaVuSans-61\" transform=\"translate(203.320312 0)\"/>\n      <use xlink:href=\"#DejaVuSans-20\" transform=\"translate(264.599609 0)\"/>\n      <use xlink:href=\"#DejaVuSans-5b\" transform=\"translate(296.386719 0)\"/>\n      <use xlink:href=\"#DejaVuSans-30\" transform=\"translate(335.400391 0)\"/>\n      <use xlink:href=\"#DejaVuSans-2c\" transform=\"translate(399.023438 0)\"/>\n      <use xlink:href=\"#DejaVuSans-20\" transform=\"translate(430.810547 0)\"/>\n      <use xlink:href=\"#DejaVuSans-32\" transform=\"translate(462.597656 0)\"/>\n      <use xlink:href=\"#DejaVuSans-70\" transform=\"translate(526.220703 0)\"/>\n      <use xlink:href=\"#DejaVuSans-69\" transform=\"translate(589.697266 0)\"/>\n      <use xlink:href=\"#DejaVuSans-29\" transform=\"translate(617.480469 0)\"/>\n     </g>\n    </g>\n   </g>\n   <g id=\"matplotlib.axis_2\">\n    <g id=\"ytick_1\">\n     <g id=\"line2d_8\">\n      <defs>\n       <path id=\"maa99b73e17\" d=\"M 0 0 \nL -3.5 0 \n\" style=\"stroke: #000000; stroke-width: 0.8\"/>\n      </defs>\n      <g>\n       <use xlink:href=\"#maa99b73e17\" x=\"58.523438\" y=\"266.598896\" style=\"stroke: #000000; stroke-width: 0.8\"/>\n      </g>\n     </g>\n     <g id=\"text_9\">\n      <!-- −10.0 -->\n      <g transform=\"translate(20.878125 270.398115) scale(0.1 -0.1)\">\n       <defs>\n        <path id=\"DejaVuSans-2212\" d=\"M 678 2272 \nL 4684 2272 \nL 4684 1741 \nL 678 1741 \nL 678 2272 \nz\n\" transform=\"scale(0.015625)\"/>\n        <path id=\"DejaVuSans-2e\" d=\"M 684 794 \nL 1344 794 \nL 1344 0 \nL 684 0 \nL 684 794 \nz\n\" transform=\"scale(0.015625)\"/>\n       </defs>\n       <use xlink:href=\"#DejaVuSans-2212\"/>\n       <use xlink:href=\"#DejaVuSans-31\" transform=\"translate(83.789062 0)\"/>\n       <use xlink:href=\"#DejaVuSans-30\" transform=\"translate(147.412109 0)\"/>\n       <use xlink:href=\"#DejaVuSans-2e\" transform=\"translate(211.035156 0)\"/>\n       <use xlink:href=\"#DejaVuSans-30\" transform=\"translate(242.822266 0)\"/>\n      </g>\n     </g>\n    </g>\n    <g id=\"ytick_2\">\n     <g id=\"line2d_9\">\n      <g>\n       <use xlink:href=\"#maa99b73e17\" x=\"58.523438\" y=\"236.936492\" style=\"stroke: #000000; stroke-width: 0.8\"/>\n      </g>\n     </g>\n     <g id=\"text_10\">\n      <!-- −7.5 -->\n      <g transform=\"translate(27.240625 240.735711) scale(0.1 -0.1)\">\n       <defs>\n        <path id=\"DejaVuSans-37\" d=\"M 525 4666 \nL 3525 4666 \nL 3525 4397 \nL 1831 0 \nL 1172 0 \nL 2766 4134 \nL 525 4134 \nL 525 4666 \nz\n\" transform=\"scale(0.015625)\"/>\n       </defs>\n       <use xlink:href=\"#DejaVuSans-2212\"/>\n       <use xlink:href=\"#DejaVuSans-37\" transform=\"translate(83.789062 0)\"/>\n       <use xlink:href=\"#DejaVuSans-2e\" transform=\"translate(147.412109 0)\"/>\n       <use xlink:href=\"#DejaVuSans-35\" transform=\"translate(179.199219 0)\"/>\n      </g>\n     </g>\n    </g>\n    <g id=\"ytick_3\">\n     <g id=\"line2d_10\">\n      <g>\n       <use xlink:href=\"#maa99b73e17\" x=\"58.523438\" y=\"207.274089\" style=\"stroke: #000000; stroke-width: 0.8\"/>\n      </g>\n     </g>\n     <g id=\"text_11\">\n      <!-- −5.0 -->\n      <g transform=\"translate(27.240625 211.073307) scale(0.1 -0.1)\">\n       <use xlink:href=\"#DejaVuSans-2212\"/>\n       <use xlink:href=\"#DejaVuSans-35\" transform=\"translate(83.789062 0)\"/>\n       <use xlink:href=\"#DejaVuSans-2e\" transform=\"translate(147.412109 0)\"/>\n       <use xlink:href=\"#DejaVuSans-30\" transform=\"translate(179.199219 0)\"/>\n      </g>\n     </g>\n    </g>\n    <g id=\"ytick_4\">\n     <g id=\"line2d_11\">\n      <g>\n       <use xlink:href=\"#maa99b73e17\" x=\"58.523438\" y=\"177.611685\" style=\"stroke: #000000; stroke-width: 0.8\"/>\n      </g>\n     </g>\n     <g id=\"text_12\">\n      <!-- −2.5 -->\n      <g transform=\"translate(27.240625 181.410904) scale(0.1 -0.1)\">\n       <use xlink:href=\"#DejaVuSans-2212\"/>\n       <use xlink:href=\"#DejaVuSans-32\" transform=\"translate(83.789062 0)\"/>\n       <use xlink:href=\"#DejaVuSans-2e\" transform=\"translate(147.412109 0)\"/>\n       <use xlink:href=\"#DejaVuSans-35\" transform=\"translate(179.199219 0)\"/>\n      </g>\n     </g>\n    </g>\n    <g id=\"ytick_5\">\n     <g id=\"line2d_12\">\n      <g>\n       <use xlink:href=\"#maa99b73e17\" x=\"58.523438\" y=\"147.949281\" style=\"stroke: #000000; stroke-width: 0.8\"/>\n      </g>\n     </g>\n     <g id=\"text_13\">\n      <!-- 0.0 -->\n      <g transform=\"translate(35.620313 151.7485) scale(0.1 -0.1)\">\n       <use xlink:href=\"#DejaVuSans-30\"/>\n       <use xlink:href=\"#DejaVuSans-2e\" transform=\"translate(63.623047 0)\"/>\n       <use xlink:href=\"#DejaVuSans-30\" transform=\"translate(95.410156 0)\"/>\n      </g>\n     </g>\n    </g>\n    <g id=\"ytick_6\">\n     <g id=\"line2d_13\">\n      <g>\n       <use xlink:href=\"#maa99b73e17\" x=\"58.523438\" y=\"118.286877\" style=\"stroke: #000000; stroke-width: 0.8\"/>\n      </g>\n     </g>\n     <g id=\"text_14\">\n      <!-- 2.5 -->\n      <g transform=\"translate(35.620313 122.086096) scale(0.1 -0.1)\">\n       <use xlink:href=\"#DejaVuSans-32\"/>\n       <use xlink:href=\"#DejaVuSans-2e\" transform=\"translate(63.623047 0)\"/>\n       <use xlink:href=\"#DejaVuSans-35\" transform=\"translate(95.410156 0)\"/>\n      </g>\n     </g>\n    </g>\n    <g id=\"ytick_7\">\n     <g id=\"line2d_14\">\n      <g>\n       <use xlink:href=\"#maa99b73e17\" x=\"58.523438\" y=\"88.624474\" style=\"stroke: #000000; stroke-width: 0.8\"/>\n      </g>\n     </g>\n     <g id=\"text_15\">\n      <!-- 5.0 -->\n      <g transform=\"translate(35.620313 92.423693) scale(0.1 -0.1)\">\n       <use xlink:href=\"#DejaVuSans-35\"/>\n       <use xlink:href=\"#DejaVuSans-2e\" transform=\"translate(63.623047 0)\"/>\n       <use xlink:href=\"#DejaVuSans-30\" transform=\"translate(95.410156 0)\"/>\n      </g>\n     </g>\n    </g>\n    <g id=\"ytick_8\">\n     <g id=\"line2d_15\">\n      <g>\n       <use xlink:href=\"#maa99b73e17\" x=\"58.523438\" y=\"58.96207\" style=\"stroke: #000000; stroke-width: 0.8\"/>\n      </g>\n     </g>\n     <g id=\"text_16\">\n      <!-- 7.5 -->\n      <g transform=\"translate(35.620313 62.761289) scale(0.1 -0.1)\">\n       <use xlink:href=\"#DejaVuSans-37\"/>\n       <use xlink:href=\"#DejaVuSans-2e\" transform=\"translate(63.623047 0)\"/>\n       <use xlink:href=\"#DejaVuSans-35\" transform=\"translate(95.410156 0)\"/>\n      </g>\n     </g>\n    </g>\n    <g id=\"ytick_9\">\n     <g id=\"line2d_16\">\n      <g>\n       <use xlink:href=\"#maa99b73e17\" x=\"58.523438\" y=\"29.299666\" style=\"stroke: #000000; stroke-width: 0.8\"/>\n      </g>\n     </g>\n     <g id=\"text_17\">\n      <!-- 10.0 -->\n      <g transform=\"translate(29.257813 33.098885) scale(0.1 -0.1)\">\n       <use xlink:href=\"#DejaVuSans-31\"/>\n       <use xlink:href=\"#DejaVuSans-30\" transform=\"translate(63.623047 0)\"/>\n       <use xlink:href=\"#DejaVuSans-2e\" transform=\"translate(127.246094 0)\"/>\n       <use xlink:href=\"#DejaVuSans-30\" transform=\"translate(159.033203 0)\"/>\n      </g>\n     </g>\n    </g>\n    <g id=\"text_18\">\n     <!-- f(g) -->\n     <g transform=\"translate(14.798438 164.210062) rotate(-90) scale(0.1 -0.1)\">\n      <defs>\n       <path id=\"DejaVuSans-66\" d=\"M 2375 4863 \nL 2375 4384 \nL 1825 4384 \nQ 1516 4384 1395 4259 \nQ 1275 4134 1275 3809 \nL 1275 3500 \nL 2222 3500 \nL 2222 3053 \nL 1275 3053 \nL 1275 0 \nL 697 0 \nL 697 3053 \nL 147 3053 \nL 147 3500 \nL 697 3500 \nL 697 3744 \nQ 697 4328 969 4595 \nQ 1241 4863 1831 4863 \nL 2375 4863 \nz\n\" transform=\"scale(0.015625)\"/>\n       <path id=\"DejaVuSans-28\" d=\"M 1984 4856 \nQ 1566 4138 1362 3434 \nQ 1159 2731 1159 2009 \nQ 1159 1288 1364 580 \nQ 1569 -128 1984 -844 \nL 1484 -844 \nQ 1016 -109 783 600 \nQ 550 1309 550 2009 \nQ 550 2706 781 3412 \nQ 1013 4119 1484 4856 \nL 1984 4856 \nz\n\" transform=\"scale(0.015625)\"/>\n       <path id=\"DejaVuSans-67\" d=\"M 2906 1791 \nQ 2906 2416 2648 2759 \nQ 2391 3103 1925 3103 \nQ 1463 3103 1205 2759 \nQ 947 2416 947 1791 \nQ 947 1169 1205 825 \nQ 1463 481 1925 481 \nQ 2391 481 2648 825 \nQ 2906 1169 2906 1791 \nz\nM 3481 434 \nQ 3481 -459 3084 -895 \nQ 2688 -1331 1869 -1331 \nQ 1566 -1331 1297 -1286 \nQ 1028 -1241 775 -1147 \nL 775 -588 \nQ 1028 -725 1275 -790 \nQ 1522 -856 1778 -856 \nQ 2344 -856 2625 -561 \nQ 2906 -266 2906 331 \nL 2906 616 \nQ 2728 306 2450 153 \nQ 2172 0 1784 0 \nQ 1141 0 747 490 \nQ 353 981 353 1791 \nQ 353 2603 747 3093 \nQ 1141 3584 1784 3584 \nQ 2172 3584 2450 3431 \nQ 2728 3278 2906 2969 \nL 2906 3500 \nL 3481 3500 \nL 3481 434 \nz\n\" transform=\"scale(0.015625)\"/>\n      </defs>\n      <use xlink:href=\"#DejaVuSans-66\"/>\n      <use xlink:href=\"#DejaVuSans-28\" transform=\"translate(35.205078 0)\"/>\n      <use xlink:href=\"#DejaVuSans-67\" transform=\"translate(74.21875 0)\"/>\n      <use xlink:href=\"#DejaVuSans-29\" transform=\"translate(137.695312 0)\"/>\n     </g>\n    </g>\n   </g>\n   <g id=\"line2d_17\">\n    <path d=\"M 74.756165 123.295905 \nL 78.035504 111.602266 \nL 81.314842 100.094131 \nL 84.594181 90.722531 \nL 87.87352 85.272012 \nL 91.152859 85.001023 \nL 94.432198 90.366278 \nL 97.711537 100.885964 \nL 100.990876 115.171298 \nL 104.270214 131.124653 \nL 107.549553 146.271131 \nL 110.828892 158.165201 \nL 114.108231 164.799445 \nL 117.38757 164.941623 \nL 120.666909 158.339158 \nL 123.946247 145.754484 \nL 127.225586 128.825837 \nL 130.504925 109.78013 \nL 133.784264 91.051483 \nL 137.063603 74.875675 \nL 140.342942 62.93422 \nL 143.62228 56.111263 \nL 146.901619 54.404244 \nL 150.180958 56.999521 \nL 153.460297 62.492731 \nL 156.739636 69.20657 \nL 160.018975 75.541064 \nL 163.298314 80.28673 \nL 166.577652 82.839904 \nL 169.856991 83.280306 \nL 173.13633 82.299344 \nL 176.415669 80.998119 \nL 179.695008 80.600611 \nL 182.974347 82.144693 \nL 186.253685 86.218165 \nL 189.533024 92.797783 \nL 192.812363 101.228158 \nL 196.091702 110.348434 \nL 199.371041 118.743573 \nL 202.65038 125.070103 \nL 205.929718 128.388731 \nL 209.209057 128.432085 \nL 212.488396 125.746077 \nL 215.767735 121.66639 \nL 219.047074 118.123165 \nL 222.326413 117.301176 \nL 225.605752 121.213003 \nL 228.88509 131.263015 \nL 232.164429 147.886065 \nL 235.443768 170.335164 \nL 238.723107 196.668241 \nL 242.002446 223.949706 \nL 245.281785 248.643856 \nL 248.561123 267.1414 \nL 251.840462 276.334125 \nL 255.119801 274.141011 \nL 258.39914 259.894425 \nL 261.678479 234.516653 \nL 264.957818 200.451459 \nL 268.237157 161.356464 \nL 271.516495 121.602816 \nL 274.795834 85.661511 \nL 278.075173 57.475049 \nL 281.354512 39.915398 \nL 284.633851 34.414125 \nL 287.91319 40.820747 \nL 291.192528 57.506246 \nL 294.471867 81.687259 \nL 297.751206 109.909989 \nL 301.030545 138.607866 \nL 304.309884 164.637489 \nL 307.589223 185.704893 \nL 310.868561 200.616954 \nL 314.1479 209.326186 \nL 317.427239 212.775222 \nL 320.706578 212.582596 \nL 323.985917 210.637947 \nL 327.265256 208.687679 \nL 330.544595 207.989544 \nL 333.823933 209.097514 \nL 337.103272 211.810326 \nL 340.382611 215.283806 \nL 343.66195 218.27506 \nL 346.941289 219.461844 \nL 350.220628 217.767619 \nL 353.499966 212.623953 \nL 356.779305 204.116705 \nL 360.058644 192.987455 \nL 363.337983 180.491948 \nL 366.617322 168.146712 \nL 369.896661 157.417791 \nL 373.175999 149.417142 \nL 376.455338 144.670567 \nL 379.734677 143.006407 \nL 383.014016 143.58967 \nL 386.293355 145.096651 \nL 389.572694 145.99633 \nL 392.852033 144.882674 \nL 396.131371 140.790728 \nL 399.41071 133.431534 \n\" clip-path=\"url(#pcfd472219f)\" style=\"fill: none; stroke: #1f77b4; stroke-width: 2; stroke-linecap: square\"/>\n   </g>\n   <g id=\"line2d_18\">\n    <path d=\"M 74.756165 64.293407 \nL 78.035504 61.231477 \nL 81.314842 64.049321 \nL 84.594181 72.531192 \nL 87.87352 85.897031 \nL 91.152859 102.826038 \nL 94.432198 121.559959 \nL 97.711537 140.084442 \nL 100.990876 156.372154 \nL 104.270214 168.657466 \nL 107.549553 175.702323 \nL 110.828892 177.00887 \nL 114.108231 172.93807 \nL 117.38757 164.705005 \nL 120.666909 154.239548 \nL 123.946247 143.922853 \nL 127.225586 136.23212 \nL 130.504925 133.344269 \nL 133.784264 136.760073 \nL 137.063603 147.011413 \nL 140.342942 163.504809 \nL 143.62228 184.535159 \nL 146.901619 207.477583 \nL 150.180958 229.136376 \nL 153.460297 246.203275 \nL 156.739636 255.75715 \nL 160.018975 255.727579 \nL 163.298314 245.247576 \nL 166.577652 224.836046 \nL 169.856991 196.376045 \nL 173.13633 162.88683 \nL 176.415669 128.120555 \nL 179.695008 96.043112 \nL 182.974347 70.277922 \nL 186.253685 53.598278 \nL 189.533024 47.546721 \nL 192.812363 52.240001 \nL 196.091702 66.388653 \nL 199.371041 87.525953 \nL 202.65038 112.407695 \nL 205.929718 137.517415 \nL 209.209057 159.595744 \nL 212.488396 176.110149 \nL 215.767735 185.592592 \nL 219.047074 187.795695 \nL 222.326413 183.648683 \nL 225.605752 175.02754 \nL 228.88509 164.383776 \nL 232.164429 154.298057 \nL 235.443768 147.035138 \nL 238.723107 144.173673 \nL 242.002446 146.36934 \nL 245.281785 153.285254 \nL 248.561123 163.694219 \nL 251.840462 175.728242 \nL 255.119801 187.226806 \nL 258.39914 196.12058 \nL 261.678479 200.783913 \nL 264.957818 200.297541 \nL 268.237157 194.580861 \nL 271.516495 184.377241 \nL 274.795834 171.101757 \nL 278.075173 156.583971 \nL 281.354512 142.754796 \nL 284.633851 131.333717 \nL 287.91319 123.569674 \nL 291.192528 120.07681 \nL 294.471867 120.787624 \nL 297.751206 125.024365 \nL 301.030545 131.668883 \nL 304.309884 139.39513 \nL 307.589223 146.91966 \nL 310.868561 153.225148 \nL 314.1479 157.719479 \nL 317.427239 160.306785 \nL 320.706578 161.363859 \nL 323.985917 161.632515 \nL 327.265256 162.052532 \nL 330.544595 163.56845 \nL 333.823933 166.945562 \nL 337.103272 172.626014 \nL 340.382611 180.646351 \nL 343.66195 190.625284 \nL 346.941289 201.817543 \nL 350.220628 213.218878 \nL 353.499966 223.700365 \nL 356.779305 232.148158 \nL 360.058644 237.587547 \nL 363.337983 239.276461 \nL 366.617322 236.761746 \nL 369.896661 229.899583 \nL 373.175999 218.847511 \nL 376.455338 204.038534 \nL 379.734677 186.147301 \nL 383.014016 166.054974 \nL 386.293355 144.814276 \nL 389.572694 123.611163 \nL 392.852033 103.716091 \nL 396.131371 86.417325 \nL 399.41071 72.931614 \n\" clip-path=\"url(#pcfd472219f)\" style=\"fill: none; stroke: #ff7f0e; stroke-width: 2; stroke-linecap: square\"/>\n   </g>\n   <g id=\"patch_3\">\n    <path d=\"M 58.523438 288.430125 \nL 58.523438 22.318125 \n\" style=\"fill: none; stroke: #000000; stroke-width: 0.8; stroke-linejoin: miter; stroke-linecap: square\"/>\n   </g>\n   <g id=\"patch_4\">\n    <path d=\"M 415.643438 288.430125 \nL 415.643438 22.318125 \n\" style=\"fill: none; stroke: #000000; stroke-width: 0.8; stroke-linejoin: miter; stroke-linecap: square\"/>\n   </g>\n   <g id=\"patch_5\">\n    <path d=\"M 58.523438 288.430125 \nL 415.643438 288.430125 \n\" style=\"fill: none; stroke: #000000; stroke-width: 0.8; stroke-linejoin: miter; stroke-linecap: square\"/>\n   </g>\n   <g id=\"patch_6\">\n    <path d=\"M 58.523438 22.318125 \nL 415.643438 22.318125 \n\" style=\"fill: none; stroke: #000000; stroke-width: 0.8; stroke-linejoin: miter; stroke-linecap: square\"/>\n   </g>\n   <g id=\"text_19\">\n    <!-- g.f -->\n    <g transform=\"translate(229.255313 16.318125) scale(0.12 -0.12)\">\n     <use xlink:href=\"#DejaVuSans-67\"/>\n     <use xlink:href=\"#DejaVuSans-2e\" transform=\"translate(63.476562 0)\"/>\n     <use xlink:href=\"#DejaVuSans-66\" transform=\"translate(95.263672 0)\"/>\n    </g>\n   </g>\n   <g id=\"legend_1\">\n    <g id=\"patch_7\">\n     <path d=\"M 270.346563 283.430125 \nL 408.643438 283.430125 \nQ 410.643438 283.430125 410.643438 281.430125 \nL 410.643438 253.073875 \nQ 410.643438 251.073875 408.643438 251.073875 \nL 270.346563 251.073875 \nQ 268.346563 251.073875 268.346563 253.073875 \nL 268.346563 281.430125 \nQ 268.346563 283.430125 270.346563 283.430125 \nz\n\" style=\"fill: #ffffff; opacity: 0.8; stroke: #cccccc; stroke-linejoin: miter\"/>\n    </g>\n    <g id=\"line2d_19\">\n     <path d=\"M 272.346563 259.172312 \nL 282.346563 259.172312 \nL 292.346563 259.172312 \n\" style=\"fill: none; stroke: #1f77b4; stroke-width: 2; stroke-linecap: square\"/>\n    </g>\n    <g id=\"text_20\">\n     <!-- rotations -->\n     <g transform=\"translate(300.346563 262.672312) scale(0.1 -0.1)\">\n      <defs>\n       <path id=\"DejaVuSans-72\" d=\"M 2631 2963 \nQ 2534 3019 2420 3045 \nQ 2306 3072 2169 3072 \nQ 1681 3072 1420 2755 \nQ 1159 2438 1159 1844 \nL 1159 0 \nL 581 0 \nL 581 3500 \nL 1159 3500 \nL 1159 2956 \nQ 1341 3275 1631 3429 \nQ 1922 3584 2338 3584 \nQ 2397 3584 2469 3576 \nQ 2541 3569 2628 3553 \nL 2631 2963 \nz\n\" transform=\"scale(0.015625)\"/>\n       <path id=\"DejaVuSans-6f\" d=\"M 1959 3097 \nQ 1497 3097 1228 2736 \nQ 959 2375 959 1747 \nQ 959 1119 1226 758 \nQ 1494 397 1959 397 \nQ 2419 397 2687 759 \nQ 2956 1122 2956 1747 \nQ 2956 2369 2687 2733 \nQ 2419 3097 1959 3097 \nz\nM 1959 3584 \nQ 2709 3584 3137 3096 \nQ 3566 2609 3566 1747 \nQ 3566 888 3137 398 \nQ 2709 -91 1959 -91 \nQ 1206 -91 779 398 \nQ 353 888 353 1747 \nQ 353 2609 779 3096 \nQ 1206 3584 1959 3584 \nz\n\" transform=\"scale(0.015625)\"/>\n       <path id=\"DejaVuSans-6e\" d=\"M 3513 2113 \nL 3513 0 \nL 2938 0 \nL 2938 2094 \nQ 2938 2591 2744 2837 \nQ 2550 3084 2163 3084 \nQ 1697 3084 1428 2787 \nQ 1159 2491 1159 1978 \nL 1159 0 \nL 581 0 \nL 581 3500 \nL 1159 3500 \nL 1159 2956 \nQ 1366 3272 1645 3428 \nQ 1925 3584 2291 3584 \nQ 2894 3584 3203 3211 \nQ 3513 2838 3513 2113 \nz\n\" transform=\"scale(0.015625)\"/>\n       <path id=\"DejaVuSans-73\" d=\"M 2834 3397 \nL 2834 2853 \nQ 2591 2978 2328 3040 \nQ 2066 3103 1784 3103 \nQ 1356 3103 1142 2972 \nQ 928 2841 928 2578 \nQ 928 2378 1081 2264 \nQ 1234 2150 1697 2047 \nL 1894 2003 \nQ 2506 1872 2764 1633 \nQ 3022 1394 3022 966 \nQ 3022 478 2636 193 \nQ 2250 -91 1575 -91 \nQ 1294 -91 989 -36 \nQ 684 19 347 128 \nL 347 722 \nQ 666 556 975 473 \nQ 1284 391 1588 391 \nQ 1994 391 2212 530 \nQ 2431 669 2431 922 \nQ 2431 1156 2273 1281 \nQ 2116 1406 1581 1522 \nL 1381 1569 \nQ 847 1681 609 1914 \nQ 372 2147 372 2553 \nQ 372 3047 722 3315 \nQ 1072 3584 1716 3584 \nQ 2034 3584 2315 3537 \nQ 2597 3491 2834 3397 \nz\n\" transform=\"scale(0.015625)\"/>\n      </defs>\n      <use xlink:href=\"#DejaVuSans-72\"/>\n      <use xlink:href=\"#DejaVuSans-6f\" transform=\"translate(38.863281 0)\"/>\n      <use xlink:href=\"#DejaVuSans-74\" transform=\"translate(100.044922 0)\"/>\n      <use xlink:href=\"#DejaVuSans-61\" transform=\"translate(139.253906 0)\"/>\n      <use xlink:href=\"#DejaVuSans-74\" transform=\"translate(200.533203 0)\"/>\n      <use xlink:href=\"#DejaVuSans-69\" transform=\"translate(239.742188 0)\"/>\n      <use xlink:href=\"#DejaVuSans-6f\" transform=\"translate(267.525391 0)\"/>\n      <use xlink:href=\"#DejaVuSans-6e\" transform=\"translate(328.707031 0)\"/>\n      <use xlink:href=\"#DejaVuSans-73\" transform=\"translate(392.085938 0)\"/>\n     </g>\n    </g>\n    <g id=\"line2d_20\">\n     <path d=\"M 272.346563 273.850437 \nL 282.346563 273.850437 \nL 292.346563 273.850437 \n\" style=\"fill: none; stroke: #ff7f0e; stroke-width: 2; stroke-linecap: square\"/>\n    </g>\n    <g id=\"text_21\">\n     <!-- reflection + rotations -->\n     <g transform=\"translate(300.346563 277.350437) scale(0.1 -0.1)\">\n      <defs>\n       <path id=\"DejaVuSans-6c\" d=\"M 603 4863 \nL 1178 4863 \nL 1178 0 \nL 603 0 \nL 603 4863 \nz\n\" transform=\"scale(0.015625)\"/>\n       <path id=\"DejaVuSans-63\" d=\"M 3122 3366 \nL 3122 2828 \nQ 2878 2963 2633 3030 \nQ 2388 3097 2138 3097 \nQ 1578 3097 1268 2742 \nQ 959 2388 959 1747 \nQ 959 1106 1268 751 \nQ 1578 397 2138 397 \nQ 2388 397 2633 464 \nQ 2878 531 3122 666 \nL 3122 134 \nQ 2881 22 2623 -34 \nQ 2366 -91 2075 -91 \nQ 1284 -91 818 406 \nQ 353 903 353 1747 \nQ 353 2603 823 3093 \nQ 1294 3584 2113 3584 \nQ 2378 3584 2631 3529 \nQ 2884 3475 3122 3366 \nz\n\" transform=\"scale(0.015625)\"/>\n       <path id=\"DejaVuSans-2b\" d=\"M 2944 4013 \nL 2944 2272 \nL 4684 2272 \nL 4684 1741 \nL 2944 1741 \nL 2944 0 \nL 2419 0 \nL 2419 1741 \nL 678 1741 \nL 678 2272 \nL 2419 2272 \nL 2419 4013 \nL 2944 4013 \nz\n\" transform=\"scale(0.015625)\"/>\n      </defs>\n      <use xlink:href=\"#DejaVuSans-72\"/>\n      <use xlink:href=\"#DejaVuSans-65\" transform=\"translate(38.863281 0)\"/>\n      <use xlink:href=\"#DejaVuSans-66\" transform=\"translate(100.386719 0)\"/>\n      <use xlink:href=\"#DejaVuSans-6c\" transform=\"translate(135.591797 0)\"/>\n      <use xlink:href=\"#DejaVuSans-65\" transform=\"translate(163.375 0)\"/>\n      <use xlink:href=\"#DejaVuSans-63\" transform=\"translate(224.898438 0)\"/>\n      <use xlink:href=\"#DejaVuSans-74\" transform=\"translate(279.878906 0)\"/>\n      <use xlink:href=\"#DejaVuSans-69\" transform=\"translate(319.087891 0)\"/>\n      <use xlink:href=\"#DejaVuSans-6f\" transform=\"translate(346.871094 0)\"/>\n      <use xlink:href=\"#DejaVuSans-6e\" transform=\"translate(408.052734 0)\"/>\n      <use xlink:href=\"#DejaVuSans-20\" transform=\"translate(471.431641 0)\"/>\n      <use xlink:href=\"#DejaVuSans-2b\" transform=\"translate(503.21875 0)\"/>\n      <use xlink:href=\"#DejaVuSans-20\" transform=\"translate(587.007812 0)\"/>\n      <use xlink:href=\"#DejaVuSans-72\" transform=\"translate(618.794922 0)\"/>\n      <use xlink:href=\"#DejaVuSans-6f\" transform=\"translate(657.658203 0)\"/>\n      <use xlink:href=\"#DejaVuSans-74\" transform=\"translate(718.839844 0)\"/>\n      <use xlink:href=\"#DejaVuSans-61\" transform=\"translate(758.048828 0)\"/>\n      <use xlink:href=\"#DejaVuSans-74\" transform=\"translate(819.328125 0)\"/>\n      <use xlink:href=\"#DejaVuSans-69\" transform=\"translate(858.537109 0)\"/>\n      <use xlink:href=\"#DejaVuSans-6f\" transform=\"translate(886.320312 0)\"/>\n      <use xlink:href=\"#DejaVuSans-6e\" transform=\"translate(947.501953 0)\"/>\n      <use xlink:href=\"#DejaVuSans-73\" transform=\"translate(1010.880859 0)\"/>\n     </g>\n    </g>\n   </g>\n  </g>\n </g>\n <defs>\n  <clipPath id=\"pcfd472219f\">\n   <rect x=\"58.523438\" y=\"22.318125\" width=\"357.12\" height=\"266.112\"/>\n  </clipPath>\n </defs>\n</svg>\n",
            "application/pdf": "[encoded data removed]"
          },
          "metadata": {}
        }
      ],
      "source": [
        "irreps = [G.irrep(0, 0)] + [G.irrep(1, j) for j in range(8)]\n",
        "\n",
        "# first, we generate a random function, as earlier\n",
        "ft = {\n",
        "    rho.id: np.random.randn(rho.size, rho.size)\n",
        "    for rho in irreps\n",
        "}\n",
        "\n",
        "# second, we sample a random group element `g`\n",
        "g = G.sample()\n",
        "print(f'Transforming the function with g={g}')\n",
        "\n",
        "# finally, we transform the Fourier coefficients as in the equations above:\n",
        "gft = {\n",
        "    rho.id: rho(g) @ ft[rho.id]\n",
        "    for rho in irreps\n",
        "}\n",
        "\n",
        "# Let's now visualize the two functions:\n",
        "\n",
        "f_rot = [\n",
        "    inverse_fourier_transform_O2(g, ft) for g in grid_rot\n",
        "]\n",
        "f_refl = [\n",
        "    inverse_fourier_transform_O2(g, ft) for g in grid_refl\n",
        "]\n",
        "\n",
        "gf_rot = [\n",
        "    inverse_fourier_transform_O2(g, gft) for g in grid_rot\n",
        "]\n",
        "gf_refl = [\n",
        "    inverse_fourier_transform_O2(g, gft) for g in grid_refl\n",
        "]\n",
        "\n",
        "\n",
        "plt.plot(thetas, f_rot, label='rotations')\n",
        "plt.plot(thetas, f_refl, label='reflection + rotations')\n",
        "plt.xlabel('theta [0, 2pi)')\n",
        "plt.ylabel('f(g)')\n",
        "plt.title('f')\n",
        "plt.legend()\n",
        "plt.show()\n",
        "\n",
        "plt.plot(thetas, gf_rot, label='rotations')\n",
        "plt.plot(thetas, gf_refl, label='reflection + rotations')\n",
        "plt.xlabel('theta [0, 2pi)')\n",
        "plt.ylabel('f(g)')\n",
        "plt.title('g.f')\n",
        "plt.legend()\n",
        "plt.show()"
      ]
    },
    {
      "cell_type": "markdown",
      "metadata": {
        "id": "EEtyoU54cQLs"
      },
      "source": [
        "#### From the Fourier Transform to the Regular Representation\n",
        "\n",
        "For simplicity, we can stack all the Fourier coefficients (the output of the Fourier transform, that is, the input of the inverse Fourier transform) into a unique vector.\n",
        "We define the vector $\\mathbf{f}$ as the stack of the columns of each Fourier coefficients matrix $f(\\rho_j)$.\n",
        "\n",
        "Let's first introduce some notation.\n",
        "We denote the stack of two vectors $\\mathbf{v_1}, \\mathbf{v_2}$ as $\\mathbf{v_1} \\oplus \\mathbf{v_2}$.\n",
        "The use of $\\oplus$ is not random: if $\\rho_1$ is a representation acting on $\\mathbf{v_1}$ and $\\rho_2$ is a representation acting on $\\mathbf{v_2}$, then the *direct sum* $\\rho_1 \\oplus \\rho_2$ acts on the concatenated vector $\\mathbf{v_1} \\oplus \\mathbf{v_2}$.\n",
        "\n",
        "Second, we denote by $\\text{vec}(A)$ the vector which is the stack of the columns of a matrix $A$.\n",
        "In `numpy`, this is written as `A.T.reshape(-1)`, where the transpose is necessary since `numpy` stacks rows by default.\n",
        "\n",
        "Then, we write:\n",
        "$$ \\mathbf{f} = \\bigoplus_{\\rho_j} \\text{vec}(\\hat{f}(\\rho_j)) \\ .$$\n",
        "\n",
        "Moreover, by using $\\widehat{g.f}(\\rho_j) = \\rho_j(g) \\hat{f}(\\rho_j)$, we see that the vector containing the coefficients of the function $[g.f]$ will be:\n",
        "$$\n",
        "\\bigoplus_{\\rho_j} \\text{vec}(\\rho_j(g) \\hat{f}(\\rho_j)) =\n",
        "\\bigoplus_{\\rho_j} \\left(\\bigoplus^{d_j} \\rho_j(g)\\right) \\text{vec}(\\hat{f}(\\rho_j))\n",
        "$$\n",
        "\n",
        "In other words, the group $G$ is acting on the vector $\\mathbf{f}$ with the following representation:\n",
        "$$\n",
        "\\rho(g) = \\bigoplus_{\\rho_j} \\bigoplus^{d_j} \\rho_j(g)\n",
        "$$\n",
        "\n",
        "i.e. $\\rho(g) \\mathbf{f}$ is the vector containing the Fourier coefficients of the function $[g.f]$."
      ]
    },
    {
      "cell_type": "markdown",
      "metadata": {
        "id": "soETTVlMcQLs"
      },
      "source": [
        "Note that, essentially, the representation $\\rho$ acts on a vector space containing functions over $G$.\n",
        "This should remind you of the **regular representation** we defined for *finite groups* earlier.\n",
        "Indeed, it turns out that, if $G$ is finite, the representation $\\rho$ we have just constructed is **isomorphic** (*equivalent*) to the *regular representation* defined earlier.\n",
        "The change of basis $Q$ is a matrix which performs the Fourier transform, while $Q^{-1}$ performs the inverse Fourier transform.\n",
        "More formally:\n",
        "$$ \\rho_\\text{reg}(g) = Q^{-1} \\left(\\bigoplus_{\\rho_j} \\bigoplus^{d_j} \\rho_j(g) \\right) Q $$\n",
        "\n",
        "where each irrep $\\rho_j$ is repeated $d_j$ times, i.e. a number of times equal to its size."
      ]
    },
    {
      "cell_type": "markdown",
      "metadata": {
        "id": "pDqHvssGptvW"
      },
      "source": [
        "**Intuition**: recall that a function $f : G \\to \\mathbb{R}$ is just a vector living in a vector space. Such vector can be expressed with respect to any basis for this vector space. The first time we introduced the *regular representation* for finite groups, we chose a basis where each axis is associated with a group element; the action of $G$ is realized in this basis by a permutation of all the axes. Here, instead, we defined a basis for the same vector space where $G$ acts indipendently on different subsets of the axes, i.e. the action of $G$ is a block-diagonal matrix (the direct sum of irreps). This is often a more convenient choice of basis as we will see later."
      ]
    },
    {
      "cell_type": "markdown",
      "metadata": {
        "id": "rvgKeBEZcQLs"
      },
      "source": [
        "Let verify this equivalence for the Dihdral group $D_8$:"
      ]
    },
    {
      "cell_type": "code",
      "execution_count": null,
      "metadata": {
        "id": "sdlvVFUJcQLs",
        "colab": {
          "base_uri": "https://localhost:8080/"
        },
        "outputId": "d1758f41-1ae7-4d1f-a6c2-04cc17661b7e"
      },
      "outputs": [
        {
          "output_type": "stream",
          "name": "stdout",
          "text": [
            "The representations have the same size:\n",
            "16 16\n",
            "And contain the same irreps:\n",
            "[(0, 0), (1, 0), (1, 1), (1, 1), (1, 2), (1, 2), (1, 3), (1, 3), (1, 4), (0, 4)]\n",
            "[(0, 0), (1, 0), (1, 1), (1, 1), (1, 2), (1, 2), (1, 3), (1, 3), (1, 4), (0, 4)]\n",
            "\n",
            "Are the two representations equivalent? True\n"
          ]
        }
      ],
      "source": [
        "\n",
        "G = dihedral_group(8)\n",
        "\n",
        "rho_irreps = []\n",
        "for rho_j in G.irreps():\n",
        "    d_j = rho_j.size\n",
        "    # repeat each irrep a number of times equal to its size\n",
        "    rho_irreps += [rho_j]*d_j\n",
        "\n",
        "rho = directsum(rho_irreps)\n",
        "\n",
        "print('The representations have the same size:')\n",
        "print(rho.size, G.regular_representation.size)\n",
        "\n",
        "print('And contain the same irreps:')\n",
        "print(rho.irreps)\n",
        "print(G.regular_representation.irreps)\n",
        "\n",
        "# Fourier transform matrix:\n",
        "Q = G.regular_representation.change_of_basis\n",
        "# inverse Fourier transform matrix:\n",
        "Qinv = G.regular_representation.change_of_basis_inv\n",
        "\n",
        "# let's check that the two representations are indeed equivalent\n",
        "g = G.sample()\n",
        "\n",
        "rho_g = rho(g)\n",
        "reg_g = G.regular_representation(g)\n",
        "print()\n",
        "print('Are the two representations equivalent?', np.allclose(Q @ rho_g @ Qinv, reg_g))"
      ]
    },
    {
      "cell_type": "markdown",
      "metadata": {
        "id": "gWWja59scQLs"
      },
      "source": [
        "When $G$ is not finite, we can not explicitly store the regular representation $\\rho_\\text{reg}$ or the Fourier transform matrix $Q$, since they are infinite dimensional.\n",
        "Nevertheless, as we have done earlier, we can just consider a subset of all functions, spanned only by a finite number of irreps.\n",
        "We can sample the function on any group element via the Inverse Fourier Transform when needed, without the need to compute the full Inverse Fourier Transform $Q^{-1}$ to store all values.\n",
        "\n",
        "This is the underlying idea we will exploit later to build GCNNs equivariant to infinite groups."
      ]
    },
    {
      "cell_type": "markdown",
      "metadata": {
        "id": "fuA63jcqcQLt"
      },
      "source": [
        "We can easily generate this representation as (`bl_regular_representation` stands for \"band-limited\", since only a limited subset of irreps, i.e. frequencies, is used):"
      ]
    },
    {
      "cell_type": "code",
      "execution_count": null,
      "metadata": {
        "id": "jK5l0p-ocQLt",
        "colab": {
          "base_uri": "https://localhost:8080/"
        },
        "outputId": "83a83546-6554-43cc-fe37-d67bcb0bb79d"
      },
      "outputs": [
        {
          "output_type": "execute_result",
          "data": {
            "text/plain": [
              "[(0, 0),\n",
              " (1, 0),\n",
              " (1, 1),\n",
              " (1, 1),\n",
              " (1, 2),\n",
              " (1, 2),\n",
              " (1, 3),\n",
              " (1, 3),\n",
              " (1, 4),\n",
              " (1, 4),\n",
              " (1, 5),\n",
              " (1, 5),\n",
              " (1, 6),\n",
              " (1, 6),\n",
              " (1, 7),\n",
              " (1, 7)]"
            ]
          },
          "metadata": {},
          "execution_count": 54
        }
      ],
      "source": [
        "G = o2_group()\n",
        "\n",
        "rho = G.bl_regular_representation(7)\n",
        "\n",
        "rho.irreps"
      ]
    },
    {
      "cell_type": "markdown",
      "metadata": {
        "id": "2ciIlTnmcQLt"
      },
      "source": [
        "#### Irreps with redundant entries: the case of $SO(2)$\n",
        "We need to conclude with a final note about the Fourier transform.\n",
        "When we introduced it earlier, we said that the entries of the irreps form a **basis** for the functions over *most* groups.\n",
        "Indeed, there exists some groups where the entries of the irreps are partially redundant and, therefore, form an *overcomplete* basis.\n",
        "This is the case, for example, of the group of planar rotations $SO(2)$ (or the group of $N$ discrete rotations $C_N$).\n",
        "Indeed, an irrep of $SO(2)$ has form:\n",
        "\n",
        "$$\n",
        "\\rho_j(r_\\theta) = \\begin{bmatrix}\n",
        "    \\cos(j \\cdot \\theta) & -\\sin(j \\cdot \\theta) \\\\\n",
        "    \\sin(j \\cdot \\theta) & \\cos(j \\cdot \\theta) \\\\\n",
        "\\end{bmatrix}\n",
        "$$\n",
        "\n",
        "for $\\theta \\in [0, 2\\pi)$, where the integer $j \\in \\mathbb{N}$ is interpreted as the rotational *frequency*.\n",
        "\n",
        "You can observe that the two columns of $\\rho_j(r_\\theta)$ contain redundant elements and span the same $2$ dimensional space of functions.\n",
        "It is indeed sufficient to consider only one of the two columns to parameterize functions over $SO(2)$.\n",
        "This also means that the irrep $\\rho_j$ appears only once (instead of $d_j=2$ times) in the regular representation.\n",
        "\n",
        "We don't generally need to worry much about this, since we can generate the representation as earlier:"
      ]
    },
    {
      "cell_type": "code",
      "execution_count": null,
      "metadata": {
        "id": "s4Xh-rTMcQLt",
        "colab": {
          "base_uri": "https://localhost:8080/"
        },
        "outputId": "2679757f-d8de-48d0-f41f-5e0707a46766"
      },
      "outputs": [
        {
          "output_type": "execute_result",
          "data": {
            "text/plain": [
              "[(0,), (1,), (2,), (3,), (4,), (5,), (6,), (7,)]"
            ]
          },
          "metadata": {},
          "execution_count": 55
        }
      ],
      "source": [
        "G = so2_group()\n",
        "\n",
        "rho = G.bl_regular_representation(7)\n",
        "\n",
        "\n",
        "# observe that each irrep is now repeated only once, even if some are 2-dimensional\n",
        "rho.irreps"
      ]
    },
    {
      "cell_type": "markdown",
      "metadata": {
        "id": "BfsEg4U8cQLt"
      },
      "source": [
        "## 2. From Group CNNs to Steerable CNNs\n"
      ]
    },
    {
      "cell_type": "markdown",
      "metadata": {
        "id": "MrCqjd6fcQLt"
      },
      "source": [
        "We consider a GCNN equivariant to a *semi-direct* product group $\\mathbb{R}^n \\rtimes G$, with compact group $G \\leq O(n)$.\n",
        "This setting covers equivariance to **isometries** (distance preserving transformations) of the Euclidean space $\\mathbb{R}^n$; in particular, it includes equivariance to *translations* in $\\mathbb{R}^n$ and to a origin-preserving symmetry $G$ (e.g. rotations or reflections in $n$-dimensions).\n",
        "We call $G$ a **point group**.\n",
        "\n",
        "If $G=O(n)$, the group of all rotations and reflections in $\\mathbb{R}^n$, then $E(n) = \\mathbb{R}^n \\rtimes O(n)$ is called the **Euclidean group**, and includes all isometries of $\\mathbb{R}^n$."
      ]
    },
    {
      "cell_type": "markdown",
      "metadata": {
        "id": "t8W8MoctMjn_"
      },
      "source": [
        "### 2.1 Feature Fields\n",
        "In a GCNN, a feature map is a signal $f: \\mathbb{R}^n \\times G \\to \\mathbb{R}$.\n",
        "The action of an element $(x, g) \\in \\mathbb{R}^n \\rtimes G$ is:\n",
        "\n",
        "$$ [(x, g).f](y,h):= f(g^{-1}(y-x), g^{-1}h) $$\n",
        "\n",
        "where $x, y \\in \\mathbb{R}^n$ and $g, h \\in G$."
      ]
    },
    {
      "cell_type": "markdown",
      "metadata": {
        "id": "s0-9VSbwcQLu"
      },
      "source": [
        "---\n",
        "\n",
        "#### QUESTION 7\n",
        "Prove the action has indeed this form.\n",
        "\n",
        "#### ANSWER 7\n",
        "\n",
        "\n",
        "\n",
        "\n",
        "---"
      ]
    },
    {
      "cell_type": "markdown",
      "metadata": {
        "id": "pTJxbzY4cQLu"
      },
      "source": [
        "In a GCNN, a feature map $f$ is stored as a multi-dimensional array with an axis for each of the $n$ spatial dimensions and one for the group $G$.\n",
        "\n",
        "In a steerable CNN, we replace the $G$ axis with a \"Fourier\" axis, which contains $c$ Fourier coefficients used to parameterize a function over $G$, as described in the previous section.\n",
        "Again, let's call $\\rho: G \\to \\mathbb{R}^{c \\times c}$ the representation of $G$ acting on these $c$ coefficients.\n",
        "The result is equivalent to a standard GCNN if $G$ is finite (and we have $c = |G|$), but we can now also use infinite $G$, such as $SO(2)$.\n",
        "\n",
        "\n",
        "A feature map $f$ can now be interpreted as a vector field on the space $\\mathbb{R}^n$, i.e.:\n",
        "$$ f: \\mathbb{R}^n \\to \\mathbb{R}^c $$\n",
        "\n",
        "which assigns a $c$-dimensional feature vector $f(x)\\in\\mathbb{R}^c$ to each spatial position $x\\in\\mathbb{R}^n$.\n",
        "We call such vector field a **feature vector field**.\n",
        "\n",
        "The action of $\\mathbb{R}^n \\rtimes G$ on one such feature vector field is defined as:\n",
        "\n",
        "$$ [(x, g).f](y):= \\rho(g) f(g^{-1}(y-x)) $$\n",
        "\n",
        "where $x, y \\in \\mathbb{R}^n$ and $g \\in G$."
      ]
    },
    {
      "cell_type": "markdown",
      "metadata": {
        "id": "x7wievExcQLu"
      },
      "source": [
        "---\n",
        "\n",
        "#### QUESTION 8\n",
        "Prove that this is indeed the right action of $\\mathbb{R}^n \\rtimes G$ on the feature vector field $f: \\mathbb{R}^n \\to \\mathbb{R}^c$.\n",
        "Recall the action of this group over the functions of the form $\\underline{f}: \\mathbb{R}^n \\rtimes G \\to \\mathbb{R}$ that we described earlier.\n",
        "Moreover, note that the vector $f(x) \\in \\mathbb{R}^c$ contains the $c$ Fourier coefficients of the function $\\underline{f}(x, \\cdot) : G \\to \\mathbb{R}$ along its $G$ axis, i.e.:\n",
        "$$\n",
        "    f(x) = \\bigoplus_{\\rho_j} \\text{vec}\\left(\\widehat{\\underline{f}(x, \\cdot)}(\\rho_j)\\right)\n",
        "$$\n",
        "\n",
        "#### ANSWER 8:\n",
        "\n",
        "\n",
        "\n",
        "---"
      ]
    },
    {
      "cell_type": "markdown",
      "metadata": {
        "id": "EX2IVGuTcQLu"
      },
      "source": [
        "### General Steerable CNNs\n",
        "The framework of Steerable CNNs is actually more general and allows for any representation $\\rho$ of $G$.\n",
        "A different choice of $\\rho$ generally require some structural change in the architecture, e.g. by adapting the non-linearity used to ensure equivariance.\n",
        "Anyways, for simplicity, we will stick with the Fourier example in this tutorial.\n"
      ]
    },
    {
      "cell_type": "markdown",
      "metadata": {
        "id": "hn9ztlcjcQLu"
      },
      "source": [
        "Throughout the rest of this tutorial, we will assume $n=2$ for simplicity.\n",
        "That means we will be working for example with planar images and with the isometries of the plane (2D rotations or mirroring).\n",
        "The actions of $g \\in G=SO(2)$ on two examples of feature vector fields over $\\mathbb{R}^2$ are shown next.\n",
        "On the left, $\\rho$ is the trivial representation of $SO(2)$ while, on the right, $\\rho$ is the representation of $SO(2)$ as $2\\times 2$ rotation matrices."
      ]
    },
    {
      "cell_type": "markdown",
      "metadata": {
        "id": "npYYVFKNcQLu"
      },
      "source": [
        "![feature field examples](https://github.com/QUVA-Lab/e2cnn/raw/master/visualizations/feature_fields.png)"
      ]
    },
    {
      "cell_type": "markdown",
      "metadata": {
        "id": "bBCJq30ycQLu"
      },
      "source": [
        "### 2.2 Defining a Steerable CNN"
      ]
    },
    {
      "cell_type": "markdown",
      "metadata": {
        "id": "oHD8hI5fcQLv"
      },
      "source": [
        "We can now proceed with building a Steerable CNN.\n",
        "First we import some other useful packages."
      ]
    },
    {
      "cell_type": "code",
      "execution_count": null,
      "metadata": {
        "id": "E9TilpbScQLv"
      },
      "outputs": [],
      "source": [
        "from escnn import group\n",
        "from escnn import gspaces\n",
        "from escnn import nn"
      ]
    },
    {
      "cell_type": "markdown",
      "metadata": {
        "id": "xPhRRlFDM0wm"
      },
      "source": [
        "First, we need to choose the group $G$ of point symmetries (reflections and rotations) which are being considered.\n",
        "All of these choices are subgroups $G\\leq O(2)$ of the orthogonal group.\n",
        "\n",
        "For simplicity, we first consider the *finite* group $G=C_4$, which models the $4$ *rotations* by angle $\\theta \\in \\big\\{0, \\frac{\\pi}{2}, \\pi, \\frac{3\\pi}{2}\\big\\}$.\n",
        "Because these are perfect symmetries of the grid, transforming an image with this group does not require any interpolation.\n",
        "We will later extend our examples to an infinite group such as $SO(2)$ or $O(2)$.\n",
        "\n",
        "Recall that a semi-direct product $\\mathbb{R}^2 \\rtimes G$ is defined by $G$ but also by the action of $G$ on $\\mathbb{R}^2$.\n",
        "We determine both the **point group** $G$ and its **action on the space** $\\mathbb{R}^2$  by instantiating a subclass of `gspace.GSpace`.\n",
        "For the rotational action of $G=C_4$ on $\\mathbb{R}^2$ this is done by:"
      ]
    },
    {
      "cell_type": "code",
      "execution_count": null,
      "metadata": {
        "id": "GtrK5XjccQLv",
        "colab": {
          "base_uri": "https://localhost:8080/"
        },
        "outputId": "b03aca47-b09c-44c2-b151-a7e85f24aea3"
      },
      "outputs": [
        {
          "output_type": "execute_result",
          "data": {
            "text/plain": [
              "C4_on_R2[(None, 4)]"
            ]
          },
          "metadata": {},
          "execution_count": 57
        }
      ],
      "source": [
        "r2_act = gspaces.rot2dOnR2(N=4)\n",
        "r2_act"
      ]
    },
    {
      "cell_type": "code",
      "execution_count": null,
      "metadata": {
        "id": "QS4UPsa3RfBB",
        "colab": {
          "base_uri": "https://localhost:8080/"
        },
        "outputId": "c4235124-5f8f-4f9e-bbab-49f1d2f520c9"
      },
      "outputs": [
        {
          "output_type": "execute_result",
          "data": {
            "text/plain": [
              "C4"
            ]
          },
          "metadata": {},
          "execution_count": 58
        }
      ],
      "source": [
        "# we can access the group G as\n",
        "G = r2_act.fibergroup\n",
        "G"
      ]
    },
    {
      "cell_type": "markdown",
      "metadata": {
        "id": "rpQ3HO_tcQLv"
      },
      "source": [
        "Having specified the symmetry transformation on the *base space* $\\mathbb{R}^2$, we next need to define the representation $\\rho: G \\to \\mathbb{R}^{c \\times c}$ which describes how a **feature vector field** $f : \\mathbb{R}^2 \\to \\mathbb{R}^c$ transforms under the action of $G$.\n",
        "This transformation law of feature fields is implemented by  ``nn.FieldType``.\n",
        "\n",
        "We instantiate the `nn.FieldType` modeling a GCNN feature by passing it the `gspaces.GSpace` instance and the *regular representation* of $G=C_4$.\n",
        "We call a feature field associated with the regular representation $\\rho_\\text{reg}$ a **regular feature field**."
      ]
    },
    {
      "cell_type": "code",
      "execution_count": null,
      "metadata": {
        "id": "1HcUHvbHRS1z",
        "colab": {
          "base_uri": "https://localhost:8080/"
        },
        "outputId": "fd03f45f-9853-4cb5-cadc-ac89cfd4fb72"
      },
      "outputs": [
        {
          "output_type": "execute_result",
          "data": {
            "text/plain": [
              "[C4_on_R2[(None, 4)]: {regular (x1)}(4)]"
            ]
          },
          "metadata": {},
          "execution_count": 59
        }
      ],
      "source": [
        "feat_type = nn.FieldType(r2_act, [G.regular_representation])\n",
        "feat_type"
      ]
    },
    {
      "cell_type": "markdown",
      "metadata": {
        "id": "N7iQyWXgZxHx"
      },
      "source": [
        "Recall that the regular representation of a finite group $G$ built by `G.regular_representation` is a permutation matrix of shape $|G| \\times |G|$:"
      ]
    },
    {
      "cell_type": "code",
      "execution_count": null,
      "metadata": {
        "id": "yLHOXaPmZ9zw",
        "colab": {
          "base_uri": "https://localhost:8080/"
        },
        "outputId": "a64dafc3-fd77-4bce-e2a5-cbe585a1aed6"
      },
      "outputs": [
        {
          "output_type": "execute_result",
          "data": {
            "text/plain": [
              "array([[ 0., -0., -0.,  1.],\n",
              "       [ 1.,  0., -0., -0.],\n",
              "       [ 0.,  1.,  0., -0.],\n",
              "       [-0.,  0.,  1.,  0.]])"
            ]
          },
          "metadata": {},
          "execution_count": 60
        }
      ],
      "source": [
        "G.regular_representation(G.sample())"
      ]
    },
    {
      "cell_type": "markdown",
      "metadata": {
        "id": "_RWv1FOrQXqO"
      },
      "source": [
        "#### Deep Feature spaces\n",
        "The deep feature spaces of a GCNN typically comprise multiple channels.\n",
        "Similarly, the feature spaces of a steerable CNN can include multiple independent feature fields.\n",
        "This is achieved via **direc sum**, but stacking multiple copies of $\\rho$.\n",
        "\n",
        "For example, we can use $3$ copies of the regular representation $\\rho_\\text{reg}: G \\to \\mathbb{R}^{|G|}$.\n",
        "The full feature space is in this case modeled as a *stacked* field $f: \\mathbb{R}^2 \\to \\mathbb{R}^{3|G|}$ which transforms according to the **direct sum** of three regular representations:\n",
        "\n",
        "$$\n",
        "\\rho(r_\\theta)\n",
        "    \\ =\\ \\rho_\\text{reg}(r_\\theta) \\oplus \\rho_\\text{reg}(r_\\theta) \\oplus \\rho_\\text{reg}(r_\\theta)\n",
        "    \\ =\\ \\begin{bmatrix}\n",
        "            \\rho_\\text{reg}(\\theta) & 0 & 0 \\\\\n",
        "            0 & \\rho_\\text{reg}(\\theta) & 0 \\\\\n",
        "            0 & 0 & \\rho_\\text{reg}(\\theta) \\\\\n",
        "          \\end{bmatrix}\n",
        "          \\quad\\in\\ \\mathbb{R}^{3|G| \\times 3|G|}\n",
        "$$\n",
        "\n",
        "We instantiate a `nn.FieldType` composed of $3$ regular representations by passing the full field representation as a list of three regular representations:\n"
      ]
    },
    {
      "cell_type": "code",
      "execution_count": null,
      "metadata": {
        "id": "dc0pd9W7TVrR",
        "colab": {
          "base_uri": "https://localhost:8080/"
        },
        "outputId": "9c2bf31d-c21f-451b-8cb7-faa1ec480d3e"
      },
      "outputs": [
        {
          "output_type": "execute_result",
          "data": {
            "text/plain": [
              "[C4_on_R2[(None, 4)]: {regular (x3)}(12)]"
            ]
          },
          "metadata": {},
          "execution_count": 61
        }
      ],
      "source": [
        "# Technically, one can also construct the direct-sum representation G.regular_representation + G.regular_representation + G.regular_representation as done\n",
        "# before. Passing a list containing 3 copies of G.regular_representation allows for more efficient implementation of certain operations internally.\n",
        "feat_type = nn.FieldType(r2_act, [G.regular_representation]*3)\n",
        "feat_type"
      ]
    },
    {
      "cell_type": "markdown",
      "metadata": {
        "id": "fvxqTdJURs6C"
      },
      "source": [
        "#### Input Features\n",
        "Each hidden layer of a steerable CNN has its own transformation law which the user needs to specify (equivalent to the choice of number of channels in each layer of a conventional CNN).\n",
        "The *input* and *output* of a steerable CNN are also feature fields and their type (i.e. transformation law) is typically determined by the inference task.\n",
        "\n",
        "The most common example is that of gray-scale input images.\n",
        "A rotation of a gray-scale image is performed by moving each pixel to a new position without changing their intensity values.\n",
        "The invariance of the scalar pixel values under rotations is modeled by the **trivial representation** $\\rho_0: G\\to\\mathbb{R},\\ g\\mapsto 1$ of $G$ and identifies them as **scalar fields**.\n",
        "Formally, a scalar field is a function $f: \\mathbb{R}^2 \\to \\mathbb{R}$ mapping to a feature vector with $c=1$ channels.\n",
        "A rotation $r_\\theta \\in C_4$ transforms this scalar field as\n",
        "\n",
        "$$ \\big[r_{\\theta}\\,. f\\big](x)\n",
        "   \\ :=\\ \\rho_0(r_\\theta)\\,f\\big(r_\\theta^{-1}x\\big)\n",
        "   \\ =\\ 1\\cdot f\\big(r_\\theta^{-1}x\\big)\n",
        "   \\ =\\ f\\big(r_\\theta^{-1}x\\big) \\ .\n",
        "$$\n",
        "\n",
        "\n",
        "We instantiate the `nn.FieldType` modeling a gray-scale image by passing it the trivial representation of $G$:"
      ]
    },
    {
      "cell_type": "code",
      "execution_count": null,
      "metadata": {
        "id": "NMTEZGYicQLw",
        "colab": {
          "base_uri": "https://localhost:8080/"
        },
        "outputId": "64b041c3-46a0-4412-d9b3-53e1afd2214b"
      },
      "outputs": [
        {
          "output_type": "execute_result",
          "data": {
            "text/plain": [
              "[C4_on_R2[(None, 4)]: {irrep_0 (x1)}(1)]"
            ]
          },
          "metadata": {},
          "execution_count": 62
        }
      ],
      "source": [
        "feat_type_in = nn.FieldType(r2_act, [G.trivial_representation])\n",
        "feat_type_in"
      ]
    },
    {
      "cell_type": "markdown",
      "metadata": {
        "id": "0l2ascq8cQLw"
      },
      "source": [
        "#### Equivariant Layers\n",
        "\n",
        "When we build a model **equivariant** to a group $G$, we require that the output produced by the model transforms consistently when the input transforms under the action of an element $g \\in G$.\n",
        "For a function $F$ (e.g. a neural network), the **equivariance constraint** requires:\n",
        "\n",
        "$$ \\mathcal{T}^\\text{out}_g \\big[F(x)\\big]\\ =\\ F\\big(\\mathcal{T}^\\text{in}_g[x]\\big) \\quad \\forall g\\in G$$\n",
        "\n",
        "where $\\mathcal{T}^\\text{in}_g$ is the transformation of the input by the group element $g$ while $\\mathcal{T}^\\text{out}_g$ is the transformation of the output by the same element.\n",
        "The *field type* `feat_type_in` we have just defined above precisely describes $\\mathcal{T}^\\text{in}$.\n",
        "The transformation law $\\mathcal{T}^\\text{out}$ of the output of the first layer is similarly chosen by defining an instance `feat_type_out` of `nn.FieldType`.\n",
        "\n",
        "For example, let's use $3$ *regular feature fields* in output:"
      ]
    },
    {
      "cell_type": "code",
      "execution_count": null,
      "metadata": {
        "id": "CKR3ape0cQLw"
      },
      "outputs": [],
      "source": [
        "feat_type_out = nn.FieldType(r2_act, [G.regular_representation]*3)"
      ]
    },
    {
      "cell_type": "markdown",
      "metadata": {
        "id": "YhhZ6uPBa3A0"
      },
      "source": [
        "As a shortcut, we can also use:"
      ]
    },
    {
      "cell_type": "code",
      "execution_count": null,
      "metadata": {
        "id": "1UzV5jQma6WR"
      },
      "outputs": [],
      "source": [
        "feat_type_in = nn.FieldType(r2_act, [r2_act.trivial_repr])\n",
        "feat_type_out = nn.FieldType(r2_act, [r2_act.regular_repr]*3)"
      ]
    },
    {
      "cell_type": "markdown",
      "metadata": {
        "id": "5qxhwT14cQMx"
      },
      "source": [
        "Once having defined how the input and output feature spaces should transform, we can build neural network functions as **equivariant modules**.\n",
        "These are implemented as subclasses of an abstract base class `nn.EquivariantModule` which itself inherits from `torch.nn.Module`.\n",
        "\n",
        "**Equivariant Convolution Layer**: We start by instantiating a convolutional layer that maps between fields of types `feat_type_in` and `feat_type_out`.\n",
        "\n",
        "Let $\\rho_\\text{in}: G \\to \\mathbb{R}^{c_\\text{in} \\times c_\\text{in}}$ and $\\rho_\\text{out}: G \\to \\mathbb{R}^{c_\\text{out} \\times c_\\text{out}}$ be respectively the representations of $G$ associated with `feat_type_in` and `feat_type_out`.\n",
        "Then, an equivariant convolution layer is a standard convolution layer with a filter $k: \\mathbb{R}^2 \\to \\mathbb{R}^{c_\\text{out} \\times c_\\text{in}}$ (note the number of input and output channels) which satisfies a particular **steerability constraint**:\n",
        "$$\n",
        "\\forall g \\in G, x \\in \\mathbb{R}^2 \\quad k(g.x) = \\rho_\\text{out}(g) k(x) \\rho_\\text{in}(g)^{-1}\n",
        "$$\n",
        "\n",
        "In particular, the use of convolution guarantees the translation equivariance, while the fact the filters satisfy this steerability constraint guarantees the $G$-equivairance.\n"
      ]
    },
    {
      "cell_type": "markdown",
      "metadata": {
        "id": "tkIZ3Te3EAu8"
      },
      "source": [
        "---\n",
        "\n",
        "#### QUESTION 9\n",
        "\n",
        "Show that if a filter $k: \\mathbb{R}^2 \\to \\mathbb{R}^{c_\\text{out} \\times c_\\text{in}}$ satisfies the constraint above, the convolution with it is equivariant to $G$, i.e. show that\n",
        "$$\n",
        "  f_\\text{out} = k \\star f_\\text{in} \\implies [g.f_\\text{out}] = k \\star [g.f_\\text{in}]\n",
        "$$\n",
        "\n",
        "for all $g \\in G$.\n",
        "\n",
        "The action on the features $f_\\text{in}$ and $f_\\text{out}$ is the one previously defined, i.e:\n",
        "$$\n",
        "  [g.f_\\text{in}](x) = \\rho_\\text{in}(g) f(g^{-1}x)\n",
        "$$\n",
        "\n",
        "and\n",
        "$$\n",
        "  [g.f_\\text{out}](x) = \\rho_\\text{out}(g) f(g^{-1}x)\n",
        "$$\n",
        "\n",
        "while the convolution is defined as\n",
        "$$\n",
        "  f_\\text{out}(y) = [k \\star f_\\text{in}](y) = \\int_{\\mathbb{R}^2} k(x-y) f_\\text{in}(x) dx\n",
        "$$\n",
        "\n",
        "#### ANSWER 9\n",
        "\n",
        "\n",
        "\n",
        "---"
      ]
    },
    {
      "cell_type": "markdown",
      "metadata": {
        "id": "fm5WY-HdD-pr"
      },
      "source": [
        "The steerability constraint restricts the space of possible learnable filters to a smaller space of equivariant filters.\n",
        "Solving this constraint goes beyond the scope of this tutorial; fortunately, the `nn.R2Conv` module takes care of properly parameterizing the filter $k$ such that it satisfies the constraint."
      ]
    },
    {
      "cell_type": "code",
      "execution_count": null,
      "metadata": {
        "id": "fHMs8D-fcQMx"
      },
      "outputs": [],
      "source": [
        "conv = nn.R2Conv(feat_type_in, feat_type_out, kernel_size=3)"
      ]
    },
    {
      "cell_type": "markdown",
      "metadata": {
        "id": "kvWkbVAJcQMx"
      },
      "source": [
        "Each equivariant module has an input and output type.\n",
        "As a function (`.forward()`), it *requires* its inputs to transform according to its input type and is guaranteed to return feature fields associated with its output type.\n",
        "To prevent the user from accidentally feeding an incorrectly transforming input field into an equivariant module, we perform a dynamic type checking.\n",
        "In order to do so, we define **geometric tensors** as data containers.\n",
        "They are wrapping a *PyTorch* `torch.Tensor` to augment them with an instance of `FieldType`.\n",
        "\n",
        "Let's build a few random 32x32 gray-scale images and wrap them into an `nn.GeometricTensor`:"
      ]
    },
    {
      "cell_type": "code",
      "execution_count": null,
      "metadata": {
        "id": "2FH6tglrcQMy"
      },
      "outputs": [],
      "source": [
        "x = torch.randn(4, 1, 32, 32)\n",
        "# FieldType is a callable object; its call method can be used to wrap PyTorch tensors into GeometricTensors\n",
        "x = feat_type_in(x)\n",
        "\n",
        "assert isinstance(x.tensor, torch.Tensor)\n",
        "assert isinstance(x, nn.GeometricTensor)"
      ]
    },
    {
      "cell_type": "markdown",
      "metadata": {
        "id": "MkgNfFM1cQMy"
      },
      "source": [
        "As usually done in *PyTorch*, an image or feature map is stored in a 4-dimensional array of shape BxCxHxW, where B is the batch-size, C is the number of channels and W and H are the spatial dimensions."
      ]
    },
    {
      "cell_type": "markdown",
      "metadata": {
        "id": "_inH8X-zcQMy"
      },
      "source": [
        "We can feed a geometric tensor to an equivariant module as we feed normal tensors in *PyTorch*'s modules:"
      ]
    },
    {
      "cell_type": "code",
      "execution_count": null,
      "metadata": {
        "id": "3FidAyDccQMy"
      },
      "outputs": [],
      "source": [
        "y = conv(x)"
      ]
    },
    {
      "cell_type": "markdown",
      "metadata": {
        "id": "iPzlskTvcQMy"
      },
      "source": [
        "We can verify that the output is indeed associated with the output type of the convolutional layer:"
      ]
    },
    {
      "cell_type": "code",
      "execution_count": null,
      "metadata": {
        "id": "0C-TI2XucQMy",
        "scrolled": true
      },
      "outputs": [],
      "source": [
        "assert y.type == feat_type_out"
      ]
    },
    {
      "cell_type": "markdown",
      "metadata": {
        "id": "MQfGtWyKcQMy"
      },
      "source": [
        "Lets check whether the output transforms as described by the output type when the input transforms according to the input type.\n",
        "The $G$-transformation of a geometric tensor is hereby conveniently done by calling `nn.GeometricTensor.transform()`."
      ]
    },
    {
      "cell_type": "code",
      "execution_count": null,
      "metadata": {
        "id": "2blpKyR4cQMz",
        "scrolled": false
      },
      "outputs": [],
      "source": [
        "# for each group element\n",
        "for g in G.elements:\n",
        "    # transform the input with the current group element according to the input type\n",
        "    x_transformed = x.transform(g)\n",
        "\n",
        "    # feed the transformed input in the convolutional layer\n",
        "    y_from_x_transformed = conv(x_transformed)\n",
        "\n",
        "    # the result should be equivalent to rotating the output produced in the\n",
        "    # previous block according to the output type\n",
        "    y_transformed_from_x = y.transform(g)\n",
        "    assert torch.allclose(y_from_x_transformed.tensor, y_transformed_from_x.tensor, atol=1e-5), g"
      ]
    },
    {
      "cell_type": "markdown",
      "metadata": {
        "id": "JlVmEn4ocQMz"
      },
      "source": [
        "Any network operation is required to be equivariant.\n",
        "`escnn.nn` provides a wide range of equivariant network modules which guarantee this behavior.\n",
        "\n",
        "**Non-Linearities**:\n",
        "As an example, we will next apply an *equivariant nonlinearity* to the output feature field of the convolution.\n",
        "Since the regular representations of a finite group $G$ consists of permutation matrices, any pointwise nonlinearity like *ReLUs* is equivariant.\n",
        "Note that this is *not* the case for many other choices of representations / field types!\n",
        "\n",
        "We instantiate a `escnn.nn.ReLU`, which, as an `nn.EquivariantModule`, requires to be informed about its input type to be able to perform the type checking.\n",
        "Here we are passing `feat_type_out`, the output of the equivariant convolution layer, as input type.\n",
        "It is not necessary to pass an output type to the nonlinearity since this is here determined by its input type."
      ]
    },
    {
      "cell_type": "code",
      "execution_count": null,
      "metadata": {
        "id": "Ja5uesnlcQMz"
      },
      "outputs": [],
      "source": [
        "relu = nn.ReLU(feat_type_out)\n",
        "\n",
        "z = relu(y)"
      ]
    },
    {
      "cell_type": "markdown",
      "metadata": {
        "id": "BX-dHFVvcQMz"
      },
      "source": [
        "We can verify the equivariance again:"
      ]
    },
    {
      "cell_type": "code",
      "execution_count": null,
      "metadata": {
        "id": "JjdjyzF-cQMz"
      },
      "outputs": [],
      "source": [
        "# for each group element\n",
        "for g in G.elements:\n",
        "    y_transformed = y.transform(g)\n",
        "    z_from_y_transformed = relu(y_transformed)\n",
        "\n",
        "    z_transformed_from_y = z.transform(g)\n",
        "\n",
        "    assert torch.allclose(z_from_y_transformed.tensor, z_transformed_from_y.tensor, atol=1e-5), g"
      ]
    },
    {
      "cell_type": "markdown",
      "metadata": {
        "id": "NAnTVtIucQMz"
      },
      "source": [
        "**Deeper Models**: In *deep learning* we usually want to stack multiple layers to build a deep model.\n",
        "As long as each layer is equivariant and consecutive layers are compatible, the equivariance property is preserved by induction.\n",
        "\n",
        "The compatibility of two consecutive layers requires the output type of the first layer to be equal to the input type of the second layer.\n",
        "\n",
        "In case we feed an input with the wrong type to a module, an error is raised:"
      ]
    },
    {
      "cell_type": "code",
      "execution_count": null,
      "metadata": {
        "id": "z3EGMW1HcQM0",
        "colab": {
          "base_uri": "https://localhost:8080/"
        },
        "outputId": "dfa7388c-83b2-40f7-a228-5b83d3781bed"
      },
      "outputs": [
        {
          "output_type": "stream",
          "name": "stdout",
          "text": [
            "Error! the type of the input does not match the input type of this module\n"
          ]
        }
      ],
      "source": [
        "layer1 = nn.R2Conv(feat_type_in, feat_type_out, kernel_size=3)\n",
        "layer2 = nn.ReLU(feat_type_in) # the input type of the ReLU should be the output type of the convolution\n",
        "\n",
        "x = feat_type_in(torch.randn(3, 1, 7, 7))\n",
        "\n",
        "try:\n",
        "    y = layer2(layer1(x))\n",
        "except AssertionError as e:\n",
        "    print(e)"
      ]
    },
    {
      "cell_type": "markdown",
      "metadata": {
        "id": "Zt3KkNUTcQM0"
      },
      "source": [
        "Simple deeper architectures can be built using a **SequentialModule**:"
      ]
    },
    {
      "cell_type": "code",
      "execution_count": null,
      "metadata": {
        "id": "XDjfrUpYcQM0"
      },
      "outputs": [],
      "source": [
        "feat_type_in = nn.FieldType(r2_act, [r2_act.trivial_repr])\n",
        "feat_type_hid = nn.FieldType(r2_act, 8*[r2_act.regular_repr])\n",
        "feat_type_out = nn.FieldType(r2_act, 2*[r2_act.regular_repr])\n",
        "\n",
        "model = nn.SequentialModule(\n",
        "    nn.R2Conv(feat_type_in, feat_type_hid, kernel_size=3),\n",
        "    nn.InnerBatchNorm(feat_type_hid),\n",
        "    nn.ReLU(feat_type_hid, inplace=True),\n",
        "    nn.R2Conv(feat_type_hid, feat_type_hid, kernel_size=3),\n",
        "    nn.InnerBatchNorm(feat_type_hid),\n",
        "    nn.ReLU(feat_type_hid, inplace=True),\n",
        "    nn.R2Conv(feat_type_hid, feat_type_out, kernel_size=3),\n",
        ").eval()\n"
      ]
    },
    {
      "cell_type": "markdown",
      "metadata": {
        "id": "QRs_N_TqcQM0"
      },
      "source": [
        "As every layer is equivariant and consecutive layers are compatible, the whole model is equivariant."
      ]
    },
    {
      "cell_type": "code",
      "execution_count": null,
      "metadata": {
        "id": "qOM5wHTccQM0"
      },
      "outputs": [],
      "source": [
        "x = torch.randn(1, 1, 17, 17)\n",
        "x = feat_type_in(x)\n",
        "\n",
        "y = model(x)\n",
        "\n",
        "# for each group element\n",
        "for g in G.elements:\n",
        "    x_transformed = x.transform(g)\n",
        "    y_from_x_transformed = model(x_transformed)\n",
        "\n",
        "    y_transformed_from_x = y.transform(g)\n",
        "\n",
        "    assert torch.allclose(y_from_x_transformed.tensor, y_transformed_from_x.tensor, atol=1e-5), g"
      ]
    },
    {
      "cell_type": "markdown",
      "metadata": {
        "id": "sdVdUVntcQM1"
      },
      "source": [
        "**Invariant Pooling Layer**: Usually, at the end of the model we want to produce a single feature vector to use for classification.\n",
        "To do so, it is common to pool over the spatial dimensions, e.g. via average pooling.\n",
        "\n",
        "This produces (approximatively) translation-invariant feature vectors."
      ]
    },
    {
      "cell_type": "code",
      "execution_count": null,
      "metadata": {
        "id": "8DDnTO8DcQM1",
        "colab": {
          "base_uri": "https://localhost:8080/"
        },
        "outputId": "1b24f3d5-b67a-42f6-b0b5-05259d7aeb6b"
      },
      "outputs": [
        {
          "output_type": "stream",
          "name": "stdout",
          "text": [
            "torch.Size([1, 8, 1, 1])\n"
          ]
        }
      ],
      "source": [
        "# average pooling with window size 11\n",
        "avgpool = nn.PointwiseAvgPool(feat_type_out, 11)\n",
        "\n",
        "y = avgpool(model(x))\n",
        "\n",
        "print(y.shape)"
      ]
    },
    {
      "cell_type": "markdown",
      "metadata": {
        "id": "oIbR_0GtcQM1"
      },
      "source": [
        "In our case, the feature vectors $f(x)\\in\\mathbb{R}^c$ associated to each point $x\\in\\mathbb{R}^2$ have a well defined transformation law.\n",
        "The output of the model now transforms according to `feat_type_out` (here two $C_4$ regular fields, i.e. 8 channels).\n",
        "For our choice of regular representations (which are permutation representations) the channels in the feature vectors associated to each point permute when the input is rotated."
      ]
    },
    {
      "cell_type": "code",
      "execution_count": null,
      "metadata": {
        "id": "LNtReKgUcQM1",
        "colab": {
          "base_uri": "https://localhost:8080/"
        },
        "outputId": "10bc44e3-2927-4dc0-c268-19d102a100e2"
      },
      "outputs": [
        {
          "output_type": "stream",
          "name": "stdout",
          "text": [
            "rotation by 0[2pi/4]: [ 0.542  0.641  0.57   0.596 -0.102 -0.041 -0.042 -0.072]\n",
            "rotation by 1[2pi/4]: [ 0.596  0.542  0.641  0.57  -0.072 -0.102 -0.041 -0.042]\n",
            "rotation by 2[2pi/4]: [ 0.57   0.596  0.542  0.641 -0.042 -0.072 -0.102 -0.041]\n",
            "rotation by 3[2pi/4]: [ 0.641  0.57   0.596  0.542 -0.041 -0.042 -0.072 -0.102]\n"
          ]
        }
      ],
      "source": [
        "for g in G.elements:\n",
        "    print(f'rotation by {g}:', y.transform(g).tensor[0, ...].detach().numpy().squeeze())"
      ]
    },
    {
      "cell_type": "markdown",
      "metadata": {
        "id": "b9k0MPvucQM1"
      },
      "source": [
        "Many learning tasks require to build models which are **invariant** under rotations.\n",
        "We can compute invariant features from the output of the model using an **invariant map**.\n",
        "For instance, we can take the maximum value within each regular field.\n",
        "We do so using `nn.GroupPooling`:"
      ]
    },
    {
      "cell_type": "code",
      "execution_count": null,
      "metadata": {
        "id": "DUAvcM3UcQM2",
        "colab": {
          "base_uri": "https://localhost:8080/"
        },
        "outputId": "e50483bb-7410-4467-94e7-c958973711dd"
      },
      "outputs": [
        {
          "output_type": "stream",
          "name": "stdout",
          "text": [
            "rotation by 0[2pi/4]: [ 0.641 -0.041]\n",
            "rotation by 1[2pi/4]: [ 0.641 -0.041]\n",
            "rotation by 2[2pi/4]: [ 0.641 -0.041]\n",
            "rotation by 3[2pi/4]: [ 0.641 -0.041]\n"
          ]
        }
      ],
      "source": [
        "invariant_map = nn.GroupPooling(feat_type_out)\n",
        "\n",
        "y = invariant_map(avgpool(model(x)))\n",
        "\n",
        "for g in G.elements:\n",
        "    print(f'rotation by {g}:', y.transform(g).tensor[0, ...].detach().numpy().squeeze())"
      ]
    },
    {
      "cell_type": "code",
      "execution_count": null,
      "metadata": {
        "id": "yVY711w-cQM2"
      },
      "outputs": [],
      "source": [
        "# for each group element\n",
        "for g in G.elements:\n",
        "    # rotated the input image\n",
        "    x_transformed = x.transform(g)\n",
        "    y_from_x_transformed = invariant_map(avgpool(model(x_transformed)))\n",
        "\n",
        "    y_transformed_from_x = y # no .transform(g) needed since y should be invariant!\n",
        "\n",
        "    # check that the output did not change\n",
        "    # note that here we are not rotating the original output y as before\n",
        "    assert torch.allclose(y_from_x_transformed.tensor, y_transformed_from_x.tensor, atol=1e-6), g"
      ]
    },
    {
      "cell_type": "markdown",
      "metadata": {
        "id": "JSJNcJUKBpuK"
      },
      "source": [
        "### 2.3 Steerable CNN with infinite group $G$\n",
        "\n",
        "We can now repeat the same constructions with $G$ being an infinite group, e.g. the group of all planar rotations $G=SO(2)$."
      ]
    },
    {
      "cell_type": "code",
      "execution_count": null,
      "metadata": {
        "id": "LHJGeENZGgPV",
        "colab": {
          "base_uri": "https://localhost:8080/"
        },
        "outputId": "061e311f-f1b9-4c07-c9e0-e4f9483719ee"
      },
      "outputs": [
        {
          "output_type": "execute_result",
          "data": {
            "text/plain": [
              "SO(2)_on_R2[(None, -1)]"
            ]
          },
          "metadata": {},
          "execution_count": 79
        }
      ],
      "source": [
        "# use N=-1 to indicate all rotations\n",
        "r2_act = gspaces.rot2dOnR2(N=-1)\n",
        "r2_act"
      ]
    },
    {
      "cell_type": "code",
      "execution_count": null,
      "metadata": {
        "id": "p-46yXnCGowV",
        "colab": {
          "base_uri": "https://localhost:8080/"
        },
        "outputId": "7f4d6252-c033-4d18-d3a1-7de9b72a4d21"
      },
      "outputs": [
        {
          "output_type": "execute_result",
          "data": {
            "text/plain": [
              "SO(2)"
            ]
          },
          "metadata": {},
          "execution_count": 80
        }
      ],
      "source": [
        "G = r2_act.fibergroup\n",
        "G"
      ]
    },
    {
      "cell_type": "code",
      "execution_count": null,
      "metadata": {
        "id": "BXGQWso9lKH1"
      },
      "outputs": [],
      "source": [
        "# For simplicity we take a single-channel gray-scale image in input and we output a single-channel gray-scale image, i.e. we use scalar fields in input and output\n",
        "feat_type_in = nn.FieldType(r2_act, [G.trivial_representation])\n",
        "feat_type_out = nn.FieldType(r2_act, [G.trivial_representation])"
      ]
    },
    {
      "cell_type": "markdown",
      "metadata": {
        "id": "RzGYVFqllf0O"
      },
      "source": [
        "As intermidiate feature types, we want to use again the *regular representation*.\n",
        "Because $G$ has an infinite number of elements, we use use the Fourier transform idea described earlier.\n",
        "For example, we will use the first three irreps of $G=SO(2)$, which contains cosines and sines of frequency $0$, $1$ and $2$.\n",
        "Earlier, we built this representation as\n",
        "\n",
        "\n",
        "``rho = G.bl_regular_representation(2)``\n",
        "\n",
        "To apply a non-linearity, e.g. ELU, we can use the *Inverse Fourier Transform* to sample the function, apply the non-linearity and, finally, compute the *Fourier Transform* to recover the coeffients.\n",
        "Because $G$ has infinite elements, the Fourier Transform requires an integral over $G$; this can be **approximated** by a sum over a finite number of samples.\n",
        "The more samples one take, the better the approximation will be, although this also increase the computational cost.\n",
        "\n",
        "Fortunately, the class `nn.FourierELU` takes care of most of these details.\n",
        "We can just specify which `irreps` to consider (`G.bl_irreps(2)` returns the list of irreps up to frequency `2`), the number of `channels` (i.e. copies of the regular representation) and the number `N` of elements of $G$ where to sample the function:"
      ]
    },
    {
      "cell_type": "code",
      "execution_count": null,
      "metadata": {
        "id": "5xje7cC5leVu"
      },
      "outputs": [],
      "source": [
        "nonlinearity = nn.FourierELU(r2_act, 16, irreps=G.bl_irreps(2), N=12)\n",
        "# we do not need to pre-define the feature type: FourierELU will create it internally and we can just access it as\n",
        "feat_type_hid = nonlinearity.in_type\n",
        "\n",
        "# note also the its input and output types are the same\n",
        "assert nonlinearity.in_type == nonlinearity.out_type"
      ]
    },
    {
      "cell_type": "markdown",
      "metadata": {
        "id": "vuZrDNbPrag7"
      },
      "source": [
        "Let's build a simple $G=SO(2)$ equivariant model:"
      ]
    },
    {
      "cell_type": "code",
      "execution_count": null,
      "metadata": {
        "id": "ky4-B4u5GvfA"
      },
      "outputs": [],
      "source": [
        "\n",
        "equivariant_so2_model = nn.SequentialModule(\n",
        "    nn.R2Conv(feat_type_in, feat_type_hid, kernel_size=7),\n",
        "    nn.IIDBatchNorm2d(feat_type_hid),\n",
        "    nonlinearity,\n",
        "    nn.R2Conv(feat_type_hid, feat_type_hid, kernel_size=7),\n",
        "    nn.IIDBatchNorm2d(feat_type_hid),\n",
        "    nonlinearity,\n",
        "    nn.R2Conv(feat_type_hid, feat_type_out, kernel_size=7),\n",
        ").eval()"
      ]
    },
    {
      "cell_type": "markdown",
      "metadata": {
        "id": "9oEgHC6ero20"
      },
      "source": [
        "and check its equivariance to a few elements of $SO(2)$:"
      ]
    },
    {
      "cell_type": "code",
      "execution_count": null,
      "metadata": {
        "id": "XiJYMBghrx2A",
        "colab": {
          "base_uri": "https://localhost:8080/"
        },
        "outputId": "d5809497-d590-422a-d482-5d26327a0611"
      },
      "outputs": [
        {
          "output_type": "stream",
          "name": "stdout",
          "text": [
            "Error! The model is not equivariant!\n"
          ]
        }
      ],
      "source": [
        "x = torch.randn(1, 1, 23, 23)\n",
        "x = feat_type_in(x)\n",
        "\n",
        "y = equivariant_so2_model(x)\n",
        "\n",
        "# check equivariance to N=16 rotations\n",
        "N = 16\n",
        "\n",
        "try:\n",
        "    for i in range(N):\n",
        "        g = G.element(i*2*np.pi/N)\n",
        "        x_transformed = x.transform(g)\n",
        "        y_from_x_transformed = equivariant_so2_model(x_transformed)\n",
        "\n",
        "        y_transformed_from_x = y.transform(g)\n",
        "\n",
        "        assert torch.allclose(y_from_x_transformed.tensor, y_transformed_from_x.tensor, atol=1e-3), g\n",
        "except:\n",
        "    print('Error! The model is not equivariant!')"
      ]
    },
    {
      "cell_type": "markdown",
      "metadata": {
        "id": "pw57cTedsMSI"
      },
      "source": [
        "---\n",
        "\n",
        "#### QUESTION 10\n",
        "The model is not perfectly equivariant to $G=SO(2)$ ! Why is this an expected behaviour?\n",
        "\n",
        "#### ANSWER 10\n",
        "\n",
        "\n",
        "---"
      ]
    },
    {
      "cell_type": "markdown",
      "metadata": {
        "id": "oE6qLnMtsetK"
      },
      "source": [
        "While the model can not be perfectly equivariant, we can compare it with a *conventional CNN* baseline.\n",
        "Let's build a CNN similar to our equivariant model but which is not constrained to be equivariant:"
      ]
    },
    {
      "cell_type": "code",
      "execution_count": null,
      "metadata": {
        "id": "OZ6ZiQQyrfue"
      },
      "outputs": [],
      "source": [
        "\n",
        "conventional_model = torch.nn.Sequential(\n",
        "    torch.nn.Conv2d(feat_type_in.size, feat_type_hid.size, kernel_size=7),\n",
        "    torch.nn.BatchNorm2d(feat_type_hid.size),\n",
        "    torch.nn.ELU(),\n",
        "    torch.nn.Conv2d(feat_type_hid.size, feat_type_hid.size, kernel_size=7),\n",
        "    torch.nn.BatchNorm2d(feat_type_hid.size),\n",
        "    torch.nn.ELU(),\n",
        "    torch.nn.Conv2d(feat_type_hid.size, feat_type_out.size, kernel_size=7),\n",
        ").eval()\n"
      ]
    },
    {
      "cell_type": "markdown",
      "metadata": {
        "id": "-IFq5k-isxyC"
      },
      "source": [
        "To compare the two models, we compute their *equivariance error* for a few elements of $G$.\n",
        "We define the equivariance error of a model $F$ with respect to a group element $g \\in G$ and an input $x$ as:\n",
        "$$\n",
        "  \\epsilon_g(F) = \\frac{||F(g.X) - g.F(X)||_2}{||F(x)||_2}\n",
        "$$\n",
        "\n",
        "Note that this is a form of *relative* error.\n",
        "Let's now compute the equivariance error of the two models:"
      ]
    },
    {
      "cell_type": "code",
      "execution_count": null,
      "metadata": {
        "id": "BuOcNrfOIX2V",
        "colab": {
          "base_uri": "https://localhost:8080/",
          "height": 572
        },
        "outputId": "888de53a-ccec-40c8-f938-af58bd4f2dc6"
      },
      "outputs": [
        {
          "output_type": "display_data",
          "data": {
            "text/plain": [
              "<Figure size 1000x600 with 1 Axes>"
            ],
            "image/svg+xml": "<?xml version=\"1.0\" encoding=\"utf-8\" standalone=\"no\"?>\n<!DOCTYPE svg PUBLIC \"-//W3C//DTD SVG 1.1//EN\"\n  \"http://www.w3.org/Graphics/SVG/1.1/DTD/svg11.dtd\">\n<svg xmlns:xlink=\"http://www.w3.org/1999/xlink\" width=\"626.610937pt\" height=\"413.110312pt\" viewBox=\"0 0 626.610937 413.110312\" xmlns=\"http://www.w3.org/2000/svg\" version=\"1.1\">\n <metadata>\n  <rdf:RDF xmlns:dc=\"http://purl.org/dc/elements/1.1/\" xmlns:cc=\"http://creativecommons.org/ns#\" xmlns:rdf=\"http://www.w3.org/1999/02/22-rdf-syntax-ns#\">\n   <cc:Work>\n    <dc:type rdf:resource=\"http://purl.org/dc/dcmitype/StillImage\"/>\n    <dc:date>2025-01-09T12:20:03.826501</dc:date>\n    <dc:format>image/svg+xml</dc:format>\n    <dc:creator>\n     <cc:Agent>\n      <dc:title>Matplotlib v3.10.0, https://matplotlib.org/</dc:title>\n     </cc:Agent>\n    </dc:creator>\n   </cc:Work>\n  </rdf:RDF>\n </metadata>\n <defs>\n  <style type=\"text/css\">*{stroke-linejoin: round; stroke-linecap: butt}</style>\n </defs>\n <g id=\"figure_1\">\n  <g id=\"patch_1\">\n   <path d=\"M 0 413.110312 \nL 626.610937 413.110312 \nL 626.610937 0 \nL 0 0 \nz\n\" style=\"fill: #ffffff\"/>\n  </g>\n  <g id=\"axes_1\">\n   <g id=\"patch_2\">\n    <path d=\"M 61.410938 361.036875 \nL 619.410938 361.036875 \nL 619.410938 28.396875 \nL 61.410938 28.396875 \nz\n\" style=\"fill: #ffffff\"/>\n   </g>\n   <g id=\"matplotlib.axis_1\">\n    <g id=\"xtick_1\">\n     <g id=\"line2d_1\">\n      <defs>\n       <path id=\"m8e3fb542b0\" d=\"M 0 0 \nL 0 3.5 \n\" style=\"stroke: #000000; stroke-width: 0.8\"/>\n      </defs>\n      <g>\n       <use xlink:href=\"#m8e3fb542b0\" x=\"86.774574\" y=\"361.036875\" style=\"stroke: #000000; stroke-width: 0.8\"/>\n      </g>\n     </g>\n     <g id=\"text_1\">\n      <!-- 0 -->\n      <g transform=\"translate(82.002699 379.434531) scale(0.15 -0.15)\">\n       <defs>\n        <path id=\"DejaVuSans-30\" d=\"M 2034 4250 \nQ 1547 4250 1301 3770 \nQ 1056 3291 1056 2328 \nQ 1056 1369 1301 889 \nQ 1547 409 2034 409 \nQ 2525 409 2770 889 \nQ 3016 1369 3016 2328 \nQ 3016 3291 2770 3770 \nQ 2525 4250 2034 4250 \nz\nM 2034 4750 \nQ 2819 4750 3233 4129 \nQ 3647 3509 3647 2328 \nQ 3647 1150 3233 529 \nQ 2819 -91 2034 -91 \nQ 1250 -91 836 529 \nQ 422 1150 422 2328 \nQ 422 3509 836 4129 \nQ 1250 4750 2034 4750 \nz\n\" transform=\"scale(0.015625)\"/>\n       </defs>\n       <use xlink:href=\"#DejaVuSans-30\"/>\n      </g>\n     </g>\n    </g>\n    <g id=\"xtick_2\">\n     <g id=\"line2d_2\">\n      <g>\n       <use xlink:href=\"#m8e3fb542b0\" x=\"167.509536\" y=\"361.036875\" style=\"stroke: #000000; stroke-width: 0.8\"/>\n      </g>\n     </g>\n     <g id=\"text_2\">\n      <!-- 1 -->\n      <g transform=\"translate(162.737661 379.434531) scale(0.15 -0.15)\">\n       <defs>\n        <path id=\"DejaVuSans-31\" d=\"M 794 531 \nL 1825 531 \nL 1825 4091 \nL 703 3866 \nL 703 4441 \nL 1819 4666 \nL 2450 4666 \nL 2450 531 \nL 3481 531 \nL 3481 0 \nL 794 0 \nL 794 531 \nz\n\" transform=\"scale(0.015625)\"/>\n       </defs>\n       <use xlink:href=\"#DejaVuSans-31\"/>\n      </g>\n     </g>\n    </g>\n    <g id=\"xtick_3\">\n     <g id=\"line2d_3\">\n      <g>\n       <use xlink:href=\"#m8e3fb542b0\" x=\"248.244498\" y=\"361.036875\" style=\"stroke: #000000; stroke-width: 0.8\"/>\n      </g>\n     </g>\n     <g id=\"text_3\">\n      <!-- 2 -->\n      <g transform=\"translate(243.472623 379.434531) scale(0.15 -0.15)\">\n       <defs>\n        <path id=\"DejaVuSans-32\" d=\"M 1228 531 \nL 3431 531 \nL 3431 0 \nL 469 0 \nL 469 531 \nQ 828 903 1448 1529 \nQ 2069 2156 2228 2338 \nQ 2531 2678 2651 2914 \nQ 2772 3150 2772 3378 \nQ 2772 3750 2511 3984 \nQ 2250 4219 1831 4219 \nQ 1534 4219 1204 4116 \nQ 875 4013 500 3803 \nL 500 4441 \nQ 881 4594 1212 4672 \nQ 1544 4750 1819 4750 \nQ 2544 4750 2975 4387 \nQ 3406 4025 3406 3419 \nQ 3406 3131 3298 2873 \nQ 3191 2616 2906 2266 \nQ 2828 2175 2409 1742 \nQ 1991 1309 1228 531 \nz\n\" transform=\"scale(0.015625)\"/>\n       </defs>\n       <use xlink:href=\"#DejaVuSans-32\"/>\n      </g>\n     </g>\n    </g>\n    <g id=\"xtick_4\">\n     <g id=\"line2d_4\">\n      <g>\n       <use xlink:href=\"#m8e3fb542b0\" x=\"328.97946\" y=\"361.036875\" style=\"stroke: #000000; stroke-width: 0.8\"/>\n      </g>\n     </g>\n     <g id=\"text_4\">\n      <!-- 3 -->\n      <g transform=\"translate(324.207585 379.434531) scale(0.15 -0.15)\">\n       <defs>\n        <path id=\"DejaVuSans-33\" d=\"M 2597 2516 \nQ 3050 2419 3304 2112 \nQ 3559 1806 3559 1356 \nQ 3559 666 3084 287 \nQ 2609 -91 1734 -91 \nQ 1441 -91 1130 -33 \nQ 819 25 488 141 \nL 488 750 \nQ 750 597 1062 519 \nQ 1375 441 1716 441 \nQ 2309 441 2620 675 \nQ 2931 909 2931 1356 \nQ 2931 1769 2642 2001 \nQ 2353 2234 1838 2234 \nL 1294 2234 \nL 1294 2753 \nL 1863 2753 \nQ 2328 2753 2575 2939 \nQ 2822 3125 2822 3475 \nQ 2822 3834 2567 4026 \nQ 2313 4219 1838 4219 \nQ 1578 4219 1281 4162 \nQ 984 4106 628 3988 \nL 628 4550 \nQ 988 4650 1302 4700 \nQ 1616 4750 1894 4750 \nQ 2613 4750 3031 4423 \nQ 3450 4097 3450 3541 \nQ 3450 3153 3228 2886 \nQ 3006 2619 2597 2516 \nz\n\" transform=\"scale(0.015625)\"/>\n       </defs>\n       <use xlink:href=\"#DejaVuSans-33\"/>\n      </g>\n     </g>\n    </g>\n    <g id=\"xtick_5\">\n     <g id=\"line2d_5\">\n      <g>\n       <use xlink:href=\"#m8e3fb542b0\" x=\"409.714422\" y=\"361.036875\" style=\"stroke: #000000; stroke-width: 0.8\"/>\n      </g>\n     </g>\n     <g id=\"text_5\">\n      <!-- 4 -->\n      <g transform=\"translate(404.942547 379.434531) scale(0.15 -0.15)\">\n       <defs>\n        <path id=\"DejaVuSans-34\" d=\"M 2419 4116 \nL 825 1625 \nL 2419 1625 \nL 2419 4116 \nz\nM 2253 4666 \nL 3047 4666 \nL 3047 1625 \nL 3713 1625 \nL 3713 1100 \nL 3047 1100 \nL 3047 0 \nL 2419 0 \nL 2419 1100 \nL 313 1100 \nL 313 1709 \nL 2253 4666 \nz\n\" transform=\"scale(0.015625)\"/>\n       </defs>\n       <use xlink:href=\"#DejaVuSans-34\"/>\n      </g>\n     </g>\n    </g>\n    <g id=\"xtick_6\">\n     <g id=\"line2d_6\">\n      <g>\n       <use xlink:href=\"#m8e3fb542b0\" x=\"490.449384\" y=\"361.036875\" style=\"stroke: #000000; stroke-width: 0.8\"/>\n      </g>\n     </g>\n     <g id=\"text_6\">\n      <!-- 5 -->\n      <g transform=\"translate(485.677509 379.434531) scale(0.15 -0.15)\">\n       <defs>\n        <path id=\"DejaVuSans-35\" d=\"M 691 4666 \nL 3169 4666 \nL 3169 4134 \nL 1269 4134 \nL 1269 2991 \nQ 1406 3038 1543 3061 \nQ 1681 3084 1819 3084 \nQ 2600 3084 3056 2656 \nQ 3513 2228 3513 1497 \nQ 3513 744 3044 326 \nQ 2575 -91 1722 -91 \nQ 1428 -91 1123 -41 \nQ 819 9 494 109 \nL 494 744 \nQ 775 591 1075 516 \nQ 1375 441 1709 441 \nQ 2250 441 2565 725 \nQ 2881 1009 2881 1497 \nQ 2881 1984 2565 2268 \nQ 2250 2553 1709 2553 \nQ 1456 2553 1204 2497 \nQ 953 2441 691 2322 \nL 691 4666 \nz\n\" transform=\"scale(0.015625)\"/>\n       </defs>\n       <use xlink:href=\"#DejaVuSans-35\"/>\n      </g>\n     </g>\n    </g>\n    <g id=\"xtick_7\">\n     <g id=\"line2d_7\">\n      <g>\n       <use xlink:href=\"#m8e3fb542b0\" x=\"571.184346\" y=\"361.036875\" style=\"stroke: #000000; stroke-width: 0.8\"/>\n      </g>\n     </g>\n     <g id=\"text_7\">\n      <!-- 6 -->\n      <g transform=\"translate(566.412471 379.434531) scale(0.15 -0.15)\">\n       <defs>\n        <path id=\"DejaVuSans-36\" d=\"M 2113 2584 \nQ 1688 2584 1439 2293 \nQ 1191 2003 1191 1497 \nQ 1191 994 1439 701 \nQ 1688 409 2113 409 \nQ 2538 409 2786 701 \nQ 3034 994 3034 1497 \nQ 3034 2003 2786 2293 \nQ 2538 2584 2113 2584 \nz\nM 3366 4563 \nL 3366 3988 \nQ 3128 4100 2886 4159 \nQ 2644 4219 2406 4219 \nQ 1781 4219 1451 3797 \nQ 1122 3375 1075 2522 \nQ 1259 2794 1537 2939 \nQ 1816 3084 2150 3084 \nQ 2853 3084 3261 2657 \nQ 3669 2231 3669 1497 \nQ 3669 778 3244 343 \nQ 2819 -91 2113 -91 \nQ 1303 -91 875 529 \nQ 447 1150 447 2328 \nQ 447 3434 972 4092 \nQ 1497 4750 2381 4750 \nQ 2619 4750 2861 4703 \nQ 3103 4656 3366 4563 \nz\n\" transform=\"scale(0.015625)\"/>\n       </defs>\n       <use xlink:href=\"#DejaVuSans-36\"/>\n      </g>\n     </g>\n    </g>\n    <g id=\"text_8\">\n     <!-- $g = r_\\theta$ -->\n     <g transform=\"translate(313.110937 401.710312) scale(0.2 -0.2)\">\n      <defs>\n       <path id=\"DejaVuSans-Oblique-67\" d=\"M 3816 3500 \nL 3219 434 \nQ 3047 -456 2561 -893 \nQ 2075 -1331 1253 -1331 \nQ 950 -1331 690 -1286 \nQ 431 -1241 206 -1147 \nL 313 -588 \nQ 525 -725 762 -790 \nQ 1000 -856 1269 -856 \nQ 1816 -856 2167 -557 \nQ 2519 -259 2631 300 \nL 2681 563 \nQ 2441 288 2122 144 \nQ 1803 0 1434 0 \nQ 903 0 598 351 \nQ 294 703 294 1319 \nQ 294 1803 478 2267 \nQ 663 2731 997 3091 \nQ 1219 3328 1514 3456 \nQ 1809 3584 2131 3584 \nQ 2484 3584 2746 3420 \nQ 3009 3256 3138 2956 \nL 3238 3500 \nL 3816 3500 \nz\nM 2950 2216 \nQ 2950 2641 2750 2872 \nQ 2550 3103 2181 3103 \nQ 1953 3103 1747 3012 \nQ 1541 2922 1394 2759 \nQ 1156 2491 1023 2127 \nQ 891 1763 891 1375 \nQ 891 944 1092 712 \nQ 1294 481 1672 481 \nQ 2219 481 2584 976 \nQ 2950 1472 2950 2216 \nz\n\" transform=\"scale(0.015625)\"/>\n       <path id=\"DejaVuSans-3d\" d=\"M 678 2906 \nL 4684 2906 \nL 4684 2381 \nL 678 2381 \nL 678 2906 \nz\nM 678 1631 \nL 4684 1631 \nL 4684 1100 \nL 678 1100 \nL 678 1631 \nz\n\" transform=\"scale(0.015625)\"/>\n       <path id=\"DejaVuSans-Oblique-72\" d=\"M 2853 2969 \nQ 2766 3016 2653 3041 \nQ 2541 3066 2413 3066 \nQ 1953 3066 1609 2717 \nQ 1266 2369 1153 1784 \nL 800 0 \nL 225 0 \nL 909 3500 \nL 1484 3500 \nL 1375 2956 \nQ 1603 3259 1920 3421 \nQ 2238 3584 2597 3584 \nQ 2691 3584 2781 3573 \nQ 2872 3563 2963 3538 \nL 2853 2969 \nz\n\" transform=\"scale(0.015625)\"/>\n       <path id=\"DejaVuSans-Oblique-3b8\" d=\"M 2913 2219 \nL 925 2219 \nQ 791 1284 928 888 \nQ 1100 400 1566 400 \nQ 2034 400 2391 891 \nQ 2703 1322 2913 2219 \nz\nM 3009 2750 \nQ 3094 3638 2984 3950 \nQ 2813 4444 2353 4444 \nQ 1875 4444 1525 3956 \nQ 1250 3563 1034 2750 \nL 3009 2750 \nz\nM 2444 4913 \nQ 3194 4913 3494 4250 \nQ 3794 3591 3566 2422 \nQ 3341 1256 2781 594 \nQ 2225 -72 1475 -72 \nQ 722 -72 425 594 \nQ 128 1256 353 2422 \nQ 581 3591 1134 4250 \nQ 1691 4913 2444 4913 \nz\n\" transform=\"scale(0.015625)\"/>\n      </defs>\n      <use xlink:href=\"#DejaVuSans-Oblique-67\"/>\n      <use xlink:href=\"#DejaVuSans-3d\" transform=\"translate(82.958984 0)\"/>\n      <use xlink:href=\"#DejaVuSans-Oblique-72\" transform=\"translate(186.230469 0)\"/>\n      <use xlink:href=\"#DejaVuSans-Oblique-3b8\" transform=\"translate(227.34375 -16.40625) scale(0.7)\"/>\n     </g>\n    </g>\n   </g>\n   <g id=\"matplotlib.axis_2\">\n    <g id=\"ytick_1\">\n     <g id=\"line2d_8\">\n      <defs>\n       <path id=\"m9da7d3f0b9\" d=\"M 0 0 \nL -3.5 0 \n\" style=\"stroke: #000000; stroke-width: 0.8\"/>\n      </defs>\n      <g>\n       <use xlink:href=\"#m9da7d3f0b9\" x=\"61.410938\" y=\"345.916875\" style=\"stroke: #000000; stroke-width: 0.8\"/>\n      </g>\n     </g>\n     <g id=\"text_9\">\n      <!-- 0.0 -->\n      <g transform=\"translate(30.55625 351.615703) scale(0.15 -0.15)\">\n       <defs>\n        <path id=\"DejaVuSans-2e\" d=\"M 684 794 \nL 1344 794 \nL 1344 0 \nL 684 0 \nL 684 794 \nz\n\" transform=\"scale(0.015625)\"/>\n       </defs>\n       <use xlink:href=\"#DejaVuSans-30\"/>\n       <use xlink:href=\"#DejaVuSans-2e\" transform=\"translate(63.623047 0)\"/>\n       <use xlink:href=\"#DejaVuSans-30\" transform=\"translate(95.410156 0)\"/>\n      </g>\n     </g>\n    </g>\n    <g id=\"ytick_2\">\n     <g id=\"line2d_9\">\n      <g>\n       <use xlink:href=\"#m9da7d3f0b9\" x=\"61.410938\" y=\"293.771911\" style=\"stroke: #000000; stroke-width: 0.8\"/>\n      </g>\n     </g>\n     <g id=\"text_10\">\n      <!-- 0.2 -->\n      <g transform=\"translate(30.55625 299.470739) scale(0.15 -0.15)\">\n       <use xlink:href=\"#DejaVuSans-30\"/>\n       <use xlink:href=\"#DejaVuSans-2e\" transform=\"translate(63.623047 0)\"/>\n       <use xlink:href=\"#DejaVuSans-32\" transform=\"translate(95.410156 0)\"/>\n      </g>\n     </g>\n    </g>\n    <g id=\"ytick_3\">\n     <g id=\"line2d_10\">\n      <g>\n       <use xlink:href=\"#m9da7d3f0b9\" x=\"61.410938\" y=\"241.626947\" style=\"stroke: #000000; stroke-width: 0.8\"/>\n      </g>\n     </g>\n     <g id=\"text_11\">\n      <!-- 0.4 -->\n      <g transform=\"translate(30.55625 247.325775) scale(0.15 -0.15)\">\n       <use xlink:href=\"#DejaVuSans-30\"/>\n       <use xlink:href=\"#DejaVuSans-2e\" transform=\"translate(63.623047 0)\"/>\n       <use xlink:href=\"#DejaVuSans-34\" transform=\"translate(95.410156 0)\"/>\n      </g>\n     </g>\n    </g>\n    <g id=\"ytick_4\">\n     <g id=\"line2d_11\">\n      <g>\n       <use xlink:href=\"#m9da7d3f0b9\" x=\"61.410938\" y=\"189.481982\" style=\"stroke: #000000; stroke-width: 0.8\"/>\n      </g>\n     </g>\n     <g id=\"text_12\">\n      <!-- 0.6 -->\n      <g transform=\"translate(30.55625 195.180811) scale(0.15 -0.15)\">\n       <use xlink:href=\"#DejaVuSans-30\"/>\n       <use xlink:href=\"#DejaVuSans-2e\" transform=\"translate(63.623047 0)\"/>\n       <use xlink:href=\"#DejaVuSans-36\" transform=\"translate(95.410156 0)\"/>\n      </g>\n     </g>\n    </g>\n    <g id=\"ytick_5\">\n     <g id=\"line2d_12\">\n      <g>\n       <use xlink:href=\"#m9da7d3f0b9\" x=\"61.410938\" y=\"137.337018\" style=\"stroke: #000000; stroke-width: 0.8\"/>\n      </g>\n     </g>\n     <g id=\"text_13\">\n      <!-- 0.8 -->\n      <g transform=\"translate(30.55625 143.035846) scale(0.15 -0.15)\">\n       <defs>\n        <path id=\"DejaVuSans-38\" d=\"M 2034 2216 \nQ 1584 2216 1326 1975 \nQ 1069 1734 1069 1313 \nQ 1069 891 1326 650 \nQ 1584 409 2034 409 \nQ 2484 409 2743 651 \nQ 3003 894 3003 1313 \nQ 3003 1734 2745 1975 \nQ 2488 2216 2034 2216 \nz\nM 1403 2484 \nQ 997 2584 770 2862 \nQ 544 3141 544 3541 \nQ 544 4100 942 4425 \nQ 1341 4750 2034 4750 \nQ 2731 4750 3128 4425 \nQ 3525 4100 3525 3541 \nQ 3525 3141 3298 2862 \nQ 3072 2584 2669 2484 \nQ 3125 2378 3379 2068 \nQ 3634 1759 3634 1313 \nQ 3634 634 3220 271 \nQ 2806 -91 2034 -91 \nQ 1263 -91 848 271 \nQ 434 634 434 1313 \nQ 434 1759 690 2068 \nQ 947 2378 1403 2484 \nz\nM 1172 3481 \nQ 1172 3119 1398 2916 \nQ 1625 2713 2034 2713 \nQ 2441 2713 2670 2916 \nQ 2900 3119 2900 3481 \nQ 2900 3844 2670 4047 \nQ 2441 4250 2034 4250 \nQ 1625 4250 1398 4047 \nQ 1172 3844 1172 3481 \nz\n\" transform=\"scale(0.015625)\"/>\n       </defs>\n       <use xlink:href=\"#DejaVuSans-30\"/>\n       <use xlink:href=\"#DejaVuSans-2e\" transform=\"translate(63.623047 0)\"/>\n       <use xlink:href=\"#DejaVuSans-38\" transform=\"translate(95.410156 0)\"/>\n      </g>\n     </g>\n    </g>\n    <g id=\"ytick_6\">\n     <g id=\"line2d_13\">\n      <g>\n       <use xlink:href=\"#m9da7d3f0b9\" x=\"61.410938\" y=\"85.192054\" style=\"stroke: #000000; stroke-width: 0.8\"/>\n      </g>\n     </g>\n     <g id=\"text_14\">\n      <!-- 1.0 -->\n      <g transform=\"translate(30.55625 90.890882) scale(0.15 -0.15)\">\n       <use xlink:href=\"#DejaVuSans-31\"/>\n       <use xlink:href=\"#DejaVuSans-2e\" transform=\"translate(63.623047 0)\"/>\n       <use xlink:href=\"#DejaVuSans-30\" transform=\"translate(95.410156 0)\"/>\n      </g>\n     </g>\n    </g>\n    <g id=\"ytick_7\">\n     <g id=\"line2d_14\">\n      <g>\n       <use xlink:href=\"#m9da7d3f0b9\" x=\"61.410938\" y=\"33.04709\" style=\"stroke: #000000; stroke-width: 0.8\"/>\n      </g>\n     </g>\n     <g id=\"text_15\">\n      <!-- 1.2 -->\n      <g transform=\"translate(30.55625 38.745918) scale(0.15 -0.15)\">\n       <use xlink:href=\"#DejaVuSans-31\"/>\n       <use xlink:href=\"#DejaVuSans-2e\" transform=\"translate(63.623047 0)\"/>\n       <use xlink:href=\"#DejaVuSans-32\" transform=\"translate(95.410156 0)\"/>\n      </g>\n     </g>\n    </g>\n    <g id=\"text_16\">\n     <!-- Equivariance Error -->\n     <g transform=\"translate(22.396875 287.10125) rotate(-90) scale(0.2 -0.2)\">\n      <defs>\n       <path id=\"DejaVuSans-45\" d=\"M 628 4666 \nL 3578 4666 \nL 3578 4134 \nL 1259 4134 \nL 1259 2753 \nL 3481 2753 \nL 3481 2222 \nL 1259 2222 \nL 1259 531 \nL 3634 531 \nL 3634 0 \nL 628 0 \nL 628 4666 \nz\n\" transform=\"scale(0.015625)\"/>\n       <path id=\"DejaVuSans-71\" d=\"M 947 1747 \nQ 947 1113 1208 752 \nQ 1469 391 1925 391 \nQ 2381 391 2643 752 \nQ 2906 1113 2906 1747 \nQ 2906 2381 2643 2742 \nQ 2381 3103 1925 3103 \nQ 1469 3103 1208 2742 \nQ 947 2381 947 1747 \nz\nM 2906 525 \nQ 2725 213 2448 61 \nQ 2172 -91 1784 -91 \nQ 1150 -91 751 415 \nQ 353 922 353 1747 \nQ 353 2572 751 3078 \nQ 1150 3584 1784 3584 \nQ 2172 3584 2448 3432 \nQ 2725 3281 2906 2969 \nL 2906 3500 \nL 3481 3500 \nL 3481 -1331 \nL 2906 -1331 \nL 2906 525 \nz\n\" transform=\"scale(0.015625)\"/>\n       <path id=\"DejaVuSans-75\" d=\"M 544 1381 \nL 544 3500 \nL 1119 3500 \nL 1119 1403 \nQ 1119 906 1312 657 \nQ 1506 409 1894 409 \nQ 2359 409 2629 706 \nQ 2900 1003 2900 1516 \nL 2900 3500 \nL 3475 3500 \nL 3475 0 \nL 2900 0 \nL 2900 538 \nQ 2691 219 2414 64 \nQ 2138 -91 1772 -91 \nQ 1169 -91 856 284 \nQ 544 659 544 1381 \nz\nM 1991 3584 \nL 1991 3584 \nz\n\" transform=\"scale(0.015625)\"/>\n       <path id=\"DejaVuSans-69\" d=\"M 603 3500 \nL 1178 3500 \nL 1178 0 \nL 603 0 \nL 603 3500 \nz\nM 603 4863 \nL 1178 4863 \nL 1178 4134 \nL 603 4134 \nL 603 4863 \nz\n\" transform=\"scale(0.015625)\"/>\n       <path id=\"DejaVuSans-76\" d=\"M 191 3500 \nL 800 3500 \nL 1894 563 \nL 2988 3500 \nL 3597 3500 \nL 2284 0 \nL 1503 0 \nL 191 3500 \nz\n\" transform=\"scale(0.015625)\"/>\n       <path id=\"DejaVuSans-61\" d=\"M 2194 1759 \nQ 1497 1759 1228 1600 \nQ 959 1441 959 1056 \nQ 959 750 1161 570 \nQ 1363 391 1709 391 \nQ 2188 391 2477 730 \nQ 2766 1069 2766 1631 \nL 2766 1759 \nL 2194 1759 \nz\nM 3341 1997 \nL 3341 0 \nL 2766 0 \nL 2766 531 \nQ 2569 213 2275 61 \nQ 1981 -91 1556 -91 \nQ 1019 -91 701 211 \nQ 384 513 384 1019 \nQ 384 1609 779 1909 \nQ 1175 2209 1959 2209 \nL 2766 2209 \nL 2766 2266 \nQ 2766 2663 2505 2880 \nQ 2244 3097 1772 3097 \nQ 1472 3097 1187 3025 \nQ 903 2953 641 2809 \nL 641 3341 \nQ 956 3463 1253 3523 \nQ 1550 3584 1831 3584 \nQ 2591 3584 2966 3190 \nQ 3341 2797 3341 1997 \nz\n\" transform=\"scale(0.015625)\"/>\n       <path id=\"DejaVuSans-72\" d=\"M 2631 2963 \nQ 2534 3019 2420 3045 \nQ 2306 3072 2169 3072 \nQ 1681 3072 1420 2755 \nQ 1159 2438 1159 1844 \nL 1159 0 \nL 581 0 \nL 581 3500 \nL 1159 3500 \nL 1159 2956 \nQ 1341 3275 1631 3429 \nQ 1922 3584 2338 3584 \nQ 2397 3584 2469 3576 \nQ 2541 3569 2628 3553 \nL 2631 2963 \nz\n\" transform=\"scale(0.015625)\"/>\n       <path id=\"DejaVuSans-6e\" d=\"M 3513 2113 \nL 3513 0 \nL 2938 0 \nL 2938 2094 \nQ 2938 2591 2744 2837 \nQ 2550 3084 2163 3084 \nQ 1697 3084 1428 2787 \nQ 1159 2491 1159 1978 \nL 1159 0 \nL 581 0 \nL 581 3500 \nL 1159 3500 \nL 1159 2956 \nQ 1366 3272 1645 3428 \nQ 1925 3584 2291 3584 \nQ 2894 3584 3203 3211 \nQ 3513 2838 3513 2113 \nz\n\" transform=\"scale(0.015625)\"/>\n       <path id=\"DejaVuSans-63\" d=\"M 3122 3366 \nL 3122 2828 \nQ 2878 2963 2633 3030 \nQ 2388 3097 2138 3097 \nQ 1578 3097 1268 2742 \nQ 959 2388 959 1747 \nQ 959 1106 1268 751 \nQ 1578 397 2138 397 \nQ 2388 397 2633 464 \nQ 2878 531 3122 666 \nL 3122 134 \nQ 2881 22 2623 -34 \nQ 2366 -91 2075 -91 \nQ 1284 -91 818 406 \nQ 353 903 353 1747 \nQ 353 2603 823 3093 \nQ 1294 3584 2113 3584 \nQ 2378 3584 2631 3529 \nQ 2884 3475 3122 3366 \nz\n\" transform=\"scale(0.015625)\"/>\n       <path id=\"DejaVuSans-65\" d=\"M 3597 1894 \nL 3597 1613 \nL 953 1613 \nQ 991 1019 1311 708 \nQ 1631 397 2203 397 \nQ 2534 397 2845 478 \nQ 3156 559 3463 722 \nL 3463 178 \nQ 3153 47 2828 -22 \nQ 2503 -91 2169 -91 \nQ 1331 -91 842 396 \nQ 353 884 353 1716 \nQ 353 2575 817 3079 \nQ 1281 3584 2069 3584 \nQ 2775 3584 3186 3129 \nQ 3597 2675 3597 1894 \nz\nM 3022 2063 \nQ 3016 2534 2758 2815 \nQ 2500 3097 2075 3097 \nQ 1594 3097 1305 2825 \nQ 1016 2553 972 2059 \nL 3022 2063 \nz\n\" transform=\"scale(0.015625)\"/>\n       <path id=\"DejaVuSans-20\" transform=\"scale(0.015625)\"/>\n       <path id=\"DejaVuSans-6f\" d=\"M 1959 3097 \nQ 1497 3097 1228 2736 \nQ 959 2375 959 1747 \nQ 959 1119 1226 758 \nQ 1494 397 1959 397 \nQ 2419 397 2687 759 \nQ 2956 1122 2956 1747 \nQ 2956 2369 2687 2733 \nQ 2419 3097 1959 3097 \nz\nM 1959 3584 \nQ 2709 3584 3137 3096 \nQ 3566 2609 3566 1747 \nQ 3566 888 3137 398 \nQ 2709 -91 1959 -91 \nQ 1206 -91 779 398 \nQ 353 888 353 1747 \nQ 353 2609 779 3096 \nQ 1206 3584 1959 3584 \nz\n\" transform=\"scale(0.015625)\"/>\n      </defs>\n      <use xlink:href=\"#DejaVuSans-45\"/>\n      <use xlink:href=\"#DejaVuSans-71\" transform=\"translate(63.183594 0)\"/>\n      <use xlink:href=\"#DejaVuSans-75\" transform=\"translate(126.660156 0)\"/>\n      <use xlink:href=\"#DejaVuSans-69\" transform=\"translate(190.039062 0)\"/>\n      <use xlink:href=\"#DejaVuSans-76\" transform=\"translate(217.822266 0)\"/>\n      <use xlink:href=\"#DejaVuSans-61\" transform=\"translate(277.001953 0)\"/>\n      <use xlink:href=\"#DejaVuSans-72\" transform=\"translate(338.28125 0)\"/>\n      <use xlink:href=\"#DejaVuSans-69\" transform=\"translate(379.394531 0)\"/>\n      <use xlink:href=\"#DejaVuSans-61\" transform=\"translate(407.177734 0)\"/>\n      <use xlink:href=\"#DejaVuSans-6e\" transform=\"translate(468.457031 0)\"/>\n      <use xlink:href=\"#DejaVuSans-63\" transform=\"translate(531.835938 0)\"/>\n      <use xlink:href=\"#DejaVuSans-65\" transform=\"translate(586.816406 0)\"/>\n      <use xlink:href=\"#DejaVuSans-20\" transform=\"translate(648.339844 0)\"/>\n      <use xlink:href=\"#DejaVuSans-45\" transform=\"translate(680.126953 0)\"/>\n      <use xlink:href=\"#DejaVuSans-72\" transform=\"translate(743.310547 0)\"/>\n      <use xlink:href=\"#DejaVuSans-72\" transform=\"translate(782.673828 0)\"/>\n      <use xlink:href=\"#DejaVuSans-6f\" transform=\"translate(821.537109 0)\"/>\n      <use xlink:href=\"#DejaVuSans-72\" transform=\"translate(882.71875 0)\"/>\n     </g>\n    </g>\n   </g>\n   <g id=\"line2d_15\">\n    <path d=\"M 86.774574 345.916875 \nL 91.847301 333.748256 \nL 96.920028 330.474598 \nL 101.992756 331.368359 \nL 107.065483 333.499405 \nL 112.13821 332.164418 \nL 117.210938 328.173598 \nL 122.283665 325.400293 \nL 127.356392 328.650128 \nL 132.429119 333.060936 \nL 137.501847 330.933101 \nL 142.574574 330.934909 \nL 147.647301 332.621118 \nL 152.720028 331.178547 \nL 157.792756 330.762084 \nL 162.865483 327.808848 \nL 167.93821 327.765032 \nL 173.010938 331.657943 \nL 178.083665 332.893971 \nL 183.156392 332.176312 \nL 188.229119 331.898924 \nL 193.301847 333.897503 \nL 198.374574 332.5463 \nL 203.447301 332.233366 \nL 208.520028 335.254998 \nL 213.592756 345.916701 \nL 218.665483 333.748263 \nL 223.73821 330.474593 \nL 228.810937 331.368372 \nL 233.883665 333.4994 \nL 238.956392 332.164417 \nL 244.029119 328.173613 \nL 249.101847 325.400296 \nL 254.174574 328.650133 \nL 259.247301 333.060946 \nL 264.320028 330.933106 \nL 269.392756 330.934904 \nL 274.465483 332.621112 \nL 279.53821 331.178535 \nL 284.610937 330.7621 \nL 289.683665 327.80883 \nL 294.756392 327.765033 \nL 299.829119 331.657943 \nL 304.901847 332.893974 \nL 309.974574 332.176296 \nL 315.047301 331.898917 \nL 320.120028 333.897506 \nL 325.192756 332.546309 \nL 330.265483 332.233375 \nL 335.33821 335.255002 \nL 340.410937 345.91667 \nL 345.483665 333.74827 \nL 350.556392 330.474599 \nL 355.629119 331.368349 \nL 360.701847 333.499397 \nL 365.774574 332.164451 \nL 370.847301 328.173611 \nL 375.920028 325.400321 \nL 380.992756 328.650141 \nL 386.065483 333.060963 \nL 391.13821 330.933116 \nL 396.210938 330.934935 \nL 401.283665 332.621109 \nL 406.356392 331.178542 \nL 411.429119 330.762107 \nL 416.501847 327.80885 \nL 421.574574 327.76502 \nL 426.647301 331.657972 \nL 431.720028 332.893963 \nL 436.792756 332.176294 \nL 441.865483 331.898912 \nL 446.93821 333.897506 \nL 452.010938 332.546285 \nL 457.083665 332.233365 \nL 462.156392 335.255021 \nL 467.229119 345.916686 \nL 472.301847 333.748263 \nL 477.374574 330.474599 \nL 482.447301 331.368364 \nL 487.520028 333.499406 \nL 492.592756 332.164421 \nL 497.665483 328.173628 \nL 502.73821 325.400299 \nL 507.810938 328.650141 \nL 512.883665 333.060951 \nL 517.956392 330.933097 \nL 523.029119 330.934914 \nL 528.101847 332.621091 \nL 533.174574 331.178554 \nL 538.247301 330.7621 \nL 543.320028 327.808838 \nL 548.392756 327.765032 \nL 553.465483 331.65796 \nL 558.53821 332.893974 \nL 563.610938 332.176307 \nL 568.683665 331.8989 \nL 573.756392 333.897507 \nL 578.829119 332.546313 \nL 583.901847 332.23336 \nL 588.974574 335.255008 \nL 594.047301 345.916875 \n\" clip-path=\"url(#pdfed278510)\" style=\"fill: none; stroke: #1f77b4; stroke-width: 2; stroke-linecap: square\"/>\n   </g>\n   <g id=\"line2d_16\">\n    <path d=\"M 86.774574 345.916875 \nL 91.847301 250.475414 \nL 96.920028 177.929465 \nL 101.992756 131.857719 \nL 107.065483 108.187909 \nL 112.13821 110.712333 \nL 117.210938 118.557029 \nL 122.283665 109.817166 \nL 127.356392 93.549277 \nL 132.429119 73.439109 \nL 137.501847 89.678079 \nL 142.574574 88.785337 \nL 147.647301 94.19558 \nL 152.720028 96.747569 \nL 157.792756 112.184686 \nL 162.865483 111.514098 \nL 167.93821 105.220141 \nL 173.010938 95.983992 \nL 178.083665 99.537929 \nL 183.156392 90.730281 \nL 188.229119 88.198228 \nL 193.301847 85.797962 \nL 198.374574 87.601063 \nL 203.447301 73.995944 \nL 208.520028 68.297382 \nL 213.592756 43.516875 \nL 218.665483 85.946472 \nL 223.73821 88.266887 \nL 228.810937 85.402359 \nL 233.883665 79.420811 \nL 238.956392 91.282526 \nL 244.029119 109.759021 \nL 249.101847 115.041192 \nL 254.174574 118.983366 \nL 259.247301 89.85577 \nL 264.320028 74.576015 \nL 269.392756 63.594866 \nL 274.465483 59.077146 \nL 279.53821 84.814834 \nL 284.610937 89.033852 \nL 289.683665 96.246365 \nL 294.756392 109.475816 \nL 299.829119 106.067241 \nL 304.901847 111.642847 \nL 309.974574 98.572223 \nL 315.047301 83.596373 \nL 320.120028 78.40332 \nL 325.192756 75.41588 \nL 330.265483 79.293286 \nL 335.33821 90.133728 \nL 340.410937 63.920499 \nL 345.483665 92.019522 \nL 350.556392 80.661306 \nL 355.629119 56.864627 \nL 360.701847 53.043967 \nL 365.774574 65.545121 \nL 370.847301 82.798696 \nL 375.920028 95.630445 \nL 380.992756 102.217093 \nL 386.065483 98.22836 \nL 391.13821 94.086132 \nL 396.210938 90.775157 \nL 401.283665 79.542368 \nL 406.356392 69.756357 \nL 411.429119 82.171934 \nL 416.501847 93.493252 \nL 421.574574 97.591106 \nL 426.647301 89.743918 \nL 431.720028 95.66754 \nL 436.792756 109.233007 \nL 441.865483 106.035152 \nL 446.93821 112.347776 \nL 452.010938 119.800147 \nL 457.083665 116.825713 \nL 462.156392 97.884278 \nL 467.229119 56.707133 \nL 472.301847 87.920379 \nL 477.374574 101.428182 \nL 482.447301 82.083515 \nL 487.520028 58.417224 \nL 492.592756 58.162524 \nL 497.665483 81.994767 \nL 502.73821 105.772167 \nL 507.810938 110.830022 \nL 512.883665 111.572308 \nL 517.956392 96.995143 \nL 523.029119 69.114207 \nL 528.101847 77.13819 \nL 533.174574 79.313177 \nL 538.247301 94.931637 \nL 543.320028 98.724164 \nL 548.392756 118.009441 \nL 553.465483 108.759455 \nL 558.53821 109.471969 \nL 563.610938 105.219092 \nL 568.683665 98.843055 \nL 573.756392 109.553896 \nL 578.829119 146.818967 \nL 583.901847 181.658634 \nL 588.974574 249.886501 \nL 594.047301 345.916875 \n\" clip-path=\"url(#pdfed278510)\" style=\"fill: none; stroke: #ff7f0e; stroke-width: 2; stroke-linecap: square\"/>\n   </g>\n   <g id=\"patch_3\">\n    <path d=\"M 61.410938 361.036875 \nL 61.410938 28.396875 \n\" style=\"fill: none; stroke: #000000; stroke-width: 0.8; stroke-linejoin: miter; stroke-linecap: square\"/>\n   </g>\n   <g id=\"patch_4\">\n    <path d=\"M 619.410938 361.036875 \nL 619.410938 28.396875 \n\" style=\"fill: none; stroke: #000000; stroke-width: 0.8; stroke-linejoin: miter; stroke-linecap: square\"/>\n   </g>\n   <g id=\"patch_5\">\n    <path d=\"M 61.410938 361.036875 \nL 619.410938 361.036875 \n\" style=\"fill: none; stroke: #000000; stroke-width: 0.8; stroke-linejoin: miter; stroke-linecap: square\"/>\n   </g>\n   <g id=\"patch_6\">\n    <path d=\"M 61.410938 28.396875 \nL 619.410938 28.396875 \n\" style=\"fill: none; stroke: #000000; stroke-width: 0.8; stroke-linejoin: miter; stroke-linecap: square\"/>\n   </g>\n   <g id=\"text_17\">\n    <!-- Equivariant vs Conventional CNNs -->\n    <g transform=\"translate(169.579687 22.396875) scale(0.2 -0.2)\">\n     <defs>\n      <path id=\"DejaVuSans-74\" d=\"M 1172 4494 \nL 1172 3500 \nL 2356 3500 \nL 2356 3053 \nL 1172 3053 \nL 1172 1153 \nQ 1172 725 1289 603 \nQ 1406 481 1766 481 \nL 2356 481 \nL 2356 0 \nL 1766 0 \nQ 1100 0 847 248 \nQ 594 497 594 1153 \nL 594 3053 \nL 172 3053 \nL 172 3500 \nL 594 3500 \nL 594 4494 \nL 1172 4494 \nz\n\" transform=\"scale(0.015625)\"/>\n      <path id=\"DejaVuSans-73\" d=\"M 2834 3397 \nL 2834 2853 \nQ 2591 2978 2328 3040 \nQ 2066 3103 1784 3103 \nQ 1356 3103 1142 2972 \nQ 928 2841 928 2578 \nQ 928 2378 1081 2264 \nQ 1234 2150 1697 2047 \nL 1894 2003 \nQ 2506 1872 2764 1633 \nQ 3022 1394 3022 966 \nQ 3022 478 2636 193 \nQ 2250 -91 1575 -91 \nQ 1294 -91 989 -36 \nQ 684 19 347 128 \nL 347 722 \nQ 666 556 975 473 \nQ 1284 391 1588 391 \nQ 1994 391 2212 530 \nQ 2431 669 2431 922 \nQ 2431 1156 2273 1281 \nQ 2116 1406 1581 1522 \nL 1381 1569 \nQ 847 1681 609 1914 \nQ 372 2147 372 2553 \nQ 372 3047 722 3315 \nQ 1072 3584 1716 3584 \nQ 2034 3584 2315 3537 \nQ 2597 3491 2834 3397 \nz\n\" transform=\"scale(0.015625)\"/>\n      <path id=\"DejaVuSans-43\" d=\"M 4122 4306 \nL 4122 3641 \nQ 3803 3938 3442 4084 \nQ 3081 4231 2675 4231 \nQ 1875 4231 1450 3742 \nQ 1025 3253 1025 2328 \nQ 1025 1406 1450 917 \nQ 1875 428 2675 428 \nQ 3081 428 3442 575 \nQ 3803 722 4122 1019 \nL 4122 359 \nQ 3791 134 3420 21 \nQ 3050 -91 2638 -91 \nQ 1578 -91 968 557 \nQ 359 1206 359 2328 \nQ 359 3453 968 4101 \nQ 1578 4750 2638 4750 \nQ 3056 4750 3426 4639 \nQ 3797 4528 4122 4306 \nz\n\" transform=\"scale(0.015625)\"/>\n      <path id=\"DejaVuSans-6c\" d=\"M 603 4863 \nL 1178 4863 \nL 1178 0 \nL 603 0 \nL 603 4863 \nz\n\" transform=\"scale(0.015625)\"/>\n      <path id=\"DejaVuSans-4e\" d=\"M 628 4666 \nL 1478 4666 \nL 3547 763 \nL 3547 4666 \nL 4159 4666 \nL 4159 0 \nL 3309 0 \nL 1241 3903 \nL 1241 0 \nL 628 0 \nL 628 4666 \nz\n\" transform=\"scale(0.015625)\"/>\n     </defs>\n     <use xlink:href=\"#DejaVuSans-45\"/>\n     <use xlink:href=\"#DejaVuSans-71\" transform=\"translate(63.183594 0)\"/>\n     <use xlink:href=\"#DejaVuSans-75\" transform=\"translate(126.660156 0)\"/>\n     <use xlink:href=\"#DejaVuSans-69\" transform=\"translate(190.039062 0)\"/>\n     <use xlink:href=\"#DejaVuSans-76\" transform=\"translate(217.822266 0)\"/>\n     <use xlink:href=\"#DejaVuSans-61\" transform=\"translate(277.001953 0)\"/>\n     <use xlink:href=\"#DejaVuSans-72\" transform=\"translate(338.28125 0)\"/>\n     <use xlink:href=\"#DejaVuSans-69\" transform=\"translate(379.394531 0)\"/>\n     <use xlink:href=\"#DejaVuSans-61\" transform=\"translate(407.177734 0)\"/>\n     <use xlink:href=\"#DejaVuSans-6e\" transform=\"translate(468.457031 0)\"/>\n     <use xlink:href=\"#DejaVuSans-74\" transform=\"translate(531.835938 0)\"/>\n     <use xlink:href=\"#DejaVuSans-20\" transform=\"translate(571.044922 0)\"/>\n     <use xlink:href=\"#DejaVuSans-76\" transform=\"translate(602.832031 0)\"/>\n     <use xlink:href=\"#DejaVuSans-73\" transform=\"translate(662.011719 0)\"/>\n     <use xlink:href=\"#DejaVuSans-20\" transform=\"translate(714.111328 0)\"/>\n     <use xlink:href=\"#DejaVuSans-43\" transform=\"translate(745.898438 0)\"/>\n     <use xlink:href=\"#DejaVuSans-6f\" transform=\"translate(815.722656 0)\"/>\n     <use xlink:href=\"#DejaVuSans-6e\" transform=\"translate(876.904297 0)\"/>\n     <use xlink:href=\"#DejaVuSans-76\" transform=\"translate(940.283203 0)\"/>\n     <use xlink:href=\"#DejaVuSans-65\" transform=\"translate(999.462891 0)\"/>\n     <use xlink:href=\"#DejaVuSans-6e\" transform=\"translate(1060.986328 0)\"/>\n     <use xlink:href=\"#DejaVuSans-74\" transform=\"translate(1124.365234 0)\"/>\n     <use xlink:href=\"#DejaVuSans-69\" transform=\"translate(1163.574219 0)\"/>\n     <use xlink:href=\"#DejaVuSans-6f\" transform=\"translate(1191.357422 0)\"/>\n     <use xlink:href=\"#DejaVuSans-6e\" transform=\"translate(1252.539062 0)\"/>\n     <use xlink:href=\"#DejaVuSans-61\" transform=\"translate(1315.917969 0)\"/>\n     <use xlink:href=\"#DejaVuSans-6c\" transform=\"translate(1377.197266 0)\"/>\n     <use xlink:href=\"#DejaVuSans-20\" transform=\"translate(1404.980469 0)\"/>\n     <use xlink:href=\"#DejaVuSans-43\" transform=\"translate(1436.767578 0)\"/>\n     <use xlink:href=\"#DejaVuSans-4e\" transform=\"translate(1506.591797 0)\"/>\n     <use xlink:href=\"#DejaVuSans-4e\" transform=\"translate(1581.396484 0)\"/>\n     <use xlink:href=\"#DejaVuSans-73\" transform=\"translate(1656.201172 0)\"/>\n    </g>\n   </g>\n   <g id=\"legend_1\">\n    <g id=\"patch_7\">\n     <path d=\"M 203.2 227.073125 \nL 477.621875 227.073125 \nQ 481.621875 227.073125 481.621875 223.073125 \nL 481.621875 166.360625 \nQ 481.621875 162.360625 477.621875 162.360625 \nL 203.2 162.360625 \nQ 199.2 162.360625 199.2 166.360625 \nL 199.2 223.073125 \nQ 199.2 227.073125 203.2 227.073125 \nz\n\" style=\"fill: #ffffff; opacity: 0.8; stroke: #cccccc; stroke-linejoin: miter\"/>\n    </g>\n    <g id=\"line2d_17\">\n     <path d=\"M 207.2 178.5575 \nL 227.2 178.5575 \nL 247.2 178.5575 \n\" style=\"fill: none; stroke: #1f77b4; stroke-width: 2; stroke-linecap: square\"/>\n    </g>\n    <g id=\"text_18\">\n     <!-- SO(2)-Steerable CNN -->\n     <g transform=\"translate(263.2 185.5575) scale(0.2 -0.2)\">\n      <defs>\n       <path id=\"DejaVuSans-53\" d=\"M 3425 4513 \nL 3425 3897 \nQ 3066 4069 2747 4153 \nQ 2428 4238 2131 4238 \nQ 1616 4238 1336 4038 \nQ 1056 3838 1056 3469 \nQ 1056 3159 1242 3001 \nQ 1428 2844 1947 2747 \nL 2328 2669 \nQ 3034 2534 3370 2195 \nQ 3706 1856 3706 1288 \nQ 3706 609 3251 259 \nQ 2797 -91 1919 -91 \nQ 1588 -91 1214 -16 \nQ 841 59 441 206 \nL 441 856 \nQ 825 641 1194 531 \nQ 1563 422 1919 422 \nQ 2459 422 2753 634 \nQ 3047 847 3047 1241 \nQ 3047 1584 2836 1778 \nQ 2625 1972 2144 2069 \nL 1759 2144 \nQ 1053 2284 737 2584 \nQ 422 2884 422 3419 \nQ 422 4038 858 4394 \nQ 1294 4750 2059 4750 \nQ 2388 4750 2728 4690 \nQ 3069 4631 3425 4513 \nz\n\" transform=\"scale(0.015625)\"/>\n       <path id=\"DejaVuSans-4f\" d=\"M 2522 4238 \nQ 1834 4238 1429 3725 \nQ 1025 3213 1025 2328 \nQ 1025 1447 1429 934 \nQ 1834 422 2522 422 \nQ 3209 422 3611 934 \nQ 4013 1447 4013 2328 \nQ 4013 3213 3611 3725 \nQ 3209 4238 2522 4238 \nz\nM 2522 4750 \nQ 3503 4750 4090 4092 \nQ 4678 3434 4678 2328 \nQ 4678 1225 4090 567 \nQ 3503 -91 2522 -91 \nQ 1538 -91 948 565 \nQ 359 1222 359 2328 \nQ 359 3434 948 4092 \nQ 1538 4750 2522 4750 \nz\n\" transform=\"scale(0.015625)\"/>\n       <path id=\"DejaVuSans-28\" d=\"M 1984 4856 \nQ 1566 4138 1362 3434 \nQ 1159 2731 1159 2009 \nQ 1159 1288 1364 580 \nQ 1569 -128 1984 -844 \nL 1484 -844 \nQ 1016 -109 783 600 \nQ 550 1309 550 2009 \nQ 550 2706 781 3412 \nQ 1013 4119 1484 4856 \nL 1984 4856 \nz\n\" transform=\"scale(0.015625)\"/>\n       <path id=\"DejaVuSans-29\" d=\"M 513 4856 \nL 1013 4856 \nQ 1481 4119 1714 3412 \nQ 1947 2706 1947 2009 \nQ 1947 1309 1714 600 \nQ 1481 -109 1013 -844 \nL 513 -844 \nQ 928 -128 1133 580 \nQ 1338 1288 1338 2009 \nQ 1338 2731 1133 3434 \nQ 928 4138 513 4856 \nz\n\" transform=\"scale(0.015625)\"/>\n       <path id=\"DejaVuSans-2d\" d=\"M 313 2009 \nL 1997 2009 \nL 1997 1497 \nL 313 1497 \nL 313 2009 \nz\n\" transform=\"scale(0.015625)\"/>\n       <path id=\"DejaVuSans-62\" d=\"M 3116 1747 \nQ 3116 2381 2855 2742 \nQ 2594 3103 2138 3103 \nQ 1681 3103 1420 2742 \nQ 1159 2381 1159 1747 \nQ 1159 1113 1420 752 \nQ 1681 391 2138 391 \nQ 2594 391 2855 752 \nQ 3116 1113 3116 1747 \nz\nM 1159 2969 \nQ 1341 3281 1617 3432 \nQ 1894 3584 2278 3584 \nQ 2916 3584 3314 3078 \nQ 3713 2572 3713 1747 \nQ 3713 922 3314 415 \nQ 2916 -91 2278 -91 \nQ 1894 -91 1617 61 \nQ 1341 213 1159 525 \nL 1159 0 \nL 581 0 \nL 581 4863 \nL 1159 4863 \nL 1159 2969 \nz\n\" transform=\"scale(0.015625)\"/>\n      </defs>\n      <use xlink:href=\"#DejaVuSans-53\"/>\n      <use xlink:href=\"#DejaVuSans-4f\" transform=\"translate(63.476562 0)\"/>\n      <use xlink:href=\"#DejaVuSans-28\" transform=\"translate(142.1875 0)\"/>\n      <use xlink:href=\"#DejaVuSans-32\" transform=\"translate(181.201172 0)\"/>\n      <use xlink:href=\"#DejaVuSans-29\" transform=\"translate(244.824219 0)\"/>\n      <use xlink:href=\"#DejaVuSans-2d\" transform=\"translate(283.837891 0)\"/>\n      <use xlink:href=\"#DejaVuSans-53\" transform=\"translate(319.921875 0)\"/>\n      <use xlink:href=\"#DejaVuSans-74\" transform=\"translate(383.398438 0)\"/>\n      <use xlink:href=\"#DejaVuSans-65\" transform=\"translate(422.607422 0)\"/>\n      <use xlink:href=\"#DejaVuSans-65\" transform=\"translate(484.130859 0)\"/>\n      <use xlink:href=\"#DejaVuSans-72\" transform=\"translate(545.654297 0)\"/>\n      <use xlink:href=\"#DejaVuSans-61\" transform=\"translate(586.767578 0)\"/>\n      <use xlink:href=\"#DejaVuSans-62\" transform=\"translate(648.046875 0)\"/>\n      <use xlink:href=\"#DejaVuSans-6c\" transform=\"translate(711.523438 0)\"/>\n      <use xlink:href=\"#DejaVuSans-65\" transform=\"translate(739.306641 0)\"/>\n      <use xlink:href=\"#DejaVuSans-20\" transform=\"translate(800.830078 0)\"/>\n      <use xlink:href=\"#DejaVuSans-43\" transform=\"translate(832.617188 0)\"/>\n      <use xlink:href=\"#DejaVuSans-4e\" transform=\"translate(902.441406 0)\"/>\n      <use xlink:href=\"#DejaVuSans-4e\" transform=\"translate(977.246094 0)\"/>\n     </g>\n    </g>\n    <g id=\"line2d_18\">\n     <path d=\"M 207.2 207.91375 \nL 227.2 207.91375 \nL 247.2 207.91375 \n\" style=\"fill: none; stroke: #ff7f0e; stroke-width: 2; stroke-linecap: square\"/>\n    </g>\n    <g id=\"text_19\">\n     <!-- Conventional CNN -->\n     <g transform=\"translate(263.2 214.91375) scale(0.2 -0.2)\">\n      <use xlink:href=\"#DejaVuSans-43\"/>\n      <use xlink:href=\"#DejaVuSans-6f\" transform=\"translate(69.824219 0)\"/>\n      <use xlink:href=\"#DejaVuSans-6e\" transform=\"translate(131.005859 0)\"/>\n      <use xlink:href=\"#DejaVuSans-76\" transform=\"translate(194.384766 0)\"/>\n      <use xlink:href=\"#DejaVuSans-65\" transform=\"translate(253.564453 0)\"/>\n      <use xlink:href=\"#DejaVuSans-6e\" transform=\"translate(315.087891 0)\"/>\n      <use xlink:href=\"#DejaVuSans-74\" transform=\"translate(378.466797 0)\"/>\n      <use xlink:href=\"#DejaVuSans-69\" transform=\"translate(417.675781 0)\"/>\n      <use xlink:href=\"#DejaVuSans-6f\" transform=\"translate(445.458984 0)\"/>\n      <use xlink:href=\"#DejaVuSans-6e\" transform=\"translate(506.640625 0)\"/>\n      <use xlink:href=\"#DejaVuSans-61\" transform=\"translate(570.019531 0)\"/>\n      <use xlink:href=\"#DejaVuSans-6c\" transform=\"translate(631.298828 0)\"/>\n      <use xlink:href=\"#DejaVuSans-20\" transform=\"translate(659.082031 0)\"/>\n      <use xlink:href=\"#DejaVuSans-43\" transform=\"translate(690.869141 0)\"/>\n      <use xlink:href=\"#DejaVuSans-4e\" transform=\"translate(760.693359 0)\"/>\n      <use xlink:href=\"#DejaVuSans-4e\" transform=\"translate(835.498047 0)\"/>\n     </g>\n    </g>\n   </g>\n  </g>\n </g>\n <defs>\n  <clipPath id=\"pdfed278510\">\n   <rect x=\"61.410938\" y=\"28.396875\" width=\"558\" height=\"332.64\"/>\n  </clipPath>\n </defs>\n</svg>\n",
            "application/pdf": "[encoded data removed]"
          },
          "metadata": {}
        }
      ],
      "source": [
        "# let's generate a random image of shape W x W\n",
        "W = 37\n",
        "x = torch.randn(1, 1, W, W)\n",
        "\n",
        "# Because a rotation by an angle smaller than 90 degrees moves pixels outsize the image, we mask out all pixels outside the central disk\n",
        "# We need to do this both for the input and the output\n",
        "\n",
        "def build_mask(W):\n",
        "    center_mask = np.zeros((2, W, W))\n",
        "    center_mask[1, :, :] = np.arange(0, W) - W // 2\n",
        "    center_mask[0, :, :] = np.arange(0, W) - W // 2\n",
        "    center_mask[0, :, :] = center_mask[0, :, :].T\n",
        "    center_mask = center_mask[0, :, :] ** 2 + center_mask[1, :, :] ** 2 < .9*(W // 2) ** 2\n",
        "    center_mask = torch.tensor(center_mask.reshape(1, 1, W, W), dtype=torch.float)\n",
        "    return center_mask\n",
        "\n",
        "\n",
        "# create the mask for the input\n",
        "input_center_mask = build_mask(W)\n",
        "\n",
        "# mask the input image\n",
        "x = x * input_center_mask\n",
        "x = feat_type_in(x)\n",
        "\n",
        "# compute the output of both models\n",
        "y_equivariant = equivariant_so2_model(x)\n",
        "y_conventional = feat_type_out(conventional_model(x.tensor))\n",
        "\n",
        "# create the mask for the output images\n",
        "output_center_mask = build_mask(y_equivariant.shape[-1])\n",
        "\n",
        "# We evaluate the equivariance error on N=100 rotations\n",
        "N = 100\n",
        "\n",
        "error_equivariant = []\n",
        "error_conventional = []\n",
        "\n",
        "# for each of the N rotations\n",
        "for i in range(N+1):\n",
        "    g = G.element(i / N * 2*np.pi)\n",
        "\n",
        "    # rotate the input\n",
        "    x_transformed = x.transform(g)\n",
        "    x_transformed.tensor *= input_center_mask\n",
        "\n",
        "    # F(g.X)  feed the transformed images in both models\n",
        "    y_from_x_transformed_equivariant = equivariant_so2_model(x_transformed).tensor\n",
        "    y_from_x_transformed_conventional = conventional_model(x_transformed.tensor)\n",
        "\n",
        "    # g.F(x)  transform the output of both models\n",
        "    y_transformed_from_x_equivariant = y_equivariant.transform(g)\n",
        "    y_transformed_from_x_conventional = y_conventional.transform(g)\n",
        "\n",
        "    # mask all the outputs\n",
        "    y_from_x_transformed_equivariant = y_from_x_transformed_equivariant * output_center_mask\n",
        "    y_from_x_transformed_conventional = y_from_x_transformed_conventional * output_center_mask\n",
        "    y_transformed_from_x_equivariant = y_transformed_from_x_equivariant.tensor * output_center_mask\n",
        "    y_transformed_from_x_conventional = y_transformed_from_x_conventional.tensor * output_center_mask\n",
        "\n",
        "    # compute the relative error of both models\n",
        "    rel_error_equivariant = torch.norm(y_from_x_transformed_equivariant - y_transformed_from_x_equivariant).item() / torch.norm(y_equivariant.tensor).item()\n",
        "    rel_error_conventional = torch.norm(y_from_x_transformed_conventional - y_transformed_from_x_conventional).item() / torch.norm(y_conventional.tensor).item()\n",
        "\n",
        "    error_equivariant.append(rel_error_equivariant)\n",
        "    error_conventional.append(rel_error_conventional)\n",
        "\n",
        "# plot the error of both models as a function of the rotation angle theta\n",
        "fig, ax = plt.subplots(figsize=(10, 6))\n",
        "\n",
        "xs = [i*2*np.pi / N for i in range(N+1)]\n",
        "plt.plot(xs, error_equivariant, label='SO(2)-Steerable CNN')\n",
        "plt.plot(xs, error_conventional, label='Conventional CNN')\n",
        "plt.title('Equivariant vs Conventional CNNs', fontsize=20)\n",
        "plt.xlabel(r'$g = r_\\theta$', fontsize=20)\n",
        "plt.ylabel('Equivariance Error', fontsize=20)\n",
        "ax.tick_params(axis='both', which='major', labelsize=15)\n",
        "plt.legend(fontsize=20)\n",
        "plt.show()"
      ]
    },
    {
      "cell_type": "markdown",
      "metadata": {
        "id": "7K0Lti6wBLR5"
      },
      "source": [
        "## 3. Build and Train Steerable CNNs\n",
        "\n",
        "Finally, we will proceed with implementing a **Steerable CNN** and train it on rotated MNIST."
      ]
    },
    {
      "cell_type": "markdown",
      "metadata": {
        "id": "LbXKvGZM7sUI"
      },
      "source": [
        "### Dataset"
      ]
    },
    {
      "cell_type": "markdown",
      "metadata": {
        "id": "_BJSa9iJ4LF5"
      },
      "source": [
        "We will evaluate the model on the *rotated* MNIST dataset.\n",
        "First, we download the (non-rotated) MNIST 12k data:"
      ]
    },
    {
      "cell_type": "code",
      "execution_count": null,
      "metadata": {
        "id": "ZLHXlWCLBZ_X",
        "colab": {
          "base_uri": "https://localhost:8080/"
        },
        "outputId": "f913008c-5f0e-4806-fe9f-1fdd1b3f7606"
      },
      "outputs": [
        {
          "output_type": "stream",
          "name": "stdout",
          "text": [
            "--2025-01-09 12:20:04--  http://www.iro.umontreal.ca/~lisa/icml2007data/mnist.zip\n",
            "Resolving www.iro.umontreal.ca (www.iro.umontreal.ca)... 132.204.26.36\n",
            "Connecting to www.iro.umontreal.ca (www.iro.umontreal.ca)|132.204.26.36|:80... connected.\n",
            "HTTP request sent, awaiting response... 200 OK\n",
            "Length: 23653151 (23M) [application/zip]\n",
            "Saving to: ‘mnist.zip’\n",
            "\n",
            "mnist.zip           100%[===================>]  22.56M  25.4MB/s    in 0.9s    \n",
            "\n",
            "2025-01-09 12:20:05 (25.4 MB/s) - ‘mnist.zip’ saved [23653151/23653151]\n",
            "\n",
            "Archive:  mnist.zip\n",
            "  inflating: mnist/mnist_train.amat  \n",
            "  inflating: mnist/mnist_test.amat   \n"
          ]
        }
      ],
      "source": [
        "# download the dataset\n",
        "!wget -nc http://www.iro.umontreal.ca/~lisa/icml2007data/mnist.zip\n",
        "# uncompress the zip file\n",
        "!unzip -n mnist.zip -d mnist"
      ]
    },
    {
      "cell_type": "markdown",
      "metadata": {
        "id": "Xk4AEOO44Tcf"
      },
      "source": [
        "Then, we build the dataset and some utility functions:"
      ]
    },
    {
      "cell_type": "code",
      "execution_count": null,
      "metadata": {
        "id": "rFflGaisdyaN"
      },
      "outputs": [],
      "source": [
        "from torch.utils.data import Dataset\n",
        "from torchvision.transforms import RandomRotation\n",
        "from torchvision.transforms import Pad\n",
        "from torchvision.transforms import Resize\n",
        "from torchvision.transforms import ToTensor\n",
        "from torchvision.transforms import Compose\n",
        "from tqdm.auto import tqdm\n",
        "\n",
        "from PIL import Image\n",
        "\n",
        "device = 'cuda' if torch.cuda.is_available() else 'cpu'"
      ]
    },
    {
      "cell_type": "code",
      "execution_count": null,
      "metadata": {
        "id": "ZjV8iksl5RPH"
      },
      "outputs": [],
      "source": [
        "class MnistDataset(Dataset):\n",
        "\n",
        "    def __init__(self, mode, rotated: bool = True):\n",
        "        assert mode in ['train', 'test']\n",
        "\n",
        "        if mode == \"train\":\n",
        "            file = \"mnist/mnist_train.amat\"\n",
        "        else:\n",
        "            file = \"mnist/mnist_test.amat\"\n",
        "\n",
        "        data = np.loadtxt(file)\n",
        "\n",
        "        images = data[:, :-1].reshape(-1, 28, 28).astype(np.float32)\n",
        "\n",
        "        # images are padded to have shape 29x29.\n",
        "        # this allows to use odd-size filters with stride 2 when downsampling a feature map in the model\n",
        "        pad = Pad((0, 0, 1, 1), fill=0)\n",
        "\n",
        "        # to reduce interpolation artifacts (e.g. when testing the model on rotated images),\n",
        "        # we upsample an image by a factor of 3, rotate it and finally downsample it again\n",
        "        resize1 = Resize(87) # to upsample\n",
        "        resize2 = Resize(29) # to downsample\n",
        "\n",
        "        totensor = ToTensor()\n",
        "\n",
        "        if rotated:\n",
        "            self.images = torch.empty((images.shape[0], 1, 29, 29))\n",
        "            for i in tqdm(range(images.shape[0]), leave=False):\n",
        "                img = images[i]\n",
        "                img = Image.fromarray(img, mode='F')\n",
        "                r = (np.random.rand() * 360.)\n",
        "                self.images[i] = totensor(resize2(resize1(pad(img)).rotate(r, Image.BILINEAR))).reshape(1, 29, 29)\n",
        "        else:\n",
        "            self.images = torch.zeros((images.shape[0], 1, 29, 29))\n",
        "            self.images[:, :, :28, :28] = torch.tensor(images).reshape(-1, 1, 28, 28)\n",
        "\n",
        "        self.labels = data[:, -1].astype(np.int64)\n",
        "        self.num_samples = len(self.labels)\n",
        "\n",
        "    def __getitem__(self, index):\n",
        "        image, label = self.images[index], self.labels[index]\n",
        "\n",
        "        return image, label\n",
        "\n",
        "    def __len__(self):\n",
        "        return len(self.labels)\n"
      ]
    },
    {
      "cell_type": "code",
      "execution_count": null,
      "metadata": {
        "id": "WlLm-AZ97jVg",
        "colab": {
          "base_uri": "https://localhost:8080/",
          "height": 17,
          "referenced_widgets": [
            "bc7b4b0f0bd7434eb2838998c35ca5c6",
            "a54dc0df278c4814a918adb860abd4c9",
            "fae9c7ff001c49eaa85510766e4a08b4",
            "b56fe83caa60451fbcda7581c41445db",
            "a073010689a94bf0b433c5f3657d949c",
            "d852e8a856444f0394acf0c7a97e3e61",
            "a8541844181b4f148dcefb9e3f5e9027",
            "aa99427721c446889c5fe9215a16cb9d",
            "a9c79f746ba7423ca229081c2a6b6c66",
            "816bbaa540b5486d8cb854c160cfa020",
            "4dd7e3abe4164806a2537f17d12cd159",
            "cc92c6c05e3a45c68333dc6269a5883f",
            "83e9ff0e7d3f4745ba7379f622637a5a",
            "601a267ae180406ebf8cdb090ab3d760",
            "4b6c69d918e7402b894c3637689a1929",
            "f23f573544eb47bd9737895c9322433e",
            "1ab41221f6b542e6bcb430de033531f7",
            "5b580bc15ee04107ab989b5f4b70109e",
            "0eab83d3897c4065b7530a2a29d48199",
            "38945d5d8a054f118332532316752fc2",
            "e7e037777c6447c9afb08b570a4aface",
            "69e92b4abe8b465abd428eb31ea1a931"
          ]
        },
        "outputId": "bbb4a5fe-a171-418b-cf86-4c03273f28d5"
      },
      "outputs": [
        {
          "output_type": "display_data",
          "data": {
            "text/plain": [
              "  0%|          | 0/12000 [00:00<?, ?it/s]"
            ],
            "application/vnd.jupyter.widget-view+json": {
              "version_major": 2,
              "version_minor": 0,
              "model_id": "bc7b4b0f0bd7434eb2838998c35ca5c6"
            }
          },
          "metadata": {}
        },
        {
          "output_type": "display_data",
          "data": {
            "text/plain": [
              "  0%|          | 0/50000 [00:00<?, ?it/s]"
            ],
            "application/vnd.jupyter.widget-view+json": {
              "version_major": 2,
              "version_minor": 0,
              "model_id": "cc92c6c05e3a45c68333dc6269a5883f"
            }
          },
          "metadata": {}
        }
      ],
      "source": [
        "# Set the random seed for reproducibility\n",
        "np.random.seed(42)\n",
        "\n",
        "# build the rotated training and test datasets\n",
        "mnist_train = MnistDataset(mode='train', rotated=True)\n",
        "train_loader = torch.utils.data.DataLoader(mnist_train, batch_size=64)\n",
        "\n",
        "\n",
        "mnist_test = MnistDataset(mode='test', rotated=True)\n",
        "test_loader = torch.utils.data.DataLoader(mnist_test, batch_size=64)\n",
        "\n",
        "# for testing purpose, we also build a version of the test set with *non*-rotated digits\n",
        "raw_mnist_test = MnistDataset(mode='test', rotated=False)"
      ]
    },
    {
      "cell_type": "markdown",
      "metadata": {
        "id": "YNhKgypl7m0b"
      },
      "source": [
        "### $SO(2)$ equivariant architecture"
      ]
    },
    {
      "cell_type": "markdown",
      "metadata": {
        "id": "ABvLAScf5RPI"
      },
      "source": [
        "We now build an $SO(2)$ equivariant CNN.\n",
        "\n",
        "Because the inputs are still gray-scale images, the input type of the model is again a *scalar field*.\n",
        "In the intermidiate layers, we will use *regular fields*, such that the models are equivalent to *group-equivariant convolutional neural networks* (GCNNs).\n",
        "\n",
        "The final classification is performed by a fully connected layer."
      ]
    },
    {
      "cell_type": "code",
      "execution_count": null,
      "metadata": {
        "id": "HuVS40JWzihp"
      },
      "outputs": [],
      "source": [
        "class SO2SteerableCNN(torch.nn.Module):\n",
        "\n",
        "    def __init__(self, n_classes=10):\n",
        "\n",
        "        super(SO2SteerableCNN, self).__init__()\n",
        "\n",
        "        # the model is equivariant under all planar rotations\n",
        "        self.r2_act = gspaces.rot2dOnR2(N=-1)\n",
        "\n",
        "        # the group SO(2)\n",
        "        self.G: SO2 = self.r2_act.fibergroup\n",
        "\n",
        "        # the input image is a scalar field, corresponding to the trivial representation\n",
        "        in_type = nn.FieldType(self.r2_act, [self.r2_act.trivial_repr])\n",
        "\n",
        "        # we store the input type for wrapping the images into a geometric tensor during the forward pass\n",
        "        self.input_type = in_type\n",
        "\n",
        "        # We need to mask the input image since the corners are moved outside the grid under rotations\n",
        "        self.mask = nn.MaskModule(in_type, 29, margin=1)\n",
        "\n",
        "        # convolution 1\n",
        "        # first we build the non-linear layer, which also constructs the right feature type\n",
        "        # we choose 8 feature fields, each transforming under the regular representation of SO(2) up to frequency 3\n",
        "        # When taking the ELU non-linearity, we sample the feature fields on N=16 points\n",
        "        activation1 = nn.FourierELU(self.r2_act, 8, irreps=G.bl_irreps(3), N=16, inplace=True)\n",
        "        out_type = activation1.in_type\n",
        "        self.block1 = nn.SequentialModule(\n",
        "            nn.R2Conv(in_type, out_type, kernel_size=7, padding=1, bias=False),\n",
        "            nn.IIDBatchNorm2d(out_type),\n",
        "            activation1,\n",
        "        )\n",
        "\n",
        "        # convolution 2\n",
        "        # the old output type is the input type to the next layer\n",
        "        in_type = self.block1.out_type\n",
        "        # the output type of the second convolution layer are 16 regular feature fields\n",
        "        activation2 = nn.FourierELU(self.r2_act, 16, irreps=G.bl_irreps(3), N=16, inplace=True)\n",
        "        out_type = activation2.in_type\n",
        "        self.block2 = nn.SequentialModule(\n",
        "            nn.R2Conv(in_type, out_type, kernel_size=5, padding=2, bias=False),\n",
        "            nn.IIDBatchNorm2d(out_type),\n",
        "            activation2\n",
        "        )\n",
        "        # to reduce the downsampling artifacts, we use a Gaussian smoothing filter\n",
        "        self.pool1 = nn.SequentialModule(\n",
        "            nn.PointwiseAvgPoolAntialiased(out_type, sigma=0.66, stride=2)\n",
        "        )\n",
        "\n",
        "        # convolution 3\n",
        "        # the old output type is the input type to the next layer\n",
        "        in_type = self.block2.out_type\n",
        "        # the output type of the third convolution layer are 32 regular feature fields\n",
        "        activation3 = nn.FourierELU(self.r2_act, 32, irreps=G.bl_irreps(3), N=16, inplace=True)\n",
        "        out_type = activation3.in_type\n",
        "        self.block3 = nn.SequentialModule(\n",
        "            nn.R2Conv(in_type, out_type, kernel_size=5, padding=2, bias=False),\n",
        "            nn.IIDBatchNorm2d(out_type),\n",
        "            activation3\n",
        "        )\n",
        "\n",
        "        # convolution 4\n",
        "        # the old output type is the input type to the next layer\n",
        "        in_type = self.block3.out_type\n",
        "        # the output type of the fourth convolution layer are 64 regular feature fields\n",
        "        activation4 = nn.FourierELU(self.r2_act, 32, irreps=G.bl_irreps(3), N=16, inplace=True)\n",
        "        out_type = activation4.in_type\n",
        "        self.block4 = nn.SequentialModule(\n",
        "            nn.R2Conv(in_type, out_type, kernel_size=5, padding=2, bias=False),\n",
        "            nn.IIDBatchNorm2d(out_type),\n",
        "            activation4\n",
        "        )\n",
        "        self.pool2 = nn.SequentialModule(\n",
        "            nn.PointwiseAvgPoolAntialiased(out_type, sigma=0.66, stride=2)\n",
        "        )\n",
        "\n",
        "        # convolution 5\n",
        "        # the old output type is the input type to the next layer\n",
        "        in_type = self.block4.out_type\n",
        "        # the output type of the fifth convolution layer are 96 regular feature fields\n",
        "        activation5 = nn.FourierELU(self.r2_act, 64, irreps=G.bl_irreps(3), N=16, inplace=True)\n",
        "        out_type = activation5.in_type\n",
        "        self.block5 = nn.SequentialModule(\n",
        "            nn.R2Conv(in_type, out_type, kernel_size=5, padding=2, bias=False),\n",
        "            nn.IIDBatchNorm2d(out_type),\n",
        "            activation5\n",
        "        )\n",
        "\n",
        "        # convolution 6\n",
        "        # the old output type is the input type to the next layer\n",
        "        in_type = self.block5.out_type\n",
        "        # the output type of the sixth convolution layer are 64 regular feature fields\n",
        "        activation6 = nn.FourierELU(self.r2_act, 64, irreps=G.bl_irreps(3), N=16, inplace=True)\n",
        "        out_type = activation6.in_type\n",
        "        self.block6 = nn.SequentialModule(\n",
        "            nn.R2Conv(in_type, out_type, kernel_size=5, padding=1, bias=False),\n",
        "            nn.IIDBatchNorm2d(out_type),\n",
        "            activation6\n",
        "        )\n",
        "        self.pool3 = nn.PointwiseAvgPoolAntialiased(out_type, sigma=0.66, stride=1, padding=0)\n",
        "\n",
        "        # number of output invariant channels\n",
        "        c = 64\n",
        "\n",
        "        # last 1x1 convolution layer, which maps the regular fields to c=64 invariant scalar fields\n",
        "        # this is essential to provide *invariant* features in the final classification layer\n",
        "        output_invariant_type = nn.FieldType(self.r2_act, c*[self.r2_act.trivial_repr])\n",
        "        self.invariant_map = nn.R2Conv(out_type, output_invariant_type, kernel_size=1, bias=False)\n",
        "\n",
        "        # Fully Connected classifier\n",
        "        self.fully_net = torch.nn.Sequential(\n",
        "            torch.nn.BatchNorm1d(c),\n",
        "            torch.nn.ELU(inplace=True),\n",
        "            torch.nn.Linear(c, n_classes),\n",
        "        )\n",
        "\n",
        "    def forward(self, input: torch.Tensor):\n",
        "        # wrap the input tensor in a GeometricTensor\n",
        "        # (associate it with the input type)\n",
        "        x = self.input_type(input)\n",
        "\n",
        "        # mask out the corners of the input image\n",
        "        x = self.mask(x)\n",
        "\n",
        "        # apply each equivariant block\n",
        "\n",
        "        # Each layer has an input and an output type\n",
        "        # A layer takes a GeometricTensor in input.\n",
        "        # This tensor needs to be associated with the same representation of the layer's input type\n",
        "        #\n",
        "        # Each layer outputs a new GeometricTensor, associated with the layer's output type.\n",
        "        # As a result, consecutive layers need to have matching input/output types\n",
        "        x = self.block1(x)\n",
        "        x = self.block2(x)\n",
        "        x = self.pool1(x)\n",
        "\n",
        "        x = self.block3(x)\n",
        "        x = self.block4(x)\n",
        "        x = self.pool2(x)\n",
        "\n",
        "        x = self.block5(x)\n",
        "        x = self.block6(x)\n",
        "\n",
        "        # pool over the spatial dimensions\n",
        "        x = self.pool3(x)\n",
        "\n",
        "        # extract invariant features\n",
        "        x = self.invariant_map(x)\n",
        "\n",
        "        # unwrap the output GeometricTensor\n",
        "        # (take the Pytorch tensor and discard the associated representation)\n",
        "        x = x.tensor\n",
        "\n",
        "        # classify with the final fully connected layer\n",
        "        x = self.fully_net(x.reshape(x.shape[0], -1))\n",
        "\n",
        "        return x"
      ]
    },
    {
      "cell_type": "markdown",
      "metadata": {
        "id": "dnv21BvS70rR"
      },
      "source": [
        "#### Equivariance Test before training"
      ]
    },
    {
      "cell_type": "markdown",
      "metadata": {
        "id": "isQ_WYax43Ih"
      },
      "source": [
        "Let's instantiate the model:"
      ]
    },
    {
      "cell_type": "code",
      "execution_count": null,
      "metadata": {
        "id": "NjDhOs_048O6"
      },
      "outputs": [],
      "source": [
        "model = SO2SteerableCNN().to(device)"
      ]
    },
    {
      "cell_type": "markdown",
      "metadata": {
        "id": "WqmtMCdh5HVq"
      },
      "source": [
        "The model is now randomly initialized.\n",
        "Therefore, we do not expect it to produce the right class probabilities.\n",
        "\n",
        "However, the model should still produce the same output for rotated versions of the same image.\n",
        "This is true for rotations by multiples of $\\frac{\\pi}{2}$, but is only approximate for other rotations.\n",
        "\n",
        "Let's test it on a random test image:\n",
        "we feed $N=20$ rotated versions of the first image in the test set and print the output logits of the model for each of them."
      ]
    },
    {
      "cell_type": "code",
      "execution_count": null,
      "metadata": {
        "id": "0sO8ACqbd_GW"
      },
      "outputs": [],
      "source": [
        "def test_model_single_image(model: torch.nn.Module, x: torch.Tensor, N: int = 8):\n",
        "    np.set_printoptions(linewidth=10000)\n",
        "\n",
        "    x = Image.fromarray(x.cpu().numpy()[0], mode='F')\n",
        "\n",
        "\n",
        "    # to reduce interpolation artifacts (e.g. when testing the model on rotated images),\n",
        "    # we upsample an image by a factor of 3, rotate it and finally downsample it again\n",
        "    resize1 = Resize(87) # to upsample\n",
        "    resize2 = Resize(29) # to downsample\n",
        "\n",
        "    totensor = ToTensor()\n",
        "\n",
        "    x = resize1(x)\n",
        "\n",
        "    # evaluate the `model` on N rotated versions of the input image `x`\n",
        "    model.eval()\n",
        "\n",
        "    print()\n",
        "    print('##########################################################################################')\n",
        "    header = 'angle  |  ' + '  '.join([\"{:5d}\".format(d) for d in range(10)])\n",
        "    print(header)\n",
        "    with torch.no_grad():\n",
        "        for r in range(N):\n",
        "            x_transformed = totensor(resize2(x.rotate(r*360./N, Image.BILINEAR))).reshape(1, 1, 29, 29)\n",
        "            x_transformed = x_transformed.to(device)\n",
        "\n",
        "            y = model(x_transformed)\n",
        "            y = y.to('cpu').numpy().squeeze()\n",
        "\n",
        "            angle = r * 360. / N\n",
        "            print(\"{:6.1f} : {}\".format(angle, y))\n",
        "    print('##########################################################################################')\n",
        "    print()\n"
      ]
    },
    {
      "cell_type": "code",
      "execution_count": null,
      "metadata": {
        "id": "MMemwcjceUWO",
        "colab": {
          "base_uri": "https://localhost:8080/"
        },
        "outputId": "1c187853-3af9-4d37-b7ce-b837aaaab8cb"
      },
      "outputs": [
        {
          "output_type": "stream",
          "name": "stdout",
          "text": [
            "\n",
            "##########################################################################################\n",
            "angle  |      0      1      2      3      4      5      6      7      8      9\n",
            "   0.0 : [-0.209 -1.182  1.085 -1.467  0.68  -0.338 -3.039 -0.731 -0.984 -1.253]\n",
            "  18.0 : [-0.217 -1.17   1.088 -1.473  0.678 -0.33  -3.03  -0.732 -0.992 -1.273]\n",
            "  36.0 : [-0.216 -1.192  1.122 -1.483  0.675 -0.322 -3.048 -0.753 -0.99  -1.293]\n",
            "  54.0 : [-0.198 -1.22   1.136 -1.492  0.67  -0.335 -3.072 -0.76  -0.987 -1.273]\n",
            "  72.0 : [-0.188 -1.221  1.128 -1.483  0.68  -0.344 -3.064 -0.753 -0.981 -1.263]\n",
            "  90.0 : [-0.209 -1.182  1.085 -1.467  0.68  -0.338 -3.039 -0.731 -0.984 -1.253]\n",
            " 108.0 : [-0.217 -1.17   1.088 -1.473  0.678 -0.33  -3.03  -0.732 -0.992 -1.273]\n",
            " 126.0 : [-0.216 -1.192  1.122 -1.483  0.675 -0.322 -3.048 -0.753 -0.99  -1.293]\n",
            " 144.0 : [-0.198 -1.22   1.136 -1.492  0.67  -0.335 -3.072 -0.76  -0.987 -1.273]\n",
            " 162.0 : [-0.188 -1.221  1.128 -1.483  0.68  -0.344 -3.064 -0.753 -0.981 -1.263]\n",
            " 180.0 : [-0.209 -1.182  1.085 -1.467  0.68  -0.338 -3.039 -0.731 -0.984 -1.253]\n",
            " 198.0 : [-0.217 -1.17   1.088 -1.473  0.678 -0.33  -3.03  -0.732 -0.992 -1.273]\n",
            " 216.0 : [-0.216 -1.192  1.122 -1.483  0.675 -0.322 -3.048 -0.753 -0.99  -1.293]\n",
            " 234.0 : [-0.198 -1.22   1.136 -1.492  0.67  -0.335 -3.072 -0.76  -0.987 -1.273]\n",
            " 252.0 : [-0.188 -1.221  1.128 -1.483  0.68  -0.344 -3.064 -0.753 -0.981 -1.263]\n",
            " 270.0 : [-0.209 -1.182  1.085 -1.467  0.68  -0.338 -3.039 -0.731 -0.984 -1.253]\n",
            " 288.0 : [-0.217 -1.17   1.088 -1.473  0.678 -0.33  -3.03  -0.732 -0.992 -1.273]\n",
            " 306.0 : [-0.216 -1.192  1.122 -1.483  0.675 -0.322 -3.048 -0.753 -0.99  -1.293]\n",
            " 324.0 : [-0.198 -1.22   1.136 -1.492  0.67  -0.335 -3.072 -0.76  -0.987 -1.273]\n",
            " 342.0 : [-0.188 -1.221  1.128 -1.483  0.68  -0.344 -3.064 -0.753 -0.981 -1.263]\n",
            "##########################################################################################\n",
            "\n"
          ]
        }
      ],
      "source": [
        "# retrieve the first image from the test set\n",
        "x, y = next(iter(raw_mnist_test))\n",
        "\n",
        "# evaluate the model\n",
        "test_model_single_image(model, x, N=20)"
      ]
    },
    {
      "cell_type": "markdown",
      "metadata": {
        "id": "s30uH1m-7S63"
      },
      "source": [
        "The output of the model is already almost invariant but we observe small fluctuations in the outputs.\n",
        "This is the effect of the discretization artifacts (e.g. the pixel grid can not be perfectly rotated by any angle without interpolation) and can not be completely removed."
      ]
    },
    {
      "cell_type": "markdown",
      "metadata": {
        "id": "wLoknbhP77Ps"
      },
      "source": [
        "#### Training the model\n",
        "Let's train the model now.\n",
        "The procedure is the same used to train a normal *PyTorch* architecture:"
      ]
    },
    {
      "cell_type": "code",
      "execution_count": null,
      "metadata": {
        "id": "Dahlyjtr8RgX"
      },
      "outputs": [],
      "source": [
        "# build the training and test function\n",
        "\n",
        "def test(model: torch.nn.Module):\n",
        "    # test over the full rotated test set\n",
        "    total = 0\n",
        "    correct = 0\n",
        "\n",
        "    with torch.no_grad():\n",
        "        model.eval()\n",
        "        for i, (x, t) in enumerate(test_loader):\n",
        "            x = x.to(device)\n",
        "            t = t.to(device)\n",
        "\n",
        "            y = model(x)\n",
        "\n",
        "            _, prediction = torch.max(y.data, 1)\n",
        "            total += t.shape[0]\n",
        "            correct += (prediction == t).sum().item()\n",
        "    return correct/total*100.\n",
        "\n",
        "\n",
        "def train(model: torch.nn.Module, lr=1e-4, wd=1e-4, checkpoint_path: str = None):\n",
        "    if checkpoint_path is not None:\n",
        "        checkpoint_path = os.path.join(CHECKPOINT_PATH, checkpoint_path)\n",
        "\n",
        "    if checkpoint_path is not None and os.path.isfile(checkpoint_path):\n",
        "        model.load_state_dict(torch.load(checkpoint_path))\n",
        "        model.eval()\n",
        "        return\n",
        "\n",
        "    loss_function = torch.nn.CrossEntropyLoss()\n",
        "    optimizer = torch.optim.Adam(model.parameters(), lr=lr, weight_decay=wd)\n",
        "\n",
        "    for epoch in tqdm(range(21)):\n",
        "        model.train()\n",
        "        for i, (x, t) in enumerate(train_loader):\n",
        "            optimizer.zero_grad()\n",
        "\n",
        "            x = x.to(device)\n",
        "            t = t.to(device)\n",
        "\n",
        "            y = model(x)\n",
        "\n",
        "            loss = loss_function(y, t)\n",
        "\n",
        "            loss.backward()\n",
        "\n",
        "            optimizer.step()\n",
        "            del x, y, t, loss\n",
        "\n",
        "        if epoch % 10 == 0:\n",
        "            accuracy = test(model)\n",
        "            print(f\"epoch {epoch} | test accuracy: {accuracy}\")\n",
        "\n",
        "    if checkpoint_path is not None:\n",
        "        torch.save(model.state_dict(), checkpoint_path)"
      ]
    },
    {
      "cell_type": "markdown",
      "metadata": {
        "id": "1kLJO_KQ8opD"
      },
      "source": [
        "Finally, train the $SO(2)$ equivariant model:"
      ]
    },
    {
      "cell_type": "code",
      "execution_count": null,
      "metadata": {
        "id": "03IyIZpO8kmx",
        "colab": {
          "base_uri": "https://localhost:8080/"
        },
        "outputId": "9ab4e95c-5040-4611-cae5-11c1b56fc11f"
      },
      "outputs": [
        {
          "output_type": "stream",
          "name": "stderr",
          "text": [
            "<ipython-input-95-9e1816a8ca25>:27: FutureWarning: You are using `torch.load` with `weights_only=False` (the current default value), which uses the default pickle module implicitly. It is possible to construct malicious pickle data which will execute arbitrary code during unpickling (See https://github.com/pytorch/pytorch/blob/main/SECURITY.md#untrusted-models for more details). In a future release, the default value for `weights_only` will be flipped to `True`. This limits the functions that could be executed during unpickling. Arbitrary objects will no longer be allowed to be loaded via this mode unless they are explicitly allowlisted by the user via `torch.serialization.add_safe_globals`. We recommend you start setting `weights_only=True` for any use case where you don't have full control of the loaded file. Please open an issue on GitHub for any issues related to this experimental feature.\n",
            "  model.load_state_dict(torch.load(checkpoint_path))\n"
          ]
        },
        {
          "output_type": "stream",
          "name": "stdout",
          "text": [
            "Test accuracy: 94.982\n"
          ]
        }
      ],
      "source": [
        "# set the seed manually for reproducibility\n",
        "torch.manual_seed(42)\n",
        "model = SO2SteerableCNN().to(device)\n",
        "\n",
        "train(model, checkpoint_path=\"steerable_so2-pretrained.ckpt\")\n",
        "\n",
        "accuracy = test(model)\n",
        "print(f\"Test accuracy: {accuracy}\")"
      ]
    },
    {
      "cell_type": "code",
      "execution_count": null,
      "metadata": {
        "id": "tXeaZPTqECzY"
      },
      "outputs": [],
      "source": [
        "def test_model_rotations(model: torch.nn.Module, N: int = 24, M: int = 2000, checkpoint_path: str = None):\n",
        "    # evaluate the `model` on N rotated versions of the first M images in the test set\n",
        "\n",
        "    if checkpoint_path is not None:\n",
        "        checkpoint_path = os.path.join(CHECKPOINT_PATH, checkpoint_path)\n",
        "\n",
        "    if checkpoint_path is not None and os.path.isfile(checkpoint_path):\n",
        "        accuracies = np.load(checkpoint_path)\n",
        "        return accuracies.tolist()\n",
        "\n",
        "    model.eval()\n",
        "\n",
        "    # to reduce interpolation artifacts (e.g. when testing the model on rotated images),\n",
        "    # we upsample an image by a factor of 3, rotate it and finally downsample it again\n",
        "    resize1 = Resize(87) # to upsample\n",
        "    resize2 = Resize(29) # to downsample\n",
        "\n",
        "    totensor = ToTensor()\n",
        "\n",
        "    accuracies = []\n",
        "    with torch.no_grad():\n",
        "        model.eval()\n",
        "\n",
        "        for r in tqdm(range(N)):\n",
        "            total = 0\n",
        "            correct = 0\n",
        "\n",
        "            for i in range(M):\n",
        "                x, t = raw_mnist_test[i]\n",
        "\n",
        "                x = Image.fromarray(x.numpy()[0], mode='F')\n",
        "\n",
        "                x = totensor(resize2(resize1(x).rotate(r*360./N, Image.BILINEAR))).reshape(1, 1, 29, 29).to(device)\n",
        "\n",
        "                x = x.to(device)\n",
        "\n",
        "                y = model(x)\n",
        "\n",
        "                _, prediction = torch.max(y.data, 1)\n",
        "                total += 1\n",
        "                correct += (prediction == t).sum().item()\n",
        "\n",
        "            accuracies.append(correct/total*100.)\n",
        "\n",
        "    if checkpoint_path is not None:\n",
        "        np.save(checkpoint_path, np.array(accuracies))\n",
        "\n",
        "    return accuracies"
      ]
    },
    {
      "cell_type": "code",
      "execution_count": null,
      "metadata": {
        "id": "m_ueYqe75RPK"
      },
      "outputs": [],
      "source": [
        "accs_so2 = test_model_rotations(model, 16, 10000, checkpoint_path=\"steerable_so2-accuracies.npy\")"
      ]
    },
    {
      "cell_type": "code",
      "execution_count": null,
      "metadata": {
        "id": "DSX5e3_V5RPK",
        "colab": {
          "base_uri": "https://localhost:8080/",
          "height": 572
        },
        "outputId": "6987ba80-3d88-44ba-e450-f11c63aca93c"
      },
      "outputs": [
        {
          "output_type": "display_data",
          "data": {
            "text/plain": [
              "<Figure size 1000x600 with 1 Axes>"
            ],
            "image/svg+xml": "<?xml version=\"1.0\" encoding=\"utf-8\" standalone=\"no\"?>\n<!DOCTYPE svg PUBLIC \"-//W3C//DTD SVG 1.1//EN\"\n  \"http://www.w3.org/Graphics/SVG/1.1/DTD/svg11.dtd\">\n<svg xmlns:xlink=\"http://www.w3.org/1999/xlink\" width=\"645.698437pt\" height=\"413.110312pt\" viewBox=\"0 0 645.698437 413.110312\" xmlns=\"http://www.w3.org/2000/svg\" version=\"1.1\">\n <metadata>\n  <rdf:RDF xmlns:dc=\"http://purl.org/dc/elements/1.1/\" xmlns:cc=\"http://creativecommons.org/ns#\" xmlns:rdf=\"http://www.w3.org/1999/02/22-rdf-syntax-ns#\">\n   <cc:Work>\n    <dc:type rdf:resource=\"http://purl.org/dc/dcmitype/StillImage\"/>\n    <dc:date>2025-01-09T12:22:39.739321</dc:date>\n    <dc:format>image/svg+xml</dc:format>\n    <dc:creator>\n     <cc:Agent>\n      <dc:title>Matplotlib v3.10.0, https://matplotlib.org/</dc:title>\n     </cc:Agent>\n    </dc:creator>\n   </cc:Work>\n  </rdf:RDF>\n </metadata>\n <defs>\n  <style type=\"text/css\">*{stroke-linejoin: round; stroke-linecap: butt}</style>\n </defs>\n <g id=\"figure_1\">\n  <g id=\"patch_1\">\n   <path d=\"M 0 413.110312 \nL 645.698437 413.110312 \nL 645.698437 0 \nL 0 0 \nz\n\" style=\"fill: #ffffff\"/>\n  </g>\n  <g id=\"axes_1\">\n   <g id=\"patch_2\">\n    <path d=\"M 80.498438 361.036875 \nL 638.498438 361.036875 \nL 638.498438 28.396875 \nL 80.498438 28.396875 \nz\n\" style=\"fill: #ffffff\"/>\n   </g>\n   <g id=\"matplotlib.axis_1\">\n    <g id=\"xtick_1\">\n     <g id=\"line2d_1\">\n      <defs>\n       <path id=\"m3ca4c344df\" d=\"M 0 0 \nL 0 3.5 \n\" style=\"stroke: #000000; stroke-width: 0.8\"/>\n      </defs>\n      <g>\n       <use xlink:href=\"#m3ca4c344df\" x=\"105.862074\" y=\"361.036875\" style=\"stroke: #000000; stroke-width: 0.8\"/>\n      </g>\n     </g>\n     <g id=\"text_1\">\n      <!-- 0 -->\n      <g transform=\"translate(101.090199 379.434531) scale(0.15 -0.15)\">\n       <defs>\n        <path id=\"DejaVuSans-30\" d=\"M 2034 4250 \nQ 1547 4250 1301 3770 \nQ 1056 3291 1056 2328 \nQ 1056 1369 1301 889 \nQ 1547 409 2034 409 \nQ 2525 409 2770 889 \nQ 3016 1369 3016 2328 \nQ 3016 3291 2770 3770 \nQ 2525 4250 2034 4250 \nz\nM 2034 4750 \nQ 2819 4750 3233 4129 \nQ 3647 3509 3647 2328 \nQ 3647 1150 3233 529 \nQ 2819 -91 2034 -91 \nQ 1250 -91 836 529 \nQ 422 1150 422 2328 \nQ 422 3509 836 4129 \nQ 1250 4750 2034 4750 \nz\n\" transform=\"scale(0.015625)\"/>\n       </defs>\n       <use xlink:href=\"#DejaVuSans-30\"/>\n      </g>\n     </g>\n    </g>\n    <g id=\"xtick_2\">\n     <g id=\"line2d_2\">\n      <g>\n       <use xlink:href=\"#m3ca4c344df\" x=\"186.597036\" y=\"361.036875\" style=\"stroke: #000000; stroke-width: 0.8\"/>\n      </g>\n     </g>\n     <g id=\"text_2\">\n      <!-- 1 -->\n      <g transform=\"translate(181.825161 379.434531) scale(0.15 -0.15)\">\n       <defs>\n        <path id=\"DejaVuSans-31\" d=\"M 794 531 \nL 1825 531 \nL 1825 4091 \nL 703 3866 \nL 703 4441 \nL 1819 4666 \nL 2450 4666 \nL 2450 531 \nL 3481 531 \nL 3481 0 \nL 794 0 \nL 794 531 \nz\n\" transform=\"scale(0.015625)\"/>\n       </defs>\n       <use xlink:href=\"#DejaVuSans-31\"/>\n      </g>\n     </g>\n    </g>\n    <g id=\"xtick_3\">\n     <g id=\"line2d_3\">\n      <g>\n       <use xlink:href=\"#m3ca4c344df\" x=\"267.331998\" y=\"361.036875\" style=\"stroke: #000000; stroke-width: 0.8\"/>\n      </g>\n     </g>\n     <g id=\"text_3\">\n      <!-- 2 -->\n      <g transform=\"translate(262.560123 379.434531) scale(0.15 -0.15)\">\n       <defs>\n        <path id=\"DejaVuSans-32\" d=\"M 1228 531 \nL 3431 531 \nL 3431 0 \nL 469 0 \nL 469 531 \nQ 828 903 1448 1529 \nQ 2069 2156 2228 2338 \nQ 2531 2678 2651 2914 \nQ 2772 3150 2772 3378 \nQ 2772 3750 2511 3984 \nQ 2250 4219 1831 4219 \nQ 1534 4219 1204 4116 \nQ 875 4013 500 3803 \nL 500 4441 \nQ 881 4594 1212 4672 \nQ 1544 4750 1819 4750 \nQ 2544 4750 2975 4387 \nQ 3406 4025 3406 3419 \nQ 3406 3131 3298 2873 \nQ 3191 2616 2906 2266 \nQ 2828 2175 2409 1742 \nQ 1991 1309 1228 531 \nz\n\" transform=\"scale(0.015625)\"/>\n       </defs>\n       <use xlink:href=\"#DejaVuSans-32\"/>\n      </g>\n     </g>\n    </g>\n    <g id=\"xtick_4\">\n     <g id=\"line2d_4\">\n      <g>\n       <use xlink:href=\"#m3ca4c344df\" x=\"348.06696\" y=\"361.036875\" style=\"stroke: #000000; stroke-width: 0.8\"/>\n      </g>\n     </g>\n     <g id=\"text_4\">\n      <!-- 3 -->\n      <g transform=\"translate(343.295085 379.434531) scale(0.15 -0.15)\">\n       <defs>\n        <path id=\"DejaVuSans-33\" d=\"M 2597 2516 \nQ 3050 2419 3304 2112 \nQ 3559 1806 3559 1356 \nQ 3559 666 3084 287 \nQ 2609 -91 1734 -91 \nQ 1441 -91 1130 -33 \nQ 819 25 488 141 \nL 488 750 \nQ 750 597 1062 519 \nQ 1375 441 1716 441 \nQ 2309 441 2620 675 \nQ 2931 909 2931 1356 \nQ 2931 1769 2642 2001 \nQ 2353 2234 1838 2234 \nL 1294 2234 \nL 1294 2753 \nL 1863 2753 \nQ 2328 2753 2575 2939 \nQ 2822 3125 2822 3475 \nQ 2822 3834 2567 4026 \nQ 2313 4219 1838 4219 \nQ 1578 4219 1281 4162 \nQ 984 4106 628 3988 \nL 628 4550 \nQ 988 4650 1302 4700 \nQ 1616 4750 1894 4750 \nQ 2613 4750 3031 4423 \nQ 3450 4097 3450 3541 \nQ 3450 3153 3228 2886 \nQ 3006 2619 2597 2516 \nz\n\" transform=\"scale(0.015625)\"/>\n       </defs>\n       <use xlink:href=\"#DejaVuSans-33\"/>\n      </g>\n     </g>\n    </g>\n    <g id=\"xtick_5\">\n     <g id=\"line2d_5\">\n      <g>\n       <use xlink:href=\"#m3ca4c344df\" x=\"428.801922\" y=\"361.036875\" style=\"stroke: #000000; stroke-width: 0.8\"/>\n      </g>\n     </g>\n     <g id=\"text_5\">\n      <!-- 4 -->\n      <g transform=\"translate(424.030047 379.434531) scale(0.15 -0.15)\">\n       <defs>\n        <path id=\"DejaVuSans-34\" d=\"M 2419 4116 \nL 825 1625 \nL 2419 1625 \nL 2419 4116 \nz\nM 2253 4666 \nL 3047 4666 \nL 3047 1625 \nL 3713 1625 \nL 3713 1100 \nL 3047 1100 \nL 3047 0 \nL 2419 0 \nL 2419 1100 \nL 313 1100 \nL 313 1709 \nL 2253 4666 \nz\n\" transform=\"scale(0.015625)\"/>\n       </defs>\n       <use xlink:href=\"#DejaVuSans-34\"/>\n      </g>\n     </g>\n    </g>\n    <g id=\"xtick_6\">\n     <g id=\"line2d_6\">\n      <g>\n       <use xlink:href=\"#m3ca4c344df\" x=\"509.536884\" y=\"361.036875\" style=\"stroke: #000000; stroke-width: 0.8\"/>\n      </g>\n     </g>\n     <g id=\"text_6\">\n      <!-- 5 -->\n      <g transform=\"translate(504.765009 379.434531) scale(0.15 -0.15)\">\n       <defs>\n        <path id=\"DejaVuSans-35\" d=\"M 691 4666 \nL 3169 4666 \nL 3169 4134 \nL 1269 4134 \nL 1269 2991 \nQ 1406 3038 1543 3061 \nQ 1681 3084 1819 3084 \nQ 2600 3084 3056 2656 \nQ 3513 2228 3513 1497 \nQ 3513 744 3044 326 \nQ 2575 -91 1722 -91 \nQ 1428 -91 1123 -41 \nQ 819 9 494 109 \nL 494 744 \nQ 775 591 1075 516 \nQ 1375 441 1709 441 \nQ 2250 441 2565 725 \nQ 2881 1009 2881 1497 \nQ 2881 1984 2565 2268 \nQ 2250 2553 1709 2553 \nQ 1456 2553 1204 2497 \nQ 953 2441 691 2322 \nL 691 4666 \nz\n\" transform=\"scale(0.015625)\"/>\n       </defs>\n       <use xlink:href=\"#DejaVuSans-35\"/>\n      </g>\n     </g>\n    </g>\n    <g id=\"xtick_7\">\n     <g id=\"line2d_7\">\n      <g>\n       <use xlink:href=\"#m3ca4c344df\" x=\"590.271846\" y=\"361.036875\" style=\"stroke: #000000; stroke-width: 0.8\"/>\n      </g>\n     </g>\n     <g id=\"text_7\">\n      <!-- 6 -->\n      <g transform=\"translate(585.499971 379.434531) scale(0.15 -0.15)\">\n       <defs>\n        <path id=\"DejaVuSans-36\" d=\"M 2113 2584 \nQ 1688 2584 1439 2293 \nQ 1191 2003 1191 1497 \nQ 1191 994 1439 701 \nQ 1688 409 2113 409 \nQ 2538 409 2786 701 \nQ 3034 994 3034 1497 \nQ 3034 2003 2786 2293 \nQ 2538 2584 2113 2584 \nz\nM 3366 4563 \nL 3366 3988 \nQ 3128 4100 2886 4159 \nQ 2644 4219 2406 4219 \nQ 1781 4219 1451 3797 \nQ 1122 3375 1075 2522 \nQ 1259 2794 1537 2939 \nQ 1816 3084 2150 3084 \nQ 2853 3084 3261 2657 \nQ 3669 2231 3669 1497 \nQ 3669 778 3244 343 \nQ 2819 -91 2113 -91 \nQ 1303 -91 875 529 \nQ 447 1150 447 2328 \nQ 447 3434 972 4092 \nQ 1497 4750 2381 4750 \nQ 2619 4750 2861 4703 \nQ 3103 4656 3366 4563 \nz\n\" transform=\"scale(0.015625)\"/>\n       </defs>\n       <use xlink:href=\"#DejaVuSans-36\"/>\n      </g>\n     </g>\n    </g>\n    <g id=\"text_8\">\n     <!-- Test rotation $\\theta \\in [0, 2\\pi)$ -->\n     <g transform=\"translate(241.898438 401.750937) scale(0.2 -0.2)\">\n      <defs>\n       <path id=\"DejaVuSans-54\" d=\"M -19 4666 \nL 3928 4666 \nL 3928 4134 \nL 2272 4134 \nL 2272 0 \nL 1638 0 \nL 1638 4134 \nL -19 4134 \nL -19 4666 \nz\n\" transform=\"scale(0.015625)\"/>\n       <path id=\"DejaVuSans-65\" d=\"M 3597 1894 \nL 3597 1613 \nL 953 1613 \nQ 991 1019 1311 708 \nQ 1631 397 2203 397 \nQ 2534 397 2845 478 \nQ 3156 559 3463 722 \nL 3463 178 \nQ 3153 47 2828 -22 \nQ 2503 -91 2169 -91 \nQ 1331 -91 842 396 \nQ 353 884 353 1716 \nQ 353 2575 817 3079 \nQ 1281 3584 2069 3584 \nQ 2775 3584 3186 3129 \nQ 3597 2675 3597 1894 \nz\nM 3022 2063 \nQ 3016 2534 2758 2815 \nQ 2500 3097 2075 3097 \nQ 1594 3097 1305 2825 \nQ 1016 2553 972 2059 \nL 3022 2063 \nz\n\" transform=\"scale(0.015625)\"/>\n       <path id=\"DejaVuSans-73\" d=\"M 2834 3397 \nL 2834 2853 \nQ 2591 2978 2328 3040 \nQ 2066 3103 1784 3103 \nQ 1356 3103 1142 2972 \nQ 928 2841 928 2578 \nQ 928 2378 1081 2264 \nQ 1234 2150 1697 2047 \nL 1894 2003 \nQ 2506 1872 2764 1633 \nQ 3022 1394 3022 966 \nQ 3022 478 2636 193 \nQ 2250 -91 1575 -91 \nQ 1294 -91 989 -36 \nQ 684 19 347 128 \nL 347 722 \nQ 666 556 975 473 \nQ 1284 391 1588 391 \nQ 1994 391 2212 530 \nQ 2431 669 2431 922 \nQ 2431 1156 2273 1281 \nQ 2116 1406 1581 1522 \nL 1381 1569 \nQ 847 1681 609 1914 \nQ 372 2147 372 2553 \nQ 372 3047 722 3315 \nQ 1072 3584 1716 3584 \nQ 2034 3584 2315 3537 \nQ 2597 3491 2834 3397 \nz\n\" transform=\"scale(0.015625)\"/>\n       <path id=\"DejaVuSans-74\" d=\"M 1172 4494 \nL 1172 3500 \nL 2356 3500 \nL 2356 3053 \nL 1172 3053 \nL 1172 1153 \nQ 1172 725 1289 603 \nQ 1406 481 1766 481 \nL 2356 481 \nL 2356 0 \nL 1766 0 \nQ 1100 0 847 248 \nQ 594 497 594 1153 \nL 594 3053 \nL 172 3053 \nL 172 3500 \nL 594 3500 \nL 594 4494 \nL 1172 4494 \nz\n\" transform=\"scale(0.015625)\"/>\n       <path id=\"DejaVuSans-20\" transform=\"scale(0.015625)\"/>\n       <path id=\"DejaVuSans-72\" d=\"M 2631 2963 \nQ 2534 3019 2420 3045 \nQ 2306 3072 2169 3072 \nQ 1681 3072 1420 2755 \nQ 1159 2438 1159 1844 \nL 1159 0 \nL 581 0 \nL 581 3500 \nL 1159 3500 \nL 1159 2956 \nQ 1341 3275 1631 3429 \nQ 1922 3584 2338 3584 \nQ 2397 3584 2469 3576 \nQ 2541 3569 2628 3553 \nL 2631 2963 \nz\n\" transform=\"scale(0.015625)\"/>\n       <path id=\"DejaVuSans-6f\" d=\"M 1959 3097 \nQ 1497 3097 1228 2736 \nQ 959 2375 959 1747 \nQ 959 1119 1226 758 \nQ 1494 397 1959 397 \nQ 2419 397 2687 759 \nQ 2956 1122 2956 1747 \nQ 2956 2369 2687 2733 \nQ 2419 3097 1959 3097 \nz\nM 1959 3584 \nQ 2709 3584 3137 3096 \nQ 3566 2609 3566 1747 \nQ 3566 888 3137 398 \nQ 2709 -91 1959 -91 \nQ 1206 -91 779 398 \nQ 353 888 353 1747 \nQ 353 2609 779 3096 \nQ 1206 3584 1959 3584 \nz\n\" transform=\"scale(0.015625)\"/>\n       <path id=\"DejaVuSans-61\" d=\"M 2194 1759 \nQ 1497 1759 1228 1600 \nQ 959 1441 959 1056 \nQ 959 750 1161 570 \nQ 1363 391 1709 391 \nQ 2188 391 2477 730 \nQ 2766 1069 2766 1631 \nL 2766 1759 \nL 2194 1759 \nz\nM 3341 1997 \nL 3341 0 \nL 2766 0 \nL 2766 531 \nQ 2569 213 2275 61 \nQ 1981 -91 1556 -91 \nQ 1019 -91 701 211 \nQ 384 513 384 1019 \nQ 384 1609 779 1909 \nQ 1175 2209 1959 2209 \nL 2766 2209 \nL 2766 2266 \nQ 2766 2663 2505 2880 \nQ 2244 3097 1772 3097 \nQ 1472 3097 1187 3025 \nQ 903 2953 641 2809 \nL 641 3341 \nQ 956 3463 1253 3523 \nQ 1550 3584 1831 3584 \nQ 2591 3584 2966 3190 \nQ 3341 2797 3341 1997 \nz\n\" transform=\"scale(0.015625)\"/>\n       <path id=\"DejaVuSans-69\" d=\"M 603 3500 \nL 1178 3500 \nL 1178 0 \nL 603 0 \nL 603 3500 \nz\nM 603 4863 \nL 1178 4863 \nL 1178 4134 \nL 603 4134 \nL 603 4863 \nz\n\" transform=\"scale(0.015625)\"/>\n       <path id=\"DejaVuSans-6e\" d=\"M 3513 2113 \nL 3513 0 \nL 2938 0 \nL 2938 2094 \nQ 2938 2591 2744 2837 \nQ 2550 3084 2163 3084 \nQ 1697 3084 1428 2787 \nQ 1159 2491 1159 1978 \nL 1159 0 \nL 581 0 \nL 581 3500 \nL 1159 3500 \nL 1159 2956 \nQ 1366 3272 1645 3428 \nQ 1925 3584 2291 3584 \nQ 2894 3584 3203 3211 \nQ 3513 2838 3513 2113 \nz\n\" transform=\"scale(0.015625)\"/>\n       <path id=\"DejaVuSans-Oblique-3b8\" d=\"M 2913 2219 \nL 925 2219 \nQ 791 1284 928 888 \nQ 1100 400 1566 400 \nQ 2034 400 2391 891 \nQ 2703 1322 2913 2219 \nz\nM 3009 2750 \nQ 3094 3638 2984 3950 \nQ 2813 4444 2353 4444 \nQ 1875 4444 1525 3956 \nQ 1250 3563 1034 2750 \nL 3009 2750 \nz\nM 2444 4913 \nQ 3194 4913 3494 4250 \nQ 3794 3591 3566 2422 \nQ 3341 1256 2781 594 \nQ 2225 -72 1475 -72 \nQ 722 -72 425 594 \nQ 128 1256 353 2422 \nQ 581 3591 1134 4250 \nQ 1691 4913 2444 4913 \nz\n\" transform=\"scale(0.015625)\"/>\n       <path id=\"DejaVuSans-2208\" d=\"M 1072 1959 \nQ 1094 1728 1291 1353 \nQ 1522 919 1959 675 \nQ 2388 438 2850 434 \nL 5028 434 \nL 5028 -63 \nL 2850 -63 \nQ 2250 -63 1695 246 \nQ 1141 556 844 1106 \nQ 547 1656 547 2241 \nQ 547 2819 844 3369 \nQ 1141 3919 1695 4231 \nQ 2250 4544 2850 4544 \nL 5028 4544 \nL 5028 4047 \nL 2850 4047 \nQ 2388 4044 1959 3803 \nQ 1525 3556 1291 3125 \nQ 1091 2750 1063 2459 \nL 5028 2459 \nL 5028 1959 \nL 1072 1959 \nz\n\" transform=\"scale(0.015625)\"/>\n       <path id=\"DejaVuSans-5b\" d=\"M 550 4863 \nL 1875 4863 \nL 1875 4416 \nL 1125 4416 \nL 1125 -397 \nL 1875 -397 \nL 1875 -844 \nL 550 -844 \nL 550 4863 \nz\n\" transform=\"scale(0.015625)\"/>\n       <path id=\"DejaVuSans-2c\" d=\"M 750 794 \nL 1409 794 \nL 1409 256 \nL 897 -744 \nL 494 -744 \nL 750 256 \nL 750 794 \nz\n\" transform=\"scale(0.015625)\"/>\n       <path id=\"DejaVuSans-Oblique-3c0\" d=\"M 584 3500 \nL 3938 3500 \nL 3825 2925 \nL 3384 2925 \nL 2966 775 \nQ 2922 550 2981 450 \nQ 3038 353 3209 353 \nQ 3256 353 3325 363 \nQ 3397 369 3419 372 \nL 3338 -44 \nQ 3222 -84 3103 -103 \nQ 2981 -122 2866 -122 \nQ 2491 -122 2388 81 \nQ 2284 288 2391 838 \nL 2797 2925 \nL 1506 2925 \nL 938 0 \nL 350 0 \nL 919 2925 \nL 472 2925 \nL 584 3500 \nz\n\" transform=\"scale(0.015625)\"/>\n       <path id=\"DejaVuSans-29\" d=\"M 513 4856 \nL 1013 4856 \nQ 1481 4119 1714 3412 \nQ 1947 2706 1947 2009 \nQ 1947 1309 1714 600 \nQ 1481 -109 1013 -844 \nL 513 -844 \nQ 928 -128 1133 580 \nQ 1338 1288 1338 2009 \nQ 1338 2731 1133 3434 \nQ 928 4138 513 4856 \nz\n\" transform=\"scale(0.015625)\"/>\n      </defs>\n      <use xlink:href=\"#DejaVuSans-54\" transform=\"translate(0 0.234375)\"/>\n      <use xlink:href=\"#DejaVuSans-65\" transform=\"translate(61.083984 0.234375)\"/>\n      <use xlink:href=\"#DejaVuSans-73\" transform=\"translate(122.607422 0.234375)\"/>\n      <use xlink:href=\"#DejaVuSans-74\" transform=\"translate(174.707031 0.234375)\"/>\n      <use xlink:href=\"#DejaVuSans-20\" transform=\"translate(213.916016 0.234375)\"/>\n      <use xlink:href=\"#DejaVuSans-72\" transform=\"translate(245.703125 0.234375)\"/>\n      <use xlink:href=\"#DejaVuSans-6f\" transform=\"translate(286.816406 0.234375)\"/>\n      <use xlink:href=\"#DejaVuSans-74\" transform=\"translate(347.998047 0.234375)\"/>\n      <use xlink:href=\"#DejaVuSans-61\" transform=\"translate(387.207031 0.234375)\"/>\n      <use xlink:href=\"#DejaVuSans-74\" transform=\"translate(448.486328 0.234375)\"/>\n      <use xlink:href=\"#DejaVuSans-69\" transform=\"translate(487.695312 0.234375)\"/>\n      <use xlink:href=\"#DejaVuSans-6f\" transform=\"translate(515.478516 0.234375)\"/>\n      <use xlink:href=\"#DejaVuSans-6e\" transform=\"translate(576.660156 0.234375)\"/>\n      <use xlink:href=\"#DejaVuSans-20\" transform=\"translate(640.039062 0.234375)\"/>\n      <use xlink:href=\"#DejaVuSans-Oblique-3b8\" transform=\"translate(671.826172 0.234375)\"/>\n      <use xlink:href=\"#DejaVuSans-2208\" transform=\"translate(752.490234 0.234375)\"/>\n      <use xlink:href=\"#DejaVuSans-5b\" transform=\"translate(859.082031 0.234375)\"/>\n      <use xlink:href=\"#DejaVuSans-30\" transform=\"translate(898.095703 0.234375)\"/>\n      <use xlink:href=\"#DejaVuSans-2c\" transform=\"translate(961.71875 0.234375)\"/>\n      <use xlink:href=\"#DejaVuSans-32\" transform=\"translate(1012.988281 0.234375)\"/>\n      <use xlink:href=\"#DejaVuSans-Oblique-3c0\" transform=\"translate(1076.611328 0.234375)\"/>\n      <use xlink:href=\"#DejaVuSans-29\" transform=\"translate(1136.816406 0.234375)\"/>\n     </g>\n    </g>\n   </g>\n   <g id=\"matplotlib.axis_2\">\n    <g id=\"ytick_1\">\n     <g id=\"line2d_8\">\n      <defs>\n       <path id=\"m85286566c3\" d=\"M 0 0 \nL -3.5 0 \n\" style=\"stroke: #000000; stroke-width: 0.8\"/>\n      </defs>\n      <g>\n       <use xlink:href=\"#m85286566c3\" x=\"80.498438\" y=\"345.916875\" style=\"stroke: #000000; stroke-width: 0.8\"/>\n      </g>\n     </g>\n     <g id=\"text_9\">\n      <!-- 95.20 -->\n      <g transform=\"translate(30.55625 351.615703) scale(0.15 -0.15)\">\n       <defs>\n        <path id=\"DejaVuSans-39\" d=\"M 703 97 \nL 703 672 \nQ 941 559 1184 500 \nQ 1428 441 1663 441 \nQ 2288 441 2617 861 \nQ 2947 1281 2994 2138 \nQ 2813 1869 2534 1725 \nQ 2256 1581 1919 1581 \nQ 1219 1581 811 2004 \nQ 403 2428 403 3163 \nQ 403 3881 828 4315 \nQ 1253 4750 1959 4750 \nQ 2769 4750 3195 4129 \nQ 3622 3509 3622 2328 \nQ 3622 1225 3098 567 \nQ 2575 -91 1691 -91 \nQ 1453 -91 1209 -44 \nQ 966 3 703 97 \nz\nM 1959 2075 \nQ 2384 2075 2632 2365 \nQ 2881 2656 2881 3163 \nQ 2881 3666 2632 3958 \nQ 2384 4250 1959 4250 \nQ 1534 4250 1286 3958 \nQ 1038 3666 1038 3163 \nQ 1038 2656 1286 2365 \nQ 1534 2075 1959 2075 \nz\n\" transform=\"scale(0.015625)\"/>\n        <path id=\"DejaVuSans-2e\" d=\"M 684 794 \nL 1344 794 \nL 1344 0 \nL 684 0 \nL 684 794 \nz\n\" transform=\"scale(0.015625)\"/>\n       </defs>\n       <use xlink:href=\"#DejaVuSans-39\"/>\n       <use xlink:href=\"#DejaVuSans-35\" transform=\"translate(63.623047 0)\"/>\n       <use xlink:href=\"#DejaVuSans-2e\" transform=\"translate(127.246094 0)\"/>\n       <use xlink:href=\"#DejaVuSans-32\" transform=\"translate(159.033203 0)\"/>\n       <use xlink:href=\"#DejaVuSans-30\" transform=\"translate(222.65625 0)\"/>\n      </g>\n     </g>\n    </g>\n    <g id=\"ytick_2\">\n     <g id=\"line2d_9\">\n      <g>\n       <use xlink:href=\"#m85286566c3\" x=\"80.498438\" y=\"295.516875\" style=\"stroke: #000000; stroke-width: 0.8\"/>\n      </g>\n     </g>\n     <g id=\"text_10\">\n      <!-- 95.25 -->\n      <g transform=\"translate(30.55625 301.215703) scale(0.15 -0.15)\">\n       <use xlink:href=\"#DejaVuSans-39\"/>\n       <use xlink:href=\"#DejaVuSans-35\" transform=\"translate(63.623047 0)\"/>\n       <use xlink:href=\"#DejaVuSans-2e\" transform=\"translate(127.246094 0)\"/>\n       <use xlink:href=\"#DejaVuSans-32\" transform=\"translate(159.033203 0)\"/>\n       <use xlink:href=\"#DejaVuSans-35\" transform=\"translate(222.65625 0)\"/>\n      </g>\n     </g>\n    </g>\n    <g id=\"ytick_3\">\n     <g id=\"line2d_10\">\n      <g>\n       <use xlink:href=\"#m85286566c3\" x=\"80.498438\" y=\"245.116875\" style=\"stroke: #000000; stroke-width: 0.8\"/>\n      </g>\n     </g>\n     <g id=\"text_11\">\n      <!-- 95.30 -->\n      <g transform=\"translate(30.55625 250.815703) scale(0.15 -0.15)\">\n       <use xlink:href=\"#DejaVuSans-39\"/>\n       <use xlink:href=\"#DejaVuSans-35\" transform=\"translate(63.623047 0)\"/>\n       <use xlink:href=\"#DejaVuSans-2e\" transform=\"translate(127.246094 0)\"/>\n       <use xlink:href=\"#DejaVuSans-33\" transform=\"translate(159.033203 0)\"/>\n       <use xlink:href=\"#DejaVuSans-30\" transform=\"translate(222.65625 0)\"/>\n      </g>\n     </g>\n    </g>\n    <g id=\"ytick_4\">\n     <g id=\"line2d_11\">\n      <g>\n       <use xlink:href=\"#m85286566c3\" x=\"80.498438\" y=\"194.716875\" style=\"stroke: #000000; stroke-width: 0.8\"/>\n      </g>\n     </g>\n     <g id=\"text_12\">\n      <!-- 95.35 -->\n      <g transform=\"translate(30.55625 200.415703) scale(0.15 -0.15)\">\n       <use xlink:href=\"#DejaVuSans-39\"/>\n       <use xlink:href=\"#DejaVuSans-35\" transform=\"translate(63.623047 0)\"/>\n       <use xlink:href=\"#DejaVuSans-2e\" transform=\"translate(127.246094 0)\"/>\n       <use xlink:href=\"#DejaVuSans-33\" transform=\"translate(159.033203 0)\"/>\n       <use xlink:href=\"#DejaVuSans-35\" transform=\"translate(222.65625 0)\"/>\n      </g>\n     </g>\n    </g>\n    <g id=\"ytick_5\">\n     <g id=\"line2d_12\">\n      <g>\n       <use xlink:href=\"#m85286566c3\" x=\"80.498438\" y=\"144.316875\" style=\"stroke: #000000; stroke-width: 0.8\"/>\n      </g>\n     </g>\n     <g id=\"text_13\">\n      <!-- 95.40 -->\n      <g transform=\"translate(30.55625 150.015703) scale(0.15 -0.15)\">\n       <use xlink:href=\"#DejaVuSans-39\"/>\n       <use xlink:href=\"#DejaVuSans-35\" transform=\"translate(63.623047 0)\"/>\n       <use xlink:href=\"#DejaVuSans-2e\" transform=\"translate(127.246094 0)\"/>\n       <use xlink:href=\"#DejaVuSans-34\" transform=\"translate(159.033203 0)\"/>\n       <use xlink:href=\"#DejaVuSans-30\" transform=\"translate(222.65625 0)\"/>\n      </g>\n     </g>\n    </g>\n    <g id=\"ytick_6\">\n     <g id=\"line2d_13\">\n      <g>\n       <use xlink:href=\"#m85286566c3\" x=\"80.498438\" y=\"93.916875\" style=\"stroke: #000000; stroke-width: 0.8\"/>\n      </g>\n     </g>\n     <g id=\"text_14\">\n      <!-- 95.45 -->\n      <g transform=\"translate(30.55625 99.615703) scale(0.15 -0.15)\">\n       <use xlink:href=\"#DejaVuSans-39\"/>\n       <use xlink:href=\"#DejaVuSans-35\" transform=\"translate(63.623047 0)\"/>\n       <use xlink:href=\"#DejaVuSans-2e\" transform=\"translate(127.246094 0)\"/>\n       <use xlink:href=\"#DejaVuSans-34\" transform=\"translate(159.033203 0)\"/>\n       <use xlink:href=\"#DejaVuSans-35\" transform=\"translate(222.65625 0)\"/>\n      </g>\n     </g>\n    </g>\n    <g id=\"ytick_7\">\n     <g id=\"line2d_14\">\n      <g>\n       <use xlink:href=\"#m85286566c3\" x=\"80.498438\" y=\"43.516875\" style=\"stroke: #000000; stroke-width: 0.8\"/>\n      </g>\n     </g>\n     <g id=\"text_15\">\n      <!-- 95.50 -->\n      <g transform=\"translate(30.55625 49.215703) scale(0.15 -0.15)\">\n       <use xlink:href=\"#DejaVuSans-39\"/>\n       <use xlink:href=\"#DejaVuSans-35\" transform=\"translate(63.623047 0)\"/>\n       <use xlink:href=\"#DejaVuSans-2e\" transform=\"translate(127.246094 0)\"/>\n       <use xlink:href=\"#DejaVuSans-35\" transform=\"translate(159.033203 0)\"/>\n       <use xlink:href=\"#DejaVuSans-30\" transform=\"translate(222.65625 0)\"/>\n      </g>\n     </g>\n    </g>\n    <g id=\"text_16\">\n     <!-- Accuracy -->\n     <g transform=\"translate(22.396875 240.373125) rotate(-90) scale(0.2 -0.2)\">\n      <defs>\n       <path id=\"DejaVuSans-41\" d=\"M 2188 4044 \nL 1331 1722 \nL 3047 1722 \nL 2188 4044 \nz\nM 1831 4666 \nL 2547 4666 \nL 4325 0 \nL 3669 0 \nL 3244 1197 \nL 1141 1197 \nL 716 0 \nL 50 0 \nL 1831 4666 \nz\n\" transform=\"scale(0.015625)\"/>\n       <path id=\"DejaVuSans-63\" d=\"M 3122 3366 \nL 3122 2828 \nQ 2878 2963 2633 3030 \nQ 2388 3097 2138 3097 \nQ 1578 3097 1268 2742 \nQ 959 2388 959 1747 \nQ 959 1106 1268 751 \nQ 1578 397 2138 397 \nQ 2388 397 2633 464 \nQ 2878 531 3122 666 \nL 3122 134 \nQ 2881 22 2623 -34 \nQ 2366 -91 2075 -91 \nQ 1284 -91 818 406 \nQ 353 903 353 1747 \nQ 353 2603 823 3093 \nQ 1294 3584 2113 3584 \nQ 2378 3584 2631 3529 \nQ 2884 3475 3122 3366 \nz\n\" transform=\"scale(0.015625)\"/>\n       <path id=\"DejaVuSans-75\" d=\"M 544 1381 \nL 544 3500 \nL 1119 3500 \nL 1119 1403 \nQ 1119 906 1312 657 \nQ 1506 409 1894 409 \nQ 2359 409 2629 706 \nQ 2900 1003 2900 1516 \nL 2900 3500 \nL 3475 3500 \nL 3475 0 \nL 2900 0 \nL 2900 538 \nQ 2691 219 2414 64 \nQ 2138 -91 1772 -91 \nQ 1169 -91 856 284 \nQ 544 659 544 1381 \nz\nM 1991 3584 \nL 1991 3584 \nz\n\" transform=\"scale(0.015625)\"/>\n       <path id=\"DejaVuSans-79\" d=\"M 2059 -325 \nQ 1816 -950 1584 -1140 \nQ 1353 -1331 966 -1331 \nL 506 -1331 \nL 506 -850 \nL 844 -850 \nQ 1081 -850 1212 -737 \nQ 1344 -625 1503 -206 \nL 1606 56 \nL 191 3500 \nL 800 3500 \nL 1894 763 \nL 2988 3500 \nL 3597 3500 \nL 2059 -325 \nz\n\" transform=\"scale(0.015625)\"/>\n      </defs>\n      <use xlink:href=\"#DejaVuSans-41\"/>\n      <use xlink:href=\"#DejaVuSans-63\" transform=\"translate(66.658203 0)\"/>\n      <use xlink:href=\"#DejaVuSans-63\" transform=\"translate(121.638672 0)\"/>\n      <use xlink:href=\"#DejaVuSans-75\" transform=\"translate(176.619141 0)\"/>\n      <use xlink:href=\"#DejaVuSans-72\" transform=\"translate(239.998047 0)\"/>\n      <use xlink:href=\"#DejaVuSans-61\" transform=\"translate(281.111328 0)\"/>\n      <use xlink:href=\"#DejaVuSans-63\" transform=\"translate(342.390625 0)\"/>\n      <use xlink:href=\"#DejaVuSans-79\" transform=\"translate(397.371094 0)\"/>\n     </g>\n    </g>\n   </g>\n   <g id=\"line2d_15\">\n    <path d=\"M 105.862074 93.916875 \nL 137.566619 335.836875 \nL 169.271165 335.836875 \nL 200.97571 43.516875 \nL 232.680256 93.916875 \nL 264.384801 335.836875 \nL 296.089347 335.836875 \nL 327.793892 43.516875 \nL 359.498438 93.916875 \nL 391.202983 345.916875 \nL 422.907528 335.836875 \nL 454.612074 43.516875 \nL 486.316619 93.916875 \nL 518.021165 335.836875 \nL 549.72571 335.836875 \nL 581.430256 43.516875 \nL 613.134801 93.916875 \n\" clip-path=\"url(#p71b5e61442)\" style=\"fill: none; stroke: #1f77b4; stroke-width: 2; stroke-linecap: square\"/>\n   </g>\n   <g id=\"patch_3\">\n    <path d=\"M 80.498438 361.036875 \nL 80.498438 28.396875 \n\" style=\"fill: none; stroke: #000000; stroke-width: 0.8; stroke-linejoin: miter; stroke-linecap: square\"/>\n   </g>\n   <g id=\"patch_4\">\n    <path d=\"M 638.498438 361.036875 \nL 638.498438 28.396875 \n\" style=\"fill: none; stroke: #000000; stroke-width: 0.8; stroke-linejoin: miter; stroke-linecap: square\"/>\n   </g>\n   <g id=\"patch_5\">\n    <path d=\"M 80.498438 361.036875 \nL 638.498438 361.036875 \n\" style=\"fill: none; stroke: #000000; stroke-width: 0.8; stroke-linejoin: miter; stroke-linecap: square\"/>\n   </g>\n   <g id=\"patch_6\">\n    <path d=\"M 80.498438 28.396875 \nL 638.498438 28.396875 \n\" style=\"fill: none; stroke: #000000; stroke-width: 0.8; stroke-linejoin: miter; stroke-linecap: square\"/>\n   </g>\n   <g id=\"text_17\">\n    <!-- SO(2)-Steerable CNN -->\n    <g transform=\"translate(254.2875 22.396875) scale(0.2 -0.2)\">\n     <defs>\n      <path id=\"DejaVuSans-53\" d=\"M 3425 4513 \nL 3425 3897 \nQ 3066 4069 2747 4153 \nQ 2428 4238 2131 4238 \nQ 1616 4238 1336 4038 \nQ 1056 3838 1056 3469 \nQ 1056 3159 1242 3001 \nQ 1428 2844 1947 2747 \nL 2328 2669 \nQ 3034 2534 3370 2195 \nQ 3706 1856 3706 1288 \nQ 3706 609 3251 259 \nQ 2797 -91 1919 -91 \nQ 1588 -91 1214 -16 \nQ 841 59 441 206 \nL 441 856 \nQ 825 641 1194 531 \nQ 1563 422 1919 422 \nQ 2459 422 2753 634 \nQ 3047 847 3047 1241 \nQ 3047 1584 2836 1778 \nQ 2625 1972 2144 2069 \nL 1759 2144 \nQ 1053 2284 737 2584 \nQ 422 2884 422 3419 \nQ 422 4038 858 4394 \nQ 1294 4750 2059 4750 \nQ 2388 4750 2728 4690 \nQ 3069 4631 3425 4513 \nz\n\" transform=\"scale(0.015625)\"/>\n      <path id=\"DejaVuSans-4f\" d=\"M 2522 4238 \nQ 1834 4238 1429 3725 \nQ 1025 3213 1025 2328 \nQ 1025 1447 1429 934 \nQ 1834 422 2522 422 \nQ 3209 422 3611 934 \nQ 4013 1447 4013 2328 \nQ 4013 3213 3611 3725 \nQ 3209 4238 2522 4238 \nz\nM 2522 4750 \nQ 3503 4750 4090 4092 \nQ 4678 3434 4678 2328 \nQ 4678 1225 4090 567 \nQ 3503 -91 2522 -91 \nQ 1538 -91 948 565 \nQ 359 1222 359 2328 \nQ 359 3434 948 4092 \nQ 1538 4750 2522 4750 \nz\n\" transform=\"scale(0.015625)\"/>\n      <path id=\"DejaVuSans-28\" d=\"M 1984 4856 \nQ 1566 4138 1362 3434 \nQ 1159 2731 1159 2009 \nQ 1159 1288 1364 580 \nQ 1569 -128 1984 -844 \nL 1484 -844 \nQ 1016 -109 783 600 \nQ 550 1309 550 2009 \nQ 550 2706 781 3412 \nQ 1013 4119 1484 4856 \nL 1984 4856 \nz\n\" transform=\"scale(0.015625)\"/>\n      <path id=\"DejaVuSans-2d\" d=\"M 313 2009 \nL 1997 2009 \nL 1997 1497 \nL 313 1497 \nL 313 2009 \nz\n\" transform=\"scale(0.015625)\"/>\n      <path id=\"DejaVuSans-62\" d=\"M 3116 1747 \nQ 3116 2381 2855 2742 \nQ 2594 3103 2138 3103 \nQ 1681 3103 1420 2742 \nQ 1159 2381 1159 1747 \nQ 1159 1113 1420 752 \nQ 1681 391 2138 391 \nQ 2594 391 2855 752 \nQ 3116 1113 3116 1747 \nz\nM 1159 2969 \nQ 1341 3281 1617 3432 \nQ 1894 3584 2278 3584 \nQ 2916 3584 3314 3078 \nQ 3713 2572 3713 1747 \nQ 3713 922 3314 415 \nQ 2916 -91 2278 -91 \nQ 1894 -91 1617 61 \nQ 1341 213 1159 525 \nL 1159 0 \nL 581 0 \nL 581 4863 \nL 1159 4863 \nL 1159 2969 \nz\n\" transform=\"scale(0.015625)\"/>\n      <path id=\"DejaVuSans-6c\" d=\"M 603 4863 \nL 1178 4863 \nL 1178 0 \nL 603 0 \nL 603 4863 \nz\n\" transform=\"scale(0.015625)\"/>\n      <path id=\"DejaVuSans-43\" d=\"M 4122 4306 \nL 4122 3641 \nQ 3803 3938 3442 4084 \nQ 3081 4231 2675 4231 \nQ 1875 4231 1450 3742 \nQ 1025 3253 1025 2328 \nQ 1025 1406 1450 917 \nQ 1875 428 2675 428 \nQ 3081 428 3442 575 \nQ 3803 722 4122 1019 \nL 4122 359 \nQ 3791 134 3420 21 \nQ 3050 -91 2638 -91 \nQ 1578 -91 968 557 \nQ 359 1206 359 2328 \nQ 359 3453 968 4101 \nQ 1578 4750 2638 4750 \nQ 3056 4750 3426 4639 \nQ 3797 4528 4122 4306 \nz\n\" transform=\"scale(0.015625)\"/>\n      <path id=\"DejaVuSans-4e\" d=\"M 628 4666 \nL 1478 4666 \nL 3547 763 \nL 3547 4666 \nL 4159 4666 \nL 4159 0 \nL 3309 0 \nL 1241 3903 \nL 1241 0 \nL 628 0 \nL 628 4666 \nz\n\" transform=\"scale(0.015625)\"/>\n     </defs>\n     <use xlink:href=\"#DejaVuSans-53\"/>\n     <use xlink:href=\"#DejaVuSans-4f\" transform=\"translate(63.476562 0)\"/>\n     <use xlink:href=\"#DejaVuSans-28\" transform=\"translate(142.1875 0)\"/>\n     <use xlink:href=\"#DejaVuSans-32\" transform=\"translate(181.201172 0)\"/>\n     <use xlink:href=\"#DejaVuSans-29\" transform=\"translate(244.824219 0)\"/>\n     <use xlink:href=\"#DejaVuSans-2d\" transform=\"translate(283.837891 0)\"/>\n     <use xlink:href=\"#DejaVuSans-53\" transform=\"translate(319.921875 0)\"/>\n     <use xlink:href=\"#DejaVuSans-74\" transform=\"translate(383.398438 0)\"/>\n     <use xlink:href=\"#DejaVuSans-65\" transform=\"translate(422.607422 0)\"/>\n     <use xlink:href=\"#DejaVuSans-65\" transform=\"translate(484.130859 0)\"/>\n     <use xlink:href=\"#DejaVuSans-72\" transform=\"translate(545.654297 0)\"/>\n     <use xlink:href=\"#DejaVuSans-61\" transform=\"translate(586.767578 0)\"/>\n     <use xlink:href=\"#DejaVuSans-62\" transform=\"translate(648.046875 0)\"/>\n     <use xlink:href=\"#DejaVuSans-6c\" transform=\"translate(711.523438 0)\"/>\n     <use xlink:href=\"#DejaVuSans-65\" transform=\"translate(739.306641 0)\"/>\n     <use xlink:href=\"#DejaVuSans-20\" transform=\"translate(800.830078 0)\"/>\n     <use xlink:href=\"#DejaVuSans-43\" transform=\"translate(832.617188 0)\"/>\n     <use xlink:href=\"#DejaVuSans-4e\" transform=\"translate(902.441406 0)\"/>\n     <use xlink:href=\"#DejaVuSans-4e\" transform=\"translate(977.246094 0)\"/>\n    </g>\n   </g>\n  </g>\n </g>\n <defs>\n  <clipPath id=\"p71b5e61442\">\n   <rect x=\"80.498438\" y=\"28.396875\" width=\"558\" height=\"332.64\"/>\n  </clipPath>\n </defs>\n</svg>\n",
            "application/pdf": "[encoded data removed]"
          },
          "metadata": {}
        }
      ],
      "source": [
        "# plot the accuracy of as a function of the rotation angle theta applied to the test set\n",
        "fig, ax = plt.subplots(figsize=(10, 6))\n",
        "\n",
        "N = 16\n",
        "\n",
        "xs = [i*2*np.pi / N for i in range(N+1)]\n",
        "plt.plot(xs, accs_so2 + [accs_so2[0]])\n",
        "plt.title('SO(2)-Steerable CNN', fontsize=20)\n",
        "plt.xlabel(r'Test rotation $\\theta \\in [0, 2\\pi)$', fontsize=20)\n",
        "plt.ylabel('Accuracy', fontsize=20)\n",
        "ax.tick_params(axis='both', which='major', labelsize=15)\n",
        "plt.show()"
      ]
    },
    {
      "cell_type": "markdown",
      "metadata": {
        "id": "po0O4I595RPK"
      },
      "source": [
        "Even after training, the model is not perfectly $SO(2)$ equivariant, but we observe the accuracy is rather stable to rotations."
      ]
    },
    {
      "cell_type": "markdown",
      "metadata": {
        "id": "3WWv780dC5_R"
      },
      "source": [
        "#### $C_4$ equivariant architecture\n",
        "\n",
        "For comparison, let's build a similar architecture equivariant only to $N=4$ rotations."
      ]
    },
    {
      "cell_type": "code",
      "execution_count": null,
      "metadata": {
        "id": "g17NYfmdDC57"
      },
      "outputs": [],
      "source": [
        "class CNSteerableCNN(torch.nn.Module):\n",
        "\n",
        "    def __init__(self, n_classes=10):\n",
        "\n",
        "        super(CNSteerableCNN, self).__init__()\n",
        "\n",
        "        # the model is equivariant to rotations by multiples of 2pi/N\n",
        "        self.r2_act = gspaces.rot2dOnR2(N=4)\n",
        "\n",
        "        # the input image is a scalar field, corresponding to the trivial representation\n",
        "        in_type = nn.FieldType(self.r2_act, [self.r2_act.trivial_repr])\n",
        "\n",
        "        # we store the input type for wrapping the images into a geometric tensor during the forward pass\n",
        "        self.input_type = in_type\n",
        "\n",
        "        # We need to mask the input image since the corners are moved outside the grid under rotations\n",
        "        self.mask = nn.MaskModule(in_type, 29, margin=1)\n",
        "\n",
        "        # convolution 1\n",
        "        # first we build the non-linear layer, which also constructs the right feature type\n",
        "        # we choose 8 feature fields, each transforming under the regular representation of C_4\n",
        "        activation1 = nn.ELU(nn.FieldType(self.r2_act, 8*[self.r2_act.regular_repr]), inplace=True)\n",
        "        out_type = activation1.in_type\n",
        "        self.block1 = nn.SequentialModule(\n",
        "            nn.R2Conv(in_type, out_type, kernel_size=7, padding=1, bias=False),\n",
        "            nn.IIDBatchNorm2d(out_type),\n",
        "            activation1,\n",
        "        )\n",
        "\n",
        "        # convolution 2\n",
        "        # the old output type is the input type to the next layer\n",
        "        in_type = self.block1.out_type\n",
        "        # the output type of the second convolution layer are 16 regular feature fields\n",
        "        activation2 = nn.ELU(nn.FieldType(self.r2_act, 16*[self.r2_act.regular_repr]), inplace=True)\n",
        "        out_type = activation2.in_type\n",
        "        self.block2 = nn.SequentialModule(\n",
        "            nn.R2Conv(in_type, out_type, kernel_size=5, padding=2, bias=False),\n",
        "            nn.IIDBatchNorm2d(out_type),\n",
        "            activation2\n",
        "        )\n",
        "        self.pool1 = nn.SequentialModule(\n",
        "            nn.PointwiseAvgPoolAntialiased(out_type, sigma=0.66, stride=2)\n",
        "        )\n",
        "\n",
        "        # convolution 3\n",
        "        # the old output type is the input type to the next layer\n",
        "        in_type = self.block2.out_type\n",
        "        # the output type of the third convolution layer are 32 regular feature fields\n",
        "        activation3 = nn.ELU(nn.FieldType(self.r2_act, 32*[self.r2_act.regular_repr]), inplace=True)\n",
        "        out_type = activation3.in_type\n",
        "        self.block3 = nn.SequentialModule(\n",
        "            nn.R2Conv(in_type, out_type, kernel_size=5, padding=2, bias=False),\n",
        "            nn.IIDBatchNorm2d(out_type),\n",
        "            activation3\n",
        "        )\n",
        "\n",
        "        # convolution 4\n",
        "        # the old output type is the input type to the next layer\n",
        "        in_type = self.block3.out_type\n",
        "        # the output type of the fourth convolution layer are 32 regular feature fields\n",
        "        activation4 = nn.ELU(nn.FieldType(self.r2_act, 32*[self.r2_act.regular_repr]), inplace=True)\n",
        "        out_type = activation4.in_type\n",
        "        self.block4 = nn.SequentialModule(\n",
        "            nn.R2Conv(in_type, out_type, kernel_size=5, padding=2, bias=False),\n",
        "            nn.IIDBatchNorm2d(out_type),\n",
        "            activation4\n",
        "        )\n",
        "        self.pool2 = nn.SequentialModule(\n",
        "            nn.PointwiseAvgPoolAntialiased(out_type, sigma=0.66, stride=2)\n",
        "        )\n",
        "\n",
        "        # convolution 5\n",
        "        # the old output type is the input type to the next layer\n",
        "        in_type = self.block4.out_type\n",
        "        # the output type of the fifth convolution layer are 64 regular feature fields\n",
        "        activation5 = nn.ELU(nn.FieldType(self.r2_act, 64*[self.r2_act.regular_repr]), inplace=True)\n",
        "        out_type = activation5.in_type\n",
        "        self.block5 = nn.SequentialModule(\n",
        "            nn.R2Conv(in_type, out_type, kernel_size=5, padding=2, bias=False),\n",
        "            nn.IIDBatchNorm2d(out_type),\n",
        "            activation5\n",
        "        )\n",
        "\n",
        "        # convolution 6\n",
        "        # the old output type is the input type to the next layer\n",
        "        in_type = self.block5.out_type\n",
        "        # the output type of the sixth convolution layer are 64 regular feature fields\n",
        "        activation6 = nn.ELU(nn.FieldType(self.r2_act, 64*[self.r2_act.regular_repr]), inplace=True)\n",
        "        out_type = activation6.in_type\n",
        "        self.block6 = nn.SequentialModule(\n",
        "            nn.R2Conv(in_type, out_type, kernel_size=5, padding=1, bias=False),\n",
        "            nn.IIDBatchNorm2d(out_type),\n",
        "            activation6\n",
        "        )\n",
        "        self.pool3 = nn.PointwiseAvgPoolAntialiased(out_type, sigma=0.66, stride=1, padding=0)\n",
        "\n",
        "        # number of output invariant channels\n",
        "        c = 64\n",
        "\n",
        "        output_invariant_type = nn.FieldType(self.r2_act, c*[self.r2_act.trivial_repr])\n",
        "        self.invariant_map = nn.R2Conv(out_type, output_invariant_type, kernel_size=1, bias=False)\n",
        "\n",
        "\n",
        "        # Fully Connected classifier\n",
        "        self.fully_net = torch.nn.Sequential(\n",
        "            torch.nn.BatchNorm1d(c),\n",
        "            torch.nn.ELU(inplace=True),\n",
        "            torch.nn.Linear(c, n_classes),\n",
        "        )\n",
        "\n",
        "    def forward(self, input: torch.Tensor):\n",
        "        # wrap the input tensor in a GeometricTensor\n",
        "        # (associate it with the input type)\n",
        "        x = self.input_type(input)\n",
        "\n",
        "        # mask out the corners of the input image\n",
        "        x = self.mask(x)\n",
        "\n",
        "        # apply each equivariant block\n",
        "\n",
        "        # Each layer has an input and an output type\n",
        "        # A layer takes a GeometricTensor in input.\n",
        "        # This tensor needs to be associated with the same representation of the layer's input type\n",
        "        #\n",
        "        # Each layer outputs a new GeometricTensor, associated with the layer's output type.\n",
        "        # As a result, consecutive layers need to have matching input/output types\n",
        "        x = self.block1(x)\n",
        "        x = self.block2(x)\n",
        "        x = self.pool1(x)\n",
        "\n",
        "        x = self.block3(x)\n",
        "        x = self.block4(x)\n",
        "        x = self.pool2(x)\n",
        "\n",
        "        x = self.block5(x)\n",
        "        x = self.block6(x)\n",
        "\n",
        "        # pool over the spatial dimensions\n",
        "        x = self.pool3(x)\n",
        "\n",
        "        # extract invariant features\n",
        "        x = self.invariant_map(x)\n",
        "\n",
        "        # unwrap the output GeometricTensor\n",
        "        # (take the Pytorch tensor and discard the associated representation)\n",
        "        x = x.tensor\n",
        "\n",
        "        # classify with the final fully connected layer\n",
        "        x = self.fully_net(x.reshape(x.shape[0], -1))\n",
        "\n",
        "        return x"
      ]
    },
    {
      "cell_type": "markdown",
      "metadata": {
        "id": "zsF8NPOH5RPK"
      },
      "source": [
        "Instantiate and train the $C_4$ equivariant model:"
      ]
    },
    {
      "cell_type": "code",
      "execution_count": null,
      "metadata": {
        "scrolled": true,
        "id": "E1UoNiz_5RPL",
        "colab": {
          "base_uri": "https://localhost:8080/"
        },
        "outputId": "f6a1b985-981b-40df-bf9c-412c87be6dee"
      },
      "outputs": [
        {
          "output_type": "stream",
          "name": "stderr",
          "text": [
            "<ipython-input-95-9e1816a8ca25>:27: FutureWarning: You are using `torch.load` with `weights_only=False` (the current default value), which uses the default pickle module implicitly. It is possible to construct malicious pickle data which will execute arbitrary code during unpickling (See https://github.com/pytorch/pytorch/blob/main/SECURITY.md#untrusted-models for more details). In a future release, the default value for `weights_only` will be flipped to `True`. This limits the functions that could be executed during unpickling. Arbitrary objects will no longer be allowed to be loaded via this mode unless they are explicitly allowlisted by the user via `torch.serialization.add_safe_globals`. We recommend you start setting `weights_only=True` for any use case where you don't have full control of the loaded file. Please open an issue on GitHub for any issues related to this experimental feature.\n",
            "  model.load_state_dict(torch.load(checkpoint_path))\n"
          ]
        },
        {
          "output_type": "stream",
          "name": "stdout",
          "text": [
            "Test accuracy: 93.84400000000001\n"
          ]
        }
      ],
      "source": [
        "torch.manual_seed(42)\n",
        "model_c4 = CNSteerableCNN().to(device)\n",
        "train(model_c4, checkpoint_path=\"steerable_c4-pretrained.ckpt\")\n",
        "\n",
        "accuracy = test(model_c4)\n",
        "print(f\"Test accuracy: {accuracy}\")\n",
        "\n",
        "accs_c4 = test_model_rotations(model_c4, 16, 10000, checkpoint_path=\"steerable_c4-accuracies.npy\")"
      ]
    },
    {
      "cell_type": "markdown",
      "metadata": {
        "id": "W5luJIPK5RPL"
      },
      "source": [
        "Finally, let's compare the performance of both models on the rotated test sets:"
      ]
    },
    {
      "cell_type": "code",
      "execution_count": null,
      "metadata": {
        "id": "EIq620ZT5RPL",
        "colab": {
          "base_uri": "https://localhost:8080/",
          "height": 572
        },
        "outputId": "1ab1513b-14fe-447e-8049-b1cb9c0ed6c9"
      },
      "outputs": [
        {
          "output_type": "display_data",
          "data": {
            "text/plain": [
              "<Figure size 1000x600 with 1 Axes>"
            ],
            "image/svg+xml": "<?xml version=\"1.0\" encoding=\"utf-8\" standalone=\"no\"?>\n<!DOCTYPE svg PUBLIC \"-//W3C//DTD SVG 1.1//EN\"\n  \"http://www.w3.org/Graphics/SVG/1.1/DTD/svg11.dtd\">\n<svg xmlns:xlink=\"http://www.w3.org/1999/xlink\" width=\"636.154687pt\" height=\"413.110312pt\" viewBox=\"0 0 636.154687 413.110312\" xmlns=\"http://www.w3.org/2000/svg\" version=\"1.1\">\n <metadata>\n  <rdf:RDF xmlns:dc=\"http://purl.org/dc/elements/1.1/\" xmlns:cc=\"http://creativecommons.org/ns#\" xmlns:rdf=\"http://www.w3.org/1999/02/22-rdf-syntax-ns#\">\n   <cc:Work>\n    <dc:type rdf:resource=\"http://purl.org/dc/dcmitype/StillImage\"/>\n    <dc:date>2025-01-09T12:23:34.817101</dc:date>\n    <dc:format>image/svg+xml</dc:format>\n    <dc:creator>\n     <cc:Agent>\n      <dc:title>Matplotlib v3.10.0, https://matplotlib.org/</dc:title>\n     </cc:Agent>\n    </dc:creator>\n   </cc:Work>\n  </rdf:RDF>\n </metadata>\n <defs>\n  <style type=\"text/css\">*{stroke-linejoin: round; stroke-linecap: butt}</style>\n </defs>\n <g id=\"figure_1\">\n  <g id=\"patch_1\">\n   <path d=\"M 0 413.110312 \nL 636.154687 413.110312 \nL 636.154687 0 \nL 0 0 \nz\n\" style=\"fill: #ffffff\"/>\n  </g>\n  <g id=\"axes_1\">\n   <g id=\"patch_2\">\n    <path d=\"M 70.954688 361.036875 \nL 628.954687 361.036875 \nL 628.954687 28.396875 \nL 70.954688 28.396875 \nz\n\" style=\"fill: #ffffff\"/>\n   </g>\n   <g id=\"matplotlib.axis_1\">\n    <g id=\"xtick_1\">\n     <g id=\"line2d_1\">\n      <defs>\n       <path id=\"mc4111c3882\" d=\"M 0 0 \nL 0 3.5 \n\" style=\"stroke: #000000; stroke-width: 0.8\"/>\n      </defs>\n      <g>\n       <use xlink:href=\"#mc4111c3882\" x=\"96.318324\" y=\"361.036875\" style=\"stroke: #000000; stroke-width: 0.8\"/>\n      </g>\n     </g>\n     <g id=\"text_1\">\n      <!-- 0 -->\n      <g transform=\"translate(91.546449 379.434531) scale(0.15 -0.15)\">\n       <defs>\n        <path id=\"DejaVuSans-30\" d=\"M 2034 4250 \nQ 1547 4250 1301 3770 \nQ 1056 3291 1056 2328 \nQ 1056 1369 1301 889 \nQ 1547 409 2034 409 \nQ 2525 409 2770 889 \nQ 3016 1369 3016 2328 \nQ 3016 3291 2770 3770 \nQ 2525 4250 2034 4250 \nz\nM 2034 4750 \nQ 2819 4750 3233 4129 \nQ 3647 3509 3647 2328 \nQ 3647 1150 3233 529 \nQ 2819 -91 2034 -91 \nQ 1250 -91 836 529 \nQ 422 1150 422 2328 \nQ 422 3509 836 4129 \nQ 1250 4750 2034 4750 \nz\n\" transform=\"scale(0.015625)\"/>\n       </defs>\n       <use xlink:href=\"#DejaVuSans-30\"/>\n      </g>\n     </g>\n    </g>\n    <g id=\"xtick_2\">\n     <g id=\"line2d_2\">\n      <g>\n       <use xlink:href=\"#mc4111c3882\" x=\"177.053286\" y=\"361.036875\" style=\"stroke: #000000; stroke-width: 0.8\"/>\n      </g>\n     </g>\n     <g id=\"text_2\">\n      <!-- 1 -->\n      <g transform=\"translate(172.281411 379.434531) scale(0.15 -0.15)\">\n       <defs>\n        <path id=\"DejaVuSans-31\" d=\"M 794 531 \nL 1825 531 \nL 1825 4091 \nL 703 3866 \nL 703 4441 \nL 1819 4666 \nL 2450 4666 \nL 2450 531 \nL 3481 531 \nL 3481 0 \nL 794 0 \nL 794 531 \nz\n\" transform=\"scale(0.015625)\"/>\n       </defs>\n       <use xlink:href=\"#DejaVuSans-31\"/>\n      </g>\n     </g>\n    </g>\n    <g id=\"xtick_3\">\n     <g id=\"line2d_3\">\n      <g>\n       <use xlink:href=\"#mc4111c3882\" x=\"257.788248\" y=\"361.036875\" style=\"stroke: #000000; stroke-width: 0.8\"/>\n      </g>\n     </g>\n     <g id=\"text_3\">\n      <!-- 2 -->\n      <g transform=\"translate(253.016373 379.434531) scale(0.15 -0.15)\">\n       <defs>\n        <path id=\"DejaVuSans-32\" d=\"M 1228 531 \nL 3431 531 \nL 3431 0 \nL 469 0 \nL 469 531 \nQ 828 903 1448 1529 \nQ 2069 2156 2228 2338 \nQ 2531 2678 2651 2914 \nQ 2772 3150 2772 3378 \nQ 2772 3750 2511 3984 \nQ 2250 4219 1831 4219 \nQ 1534 4219 1204 4116 \nQ 875 4013 500 3803 \nL 500 4441 \nQ 881 4594 1212 4672 \nQ 1544 4750 1819 4750 \nQ 2544 4750 2975 4387 \nQ 3406 4025 3406 3419 \nQ 3406 3131 3298 2873 \nQ 3191 2616 2906 2266 \nQ 2828 2175 2409 1742 \nQ 1991 1309 1228 531 \nz\n\" transform=\"scale(0.015625)\"/>\n       </defs>\n       <use xlink:href=\"#DejaVuSans-32\"/>\n      </g>\n     </g>\n    </g>\n    <g id=\"xtick_4\">\n     <g id=\"line2d_4\">\n      <g>\n       <use xlink:href=\"#mc4111c3882\" x=\"338.52321\" y=\"361.036875\" style=\"stroke: #000000; stroke-width: 0.8\"/>\n      </g>\n     </g>\n     <g id=\"text_4\">\n      <!-- 3 -->\n      <g transform=\"translate(333.751335 379.434531) scale(0.15 -0.15)\">\n       <defs>\n        <path id=\"DejaVuSans-33\" d=\"M 2597 2516 \nQ 3050 2419 3304 2112 \nQ 3559 1806 3559 1356 \nQ 3559 666 3084 287 \nQ 2609 -91 1734 -91 \nQ 1441 -91 1130 -33 \nQ 819 25 488 141 \nL 488 750 \nQ 750 597 1062 519 \nQ 1375 441 1716 441 \nQ 2309 441 2620 675 \nQ 2931 909 2931 1356 \nQ 2931 1769 2642 2001 \nQ 2353 2234 1838 2234 \nL 1294 2234 \nL 1294 2753 \nL 1863 2753 \nQ 2328 2753 2575 2939 \nQ 2822 3125 2822 3475 \nQ 2822 3834 2567 4026 \nQ 2313 4219 1838 4219 \nQ 1578 4219 1281 4162 \nQ 984 4106 628 3988 \nL 628 4550 \nQ 988 4650 1302 4700 \nQ 1616 4750 1894 4750 \nQ 2613 4750 3031 4423 \nQ 3450 4097 3450 3541 \nQ 3450 3153 3228 2886 \nQ 3006 2619 2597 2516 \nz\n\" transform=\"scale(0.015625)\"/>\n       </defs>\n       <use xlink:href=\"#DejaVuSans-33\"/>\n      </g>\n     </g>\n    </g>\n    <g id=\"xtick_5\">\n     <g id=\"line2d_5\">\n      <g>\n       <use xlink:href=\"#mc4111c3882\" x=\"419.258172\" y=\"361.036875\" style=\"stroke: #000000; stroke-width: 0.8\"/>\n      </g>\n     </g>\n     <g id=\"text_5\">\n      <!-- 4 -->\n      <g transform=\"translate(414.486297 379.434531) scale(0.15 -0.15)\">\n       <defs>\n        <path id=\"DejaVuSans-34\" d=\"M 2419 4116 \nL 825 1625 \nL 2419 1625 \nL 2419 4116 \nz\nM 2253 4666 \nL 3047 4666 \nL 3047 1625 \nL 3713 1625 \nL 3713 1100 \nL 3047 1100 \nL 3047 0 \nL 2419 0 \nL 2419 1100 \nL 313 1100 \nL 313 1709 \nL 2253 4666 \nz\n\" transform=\"scale(0.015625)\"/>\n       </defs>\n       <use xlink:href=\"#DejaVuSans-34\"/>\n      </g>\n     </g>\n    </g>\n    <g id=\"xtick_6\">\n     <g id=\"line2d_6\">\n      <g>\n       <use xlink:href=\"#mc4111c3882\" x=\"499.993134\" y=\"361.036875\" style=\"stroke: #000000; stroke-width: 0.8\"/>\n      </g>\n     </g>\n     <g id=\"text_6\">\n      <!-- 5 -->\n      <g transform=\"translate(495.221259 379.434531) scale(0.15 -0.15)\">\n       <defs>\n        <path id=\"DejaVuSans-35\" d=\"M 691 4666 \nL 3169 4666 \nL 3169 4134 \nL 1269 4134 \nL 1269 2991 \nQ 1406 3038 1543 3061 \nQ 1681 3084 1819 3084 \nQ 2600 3084 3056 2656 \nQ 3513 2228 3513 1497 \nQ 3513 744 3044 326 \nQ 2575 -91 1722 -91 \nQ 1428 -91 1123 -41 \nQ 819 9 494 109 \nL 494 744 \nQ 775 591 1075 516 \nQ 1375 441 1709 441 \nQ 2250 441 2565 725 \nQ 2881 1009 2881 1497 \nQ 2881 1984 2565 2268 \nQ 2250 2553 1709 2553 \nQ 1456 2553 1204 2497 \nQ 953 2441 691 2322 \nL 691 4666 \nz\n\" transform=\"scale(0.015625)\"/>\n       </defs>\n       <use xlink:href=\"#DejaVuSans-35\"/>\n      </g>\n     </g>\n    </g>\n    <g id=\"xtick_7\">\n     <g id=\"line2d_7\">\n      <g>\n       <use xlink:href=\"#mc4111c3882\" x=\"580.728096\" y=\"361.036875\" style=\"stroke: #000000; stroke-width: 0.8\"/>\n      </g>\n     </g>\n     <g id=\"text_7\">\n      <!-- 6 -->\n      <g transform=\"translate(575.956221 379.434531) scale(0.15 -0.15)\">\n       <defs>\n        <path id=\"DejaVuSans-36\" d=\"M 2113 2584 \nQ 1688 2584 1439 2293 \nQ 1191 2003 1191 1497 \nQ 1191 994 1439 701 \nQ 1688 409 2113 409 \nQ 2538 409 2786 701 \nQ 3034 994 3034 1497 \nQ 3034 2003 2786 2293 \nQ 2538 2584 2113 2584 \nz\nM 3366 4563 \nL 3366 3988 \nQ 3128 4100 2886 4159 \nQ 2644 4219 2406 4219 \nQ 1781 4219 1451 3797 \nQ 1122 3375 1075 2522 \nQ 1259 2794 1537 2939 \nQ 1816 3084 2150 3084 \nQ 2853 3084 3261 2657 \nQ 3669 2231 3669 1497 \nQ 3669 778 3244 343 \nQ 2819 -91 2113 -91 \nQ 1303 -91 875 529 \nQ 447 1150 447 2328 \nQ 447 3434 972 4092 \nQ 1497 4750 2381 4750 \nQ 2619 4750 2861 4703 \nQ 3103 4656 3366 4563 \nz\n\" transform=\"scale(0.015625)\"/>\n       </defs>\n       <use xlink:href=\"#DejaVuSans-36\"/>\n      </g>\n     </g>\n    </g>\n    <g id=\"text_8\">\n     <!-- Test rotation ($\\theta \\in [0, 2\\pi)$) -->\n     <g transform=\"translate(224.554687 401.750937) scale(0.2 -0.2)\">\n      <defs>\n       <path id=\"DejaVuSans-54\" d=\"M -19 4666 \nL 3928 4666 \nL 3928 4134 \nL 2272 4134 \nL 2272 0 \nL 1638 0 \nL 1638 4134 \nL -19 4134 \nL -19 4666 \nz\n\" transform=\"scale(0.015625)\"/>\n       <path id=\"DejaVuSans-65\" d=\"M 3597 1894 \nL 3597 1613 \nL 953 1613 \nQ 991 1019 1311 708 \nQ 1631 397 2203 397 \nQ 2534 397 2845 478 \nQ 3156 559 3463 722 \nL 3463 178 \nQ 3153 47 2828 -22 \nQ 2503 -91 2169 -91 \nQ 1331 -91 842 396 \nQ 353 884 353 1716 \nQ 353 2575 817 3079 \nQ 1281 3584 2069 3584 \nQ 2775 3584 3186 3129 \nQ 3597 2675 3597 1894 \nz\nM 3022 2063 \nQ 3016 2534 2758 2815 \nQ 2500 3097 2075 3097 \nQ 1594 3097 1305 2825 \nQ 1016 2553 972 2059 \nL 3022 2063 \nz\n\" transform=\"scale(0.015625)\"/>\n       <path id=\"DejaVuSans-73\" d=\"M 2834 3397 \nL 2834 2853 \nQ 2591 2978 2328 3040 \nQ 2066 3103 1784 3103 \nQ 1356 3103 1142 2972 \nQ 928 2841 928 2578 \nQ 928 2378 1081 2264 \nQ 1234 2150 1697 2047 \nL 1894 2003 \nQ 2506 1872 2764 1633 \nQ 3022 1394 3022 966 \nQ 3022 478 2636 193 \nQ 2250 -91 1575 -91 \nQ 1294 -91 989 -36 \nQ 684 19 347 128 \nL 347 722 \nQ 666 556 975 473 \nQ 1284 391 1588 391 \nQ 1994 391 2212 530 \nQ 2431 669 2431 922 \nQ 2431 1156 2273 1281 \nQ 2116 1406 1581 1522 \nL 1381 1569 \nQ 847 1681 609 1914 \nQ 372 2147 372 2553 \nQ 372 3047 722 3315 \nQ 1072 3584 1716 3584 \nQ 2034 3584 2315 3537 \nQ 2597 3491 2834 3397 \nz\n\" transform=\"scale(0.015625)\"/>\n       <path id=\"DejaVuSans-74\" d=\"M 1172 4494 \nL 1172 3500 \nL 2356 3500 \nL 2356 3053 \nL 1172 3053 \nL 1172 1153 \nQ 1172 725 1289 603 \nQ 1406 481 1766 481 \nL 2356 481 \nL 2356 0 \nL 1766 0 \nQ 1100 0 847 248 \nQ 594 497 594 1153 \nL 594 3053 \nL 172 3053 \nL 172 3500 \nL 594 3500 \nL 594 4494 \nL 1172 4494 \nz\n\" transform=\"scale(0.015625)\"/>\n       <path id=\"DejaVuSans-20\" transform=\"scale(0.015625)\"/>\n       <path id=\"DejaVuSans-72\" d=\"M 2631 2963 \nQ 2534 3019 2420 3045 \nQ 2306 3072 2169 3072 \nQ 1681 3072 1420 2755 \nQ 1159 2438 1159 1844 \nL 1159 0 \nL 581 0 \nL 581 3500 \nL 1159 3500 \nL 1159 2956 \nQ 1341 3275 1631 3429 \nQ 1922 3584 2338 3584 \nQ 2397 3584 2469 3576 \nQ 2541 3569 2628 3553 \nL 2631 2963 \nz\n\" transform=\"scale(0.015625)\"/>\n       <path id=\"DejaVuSans-6f\" d=\"M 1959 3097 \nQ 1497 3097 1228 2736 \nQ 959 2375 959 1747 \nQ 959 1119 1226 758 \nQ 1494 397 1959 397 \nQ 2419 397 2687 759 \nQ 2956 1122 2956 1747 \nQ 2956 2369 2687 2733 \nQ 2419 3097 1959 3097 \nz\nM 1959 3584 \nQ 2709 3584 3137 3096 \nQ 3566 2609 3566 1747 \nQ 3566 888 3137 398 \nQ 2709 -91 1959 -91 \nQ 1206 -91 779 398 \nQ 353 888 353 1747 \nQ 353 2609 779 3096 \nQ 1206 3584 1959 3584 \nz\n\" transform=\"scale(0.015625)\"/>\n       <path id=\"DejaVuSans-61\" d=\"M 2194 1759 \nQ 1497 1759 1228 1600 \nQ 959 1441 959 1056 \nQ 959 750 1161 570 \nQ 1363 391 1709 391 \nQ 2188 391 2477 730 \nQ 2766 1069 2766 1631 \nL 2766 1759 \nL 2194 1759 \nz\nM 3341 1997 \nL 3341 0 \nL 2766 0 \nL 2766 531 \nQ 2569 213 2275 61 \nQ 1981 -91 1556 -91 \nQ 1019 -91 701 211 \nQ 384 513 384 1019 \nQ 384 1609 779 1909 \nQ 1175 2209 1959 2209 \nL 2766 2209 \nL 2766 2266 \nQ 2766 2663 2505 2880 \nQ 2244 3097 1772 3097 \nQ 1472 3097 1187 3025 \nQ 903 2953 641 2809 \nL 641 3341 \nQ 956 3463 1253 3523 \nQ 1550 3584 1831 3584 \nQ 2591 3584 2966 3190 \nQ 3341 2797 3341 1997 \nz\n\" transform=\"scale(0.015625)\"/>\n       <path id=\"DejaVuSans-69\" d=\"M 603 3500 \nL 1178 3500 \nL 1178 0 \nL 603 0 \nL 603 3500 \nz\nM 603 4863 \nL 1178 4863 \nL 1178 4134 \nL 603 4134 \nL 603 4863 \nz\n\" transform=\"scale(0.015625)\"/>\n       <path id=\"DejaVuSans-6e\" d=\"M 3513 2113 \nL 3513 0 \nL 2938 0 \nL 2938 2094 \nQ 2938 2591 2744 2837 \nQ 2550 3084 2163 3084 \nQ 1697 3084 1428 2787 \nQ 1159 2491 1159 1978 \nL 1159 0 \nL 581 0 \nL 581 3500 \nL 1159 3500 \nL 1159 2956 \nQ 1366 3272 1645 3428 \nQ 1925 3584 2291 3584 \nQ 2894 3584 3203 3211 \nQ 3513 2838 3513 2113 \nz\n\" transform=\"scale(0.015625)\"/>\n       <path id=\"DejaVuSans-28\" d=\"M 1984 4856 \nQ 1566 4138 1362 3434 \nQ 1159 2731 1159 2009 \nQ 1159 1288 1364 580 \nQ 1569 -128 1984 -844 \nL 1484 -844 \nQ 1016 -109 783 600 \nQ 550 1309 550 2009 \nQ 550 2706 781 3412 \nQ 1013 4119 1484 4856 \nL 1984 4856 \nz\n\" transform=\"scale(0.015625)\"/>\n       <path id=\"DejaVuSans-Oblique-3b8\" d=\"M 2913 2219 \nL 925 2219 \nQ 791 1284 928 888 \nQ 1100 400 1566 400 \nQ 2034 400 2391 891 \nQ 2703 1322 2913 2219 \nz\nM 3009 2750 \nQ 3094 3638 2984 3950 \nQ 2813 4444 2353 4444 \nQ 1875 4444 1525 3956 \nQ 1250 3563 1034 2750 \nL 3009 2750 \nz\nM 2444 4913 \nQ 3194 4913 3494 4250 \nQ 3794 3591 3566 2422 \nQ 3341 1256 2781 594 \nQ 2225 -72 1475 -72 \nQ 722 -72 425 594 \nQ 128 1256 353 2422 \nQ 581 3591 1134 4250 \nQ 1691 4913 2444 4913 \nz\n\" transform=\"scale(0.015625)\"/>\n       <path id=\"DejaVuSans-2208\" d=\"M 1072 1959 \nQ 1094 1728 1291 1353 \nQ 1522 919 1959 675 \nQ 2388 438 2850 434 \nL 5028 434 \nL 5028 -63 \nL 2850 -63 \nQ 2250 -63 1695 246 \nQ 1141 556 844 1106 \nQ 547 1656 547 2241 \nQ 547 2819 844 3369 \nQ 1141 3919 1695 4231 \nQ 2250 4544 2850 4544 \nL 5028 4544 \nL 5028 4047 \nL 2850 4047 \nQ 2388 4044 1959 3803 \nQ 1525 3556 1291 3125 \nQ 1091 2750 1063 2459 \nL 5028 2459 \nL 5028 1959 \nL 1072 1959 \nz\n\" transform=\"scale(0.015625)\"/>\n       <path id=\"DejaVuSans-5b\" d=\"M 550 4863 \nL 1875 4863 \nL 1875 4416 \nL 1125 4416 \nL 1125 -397 \nL 1875 -397 \nL 1875 -844 \nL 550 -844 \nL 550 4863 \nz\n\" transform=\"scale(0.015625)\"/>\n       <path id=\"DejaVuSans-2c\" d=\"M 750 794 \nL 1409 794 \nL 1409 256 \nL 897 -744 \nL 494 -744 \nL 750 256 \nL 750 794 \nz\n\" transform=\"scale(0.015625)\"/>\n       <path id=\"DejaVuSans-Oblique-3c0\" d=\"M 584 3500 \nL 3938 3500 \nL 3825 2925 \nL 3384 2925 \nL 2966 775 \nQ 2922 550 2981 450 \nQ 3038 353 3209 353 \nQ 3256 353 3325 363 \nQ 3397 369 3419 372 \nL 3338 -44 \nQ 3222 -84 3103 -103 \nQ 2981 -122 2866 -122 \nQ 2491 -122 2388 81 \nQ 2284 288 2391 838 \nL 2797 2925 \nL 1506 2925 \nL 938 0 \nL 350 0 \nL 919 2925 \nL 472 2925 \nL 584 3500 \nz\n\" transform=\"scale(0.015625)\"/>\n       <path id=\"DejaVuSans-29\" d=\"M 513 4856 \nL 1013 4856 \nQ 1481 4119 1714 3412 \nQ 1947 2706 1947 2009 \nQ 1947 1309 1714 600 \nQ 1481 -109 1013 -844 \nL 513 -844 \nQ 928 -128 1133 580 \nQ 1338 1288 1338 2009 \nQ 1338 2731 1133 3434 \nQ 928 4138 513 4856 \nz\n\" transform=\"scale(0.015625)\"/>\n      </defs>\n      <use xlink:href=\"#DejaVuSans-54\" transform=\"translate(0 0.234375)\"/>\n      <use xlink:href=\"#DejaVuSans-65\" transform=\"translate(61.083984 0.234375)\"/>\n      <use xlink:href=\"#DejaVuSans-73\" transform=\"translate(122.607422 0.234375)\"/>\n      <use xlink:href=\"#DejaVuSans-74\" transform=\"translate(174.707031 0.234375)\"/>\n      <use xlink:href=\"#DejaVuSans-20\" transform=\"translate(213.916016 0.234375)\"/>\n      <use xlink:href=\"#DejaVuSans-72\" transform=\"translate(245.703125 0.234375)\"/>\n      <use xlink:href=\"#DejaVuSans-6f\" transform=\"translate(286.816406 0.234375)\"/>\n      <use xlink:href=\"#DejaVuSans-74\" transform=\"translate(347.998047 0.234375)\"/>\n      <use xlink:href=\"#DejaVuSans-61\" transform=\"translate(387.207031 0.234375)\"/>\n      <use xlink:href=\"#DejaVuSans-74\" transform=\"translate(448.486328 0.234375)\"/>\n      <use xlink:href=\"#DejaVuSans-69\" transform=\"translate(487.695312 0.234375)\"/>\n      <use xlink:href=\"#DejaVuSans-6f\" transform=\"translate(515.478516 0.234375)\"/>\n      <use xlink:href=\"#DejaVuSans-6e\" transform=\"translate(576.660156 0.234375)\"/>\n      <use xlink:href=\"#DejaVuSans-20\" transform=\"translate(640.039062 0.234375)\"/>\n      <use xlink:href=\"#DejaVuSans-28\" transform=\"translate(671.826172 0.234375)\"/>\n      <use xlink:href=\"#DejaVuSans-Oblique-3b8\" transform=\"translate(710.839844 0.234375)\"/>\n      <use xlink:href=\"#DejaVuSans-2208\" transform=\"translate(791.503906 0.234375)\"/>\n      <use xlink:href=\"#DejaVuSans-5b\" transform=\"translate(898.095703 0.234375)\"/>\n      <use xlink:href=\"#DejaVuSans-30\" transform=\"translate(937.109375 0.234375)\"/>\n      <use xlink:href=\"#DejaVuSans-2c\" transform=\"translate(1000.732422 0.234375)\"/>\n      <use xlink:href=\"#DejaVuSans-32\" transform=\"translate(1052.001953 0.234375)\"/>\n      <use xlink:href=\"#DejaVuSans-Oblique-3c0\" transform=\"translate(1115.625 0.234375)\"/>\n      <use xlink:href=\"#DejaVuSans-29\" transform=\"translate(1175.830078 0.234375)\"/>\n      <use xlink:href=\"#DejaVuSans-29\" transform=\"translate(1214.84375 0.234375)\"/>\n     </g>\n    </g>\n   </g>\n   <g id=\"matplotlib.axis_2\">\n    <g id=\"ytick_1\">\n     <g id=\"line2d_8\">\n      <defs>\n       <path id=\"mbdf8200426\" d=\"M 0 0 \nL -3.5 0 \n\" style=\"stroke: #000000; stroke-width: 0.8\"/>\n      </defs>\n      <g>\n       <use xlink:href=\"#mbdf8200426\" x=\"70.954688\" y=\"325.256005\" style=\"stroke: #000000; stroke-width: 0.8\"/>\n      </g>\n     </g>\n     <g id=\"text_9\">\n      <!-- 94.0 -->\n      <g transform=\"translate(30.55625 330.954834) scale(0.15 -0.15)\">\n       <defs>\n        <path id=\"DejaVuSans-39\" d=\"M 703 97 \nL 703 672 \nQ 941 559 1184 500 \nQ 1428 441 1663 441 \nQ 2288 441 2617 861 \nQ 2947 1281 2994 2138 \nQ 2813 1869 2534 1725 \nQ 2256 1581 1919 1581 \nQ 1219 1581 811 2004 \nQ 403 2428 403 3163 \nQ 403 3881 828 4315 \nQ 1253 4750 1959 4750 \nQ 2769 4750 3195 4129 \nQ 3622 3509 3622 2328 \nQ 3622 1225 3098 567 \nQ 2575 -91 1691 -91 \nQ 1453 -91 1209 -44 \nQ 966 3 703 97 \nz\nM 1959 2075 \nQ 2384 2075 2632 2365 \nQ 2881 2656 2881 3163 \nQ 2881 3666 2632 3958 \nQ 2384 4250 1959 4250 \nQ 1534 4250 1286 3958 \nQ 1038 3666 1038 3163 \nQ 1038 2656 1286 2365 \nQ 1534 2075 1959 2075 \nz\n\" transform=\"scale(0.015625)\"/>\n        <path id=\"DejaVuSans-2e\" d=\"M 684 794 \nL 1344 794 \nL 1344 0 \nL 684 0 \nL 684 794 \nz\n\" transform=\"scale(0.015625)\"/>\n       </defs>\n       <use xlink:href=\"#DejaVuSans-39\"/>\n       <use xlink:href=\"#DejaVuSans-34\" transform=\"translate(63.623047 0)\"/>\n       <use xlink:href=\"#DejaVuSans-2e\" transform=\"translate(127.246094 0)\"/>\n       <use xlink:href=\"#DejaVuSans-30\" transform=\"translate(159.033203 0)\"/>\n      </g>\n     </g>\n    </g>\n    <g id=\"ytick_2\">\n     <g id=\"line2d_9\">\n      <g>\n       <use xlink:href=\"#mbdf8200426\" x=\"70.954688\" y=\"287.690788\" style=\"stroke: #000000; stroke-width: 0.8\"/>\n      </g>\n     </g>\n     <g id=\"text_10\">\n      <!-- 94.2 -->\n      <g transform=\"translate(30.55625 293.389616) scale(0.15 -0.15)\">\n       <use xlink:href=\"#DejaVuSans-39\"/>\n       <use xlink:href=\"#DejaVuSans-34\" transform=\"translate(63.623047 0)\"/>\n       <use xlink:href=\"#DejaVuSans-2e\" transform=\"translate(127.246094 0)\"/>\n       <use xlink:href=\"#DejaVuSans-32\" transform=\"translate(159.033203 0)\"/>\n      </g>\n     </g>\n    </g>\n    <g id=\"ytick_3\">\n     <g id=\"line2d_10\">\n      <g>\n       <use xlink:href=\"#mbdf8200426\" x=\"70.954688\" y=\"250.125571\" style=\"stroke: #000000; stroke-width: 0.8\"/>\n      </g>\n     </g>\n     <g id=\"text_11\">\n      <!-- 94.4 -->\n      <g transform=\"translate(30.55625 255.824399) scale(0.15 -0.15)\">\n       <use xlink:href=\"#DejaVuSans-39\"/>\n       <use xlink:href=\"#DejaVuSans-34\" transform=\"translate(63.623047 0)\"/>\n       <use xlink:href=\"#DejaVuSans-2e\" transform=\"translate(127.246094 0)\"/>\n       <use xlink:href=\"#DejaVuSans-34\" transform=\"translate(159.033203 0)\"/>\n      </g>\n     </g>\n    </g>\n    <g id=\"ytick_4\">\n     <g id=\"line2d_11\">\n      <g>\n       <use xlink:href=\"#mbdf8200426\" x=\"70.954688\" y=\"212.560353\" style=\"stroke: #000000; stroke-width: 0.8\"/>\n      </g>\n     </g>\n     <g id=\"text_12\">\n      <!-- 94.6 -->\n      <g transform=\"translate(30.55625 218.259181) scale(0.15 -0.15)\">\n       <use xlink:href=\"#DejaVuSans-39\"/>\n       <use xlink:href=\"#DejaVuSans-34\" transform=\"translate(63.623047 0)\"/>\n       <use xlink:href=\"#DejaVuSans-2e\" transform=\"translate(127.246094 0)\"/>\n       <use xlink:href=\"#DejaVuSans-36\" transform=\"translate(159.033203 0)\"/>\n      </g>\n     </g>\n    </g>\n    <g id=\"ytick_5\">\n     <g id=\"line2d_12\">\n      <g>\n       <use xlink:href=\"#mbdf8200426\" x=\"70.954688\" y=\"174.995136\" style=\"stroke: #000000; stroke-width: 0.8\"/>\n      </g>\n     </g>\n     <g id=\"text_13\">\n      <!-- 94.8 -->\n      <g transform=\"translate(30.55625 180.693964) scale(0.15 -0.15)\">\n       <defs>\n        <path id=\"DejaVuSans-38\" d=\"M 2034 2216 \nQ 1584 2216 1326 1975 \nQ 1069 1734 1069 1313 \nQ 1069 891 1326 650 \nQ 1584 409 2034 409 \nQ 2484 409 2743 651 \nQ 3003 894 3003 1313 \nQ 3003 1734 2745 1975 \nQ 2488 2216 2034 2216 \nz\nM 1403 2484 \nQ 997 2584 770 2862 \nQ 544 3141 544 3541 \nQ 544 4100 942 4425 \nQ 1341 4750 2034 4750 \nQ 2731 4750 3128 4425 \nQ 3525 4100 3525 3541 \nQ 3525 3141 3298 2862 \nQ 3072 2584 2669 2484 \nQ 3125 2378 3379 2068 \nQ 3634 1759 3634 1313 \nQ 3634 634 3220 271 \nQ 2806 -91 2034 -91 \nQ 1263 -91 848 271 \nQ 434 634 434 1313 \nQ 434 1759 690 2068 \nQ 947 2378 1403 2484 \nz\nM 1172 3481 \nQ 1172 3119 1398 2916 \nQ 1625 2713 2034 2713 \nQ 2441 2713 2670 2916 \nQ 2900 3119 2900 3481 \nQ 2900 3844 2670 4047 \nQ 2441 4250 2034 4250 \nQ 1625 4250 1398 4047 \nQ 1172 3844 1172 3481 \nz\n\" transform=\"scale(0.015625)\"/>\n       </defs>\n       <use xlink:href=\"#DejaVuSans-39\"/>\n       <use xlink:href=\"#DejaVuSans-34\" transform=\"translate(63.623047 0)\"/>\n       <use xlink:href=\"#DejaVuSans-2e\" transform=\"translate(127.246094 0)\"/>\n       <use xlink:href=\"#DejaVuSans-38\" transform=\"translate(159.033203 0)\"/>\n      </g>\n     </g>\n    </g>\n    <g id=\"ytick_6\">\n     <g id=\"line2d_13\">\n      <g>\n       <use xlink:href=\"#mbdf8200426\" x=\"70.954688\" y=\"137.429918\" style=\"stroke: #000000; stroke-width: 0.8\"/>\n      </g>\n     </g>\n     <g id=\"text_14\">\n      <!-- 95.0 -->\n      <g transform=\"translate(30.55625 143.128747) scale(0.15 -0.15)\">\n       <use xlink:href=\"#DejaVuSans-39\"/>\n       <use xlink:href=\"#DejaVuSans-35\" transform=\"translate(63.623047 0)\"/>\n       <use xlink:href=\"#DejaVuSans-2e\" transform=\"translate(127.246094 0)\"/>\n       <use xlink:href=\"#DejaVuSans-30\" transform=\"translate(159.033203 0)\"/>\n      </g>\n     </g>\n    </g>\n    <g id=\"ytick_7\">\n     <g id=\"line2d_14\">\n      <g>\n       <use xlink:href=\"#mbdf8200426\" x=\"70.954688\" y=\"99.864701\" style=\"stroke: #000000; stroke-width: 0.8\"/>\n      </g>\n     </g>\n     <g id=\"text_15\">\n      <!-- 95.2 -->\n      <g transform=\"translate(30.55625 105.563529) scale(0.15 -0.15)\">\n       <use xlink:href=\"#DejaVuSans-39\"/>\n       <use xlink:href=\"#DejaVuSans-35\" transform=\"translate(63.623047 0)\"/>\n       <use xlink:href=\"#DejaVuSans-2e\" transform=\"translate(127.246094 0)\"/>\n       <use xlink:href=\"#DejaVuSans-32\" transform=\"translate(159.033203 0)\"/>\n      </g>\n     </g>\n    </g>\n    <g id=\"ytick_8\">\n     <g id=\"line2d_15\">\n      <g>\n       <use xlink:href=\"#mbdf8200426\" x=\"70.954688\" y=\"62.299484\" style=\"stroke: #000000; stroke-width: 0.8\"/>\n      </g>\n     </g>\n     <g id=\"text_16\">\n      <!-- 95.4 -->\n      <g transform=\"translate(30.55625 67.998312) scale(0.15 -0.15)\">\n       <use xlink:href=\"#DejaVuSans-39\"/>\n       <use xlink:href=\"#DejaVuSans-35\" transform=\"translate(63.623047 0)\"/>\n       <use xlink:href=\"#DejaVuSans-2e\" transform=\"translate(127.246094 0)\"/>\n       <use xlink:href=\"#DejaVuSans-34\" transform=\"translate(159.033203 0)\"/>\n      </g>\n     </g>\n    </g>\n    <g id=\"text_17\">\n     <!-- Accuracy -->\n     <g transform=\"translate(22.396875 240.373125) rotate(-90) scale(0.2 -0.2)\">\n      <defs>\n       <path id=\"DejaVuSans-41\" d=\"M 2188 4044 \nL 1331 1722 \nL 3047 1722 \nL 2188 4044 \nz\nM 1831 4666 \nL 2547 4666 \nL 4325 0 \nL 3669 0 \nL 3244 1197 \nL 1141 1197 \nL 716 0 \nL 50 0 \nL 1831 4666 \nz\n\" transform=\"scale(0.015625)\"/>\n       <path id=\"DejaVuSans-63\" d=\"M 3122 3366 \nL 3122 2828 \nQ 2878 2963 2633 3030 \nQ 2388 3097 2138 3097 \nQ 1578 3097 1268 2742 \nQ 959 2388 959 1747 \nQ 959 1106 1268 751 \nQ 1578 397 2138 397 \nQ 2388 397 2633 464 \nQ 2878 531 3122 666 \nL 3122 134 \nQ 2881 22 2623 -34 \nQ 2366 -91 2075 -91 \nQ 1284 -91 818 406 \nQ 353 903 353 1747 \nQ 353 2603 823 3093 \nQ 1294 3584 2113 3584 \nQ 2378 3584 2631 3529 \nQ 2884 3475 3122 3366 \nz\n\" transform=\"scale(0.015625)\"/>\n       <path id=\"DejaVuSans-75\" d=\"M 544 1381 \nL 544 3500 \nL 1119 3500 \nL 1119 1403 \nQ 1119 906 1312 657 \nQ 1506 409 1894 409 \nQ 2359 409 2629 706 \nQ 2900 1003 2900 1516 \nL 2900 3500 \nL 3475 3500 \nL 3475 0 \nL 2900 0 \nL 2900 538 \nQ 2691 219 2414 64 \nQ 2138 -91 1772 -91 \nQ 1169 -91 856 284 \nQ 544 659 544 1381 \nz\nM 1991 3584 \nL 1991 3584 \nz\n\" transform=\"scale(0.015625)\"/>\n       <path id=\"DejaVuSans-79\" d=\"M 2059 -325 \nQ 1816 -950 1584 -1140 \nQ 1353 -1331 966 -1331 \nL 506 -1331 \nL 506 -850 \nL 844 -850 \nQ 1081 -850 1212 -737 \nQ 1344 -625 1503 -206 \nL 1606 56 \nL 191 3500 \nL 800 3500 \nL 1894 763 \nL 2988 3500 \nL 3597 3500 \nL 2059 -325 \nz\n\" transform=\"scale(0.015625)\"/>\n      </defs>\n      <use xlink:href=\"#DejaVuSans-41\"/>\n      <use xlink:href=\"#DejaVuSans-63\" transform=\"translate(66.658203 0)\"/>\n      <use xlink:href=\"#DejaVuSans-63\" transform=\"translate(121.638672 0)\"/>\n      <use xlink:href=\"#DejaVuSans-75\" transform=\"translate(176.619141 0)\"/>\n      <use xlink:href=\"#DejaVuSans-72\" transform=\"translate(239.998047 0)\"/>\n      <use xlink:href=\"#DejaVuSans-61\" transform=\"translate(281.111328 0)\"/>\n      <use xlink:href=\"#DejaVuSans-63\" transform=\"translate(342.390625 0)\"/>\n      <use xlink:href=\"#DejaVuSans-79\" transform=\"translate(397.371094 0)\"/>\n     </g>\n    </g>\n   </g>\n   <g id=\"line2d_16\">\n    <path d=\"M 96.318324 52.908179 \nL 128.022869 97.98644 \nL 159.727415 97.98644 \nL 191.43196 43.516875 \nL 223.136506 52.908179 \nL 254.841051 97.98644 \nL 286.545597 97.98644 \nL 318.250142 43.516875 \nL 349.954687 52.908179 \nL 381.659233 99.864701 \nL 413.363778 97.98644 \nL 445.068324 43.516875 \nL 476.772869 52.908179 \nL 508.477415 97.98644 \nL 540.18196 97.98644 \nL 571.886506 43.516875 \nL 603.591051 52.908179 \n\" clip-path=\"url(#p161788a1d3)\" style=\"fill: none; stroke: #1f77b4; stroke-width: 2; stroke-linecap: square\"/>\n   </g>\n   <g id=\"line2d_17\">\n    <path d=\"M 96.318324 293.325571 \nL 128.022869 345.916875 \nL 159.727415 276.421223 \nL 191.43196 201.290788 \nL 223.136506 293.325571 \nL 254.841051 345.916875 \nL 286.545597 276.421223 \nL 318.250142 203.169049 \nL 349.954687 293.325571 \nL 381.659233 345.916875 \nL 413.363778 276.421223 \nL 445.068324 201.290788 \nL 476.772869 293.325571 \nL 508.477415 345.916875 \nL 540.18196 276.421223 \nL 571.886506 203.169049 \nL 603.591051 293.325571 \n\" clip-path=\"url(#p161788a1d3)\" style=\"fill: none; stroke: #ff7f0e; stroke-width: 2; stroke-linecap: square\"/>\n   </g>\n   <g id=\"patch_3\">\n    <path d=\"M 70.954688 361.036875 \nL 70.954688 28.396875 \n\" style=\"fill: none; stroke: #000000; stroke-width: 0.8; stroke-linejoin: miter; stroke-linecap: square\"/>\n   </g>\n   <g id=\"patch_4\">\n    <path d=\"M 628.954687 361.036875 \nL 628.954687 28.396875 \n\" style=\"fill: none; stroke: #000000; stroke-width: 0.8; stroke-linejoin: miter; stroke-linecap: square\"/>\n   </g>\n   <g id=\"patch_5\">\n    <path d=\"M 70.954688 361.036875 \nL 628.954687 361.036875 \n\" style=\"fill: none; stroke: #000000; stroke-width: 0.8; stroke-linejoin: miter; stroke-linecap: square\"/>\n   </g>\n   <g id=\"patch_6\">\n    <path d=\"M 70.954688 28.396875 \nL 628.954687 28.396875 \n\" style=\"fill: none; stroke: #000000; stroke-width: 0.8; stroke-linejoin: miter; stroke-linecap: square\"/>\n   </g>\n   <g id=\"text_18\">\n    <!-- $C_4$ vs $SO(2)$ Steerable CNNs -->\n    <g transform=\"translate(210.754687 22.396875) scale(0.2 -0.2)\">\n     <defs>\n      <path id=\"DejaVuSans-Oblique-43\" d=\"M 4447 4306 \nL 4319 3641 \nQ 4019 3944 3683 4091 \nQ 3347 4238 2956 4238 \nQ 2422 4238 2017 3981 \nQ 1613 3725 1319 3200 \nQ 1131 2863 1032 2486 \nQ 934 2109 934 1728 \nQ 934 1091 1264 756 \nQ 1594 422 2222 422 \nQ 2656 422 3056 561 \nQ 3456 700 3834 978 \nL 3688 231 \nQ 3316 72 2936 -9 \nQ 2556 -91 2175 -91 \nQ 1278 -91 773 396 \nQ 269 884 269 1753 \nQ 269 2309 461 2846 \nQ 653 3384 1013 3828 \nQ 1394 4300 1883 4525 \nQ 2372 4750 3022 4750 \nQ 3422 4750 3780 4639 \nQ 4138 4528 4447 4306 \nz\n\" transform=\"scale(0.015625)\"/>\n      <path id=\"DejaVuSans-76\" d=\"M 191 3500 \nL 800 3500 \nL 1894 563 \nL 2988 3500 \nL 3597 3500 \nL 2284 0 \nL 1503 0 \nL 191 3500 \nz\n\" transform=\"scale(0.015625)\"/>\n      <path id=\"DejaVuSans-Oblique-53\" d=\"M 3859 4513 \nL 3738 3897 \nQ 3422 4066 3111 4152 \nQ 2800 4238 2509 4238 \nQ 1944 4238 1609 3991 \nQ 1275 3744 1275 3334 \nQ 1275 3109 1398 2989 \nQ 1522 2869 2034 2731 \nL 2413 2638 \nQ 3053 2472 3303 2217 \nQ 3553 1963 3553 1503 \nQ 3553 797 2998 353 \nQ 2444 -91 1538 -91 \nQ 1166 -91 791 -17 \nQ 416 56 38 206 \nL 166 856 \nQ 513 641 861 531 \nQ 1209 422 1556 422 \nQ 2147 422 2503 684 \nQ 2859 947 2859 1369 \nQ 2859 1650 2717 1795 \nQ 2575 1941 2106 2059 \nL 1728 2156 \nQ 1081 2325 845 2545 \nQ 609 2766 609 3163 \nQ 609 3859 1145 4304 \nQ 1681 4750 2541 4750 \nQ 2875 4750 3203 4690 \nQ 3531 4631 3859 4513 \nz\n\" transform=\"scale(0.015625)\"/>\n      <path id=\"DejaVuSans-Oblique-4f\" d=\"M 2919 4238 \nQ 2400 4238 2003 3986 \nQ 1606 3734 1313 3219 \nQ 1125 2891 1026 2522 \nQ 928 2153 928 1778 \nQ 928 1128 1239 775 \nQ 1550 422 2119 422 \nQ 2631 422 3032 676 \nQ 3434 931 3719 1434 \nQ 3909 1772 4009 2142 \nQ 4109 2513 4109 2881 \nQ 4109 3528 3796 3883 \nQ 3484 4238 2919 4238 \nz\nM 2100 -91 \nQ 1241 -91 748 418 \nQ 256 928 256 1813 \nQ 256 2319 448 2847 \nQ 641 3375 978 3788 \nQ 1375 4272 1862 4511 \nQ 2350 4750 2938 4750 \nQ 3794 4750 4287 4245 \nQ 4781 3741 4781 2869 \nQ 4781 2331 4593 1812 \nQ 4406 1294 4056 872 \nQ 3656 384 3173 146 \nQ 2691 -91 2100 -91 \nz\n\" transform=\"scale(0.015625)\"/>\n      <path id=\"DejaVuSans-53\" d=\"M 3425 4513 \nL 3425 3897 \nQ 3066 4069 2747 4153 \nQ 2428 4238 2131 4238 \nQ 1616 4238 1336 4038 \nQ 1056 3838 1056 3469 \nQ 1056 3159 1242 3001 \nQ 1428 2844 1947 2747 \nL 2328 2669 \nQ 3034 2534 3370 2195 \nQ 3706 1856 3706 1288 \nQ 3706 609 3251 259 \nQ 2797 -91 1919 -91 \nQ 1588 -91 1214 -16 \nQ 841 59 441 206 \nL 441 856 \nQ 825 641 1194 531 \nQ 1563 422 1919 422 \nQ 2459 422 2753 634 \nQ 3047 847 3047 1241 \nQ 3047 1584 2836 1778 \nQ 2625 1972 2144 2069 \nL 1759 2144 \nQ 1053 2284 737 2584 \nQ 422 2884 422 3419 \nQ 422 4038 858 4394 \nQ 1294 4750 2059 4750 \nQ 2388 4750 2728 4690 \nQ 3069 4631 3425 4513 \nz\n\" transform=\"scale(0.015625)\"/>\n      <path id=\"DejaVuSans-62\" d=\"M 3116 1747 \nQ 3116 2381 2855 2742 \nQ 2594 3103 2138 3103 \nQ 1681 3103 1420 2742 \nQ 1159 2381 1159 1747 \nQ 1159 1113 1420 752 \nQ 1681 391 2138 391 \nQ 2594 391 2855 752 \nQ 3116 1113 3116 1747 \nz\nM 1159 2969 \nQ 1341 3281 1617 3432 \nQ 1894 3584 2278 3584 \nQ 2916 3584 3314 3078 \nQ 3713 2572 3713 1747 \nQ 3713 922 3314 415 \nQ 2916 -91 2278 -91 \nQ 1894 -91 1617 61 \nQ 1341 213 1159 525 \nL 1159 0 \nL 581 0 \nL 581 4863 \nL 1159 4863 \nL 1159 2969 \nz\n\" transform=\"scale(0.015625)\"/>\n      <path id=\"DejaVuSans-6c\" d=\"M 603 4863 \nL 1178 4863 \nL 1178 0 \nL 603 0 \nL 603 4863 \nz\n\" transform=\"scale(0.015625)\"/>\n      <path id=\"DejaVuSans-43\" d=\"M 4122 4306 \nL 4122 3641 \nQ 3803 3938 3442 4084 \nQ 3081 4231 2675 4231 \nQ 1875 4231 1450 3742 \nQ 1025 3253 1025 2328 \nQ 1025 1406 1450 917 \nQ 1875 428 2675 428 \nQ 3081 428 3442 575 \nQ 3803 722 4122 1019 \nL 4122 359 \nQ 3791 134 3420 21 \nQ 3050 -91 2638 -91 \nQ 1578 -91 968 557 \nQ 359 1206 359 2328 \nQ 359 3453 968 4101 \nQ 1578 4750 2638 4750 \nQ 3056 4750 3426 4639 \nQ 3797 4528 4122 4306 \nz\n\" transform=\"scale(0.015625)\"/>\n      <path id=\"DejaVuSans-4e\" d=\"M 628 4666 \nL 1478 4666 \nL 3547 763 \nL 3547 4666 \nL 4159 4666 \nL 4159 0 \nL 3309 0 \nL 1241 3903 \nL 1241 0 \nL 628 0 \nL 628 4666 \nz\n\" transform=\"scale(0.015625)\"/>\n     </defs>\n     <use xlink:href=\"#DejaVuSans-Oblique-43\" transform=\"translate(0 0.015625)\"/>\n     <use xlink:href=\"#DejaVuSans-34\" transform=\"translate(69.824219 -16.390625) scale(0.7)\"/>\n     <use xlink:href=\"#DejaVuSans-20\" transform=\"translate(117.094727 0.015625)\"/>\n     <use xlink:href=\"#DejaVuSans-76\" transform=\"translate(148.881836 0.015625)\"/>\n     <use xlink:href=\"#DejaVuSans-73\" transform=\"translate(208.061523 0.015625)\"/>\n     <use xlink:href=\"#DejaVuSans-20\" transform=\"translate(260.161133 0.015625)\"/>\n     <use xlink:href=\"#DejaVuSans-Oblique-53\" transform=\"translate(291.948242 0.015625)\"/>\n     <use xlink:href=\"#DejaVuSans-Oblique-4f\" transform=\"translate(355.424805 0.015625)\"/>\n     <use xlink:href=\"#DejaVuSans-28\" transform=\"translate(434.135742 0.015625)\"/>\n     <use xlink:href=\"#DejaVuSans-32\" transform=\"translate(473.149414 0.015625)\"/>\n     <use xlink:href=\"#DejaVuSans-29\" transform=\"translate(536.772461 0.015625)\"/>\n     <use xlink:href=\"#DejaVuSans-20\" transform=\"translate(575.786133 0.015625)\"/>\n     <use xlink:href=\"#DejaVuSans-53\" transform=\"translate(607.573242 0.015625)\"/>\n     <use xlink:href=\"#DejaVuSans-74\" transform=\"translate(671.049805 0.015625)\"/>\n     <use xlink:href=\"#DejaVuSans-65\" transform=\"translate(710.258789 0.015625)\"/>\n     <use xlink:href=\"#DejaVuSans-65\" transform=\"translate(771.782227 0.015625)\"/>\n     <use xlink:href=\"#DejaVuSans-72\" transform=\"translate(833.305664 0.015625)\"/>\n     <use xlink:href=\"#DejaVuSans-61\" transform=\"translate(874.418945 0.015625)\"/>\n     <use xlink:href=\"#DejaVuSans-62\" transform=\"translate(935.698242 0.015625)\"/>\n     <use xlink:href=\"#DejaVuSans-6c\" transform=\"translate(999.174805 0.015625)\"/>\n     <use xlink:href=\"#DejaVuSans-65\" transform=\"translate(1026.958008 0.015625)\"/>\n     <use xlink:href=\"#DejaVuSans-20\" transform=\"translate(1088.481445 0.015625)\"/>\n     <use xlink:href=\"#DejaVuSans-43\" transform=\"translate(1120.268555 0.015625)\"/>\n     <use xlink:href=\"#DejaVuSans-4e\" transform=\"translate(1190.092773 0.015625)\"/>\n     <use xlink:href=\"#DejaVuSans-4e\" transform=\"translate(1264.897461 0.015625)\"/>\n     <use xlink:href=\"#DejaVuSans-73\" transform=\"translate(1339.702148 0.015625)\"/>\n    </g>\n   </g>\n   <g id=\"legend_1\">\n    <g id=\"patch_7\">\n     <path d=\"M 340.354687 227.073125 \nL 614.954687 227.073125 \nQ 618.954687 227.073125 618.954687 223.073125 \nL 618.954687 166.360625 \nQ 618.954687 162.360625 614.954687 162.360625 \nL 340.354687 162.360625 \nQ 336.354687 162.360625 336.354687 166.360625 \nL 336.354687 223.073125 \nQ 336.354687 227.073125 340.354687 227.073125 \nz\n\" style=\"fill: #ffffff; opacity: 0.8; stroke: #cccccc; stroke-linejoin: miter\"/>\n    </g>\n    <g id=\"line2d_18\">\n     <path d=\"M 344.354687 178.5575 \nL 364.354687 178.5575 \nL 384.354687 178.5575 \n\" style=\"fill: none; stroke: #1f77b4; stroke-width: 2; stroke-linecap: square\"/>\n    </g>\n    <g id=\"text_19\">\n     <!-- $SO(2)$-Steerable CNN -->\n     <g transform=\"translate(400.354687 185.5575) scale(0.2 -0.2)\">\n      <defs>\n       <path id=\"DejaVuSans-2d\" d=\"M 313 2009 \nL 1997 2009 \nL 1997 1497 \nL 313 1497 \nL 313 2009 \nz\n\" transform=\"scale(0.015625)\"/>\n      </defs>\n      <use xlink:href=\"#DejaVuSans-Oblique-53\" transform=\"translate(0 0.015625)\"/>\n      <use xlink:href=\"#DejaVuSans-Oblique-4f\" transform=\"translate(63.476562 0.015625)\"/>\n      <use xlink:href=\"#DejaVuSans-28\" transform=\"translate(142.1875 0.015625)\"/>\n      <use xlink:href=\"#DejaVuSans-32\" transform=\"translate(181.201172 0.015625)\"/>\n      <use xlink:href=\"#DejaVuSans-29\" transform=\"translate(244.824219 0.015625)\"/>\n      <use xlink:href=\"#DejaVuSans-2d\" transform=\"translate(283.837891 0.015625)\"/>\n      <use xlink:href=\"#DejaVuSans-53\" transform=\"translate(319.921875 0.015625)\"/>\n      <use xlink:href=\"#DejaVuSans-74\" transform=\"translate(383.398438 0.015625)\"/>\n      <use xlink:href=\"#DejaVuSans-65\" transform=\"translate(422.607422 0.015625)\"/>\n      <use xlink:href=\"#DejaVuSans-65\" transform=\"translate(484.130859 0.015625)\"/>\n      <use xlink:href=\"#DejaVuSans-72\" transform=\"translate(545.654297 0.015625)\"/>\n      <use xlink:href=\"#DejaVuSans-61\" transform=\"translate(586.767578 0.015625)\"/>\n      <use xlink:href=\"#DejaVuSans-62\" transform=\"translate(648.046875 0.015625)\"/>\n      <use xlink:href=\"#DejaVuSans-6c\" transform=\"translate(711.523438 0.015625)\"/>\n      <use xlink:href=\"#DejaVuSans-65\" transform=\"translate(739.306641 0.015625)\"/>\n      <use xlink:href=\"#DejaVuSans-20\" transform=\"translate(800.830078 0.015625)\"/>\n      <use xlink:href=\"#DejaVuSans-43\" transform=\"translate(832.617188 0.015625)\"/>\n      <use xlink:href=\"#DejaVuSans-4e\" transform=\"translate(902.441406 0.015625)\"/>\n      <use xlink:href=\"#DejaVuSans-4e\" transform=\"translate(977.246094 0.015625)\"/>\n     </g>\n    </g>\n    <g id=\"line2d_19\">\n     <path d=\"M 344.354687 207.91375 \nL 364.354687 207.91375 \nL 384.354687 207.91375 \n\" style=\"fill: none; stroke: #ff7f0e; stroke-width: 2; stroke-linecap: square\"/>\n    </g>\n    <g id=\"text_20\">\n     <!-- $C_4$-Steerable CNN -->\n     <g transform=\"translate(400.354687 214.91375) scale(0.2 -0.2)\">\n      <use xlink:href=\"#DejaVuSans-Oblique-43\" transform=\"translate(0 0.015625)\"/>\n      <use xlink:href=\"#DejaVuSans-34\" transform=\"translate(69.824219 -16.390625) scale(0.7)\"/>\n      <use xlink:href=\"#DejaVuSans-2d\" transform=\"translate(117.094727 0.015625)\"/>\n      <use xlink:href=\"#DejaVuSans-53\" transform=\"translate(153.178711 0.015625)\"/>\n      <use xlink:href=\"#DejaVuSans-74\" transform=\"translate(216.655273 0.015625)\"/>\n      <use xlink:href=\"#DejaVuSans-65\" transform=\"translate(255.864258 0.015625)\"/>\n      <use xlink:href=\"#DejaVuSans-65\" transform=\"translate(317.387695 0.015625)\"/>\n      <use xlink:href=\"#DejaVuSans-72\" transform=\"translate(378.911133 0.015625)\"/>\n      <use xlink:href=\"#DejaVuSans-61\" transform=\"translate(420.024414 0.015625)\"/>\n      <use xlink:href=\"#DejaVuSans-62\" transform=\"translate(481.303711 0.015625)\"/>\n      <use xlink:href=\"#DejaVuSans-6c\" transform=\"translate(544.780273 0.015625)\"/>\n      <use xlink:href=\"#DejaVuSans-65\" transform=\"translate(572.563477 0.015625)\"/>\n      <use xlink:href=\"#DejaVuSans-20\" transform=\"translate(634.086914 0.015625)\"/>\n      <use xlink:href=\"#DejaVuSans-43\" transform=\"translate(665.874023 0.015625)\"/>\n      <use xlink:href=\"#DejaVuSans-4e\" transform=\"translate(735.698242 0.015625)\"/>\n      <use xlink:href=\"#DejaVuSans-4e\" transform=\"translate(810.50293 0.015625)\"/>\n     </g>\n    </g>\n   </g>\n  </g>\n </g>\n <defs>\n  <clipPath id=\"p161788a1d3\">\n   <rect x=\"70.954688\" y=\"28.396875\" width=\"558\" height=\"332.64\"/>\n  </clipPath>\n </defs>\n</svg>\n",
            "application/pdf": "[encoded data removed]"
          },
          "metadata": {}
        }
      ],
      "source": [
        "# plot the accuracy of as a function of the rotation angle theta applied to the test set\n",
        "fig, ax = plt.subplots(figsize=(10, 6))\n",
        "\n",
        "N=16\n",
        "\n",
        "xs = [i*2*np.pi / N for i in range(N+1)]\n",
        "plt.plot(xs, accs_so2 + [accs_so2[0]], label=r'$SO(2)$-Steerable CNN')\n",
        "plt.plot(xs, accs_c4 + [accs_c4[0]], label=r'$C_4$-Steerable CNN')\n",
        "plt.title(r'$C_4$ vs $SO(2)$ Steerable CNNs', fontsize=20)\n",
        "\n",
        "plt.xlabel(r'Test rotation ($\\theta \\in [0, 2\\pi)$)', fontsize=20)\n",
        "plt.ylabel('Accuracy', fontsize=20)\n",
        "ax.tick_params(axis='both', which='major', labelsize=15)\n",
        "plt.legend(fontsize=20)\n",
        "plt.show()"
      ]
    },
    {
      "cell_type": "markdown",
      "metadata": {
        "id": "QxUALHL35RPL"
      },
      "source": [
        "While perfect equivariance to $SO(2)$ is not achievable due to the discretizations, the $SO(2)$ equivariant architecture is more stable over the rotations of the test set than the $C_4$ model.\n",
        "Moreover, since $C_4$ is the only perfect symmetry of the pixel grid and since $C_4 < SO(2)$, the $SO(2)$ equivariant architecture is also perfectly equivariant to rotations by multiples of $\\pi/2$."
      ]
    },
    {
      "cell_type": "markdown",
      "metadata": {
        "id": "bEq1glwA5RPL"
      },
      "source": [
        "## Conclusion\n",
        "\n",
        "In this tutorial, you first leart about *group representation theory* and the *Fourier Transform* over compact groups.\n",
        "These are the mathematical tools used to formalize Steerable CNNs.\n",
        "\n",
        "In the second part of this tutorial, you learnt about *steerable feature fields* and *steerable CNNs*.\n",
        "In particular, the previously defined  Fourier transform allowed us to build a steerable CNN which is equivalent to a Group-Convolutional Neural Network (GCNN) equivariant to translations and the continuous group $G=SO(2)$ of rotations.\n",
        "\n",
        "In our steerable CNNs, we mostly leveraged the *regular representation* of the group $G$, but the framework of steerable CNNs allows for a variety of representations.\n",
        "If you are interested in knowing more about steerable CNNs, this is a (non-exhaustive) list of relevant works you can check out:\n",
        "\n",
        "- [Steerable CNNs](https://arxiv.org/abs/1612.08498)\n",
        "- [Harmonic Networks: Deep Translation and Rotation Equivariance](https://arxiv.org/abs/1612.04642)\n",
        "- [3D Steerable CNNs](https://arxiv.org/abs/1807.02547)\n",
        "- [Tensor Field Networks](https://arxiv.org/abs/1802.08219)\n",
        "- [A General Theory of Equivariant CNNs on Homogeneous Spaces](https://arxiv.org/abs/1811.02017)\n",
        "- [Cormorant: Covariant Molecular Neural Networks](https://arxiv.org/abs/1906.04015)\n",
        "- [General E(2)-Equivariant Steerable CNNs](https://arxiv.org/abs/1911.08251)\n",
        "- [A Program to Build E(N)-Equivariant Steerable CNNs](https://openreview.net/forum?id=WE4qe9xlnQw)"
      ]
    }
  ],
  "metadata": {
    "colab": {
      "collapsed_sections": [
        "JNMR5pQGcQLf",
        "rC2C598ScQLi",
        "GJ-VvAUmcQLr"
      ],
      "provenance": [],
      "include_colab_link": true
    },
    "kernelspec": {
      "display_name": "Python 3",
      "name": "python3"
    },
    "language_info": {
      "codemirror_mode": {
        "name": "ipython",
        "version": 3
      },
      "file_extension": ".py",
      "mimetype": "text/x-python",
      "name": "python",
      "nbconvert_exporter": "python",
      "pygments_lexer": "ipython3",
      "version": "3.8.12"
    },
    "widgets": {
      "application/vnd.jupyter.widget-state+json": {
        "bc7b4b0f0bd7434eb2838998c35ca5c6": {
          "model_module": "@jupyter-widgets/controls",
          "model_name": "HBoxModel",
          "model_module_version": "1.5.0",
          "state": {
            "_dom_classes": [],
            "_model_module": "@jupyter-widgets/controls",
            "_model_module_version": "1.5.0",
            "_model_name": "HBoxModel",
            "_view_count": null,
            "_view_module": "@jupyter-widgets/controls",
            "_view_module_version": "1.5.0",
            "_view_name": "HBoxView",
            "box_style": "",
            "children": [
              "IPY_MODEL_a54dc0df278c4814a918adb860abd4c9",
              "IPY_MODEL_fae9c7ff001c49eaa85510766e4a08b4",
              "IPY_MODEL_b56fe83caa60451fbcda7581c41445db"
            ],
            "layout": "IPY_MODEL_a073010689a94bf0b433c5f3657d949c"
          }
        },
        "a54dc0df278c4814a918adb860abd4c9": {
          "model_module": "@jupyter-widgets/controls",
          "model_name": "HTMLModel",
          "model_module_version": "1.5.0",
          "state": {
            "_dom_classes": [],
            "_model_module": "@jupyter-widgets/controls",
            "_model_module_version": "1.5.0",
            "_model_name": "HTMLModel",
            "_view_count": null,
            "_view_module": "@jupyter-widgets/controls",
            "_view_module_version": "1.5.0",
            "_view_name": "HTMLView",
            "description": "",
            "description_tooltip": null,
            "layout": "IPY_MODEL_d852e8a856444f0394acf0c7a97e3e61",
            "placeholder": "​",
            "style": "IPY_MODEL_a8541844181b4f148dcefb9e3f5e9027",
            "value": "100%"
          }
        },
        "fae9c7ff001c49eaa85510766e4a08b4": {
          "model_module": "@jupyter-widgets/controls",
          "model_name": "FloatProgressModel",
          "model_module_version": "1.5.0",
          "state": {
            "_dom_classes": [],
            "_model_module": "@jupyter-widgets/controls",
            "_model_module_version": "1.5.0",
            "_model_name": "FloatProgressModel",
            "_view_count": null,
            "_view_module": "@jupyter-widgets/controls",
            "_view_module_version": "1.5.0",
            "_view_name": "ProgressView",
            "bar_style": "",
            "description": "",
            "description_tooltip": null,
            "layout": "IPY_MODEL_aa99427721c446889c5fe9215a16cb9d",
            "max": 12000,
            "min": 0,
            "orientation": "horizontal",
            "style": "IPY_MODEL_a9c79f746ba7423ca229081c2a6b6c66",
            "value": 12000
          }
        },
        "b56fe83caa60451fbcda7581c41445db": {
          "model_module": "@jupyter-widgets/controls",
          "model_name": "HTMLModel",
          "model_module_version": "1.5.0",
          "state": {
            "_dom_classes": [],
            "_model_module": "@jupyter-widgets/controls",
            "_model_module_version": "1.5.0",
            "_model_name": "HTMLModel",
            "_view_count": null,
            "_view_module": "@jupyter-widgets/controls",
            "_view_module_version": "1.5.0",
            "_view_name": "HTMLView",
            "description": "",
            "description_tooltip": null,
            "layout": "IPY_MODEL_816bbaa540b5486d8cb854c160cfa020",
            "placeholder": "​",
            "style": "IPY_MODEL_4dd7e3abe4164806a2537f17d12cd159",
            "value": " 11959/12000 [00:07&lt;00:00, 2197.93it/s]"
          }
        },
        "a073010689a94bf0b433c5f3657d949c": {
          "model_module": "@jupyter-widgets/base",
          "model_name": "LayoutModel",
          "model_module_version": "1.2.0",
          "state": {
            "_model_module": "@jupyter-widgets/base",
            "_model_module_version": "1.2.0",
            "_model_name": "LayoutModel",
            "_view_count": null,
            "_view_module": "@jupyter-widgets/base",
            "_view_module_version": "1.2.0",
            "_view_name": "LayoutView",
            "align_content": null,
            "align_items": null,
            "align_self": null,
            "border": null,
            "bottom": null,
            "display": null,
            "flex": null,
            "flex_flow": null,
            "grid_area": null,
            "grid_auto_columns": null,
            "grid_auto_flow": null,
            "grid_auto_rows": null,
            "grid_column": null,
            "grid_gap": null,
            "grid_row": null,
            "grid_template_areas": null,
            "grid_template_columns": null,
            "grid_template_rows": null,
            "height": null,
            "justify_content": null,
            "justify_items": null,
            "left": null,
            "margin": null,
            "max_height": null,
            "max_width": null,
            "min_height": null,
            "min_width": null,
            "object_fit": null,
            "object_position": null,
            "order": null,
            "overflow": null,
            "overflow_x": null,
            "overflow_y": null,
            "padding": null,
            "right": null,
            "top": null,
            "visibility": "hidden",
            "width": null
          }
        },
        "d852e8a856444f0394acf0c7a97e3e61": {
          "model_module": "@jupyter-widgets/base",
          "model_name": "LayoutModel",
          "model_module_version": "1.2.0",
          "state": {
            "_model_module": "@jupyter-widgets/base",
            "_model_module_version": "1.2.0",
            "_model_name": "LayoutModel",
            "_view_count": null,
            "_view_module": "@jupyter-widgets/base",
            "_view_module_version": "1.2.0",
            "_view_name": "LayoutView",
            "align_content": null,
            "align_items": null,
            "align_self": null,
            "border": null,
            "bottom": null,
            "display": null,
            "flex": null,
            "flex_flow": null,
            "grid_area": null,
            "grid_auto_columns": null,
            "grid_auto_flow": null,
            "grid_auto_rows": null,
            "grid_column": null,
            "grid_gap": null,
            "grid_row": null,
            "grid_template_areas": null,
            "grid_template_columns": null,
            "grid_template_rows": null,
            "height": null,
            "justify_content": null,
            "justify_items": null,
            "left": null,
            "margin": null,
            "max_height": null,
            "max_width": null,
            "min_height": null,
            "min_width": null,
            "object_fit": null,
            "object_position": null,
            "order": null,
            "overflow": null,
            "overflow_x": null,
            "overflow_y": null,
            "padding": null,
            "right": null,
            "top": null,
            "visibility": null,
            "width": null
          }
        },
        "a8541844181b4f148dcefb9e3f5e9027": {
          "model_module": "@jupyter-widgets/controls",
          "model_name": "DescriptionStyleModel",
          "model_module_version": "1.5.0",
          "state": {
            "_model_module": "@jupyter-widgets/controls",
            "_model_module_version": "1.5.0",
            "_model_name": "DescriptionStyleModel",
            "_view_count": null,
            "_view_module": "@jupyter-widgets/base",
            "_view_module_version": "1.2.0",
            "_view_name": "StyleView",
            "description_width": ""
          }
        },
        "aa99427721c446889c5fe9215a16cb9d": {
          "model_module": "@jupyter-widgets/base",
          "model_name": "LayoutModel",
          "model_module_version": "1.2.0",
          "state": {
            "_model_module": "@jupyter-widgets/base",
            "_model_module_version": "1.2.0",
            "_model_name": "LayoutModel",
            "_view_count": null,
            "_view_module": "@jupyter-widgets/base",
            "_view_module_version": "1.2.0",
            "_view_name": "LayoutView",
            "align_content": null,
            "align_items": null,
            "align_self": null,
            "border": null,
            "bottom": null,
            "display": null,
            "flex": null,
            "flex_flow": null,
            "grid_area": null,
            "grid_auto_columns": null,
            "grid_auto_flow": null,
            "grid_auto_rows": null,
            "grid_column": null,
            "grid_gap": null,
            "grid_row": null,
            "grid_template_areas": null,
            "grid_template_columns": null,
            "grid_template_rows": null,
            "height": null,
            "justify_content": null,
            "justify_items": null,
            "left": null,
            "margin": null,
            "max_height": null,
            "max_width": null,
            "min_height": null,
            "min_width": null,
            "object_fit": null,
            "object_position": null,
            "order": null,
            "overflow": null,
            "overflow_x": null,
            "overflow_y": null,
            "padding": null,
            "right": null,
            "top": null,
            "visibility": null,
            "width": null
          }
        },
        "a9c79f746ba7423ca229081c2a6b6c66": {
          "model_module": "@jupyter-widgets/controls",
          "model_name": "ProgressStyleModel",
          "model_module_version": "1.5.0",
          "state": {
            "_model_module": "@jupyter-widgets/controls",
            "_model_module_version": "1.5.0",
            "_model_name": "ProgressStyleModel",
            "_view_count": null,
            "_view_module": "@jupyter-widgets/base",
            "_view_module_version": "1.2.0",
            "_view_name": "StyleView",
            "bar_color": null,
            "description_width": ""
          }
        },
        "816bbaa540b5486d8cb854c160cfa020": {
          "model_module": "@jupyter-widgets/base",
          "model_name": "LayoutModel",
          "model_module_version": "1.2.0",
          "state": {
            "_model_module": "@jupyter-widgets/base",
            "_model_module_version": "1.2.0",
            "_model_name": "LayoutModel",
            "_view_count": null,
            "_view_module": "@jupyter-widgets/base",
            "_view_module_version": "1.2.0",
            "_view_name": "LayoutView",
            "align_content": null,
            "align_items": null,
            "align_self": null,
            "border": null,
            "bottom": null,
            "display": null,
            "flex": null,
            "flex_flow": null,
            "grid_area": null,
            "grid_auto_columns": null,
            "grid_auto_flow": null,
            "grid_auto_rows": null,
            "grid_column": null,
            "grid_gap": null,
            "grid_row": null,
            "grid_template_areas": null,
            "grid_template_columns": null,
            "grid_template_rows": null,
            "height": null,
            "justify_content": null,
            "justify_items": null,
            "left": null,
            "margin": null,
            "max_height": null,
            "max_width": null,
            "min_height": null,
            "min_width": null,
            "object_fit": null,
            "object_position": null,
            "order": null,
            "overflow": null,
            "overflow_x": null,
            "overflow_y": null,
            "padding": null,
            "right": null,
            "top": null,
            "visibility": null,
            "width": null
          }
        },
        "4dd7e3abe4164806a2537f17d12cd159": {
          "model_module": "@jupyter-widgets/controls",
          "model_name": "DescriptionStyleModel",
          "model_module_version": "1.5.0",
          "state": {
            "_model_module": "@jupyter-widgets/controls",
            "_model_module_version": "1.5.0",
            "_model_name": "DescriptionStyleModel",
            "_view_count": null,
            "_view_module": "@jupyter-widgets/base",
            "_view_module_version": "1.2.0",
            "_view_name": "StyleView",
            "description_width": ""
          }
        },
        "cc92c6c05e3a45c68333dc6269a5883f": {
          "model_module": "@jupyter-widgets/controls",
          "model_name": "HBoxModel",
          "model_module_version": "1.5.0",
          "state": {
            "_dom_classes": [],
            "_model_module": "@jupyter-widgets/controls",
            "_model_module_version": "1.5.0",
            "_model_name": "HBoxModel",
            "_view_count": null,
            "_view_module": "@jupyter-widgets/controls",
            "_view_module_version": "1.5.0",
            "_view_name": "HBoxView",
            "box_style": "",
            "children": [
              "IPY_MODEL_83e9ff0e7d3f4745ba7379f622637a5a",
              "IPY_MODEL_601a267ae180406ebf8cdb090ab3d760",
              "IPY_MODEL_4b6c69d918e7402b894c3637689a1929"
            ],
            "layout": "IPY_MODEL_f23f573544eb47bd9737895c9322433e"
          }
        },
        "83e9ff0e7d3f4745ba7379f622637a5a": {
          "model_module": "@jupyter-widgets/controls",
          "model_name": "HTMLModel",
          "model_module_version": "1.5.0",
          "state": {
            "_dom_classes": [],
            "_model_module": "@jupyter-widgets/controls",
            "_model_module_version": "1.5.0",
            "_model_name": "HTMLModel",
            "_view_count": null,
            "_view_module": "@jupyter-widgets/controls",
            "_view_module_version": "1.5.0",
            "_view_name": "HTMLView",
            "description": "",
            "description_tooltip": null,
            "layout": "IPY_MODEL_1ab41221f6b542e6bcb430de033531f7",
            "placeholder": "​",
            "style": "IPY_MODEL_5b580bc15ee04107ab989b5f4b70109e",
            "value": "100%"
          }
        },
        "601a267ae180406ebf8cdb090ab3d760": {
          "model_module": "@jupyter-widgets/controls",
          "model_name": "FloatProgressModel",
          "model_module_version": "1.5.0",
          "state": {
            "_dom_classes": [],
            "_model_module": "@jupyter-widgets/controls",
            "_model_module_version": "1.5.0",
            "_model_name": "FloatProgressModel",
            "_view_count": null,
            "_view_module": "@jupyter-widgets/controls",
            "_view_module_version": "1.5.0",
            "_view_name": "ProgressView",
            "bar_style": "",
            "description": "",
            "description_tooltip": null,
            "layout": "IPY_MODEL_0eab83d3897c4065b7530a2a29d48199",
            "max": 50000,
            "min": 0,
            "orientation": "horizontal",
            "style": "IPY_MODEL_38945d5d8a054f118332532316752fc2",
            "value": 50000
          }
        },
        "4b6c69d918e7402b894c3637689a1929": {
          "model_module": "@jupyter-widgets/controls",
          "model_name": "HTMLModel",
          "model_module_version": "1.5.0",
          "state": {
            "_dom_classes": [],
            "_model_module": "@jupyter-widgets/controls",
            "_model_module_version": "1.5.0",
            "_model_name": "HTMLModel",
            "_view_count": null,
            "_view_module": "@jupyter-widgets/controls",
            "_view_module_version": "1.5.0",
            "_view_name": "HTMLView",
            "description": "",
            "description_tooltip": null,
            "layout": "IPY_MODEL_e7e037777c6447c9afb08b570a4aface",
            "placeholder": "​",
            "style": "IPY_MODEL_69e92b4abe8b465abd428eb31ea1a931",
            "value": " 49966/50000 [00:26&lt;00:00, 2244.34it/s]"
          }
        },
        "f23f573544eb47bd9737895c9322433e": {
          "model_module": "@jupyter-widgets/base",
          "model_name": "LayoutModel",
          "model_module_version": "1.2.0",
          "state": {
            "_model_module": "@jupyter-widgets/base",
            "_model_module_version": "1.2.0",
            "_model_name": "LayoutModel",
            "_view_count": null,
            "_view_module": "@jupyter-widgets/base",
            "_view_module_version": "1.2.0",
            "_view_name": "LayoutView",
            "align_content": null,
            "align_items": null,
            "align_self": null,
            "border": null,
            "bottom": null,
            "display": null,
            "flex": null,
            "flex_flow": null,
            "grid_area": null,
            "grid_auto_columns": null,
            "grid_auto_flow": null,
            "grid_auto_rows": null,
            "grid_column": null,
            "grid_gap": null,
            "grid_row": null,
            "grid_template_areas": null,
            "grid_template_columns": null,
            "grid_template_rows": null,
            "height": null,
            "justify_content": null,
            "justify_items": null,
            "left": null,
            "margin": null,
            "max_height": null,
            "max_width": null,
            "min_height": null,
            "min_width": null,
            "object_fit": null,
            "object_position": null,
            "order": null,
            "overflow": null,
            "overflow_x": null,
            "overflow_y": null,
            "padding": null,
            "right": null,
            "top": null,
            "visibility": "hidden",
            "width": null
          }
        },
        "1ab41221f6b542e6bcb430de033531f7": {
          "model_module": "@jupyter-widgets/base",
          "model_name": "LayoutModel",
          "model_module_version": "1.2.0",
          "state": {
            "_model_module": "@jupyter-widgets/base",
            "_model_module_version": "1.2.0",
            "_model_name": "LayoutModel",
            "_view_count": null,
            "_view_module": "@jupyter-widgets/base",
            "_view_module_version": "1.2.0",
            "_view_name": "LayoutView",
            "align_content": null,
            "align_items": null,
            "align_self": null,
            "border": null,
            "bottom": null,
            "display": null,
            "flex": null,
            "flex_flow": null,
            "grid_area": null,
            "grid_auto_columns": null,
            "grid_auto_flow": null,
            "grid_auto_rows": null,
            "grid_column": null,
            "grid_gap": null,
            "grid_row": null,
            "grid_template_areas": null,
            "grid_template_columns": null,
            "grid_template_rows": null,
            "height": null,
            "justify_content": null,
            "justify_items": null,
            "left": null,
            "margin": null,
            "max_height": null,
            "max_width": null,
            "min_height": null,
            "min_width": null,
            "object_fit": null,
            "object_position": null,
            "order": null,
            "overflow": null,
            "overflow_x": null,
            "overflow_y": null,
            "padding": null,
            "right": null,
            "top": null,
            "visibility": null,
            "width": null
          }
        },
        "5b580bc15ee04107ab989b5f4b70109e": {
          "model_module": "@jupyter-widgets/controls",
          "model_name": "DescriptionStyleModel",
          "model_module_version": "1.5.0",
          "state": {
            "_model_module": "@jupyter-widgets/controls",
            "_model_module_version": "1.5.0",
            "_model_name": "DescriptionStyleModel",
            "_view_count": null,
            "_view_module": "@jupyter-widgets/base",
            "_view_module_version": "1.2.0",
            "_view_name": "StyleView",
            "description_width": ""
          }
        },
        "0eab83d3897c4065b7530a2a29d48199": {
          "model_module": "@jupyter-widgets/base",
          "model_name": "LayoutModel",
          "model_module_version": "1.2.0",
          "state": {
            "_model_module": "@jupyter-widgets/base",
            "_model_module_version": "1.2.0",
            "_model_name": "LayoutModel",
            "_view_count": null,
            "_view_module": "@jupyter-widgets/base",
            "_view_module_version": "1.2.0",
            "_view_name": "LayoutView",
            "align_content": null,
            "align_items": null,
            "align_self": null,
            "border": null,
            "bottom": null,
            "display": null,
            "flex": null,
            "flex_flow": null,
            "grid_area": null,
            "grid_auto_columns": null,
            "grid_auto_flow": null,
            "grid_auto_rows": null,
            "grid_column": null,
            "grid_gap": null,
            "grid_row": null,
            "grid_template_areas": null,
            "grid_template_columns": null,
            "grid_template_rows": null,
            "height": null,
            "justify_content": null,
            "justify_items": null,
            "left": null,
            "margin": null,
            "max_height": null,
            "max_width": null,
            "min_height": null,
            "min_width": null,
            "object_fit": null,
            "object_position": null,
            "order": null,
            "overflow": null,
            "overflow_x": null,
            "overflow_y": null,
            "padding": null,
            "right": null,
            "top": null,
            "visibility": null,
            "width": null
          }
        },
        "38945d5d8a054f118332532316752fc2": {
          "model_module": "@jupyter-widgets/controls",
          "model_name": "ProgressStyleModel",
          "model_module_version": "1.5.0",
          "state": {
            "_model_module": "@jupyter-widgets/controls",
            "_model_module_version": "1.5.0",
            "_model_name": "ProgressStyleModel",
            "_view_count": null,
            "_view_module": "@jupyter-widgets/base",
            "_view_module_version": "1.2.0",
            "_view_name": "StyleView",
            "bar_color": null,
            "description_width": ""
          }
        },
        "e7e037777c6447c9afb08b570a4aface": {
          "model_module": "@jupyter-widgets/base",
          "model_name": "LayoutModel",
          "model_module_version": "1.2.0",
          "state": {
            "_model_module": "@jupyter-widgets/base",
            "_model_module_version": "1.2.0",
            "_model_name": "LayoutModel",
            "_view_count": null,
            "_view_module": "@jupyter-widgets/base",
            "_view_module_version": "1.2.0",
            "_view_name": "LayoutView",
            "align_content": null,
            "align_items": null,
            "align_self": null,
            "border": null,
            "bottom": null,
            "display": null,
            "flex": null,
            "flex_flow": null,
            "grid_area": null,
            "grid_auto_columns": null,
            "grid_auto_flow": null,
            "grid_auto_rows": null,
            "grid_column": null,
            "grid_gap": null,
            "grid_row": null,
            "grid_template_areas": null,
            "grid_template_columns": null,
            "grid_template_rows": null,
            "height": null,
            "justify_content": null,
            "justify_items": null,
            "left": null,
            "margin": null,
            "max_height": null,
            "max_width": null,
            "min_height": null,
            "min_width": null,
            "object_fit": null,
            "object_position": null,
            "order": null,
            "overflow": null,
            "overflow_x": null,
            "overflow_y": null,
            "padding": null,
            "right": null,
            "top": null,
            "visibility": null,
            "width": null
          }
        },
        "69e92b4abe8b465abd428eb31ea1a931": {
          "model_module": "@jupyter-widgets/controls",
          "model_name": "DescriptionStyleModel",
          "model_module_version": "1.5.0",
          "state": {
            "_model_module": "@jupyter-widgets/controls",
            "_model_module_version": "1.5.0",
            "_model_name": "DescriptionStyleModel",
            "_view_count": null,
            "_view_module": "@jupyter-widgets/base",
            "_view_module_version": "1.2.0",
            "_view_name": "StyleView",
            "description_width": ""
          }
        }
      }
    }
  },
  "nbformat": 4,
  "nbformat_minor": 0
}